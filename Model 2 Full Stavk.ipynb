{
  "nbformat": 4,
  "nbformat_minor": 0,
  "metadata": {
    "colab": {
      "provenance": []
    },
    "kernelspec": {
      "name": "python3",
      "display_name": "Python 3"
    },
    "language_info": {
      "name": "python"
    }
  },
  "cells": [
    {
      "cell_type": "code",
      "execution_count": 4,
      "metadata": {
        "colab": {
          "base_uri": "https://localhost:8080/"
        },
        "id": "uAn2eI_VuzTN",
        "outputId": "11a20185-d6a4-4bee-9023-6b9e5242f1a4"
      },
      "outputs": [
        {
          "output_type": "stream",
          "name": "stderr",
          "text": [
            "[*********************100%***********************]  1 of 1 completed\n",
            "[*********************100%***********************]  1 of 1 completed\n",
            "[*********************100%***********************]  1 of 1 completed\n",
            "[*********************100%***********************]  1 of 1 completed\n",
            "[*********************100%***********************]  1 of 1 completed\n",
            "[*********************100%***********************]  1 of 1 completed\n",
            "[*********************100%***********************]  1 of 1 completed\n",
            "[*********************100%***********************]  1 of 1 completed\n",
            "[*********************100%***********************]  1 of 1 completed\n",
            "[*********************100%***********************]  1 of 1 completed\n",
            "[*********************100%***********************]  1 of 1 completed\n",
            "ERROR:yfinance:HTTP Error 404: {\"quoteSummary\":{\"result\":null,\"error\":{\"code\":\"Not Found\",\"description\":\"Quote not found for symbol: GMRPUI.NS\"}}}\n",
            "[*********************100%***********************]  1 of 1 completed\n",
            "ERROR:yfinance:\n",
            "1 Failed download:\n",
            "ERROR:yfinance:['GMRPUI.NS']: YFPricesMissingError('possibly delisted; no price data found  (period=90d) (Yahoo error = \"No data found, symbol may be delisted\")')\n",
            "WARNING:root:No data for GMRPUI.NS, skipping.\n",
            "[*********************100%***********************]  1 of 1 completed\n",
            "[*********************100%***********************]  1 of 1 completed\n",
            "[*********************100%***********************]  1 of 1 completed\n",
            "[*********************100%***********************]  1 of 1 completed\n",
            "[*********************100%***********************]  1 of 1 completed\n",
            "[*********************100%***********************]  1 of 1 completed\n"
          ]
        },
        {
          "output_type": "stream",
          "name": "stdout",
          "text": [
            "        Ticker    Price    RSI    MA_10    MA_20    MA_50     Volume  \\\n",
            "0        DMART  4576.20  34.57  4674.38  4699.52  4467.31     454331   \n",
            "1          TCS  2957.40  39.88  3103.87  3094.58  3090.40    4971744   \n",
            "2          BEL   403.15  72.05   404.11   390.00   386.58   23800929   \n",
            "3          DLF   721.05  34.28   765.60   759.77   774.74    4484651   \n",
            "4     GODREJCP  1189.20  37.31  1225.70  1239.50  1232.31    1908827   \n",
            "5     HDFCLIFE   765.05  52.83   776.42   772.89   768.89    2080889   \n",
            "6    MAXHEALTH  1137.70  40.84  1160.47  1162.83  1209.25    5021970   \n",
            "7      SBILIFE  1809.80  50.94  1824.27  1815.70  1826.60    1003675   \n",
            "8        TRENT  4742.50   7.88  5037.30  5198.38  5259.96    1517967   \n",
            "9          VBL   451.85  34.36   465.03   474.77   491.72    8205942   \n",
            "10        KPIL  1255.10  46.90  1269.56  1264.65  1225.97     110720   \n",
            "11      SWIGGY   426.10  43.32   438.98   433.71   417.62    8852879   \n",
            "12     ETERNAL   332.25  53.18   332.29   328.48   313.75   16653310   \n",
            "13       PAYTM  1141.40  25.08  1198.61  1220.23  1163.09    4228401   \n",
            "14  ADANIPOWER   149.00  64.49   140.64   132.12   123.47  157772265   \n",
            "15         HEG   521.80  75.90   518.25   504.50   510.84    1015518   \n",
            "16       PAYTM  1141.40  25.08  1198.61  1220.23  1163.09    4228401   \n",
            "\n",
            "    VolAvg20    ADX  SupportZoneLow  ...  DemandZone  SupplyZone    Entry  \\\n",
            "0     405121  28.90         4565.10  ...     4589.70     4775.30      NaN   \n",
            "1    2518090  17.59         2951.00  ...     3019.00     3176.70      NaN   \n",
            "2   14711701  27.53          385.30  ...      395.45      412.20      NaN   \n",
            "3    2398084  20.38          718.80  ...      751.10      786.75      NaN   \n",
            "4    1455039  15.43         1174.10  ...     1186.00     1266.50      NaN   \n",
            "5    2756716  15.31          758.75  ...      768.05      787.80      NaN   \n",
            "6    2927658  14.93         1125.30  ...     1133.20     1184.20      NaN   \n",
            "7     888638  18.66         1795.30  ...     1804.00     1857.70      NaN   \n",
            "8     991370  21.47         4710.00  ...     5235.50     5197.50      NaN   \n",
            "9    6116301  34.38          450.10  ...      469.65      474.45      NaN   \n",
            "10    183221  22.69         1235.00  ...     1242.70     1301.20  1255.10   \n",
            "11  13653297  27.13          415.55  ...      420.55      458.45   426.10   \n",
            "12  28375444  34.70          320.70  ...      321.40      341.85   332.25   \n",
            "13   3008160  29.48         1132.10  ...     1207.00     1288.30  1207.00   \n",
            "14  86184188  32.05          125.20  ...      118.42      170.25   149.00   \n",
            "15    757648  32.52          507.00  ...      462.00      521.90      NaN   \n",
            "16   3008160  29.48         1132.10  ...     1207.00     1288.30  1207.00   \n",
            "\n",
            "    StopLoss  Target1  Target2  Target3  Score  Signal  \\\n",
            "0        NaN      NaN      NaN      NaN      1    HOLD   \n",
            "1        NaN      NaN      NaN      NaN      2    HOLD   \n",
            "2        NaN      NaN      NaN      NaN      2    HOLD   \n",
            "3        NaN      NaN      NaN      NaN      2    HOLD   \n",
            "4        NaN      NaN      NaN      NaN     -1    HOLD   \n",
            "5        NaN      NaN      NaN      NaN      2    HOLD   \n",
            "6        NaN      NaN      NaN      NaN     -2    SELL   \n",
            "7        NaN      NaN      NaN      NaN      0    HOLD   \n",
            "8        NaN      NaN      NaN      NaN      2    HOLD   \n",
            "9        NaN      NaN      NaN      NaN     -1    HOLD   \n",
            "10   1217.85  1290.07   1316.4  1301.20      4     BUY   \n",
            "11    412.14   464.52    474.0   458.45      3     BUY   \n",
            "12    314.97   337.02    343.9   341.85      4     BUY   \n",
            "13   1182.86  1218.14   1243.0  1288.30      3     BUY   \n",
            "14    116.05   179.05    182.7   170.25      4     BUY   \n",
            "15       NaN      NaN      NaN      NaN     -1    HOLD   \n",
            "16   1182.86  1218.14   1243.0  1288.30      3     BUY   \n",
            "\n",
            "                                              Reasons  \n",
            "0                              ADX strong trend >= 20  \n",
            "1   MA 10 > MA 20 > MA 50 strong uptrend; High vol...  \n",
            "2   RSI overbought; MA 10 > MA 20 > MA 50 strong u...  \n",
            "3                 High volume; ADX strong trend >= 20  \n",
            "4                                 ADX weak trend < 20  \n",
            "5   RSI neutral strong; MA 10 > MA 20 > MA 50 stro...  \n",
            "6   MA 10 < MA 20 < MA 50 strong downtrend; High v...  \n",
            "7             RSI neutral strong; ADX weak trend < 20  \n",
            "8   RSI oversold; MA 10 < MA 20 < MA 50 strong dow...  \n",
            "9   MA 10 < MA 20 < MA 50 strong downtrend; ADX st...  \n",
            "10  RSI neutral strong; MA 10 > MA 20 > MA 50 stro...  \n",
            "11  MA 10 > MA 20 > MA 50 strong uptrend; ADX stro...  \n",
            "12  RSI neutral strong; MA 10 > MA 20 > MA 50 stro...  \n",
            "13               RSI oversold; ADX strong trend >= 20  \n",
            "14  MA 10 > MA 20 > MA 50 strong uptrend; High vol...  \n",
            "15             RSI overbought; ADX strong trend >= 20  \n",
            "16               RSI oversold; ADX strong trend >= 20  \n",
            "\n",
            "[17 rows x 23 columns]\n"
          ]
        }
      ],
      "source": [
        "import yfinance as yf\n",
        "import pandas as pd\n",
        "import numpy as np\n",
        "from scipy.signal import argrelextrema\n",
        "import talib  # Technical Analysis library for ADX calculation\n",
        "import logging\n",
        "import time\n",
        "\n",
        "logging.basicConfig(level=logging.INFO)\n",
        "\n",
        "nse_tickers = [\n",
        "    \"DMART.NS\",\"TCS.NS\", \"BEL.NS\", \"DLF.NS\", \"GODREJCP.NS\", \"HDFCLIFE.NS\",\n",
        "    \"MAXHEALTH.NS\", \"SBILIFE.NS\", \"TRENT.NS\", \"VBL.NS\", \"KPIL.NS\", \"GMRPUI.NS\",\n",
        "    \"SWIGGY.NS\",\"ETERNAL.NS\",\"PAYTM.NS\",\"ADANIPOWER.NS\",\"HEG.NS\",\"PAYTM.NS\"\n",
        "]\n",
        "\n",
        "def safe_scalar(val):\n",
        "    try:\n",
        "        if isinstance(val, pd.Series):\n",
        "            if not val.empty:\n",
        "                return float(val.iloc[0])\n",
        "            else:\n",
        "                return np.nan\n",
        "        else:\n",
        "            return float(val)\n",
        "    except:\n",
        "        return np.nan\n",
        "\n",
        "def fetch_yfinance_data(ticker):\n",
        "    return yf.download(ticker, period=\"90d\", interval=\"1d\", auto_adjust=True)\n",
        "\n",
        "def calculate_rsi(df, window=14):\n",
        "    delta = df['Close'].diff()\n",
        "    gain = delta.clip(lower=0)\n",
        "    loss = -1 * delta.clip(upper=0)\n",
        "    avg_gain = gain.rolling(window=window, min_periods=window).mean()\n",
        "    avg_loss = loss.rolling(window=window, min_periods=window).mean()\n",
        "    rs = avg_gain / avg_loss\n",
        "    rsi = 100 - (100 / (1 + rs))\n",
        "    return rsi\n",
        "\n",
        "def calculate_ma(df, windows=[10, 20, 50]):\n",
        "    for w in windows:\n",
        "        df[f'MA_{w}'] = df['Close'].rolling(window=w).mean()\n",
        "    return df\n",
        "\n",
        "def calculate_adx(df, window=14):\n",
        "    # Ensure no MultiIndex columns\n",
        "    if isinstance(df.columns, pd.MultiIndex):\n",
        "        df.columns = df.columns.droplevel(1)\n",
        "    high = df['High'].dropna().values\n",
        "    low = df['Low'].dropna().values\n",
        "    close = df['Close'].dropna().values\n",
        "\n",
        "    min_len = min(len(high), len(low), len(close))\n",
        "    high = high[-min_len:]\n",
        "    low = low[-min_len:]\n",
        "    close = close[-min_len:]\n",
        "\n",
        "    adx_vals = talib.ADX(high, low, close, timeperiod=window)\n",
        "\n",
        "    # Align ADX length with original df by prepending NaNs\n",
        "    adx_full = np.full(shape=len(df), fill_value=np.nan)\n",
        "    adx_full[-len(adx_vals):] = adx_vals\n",
        "\n",
        "    return adx_full\n",
        "\n",
        "def find_swing_zones(df, order=5):\n",
        "    local_min_idx = argrelextrema(df['Close'].values, np.less_equal, order=order)[0]\n",
        "    demand_zones = df.iloc[local_min_idx]\n",
        "\n",
        "    local_max_idx = argrelextrema(df['Close'].values, np.greater_equal, order=order)[0]\n",
        "    supply_zones = df.iloc[local_max_idx]\n",
        "\n",
        "    return demand_zones, supply_zones\n",
        "\n",
        "def calc_support_resistance_zone(df, window=10, pct_range=0.02):\n",
        "    recent_data = df.tail(window)\n",
        "    low = safe_scalar(recent_data['Low'].min())\n",
        "    high = safe_scalar(recent_data['High'].max())\n",
        "    support_zone_low = low\n",
        "    support_zone_high = low * (1 + pct_range) if pd.notna(low) else np.nan\n",
        "    resistance_zone_low = high * (1 - pct_range) if pd.notna(high) else np.nan\n",
        "    resistance_zone_high = high\n",
        "    return support_zone_low, support_zone_high, resistance_zone_low, resistance_zone_high\n",
        "\n",
        "def generate_score(rsi, ma_10, ma_20, ma_50, volume, volavg20, adx, adx_threshold=20):\n",
        "    score = 0\n",
        "    reasons = []\n",
        "\n",
        "    if float(rsi) < 30:\n",
        "        score += 2\n",
        "        reasons.append('RSI oversold')\n",
        "    elif float(rsi) > 70:\n",
        "        score -= 2\n",
        "        reasons.append('RSI overbought')\n",
        "    elif 45 <= float(rsi) <= 55:\n",
        "        score += 1\n",
        "        reasons.append('RSI neutral strong')\n",
        "\n",
        "    if float(ma_10) > float(ma_20) and float(ma_20) > float(ma_50):\n",
        "        score += 2\n",
        "        reasons.append('MA 10 > MA 20 > MA 50 strong uptrend')\n",
        "    elif float(ma_10) < float(ma_20) and float(ma_20) < float(ma_50):\n",
        "        score -= 2\n",
        "        reasons.append('MA 10 < MA 20 < MA 50 strong downtrend')\n",
        "\n",
        "    if float(volume) > 1.5 * float(volavg20):\n",
        "        score += 1\n",
        "        reasons.append('High volume')\n",
        "\n",
        "    if adx is not None and not np.isnan(adx):\n",
        "        if adx >= adx_threshold:\n",
        "            score += 1\n",
        "            reasons.append(f'ADX strong trend >= {adx_threshold}')\n",
        "        else:\n",
        "            score -= 1\n",
        "            reasons.append(f'ADX weak trend < {adx_threshold}')\n",
        "\n",
        "    if score >= 3:\n",
        "        signal = 'BUY'\n",
        "    elif score <= -2:\n",
        "        signal = 'SELL'\n",
        "    else:\n",
        "        signal = 'HOLD'\n",
        "\n",
        "    if not reasons:\n",
        "        reasons.append('No strong signals')\n",
        "\n",
        "    return score, signal, '; '.join(reasons)\n",
        "\n",
        "def calc_trade_levels(price, demand_zone, supply_zone, support_low, support_high, resistance_low, resistance_high, signal):\n",
        "    if signal != 'BUY':\n",
        "        return None, None, None, None, None\n",
        "\n",
        "    entry = price if price > demand_zone else demand_zone if demand_zone else price\n",
        "    stop_loss = demand_zone * 0.98 if demand_zone else price * 0.98\n",
        "\n",
        "    targets = []\n",
        "    if resistance_low and resistance_low > entry:\n",
        "        targets.append(resistance_low)\n",
        "    if resistance_high and resistance_high > entry:\n",
        "        targets.append(resistance_high)\n",
        "    if supply_zone and supply_zone > entry:\n",
        "        targets.append(supply_zone)\n",
        "\n",
        "    while len(targets) < 3:\n",
        "        targets.append(None)\n",
        "\n",
        "    return round(entry, 2), round(stop_loss, 2), round(targets[0], 2) if targets[0] else None, round(targets[1], 2) if targets[1] else None, round(targets[2], 2) if targets[2] else None\n",
        "\n",
        "\n",
        "results = []\n",
        "\n",
        "for ticker in nse_tickers:\n",
        "    logging.info(f'Processing {ticker}...')\n",
        "    df = fetch_yfinance_data(ticker)\n",
        "    if df.empty:\n",
        "        logging.warning(f'No data for {ticker}, skipping.')\n",
        "        continue\n",
        "\n",
        "    df = calculate_ma(df)\n",
        "    df['RSI'] = calculate_rsi(df)\n",
        "    df['VolAvg20'] = df['Volume'].rolling(20).mean()\n",
        "    df['ADX'] = calculate_adx(df)\n",
        "\n",
        "    demand_zones, supply_zones = find_swing_zones(df, order=5)\n",
        "\n",
        "    latest = df.iloc[-1]\n",
        "    last_date = latest.name\n",
        "\n",
        "    demand_recent = demand_zones[demand_zones.index < last_date]\n",
        "    demand_zone_price = safe_scalar(demand_recent['Close'].iloc[-1]) if not demand_recent.empty else np.nan\n",
        "    demand_zone_val = round(float(demand_zone_price), 2) if pd.notna(demand_zone_price) else None\n",
        "\n",
        "    supply_recent = supply_zones[supply_zones.index < last_date]\n",
        "    supply_zone_price = safe_scalar(supply_recent['Close'].iloc[-1]) if not supply_recent.empty else np.nan\n",
        "    supply_zone_val = round(float(supply_zone_price), 2) if pd.notna(supply_zone_price) else None\n",
        "\n",
        "    support_zone_low, support_zone_high, resistance_zone_low, resistance_zone_high = calc_support_resistance_zone(df)\n",
        "\n",
        "    price_val = safe_scalar(latest['Close'])\n",
        "    rsi_val = safe_scalar(latest['RSI'])\n",
        "    ma_10_val = safe_scalar(latest['MA_10'])\n",
        "    ma_20_val = safe_scalar(latest['MA_20'])\n",
        "    ma_50_val = safe_scalar(latest['MA_50'])\n",
        "    volume_val = safe_scalar(latest['Volume'])\n",
        "    volavg20_val = safe_scalar(latest['VolAvg20'])\n",
        "    adx_val = safe_scalar(latest['ADX'])\n",
        "\n",
        "    score, signal, reasons = generate_score(rsi_val, ma_10_val, ma_20_val, ma_50_val, volume_val, volavg20_val, adx_val)\n",
        "\n",
        "    entry, stop_loss, target1, target2, target3 = calc_trade_levels(\n",
        "        price_val, demand_zone_val, supply_zone_val,\n",
        "        support_zone_low, support_zone_high,\n",
        "        resistance_zone_low, resistance_zone_high,\n",
        "        signal\n",
        "    )\n",
        "\n",
        "    result = {\n",
        "        'Ticker': ticker.replace('.NS',''),\n",
        "        'Price': round(price_val, 2) if pd.notna(price_val) else None,\n",
        "        'RSI': round(rsi_val, 2) if pd.notna(rsi_val) else None,\n",
        "        'MA_10': round(ma_10_val, 2) if pd.notna(ma_10_val) else None,\n",
        "        'MA_20': round(ma_20_val, 2) if pd.notna(ma_20_val) else None,\n",
        "        'MA_50': round(ma_50_val, 2) if pd.notna(ma_50_val) else None,\n",
        "        'Volume': int(volume_val) if pd.notna(volume_val) else None,\n",
        "        'VolAvg20': int(volavg20_val) if pd.notna(volavg20_val) else None,\n",
        "        'ADX': round(adx_val, 2) if pd.notna(adx_val) else None,\n",
        "        'SupportZoneLow': round(support_zone_low, 2) if pd.notna(support_zone_low) else None,\n",
        "        'SupportZoneHigh': round(support_zone_high, 2) if pd.notna(support_zone_high) else None,\n",
        "        'ResistanceZoneLow': round(resistance_zone_low, 2) if pd.notna(resistance_zone_low) else None,\n",
        "        'ResistanceZoneHigh': round(resistance_zone_high, 2) if pd.notna(resistance_zone_high) else None,\n",
        "        'DemandZone': demand_zone_val,\n",
        "        'SupplyZone': supply_zone_val,\n",
        "        'Entry': entry,\n",
        "        'StopLoss': stop_loss,\n",
        "        'Target1': target1,\n",
        "        'Target2': target2,\n",
        "        'Target3': target3,\n",
        "        'Score': score,\n",
        "        'Signal': signal,\n",
        "        'Reasons': reasons\n",
        "    }\n",
        "\n",
        "    results.append(result)\n",
        "    time.sleep(1)  # Respect API limits\n",
        "\n",
        "df_out = pd.DataFrame(results)\n",
        "print(df_out)\n"
      ]
    },
    {
      "cell_type": "code",
      "source": [
        "pip install TA-lib"
      ],
      "metadata": {
        "colab": {
          "base_uri": "https://localhost:8080/"
        },
        "id": "Qtu0oGfxu0du",
        "outputId": "69cef250-fc82-4e23-fa45-976fb42a3889"
      },
      "execution_count": 2,
      "outputs": [
        {
          "output_type": "stream",
          "name": "stdout",
          "text": [
            "Collecting TA-lib\n",
            "  Downloading ta_lib-0.6.7-cp312-cp312-manylinux_2_28_x86_64.whl.metadata (24 kB)\n",
            "Requirement already satisfied: build in /usr/local/lib/python3.12/dist-packages (from TA-lib) (1.3.0)\n",
            "Requirement already satisfied: cython in /usr/local/lib/python3.12/dist-packages (from TA-lib) (3.0.12)\n",
            "Requirement already satisfied: numpy in /usr/local/lib/python3.12/dist-packages (from TA-lib) (2.0.2)\n",
            "Requirement already satisfied: packaging>=19.1 in /usr/local/lib/python3.12/dist-packages (from build->TA-lib) (25.0)\n",
            "Requirement already satisfied: pyproject_hooks in /usr/local/lib/python3.12/dist-packages (from build->TA-lib) (1.2.0)\n",
            "Downloading ta_lib-0.6.7-cp312-cp312-manylinux_2_28_x86_64.whl (4.1 MB)\n",
            "\u001b[2K   \u001b[90m━━━━━━━━━━━━━━━━━━━━━━━━━━━━━━━━━━━━━━━━\u001b[0m \u001b[32m4.1/4.1 MB\u001b[0m \u001b[31m33.9 MB/s\u001b[0m eta \u001b[36m0:00:00\u001b[0m\n",
            "\u001b[?25hInstalling collected packages: TA-lib\n",
            "Successfully installed TA-lib-0.6.7\n"
          ]
        }
      ]
    },
    {
      "cell_type": "code",
      "source": [
        "import yfinance as yf\n",
        "import pandas as pd\n",
        "import numpy as np\n",
        "from scipy.signal import argrelextrema\n",
        "import talib\n",
        "import logging\n",
        "import time\n",
        "\n",
        "logging.basicConfig(level=logging.INFO)\n",
        "\n",
        "nse_tickers = [\n",
        "    \"DMART.NS\",\"TCS.NS\", \"BEL.NS\", \"DLF.NS\", \"GODREJCP.NS\", \"HDFCLIFE.NS\",\n",
        "    \"MAXHEALTH.NS\", \"SBILIFE.NS\", \"TRENT.NS\", \"VBL.NS\", \"KPIL.NS\", \"GMRPUI.NS\",\n",
        "    \"SWIGGY.NS\",\"ETERNAL.NS\",\"PAYTM.NS\",\"ADANIPOWER.NS\",\"HEG.NS\",\"PAYTM.NS\"\n",
        "]\n",
        "\n",
        "INITIAL_CAPITAL = 10000  # Starting capital per ticker\n",
        "RISK_PERCENTAGE = 0.01  # Risk 1% per trade\n",
        "ATR_MULTIPLIER_STOP = 1.5  # Stop loss multiplier for ATR\n",
        "ATR_MULTIPLIER_TARGET = 3  # Profit target multiplier for ATR\n",
        "\n",
        "def safe_scalar(val):\n",
        "    try:\n",
        "        if isinstance(val, pd.Series):\n",
        "            if not val.empty:\n",
        "                return float(val.iloc[0])\n",
        "            else:\n",
        "                return np.nan\n",
        "        else:\n",
        "            return float(val)\n",
        "    except:\n",
        "        return np.nan\n",
        "\n",
        "def fetch_yfinance_data(ticker):\n",
        "    return yf.download(ticker, period=\"90d\", interval=\"1d\", auto_adjust=True)\n",
        "\n",
        "def calculate_rsi(df, window=14):\n",
        "    delta = df['Close'].diff()\n",
        "    gain = delta.clip(lower=0)\n",
        "    loss = -1 * delta.clip(upper=0)\n",
        "    avg_gain = gain.rolling(window=window, min_periods=window).mean()\n",
        "    avg_loss = loss.rolling(window=window, min_periods=window).mean()\n",
        "    rs = avg_gain / avg_loss\n",
        "    rsi = 100 - (100 / (1 + rs))\n",
        "    return rsi\n",
        "\n",
        "def calculate_ma(df, windows=[10, 20, 50]):\n",
        "    for w in windows:\n",
        "        df[f'MA_{w}'] = df['Close'].rolling(window=w).mean()\n",
        "    return df\n",
        "\n",
        "def calculate_adx(df, window=14):\n",
        "    if isinstance(df.columns, pd.MultiIndex):\n",
        "        df.columns = df.columns.droplevel(1)\n",
        "    high = df['High'].dropna().values\n",
        "    low = df['Low'].dropna().values\n",
        "    close = df['Close'].dropna().values\n",
        "\n",
        "    min_len = min(len(high), len(low), len(close))\n",
        "    high = high[-min_len:]\n",
        "    low = low[-min_len:]\n",
        "    close = close[-min_len:]\n",
        "\n",
        "    adx_vals = talib.ADX(high, low, close, timeperiod=window)\n",
        "\n",
        "    adx_full = np.full(shape=len(df), fill_value=np.nan)\n",
        "    adx_full[-len(adx_vals):] = adx_vals\n",
        "\n",
        "    return adx_full\n",
        "\n",
        "def calculate_atr(df, window=14):\n",
        "    if isinstance(df.columns, pd.MultiIndex):\n",
        "        df.columns = df.columns.droplevel(1)\n",
        "    high = df['High'].values\n",
        "    low = df['Low'].values\n",
        "    close = df['Close'].values\n",
        "    atr_vals = talib.ATR(high, low, close, timeperiod=window)\n",
        "    atr_full = np.full(shape=len(df), fill_value=np.nan)\n",
        "    atr_full[-len(atr_vals):] = atr_vals\n",
        "    return atr_full\n",
        "\n",
        "def find_swing_zones(df, order=5):\n",
        "    local_min_idx = argrelextrema(df['Close'].values, np.less_equal, order=order)[0]\n",
        "    demand_zones = df.iloc[local_min_idx]\n",
        "\n",
        "    local_max_idx = argrelextrema(df['Close'].values, np.greater_equal, order=order)[0]\n",
        "    supply_zones = df.iloc[local_max_idx]\n",
        "\n",
        "    return demand_zones, supply_zones\n",
        "\n",
        "def calc_support_resistance_zone(df, window=10, pct_range=0.02):\n",
        "    recent_data = df.tail(window)\n",
        "    low = safe_scalar(recent_data['Low'].min())\n",
        "    high = safe_scalar(recent_data['High'].max())\n",
        "    support_zone_low = low\n",
        "    support_zone_high = low * (1 + pct_range) if pd.notna(low) else np.nan\n",
        "    resistance_zone_low = high * (1 - pct_range) if pd.notna(high) else np.nan\n",
        "    resistance_zone_high = high\n",
        "    return support_zone_low, support_zone_high, resistance_zone_low, resistance_zone_high\n",
        "\n",
        "def generate_score(rsi, ma_10, ma_20, ma_50, volume, volavg20, adx, adx_threshold=20):\n",
        "    score = 0\n",
        "    reasons = []\n",
        "\n",
        "    if float(rsi) < 30:\n",
        "        score += 2\n",
        "        reasons.append('RSI oversold')\n",
        "    elif float(rsi) > 70:\n",
        "        score -= 2\n",
        "        reasons.append('RSI overbought')\n",
        "    elif 45 <= float(rsi) <= 55:\n",
        "        score += 1\n",
        "        reasons.append('RSI neutral strong')\n",
        "\n",
        "    if float(ma_10) > float(ma_20) and float(ma_20) > float(ma_50):\n",
        "        score += 2\n",
        "        reasons.append('MA 10 > MA 20 > MA 50 strong uptrend')\n",
        "    elif float(ma_10) < float(ma_20) and float(ma_20) < float(ma_50):\n",
        "        score -= 2\n",
        "        reasons.append('MA 10 < MA 20 < MA 50 strong downtrend')\n",
        "\n",
        "    if float(volume) > 1.5 * float(volavg20):\n",
        "        score += 1\n",
        "        reasons.append('High volume')\n",
        "\n",
        "    if adx is not None and not np.isnan(adx):\n",
        "        if adx >= adx_threshold:\n",
        "            score += 1\n",
        "            reasons.append(f'ADX strong trend >= {adx_threshold}')\n",
        "        else:\n",
        "            score -= 1\n",
        "            reasons.append(f'ADX weak trend < {adx_threshold}')\n",
        "\n",
        "    if score >= 3:\n",
        "        signal = 'BUY'\n",
        "    elif score <= -2:\n",
        "        signal = 'SELL'\n",
        "    else:\n",
        "        signal = 'HOLD'\n",
        "\n",
        "    if not reasons:\n",
        "        reasons.append('No strong signals')\n",
        "\n",
        "    return score, signal, '; '.join(reasons)\n",
        "\n",
        "def calc_trade_levels(price, atr, signal):\n",
        "    if signal != 'BUY':\n",
        "        return None, None, None\n",
        "\n",
        "    entry = price\n",
        "    stop_loss = price - ATR_MULTIPLIER_STOP * atr if atr and not np.isnan(atr) else price * 0.98\n",
        "    target = price + ATR_MULTIPLIER_TARGET * atr if atr and not np.isnan(atr) else price * 1.05\n",
        "\n",
        "    return round(entry, 2), round(stop_loss, 2), round(target, 2)\n",
        "\n",
        "def calculate_position_size(capital, risk_per_trade, entry_price, stop_loss):\n",
        "    if stop_loss is None or entry_price is None:\n",
        "        return 0\n",
        "    risk_amount = capital * risk_per_trade\n",
        "    risk_per_share = abs(entry_price - stop_loss)\n",
        "    if risk_per_share == 0:\n",
        "        return 0\n",
        "    size = risk_amount / risk_per_share\n",
        "    return int(size)\n",
        "\n",
        "results = []\n",
        "\n",
        "for ticker in nse_tickers:\n",
        "    logging.info(f'Processing {ticker}...')\n",
        "    df = fetch_yfinance_data(ticker)\n",
        "    if df.empty:\n",
        "        logging.warning(f'No data for {ticker}, skipping.')\n",
        "        continue\n",
        "\n",
        "    df = calculate_ma(df)\n",
        "    df['RSI'] = calculate_rsi(df)\n",
        "    df['VolAvg20'] = df['Volume'].rolling(20).mean()\n",
        "    df['ADX'] = calculate_adx(df)\n",
        "    df['ATR'] = calculate_atr(df)\n",
        "\n",
        "    latest = df.iloc[-1]\n",
        "\n",
        "    price = safe_scalar(latest['Close'])\n",
        "    rsi = safe_scalar(latest['RSI'])\n",
        "    ma_10 = safe_scalar(latest['MA_10'])\n",
        "    ma_20 = safe_scalar(latest['MA_20'])\n",
        "    ma_50 = safe_scalar(latest['MA_50'])\n",
        "    volume = safe_scalar(latest['Volume'])\n",
        "    volavg20 = safe_scalar(latest['VolAvg20'])\n",
        "    adx = safe_scalar(latest['ADX'])\n",
        "    atr = safe_scalar(latest['ATR'])\n",
        "\n",
        "    score, signal, reasons = generate_score(rsi, ma_10, ma_20, ma_50, volume, volavg20, adx)\n",
        "\n",
        "    entry, stop_loss, target = calc_trade_levels(price, atr, signal)\n",
        "    position_size = calculate_position_size(INITIAL_CAPITAL, RISK_PERCENTAGE, entry, stop_loss)\n",
        "\n",
        "    result = {\n",
        "        'Ticker': ticker.replace('.NS',''),\n",
        "        'Price': round(price, 2) if price else None,\n",
        "        'RSI': round(rsi, 2) if rsi else None,\n",
        "        'MA_10': round(ma_10, 2) if ma_10 else None,\n",
        "        'MA_20': round(ma_20, 2) if ma_20 else None,\n",
        "        'MA_50': round(ma_50, 2) if ma_50 else None,\n",
        "        'Volume': int(volume) if volume else None,\n",
        "        'VolAvg20': int(volavg20) if volavg20 else None,\n",
        "        'ADX': round(adx, 2) if adx else None,\n",
        "        'ATR': round(atr, 2) if atr else None,\n",
        "        'Score': score,\n",
        "        'Signal': signal,\n",
        "        'Entry': entry,\n",
        "        'StopLoss': stop_loss,\n",
        "        'Target': target,\n",
        "        'PositionSize': position_size,\n",
        "        'Reasons': reasons\n",
        "    }\n",
        "\n",
        "    results.append(result)\n",
        "    time.sleep(1)  # API rate limit respect\n",
        "\n",
        "df_out = pd.DataFrame(results)\n",
        "print(df_out)\n"
      ],
      "metadata": {
        "colab": {
          "base_uri": "https://localhost:8080/"
        },
        "id": "2StCXTMyvBo1",
        "outputId": "c4280cd4-f5c3-4ad7-f32e-6b778d8cc26d"
      },
      "execution_count": 5,
      "outputs": [
        {
          "output_type": "stream",
          "name": "stderr",
          "text": [
            "[*********************100%***********************]  1 of 1 completed\n",
            "[*********************100%***********************]  1 of 1 completed\n",
            "[*********************100%***********************]  1 of 1 completed\n",
            "[*********************100%***********************]  1 of 1 completed\n",
            "[*********************100%***********************]  1 of 1 completed\n",
            "[*********************100%***********************]  1 of 1 completed\n",
            "[*********************100%***********************]  1 of 1 completed\n",
            "[*********************100%***********************]  1 of 1 completed\n",
            "[*********************100%***********************]  1 of 1 completed\n",
            "[*********************100%***********************]  1 of 1 completed\n",
            "[*********************100%***********************]  1 of 1 completed\n",
            "ERROR:yfinance:HTTP Error 404: {\"quoteSummary\":{\"result\":null,\"error\":{\"code\":\"Not Found\",\"description\":\"Quote not found for symbol: GMRPUI.NS\"}}}\n",
            "[*********************100%***********************]  1 of 1 completed\n",
            "ERROR:yfinance:\n",
            "1 Failed download:\n",
            "ERROR:yfinance:['GMRPUI.NS']: YFPricesMissingError('possibly delisted; no price data found  (period=90d) (Yahoo error = \"No data found, symbol may be delisted\")')\n",
            "WARNING:root:No data for GMRPUI.NS, skipping.\n",
            "[*********************100%***********************]  1 of 1 completed\n",
            "[*********************100%***********************]  1 of 1 completed\n",
            "[*********************100%***********************]  1 of 1 completed\n",
            "[*********************100%***********************]  1 of 1 completed\n",
            "[*********************100%***********************]  1 of 1 completed\n",
            "[*********************100%***********************]  1 of 1 completed\n"
          ]
        },
        {
          "output_type": "stream",
          "name": "stdout",
          "text": [
            "        Ticker    Price    RSI    MA_10    MA_20    MA_50     Volume  \\\n",
            "0        DMART  4576.20  34.57  4674.38  4699.52  4467.31     454331   \n",
            "1          TCS  2957.40  39.88  3103.87  3094.58  3090.40    4971744   \n",
            "2          BEL   403.15  72.05   404.11   390.00   386.58   23800929   \n",
            "3          DLF   721.05  34.28   765.60   759.77   774.74    4484651   \n",
            "4     GODREJCP  1189.20  37.31  1225.70  1239.50  1232.31    1908827   \n",
            "5     HDFCLIFE   765.05  52.83   776.42   772.89   768.89    2080889   \n",
            "6    MAXHEALTH  1137.70  40.84  1160.47  1162.83  1209.25    5021970   \n",
            "7      SBILIFE  1809.80  50.94  1824.27  1815.70  1826.60    1003675   \n",
            "8        TRENT  4742.50   7.88  5037.30  5198.38  5259.96    1517967   \n",
            "9          VBL   451.85  34.36   465.03   474.77   491.72    8205942   \n",
            "10        KPIL  1255.10  46.90  1269.56  1264.65  1225.97     110720   \n",
            "11      SWIGGY   426.10  43.32   438.98   433.71   417.62    8852879   \n",
            "12     ETERNAL   332.25  53.18   332.29   328.48   313.75   16653310   \n",
            "13       PAYTM  1141.40  25.08  1198.61  1220.23  1163.09    4228401   \n",
            "14  ADANIPOWER   149.00  64.49   140.64   132.12   123.47  157772265   \n",
            "15         HEG   521.80  75.90   518.25   504.50   510.84    1015518   \n",
            "16       PAYTM  1141.40  25.08  1198.61  1220.23  1163.09    4228401   \n",
            "\n",
            "    VolAvg20    ADX     ATR  Score Signal    Entry  StopLoss   Target  \\\n",
            "0     405121  28.90  105.45      1   HOLD      NaN       NaN      NaN   \n",
            "1    2518090  17.59   48.54      2   HOLD      NaN       NaN      NaN   \n",
            "2   14711701  27.53    8.34      2   HOLD      NaN       NaN      NaN   \n",
            "3    2398084  20.38   16.91      2   HOLD      NaN       NaN      NaN   \n",
            "4    1455039  15.43   27.81     -1   HOLD      NaN       NaN      NaN   \n",
            "5    2756716  15.31   14.61      2   HOLD      NaN       NaN      NaN   \n",
            "6    2927658  14.93   25.37     -2   SELL      NaN       NaN      NaN   \n",
            "7     888638  18.66   32.61      0   HOLD      NaN       NaN      NaN   \n",
            "8     991370  21.47  122.89      2   HOLD      NaN       NaN      NaN   \n",
            "9    6116301  34.38   10.49     -1   HOLD      NaN       NaN      NaN   \n",
            "10    183221  22.69   33.22      4    BUY  1255.10   1205.27  1354.77   \n",
            "11  13653297  27.13   15.32      3    BUY   426.10    403.12   472.05   \n",
            "12  28375444  34.70    6.53      4    BUY   332.25    322.46   351.83   \n",
            "13   3008160  29.48   33.23      3    BUY  1141.40   1091.55  1241.10   \n",
            "14  86184188  32.05    8.59      4    BUY   149.00    136.11   174.77   \n",
            "15    757648  32.52   14.49     -1   HOLD      NaN       NaN      NaN   \n",
            "16   3008160  29.48   33.23      3    BUY  1141.40   1091.55  1241.10   \n",
            "\n",
            "    PositionSize                                            Reasons  \n",
            "0              0                             ADX strong trend >= 20  \n",
            "1              0  MA 10 > MA 20 > MA 50 strong uptrend; High vol...  \n",
            "2              0  RSI overbought; MA 10 > MA 20 > MA 50 strong u...  \n",
            "3              0                High volume; ADX strong trend >= 20  \n",
            "4              0                                ADX weak trend < 20  \n",
            "5              0  RSI neutral strong; MA 10 > MA 20 > MA 50 stro...  \n",
            "6              0  MA 10 < MA 20 < MA 50 strong downtrend; High v...  \n",
            "7              0            RSI neutral strong; ADX weak trend < 20  \n",
            "8              0  RSI oversold; MA 10 < MA 20 < MA 50 strong dow...  \n",
            "9              0  MA 10 < MA 20 < MA 50 strong downtrend; ADX st...  \n",
            "10             2  RSI neutral strong; MA 10 > MA 20 > MA 50 stro...  \n",
            "11             4  MA 10 > MA 20 > MA 50 strong uptrend; ADX stro...  \n",
            "12            10  RSI neutral strong; MA 10 > MA 20 > MA 50 stro...  \n",
            "13             2               RSI oversold; ADX strong trend >= 20  \n",
            "14             7  MA 10 > MA 20 > MA 50 strong uptrend; High vol...  \n",
            "15             0             RSI overbought; ADX strong trend >= 20  \n",
            "16             2               RSI oversold; ADX strong trend >= 20  \n"
          ]
        }
      ]
    },
    {
      "cell_type": "code",
      "source": [
        "import backtrader as bt\n",
        "import yfinance as yf\n",
        "import pandas as pd\n",
        "\n",
        "class SwingStrategy(bt.Strategy):\n",
        "    params = dict(\n",
        "        rsi_period=14,\n",
        "        ma_periods=(10, 20, 50),\n",
        "        adx_period=14,\n",
        "        atr_period=14,\n",
        "        atr_mult_stop=1.5,\n",
        "        atr_mult_target=3,\n",
        "        risk_per_trade=0.01,\n",
        "    )\n",
        "\n",
        "    def __init__(self):\n",
        "        self.rsi = bt.indicators.RSI(self.data.close, period=self.p.rsi_period)\n",
        "        self.ma10 = bt.indicators.SimpleMovingAverage(self.data.close, period=self.p.ma_periods[0])\n",
        "        self.ma20 = bt.indicators.SimpleMovingAverage(self.data.close, period=self.p.ma_periods[1])\n",
        "        self.ma50 = bt.indicators.SimpleMovingAverage(self.data.close, period=self.p.ma_periods[2])\n",
        "        self.adx = bt.indicators.ADX(self.data, period=self.p.adx_period)\n",
        "        self.atr = bt.indicators.ATR(self.data, period=self.p.atr_period)\n",
        "\n",
        "        self.order = None\n",
        "        self.stop_price = None\n",
        "        self.position_size = 0\n",
        "\n",
        "    def next(self):\n",
        "        if self.order:\n",
        "            return  # waiting for pending order\n",
        "\n",
        "        score = 0\n",
        "        if self.rsi[0] < 30:\n",
        "            score += 2\n",
        "        elif self.rsi[0] > 70:\n",
        "            score -= 2\n",
        "        elif 45 <= self.rsi[0] <= 55:\n",
        "            score += 1\n",
        "\n",
        "        if self.ma10[0] > self.ma20[0] > self.ma50[0]:\n",
        "            score += 2\n",
        "        elif self.ma10[0] < self.ma20[0] < self.ma50[0]:\n",
        "            score -= 2\n",
        "\n",
        "        if self.adx[0] >= 20:\n",
        "            score += 1\n",
        "        else:\n",
        "            score -= 1\n",
        "\n",
        "        if not self.position:\n",
        "            if score >= 3:\n",
        "                stop_loss = self.data.close[0] - self.p.atr_mult_stop * self.atr[0]\n",
        "                risk_per_share = self.data.close[0] - stop_loss\n",
        "                cash = self.broker.getcash()\n",
        "                size = int(cash * self.p.risk_per_trade / risk_per_share)\n",
        "                if size > 0:\n",
        "                    self.position_size = size\n",
        "                    self.stop_price = stop_loss\n",
        "                    self.order = self.buy(size=size)\n",
        "        else:\n",
        "            new_stop = self.data.close[0] - self.p.atr_mult_stop * self.atr[0]\n",
        "            if new_stop > self.stop_price:\n",
        "                self.stop_price = new_stop\n",
        "            if self.data.close[0] <= self.stop_price:\n",
        "                self.order = self.sell(size=self.position_size)\n",
        "                self.position_size = 0\n",
        "                self.stop_price = None\n",
        "\n",
        "\n",
        "def run_backtest_for_ticker(ticker):\n",
        "    print(f\"Downloading data for {ticker} ...\")\n",
        "    df = yf.download(ticker, start='2023-01-01', end='2023-12-31', group_by='column', auto_adjust=True)\n",
        "\n",
        "    if isinstance(df.columns, pd.MultiIndex):\n",
        "        df.columns = df.columns.get_level_values(0)\n",
        "\n",
        "    df.index = df.index.tz_localize(None)\n",
        "\n",
        "    cerebro = bt.Cerebro()\n",
        "    data_feed = bt.feeds.PandasData(dataname=df)\n",
        "    cerebro.adddata(data_feed)\n",
        "    cerebro.broker.setcash(10000)\n",
        "    cerebro.addstrategy(SwingStrategy)\n",
        "\n",
        "    print(f\"Starting Portfolio Value for {ticker}: {cerebro.broker.getvalue():.2f}\")\n",
        "    cerebro.run()\n",
        "    print(f\"Final Portfolio Value for {ticker}: {cerebro.broker.getvalue():.2f}\")\n",
        "    print(\"=\"*50)\n",
        "\n",
        "\n",
        "nse_tickers = [\n",
        "    \"DMART.NS\", \"TCS.NS\", \"BEL.NS\", \"DLF.NS\", \"GODREJCP.NS\", \"HDFCLIFE.NS\",\n",
        "    \"MAXHEALTH.NS\", \"SBILIFE.NS\", \"TRENT.NS\", \"VBL.NS\", \"KPIL.NS\",\n",
        "    \"SWIGGY.NS\", \"ETERNAL.NS\", \"PAYTM.NS\", \"ADANIPOWER.NS\", \"HEG.NS\"\n",
        "]\n",
        "\n",
        "for ticker in nse_tickers:\n",
        "    try:\n",
        "        run_backtest_for_ticker(ticker)\n",
        "    except Exception as e:\n",
        "        print(f\"Error running backtest for {ticker}: {e}\")\n",
        "        print(\"=\"*50)\n"
      ],
      "metadata": {
        "colab": {
          "base_uri": "https://localhost:8080/"
        },
        "id": "QkPp_IhE0jkH",
        "outputId": "8e00c97f-2dae-4ec3-cf4a-363b840c064b"
      },
      "execution_count": 18,
      "outputs": [
        {
          "output_type": "stream",
          "name": "stderr",
          "text": [
            "\r[*********************100%***********************]  1 of 1 completed"
          ]
        },
        {
          "output_type": "stream",
          "name": "stdout",
          "text": [
            "Downloading data for DMART.NS ...\n",
            "Starting Portfolio Value for DMART.NS: 10000.00\n"
          ]
        },
        {
          "output_type": "stream",
          "name": "stderr",
          "text": [
            "\n",
            "\r[*********************100%***********************]  1 of 1 completed\n"
          ]
        },
        {
          "output_type": "stream",
          "name": "stdout",
          "text": [
            "Final Portfolio Value for DMART.NS: 10622.55\n",
            "==================================================\n",
            "Downloading data for TCS.NS ...\n",
            "Starting Portfolio Value for TCS.NS: 10000.00\n",
            "Final Portfolio Value for TCS.NS: 10339.26\n",
            "==================================================\n",
            "Downloading data for BEL.NS ...\n"
          ]
        },
        {
          "output_type": "stream",
          "name": "stderr",
          "text": [
            "\r[*********************100%***********************]  1 of 1 completed\n"
          ]
        },
        {
          "output_type": "stream",
          "name": "stdout",
          "text": [
            "Starting Portfolio Value for BEL.NS: 10000.00\n",
            "Final Portfolio Value for BEL.NS: 12306.43\n",
            "==================================================\n",
            "Downloading data for DLF.NS ...\n"
          ]
        },
        {
          "output_type": "stream",
          "name": "stderr",
          "text": [
            "\r[*********************100%***********************]  1 of 1 completed\n"
          ]
        },
        {
          "output_type": "stream",
          "name": "stdout",
          "text": [
            "Starting Portfolio Value for DLF.NS: 10000.00\n",
            "Final Portfolio Value for DLF.NS: 11867.65\n",
            "==================================================\n",
            "Downloading data for GODREJCP.NS ...\n"
          ]
        },
        {
          "output_type": "stream",
          "name": "stderr",
          "text": [
            "\r[*********************100%***********************]  1 of 1 completed\n"
          ]
        },
        {
          "output_type": "stream",
          "name": "stdout",
          "text": [
            "Starting Portfolio Value for GODREJCP.NS: 10000.00\n",
            "Final Portfolio Value for GODREJCP.NS: 10527.82\n",
            "==================================================\n",
            "Downloading data for HDFCLIFE.NS ...\n"
          ]
        },
        {
          "output_type": "stream",
          "name": "stderr",
          "text": [
            "\r[*********************100%***********************]  1 of 1 completed\n"
          ]
        },
        {
          "output_type": "stream",
          "name": "stdout",
          "text": [
            "Starting Portfolio Value for HDFCLIFE.NS: 10000.00\n",
            "Final Portfolio Value for HDFCLIFE.NS: 10576.19\n",
            "==================================================\n",
            "Downloading data for MAXHEALTH.NS ...\n"
          ]
        },
        {
          "output_type": "stream",
          "name": "stderr",
          "text": [
            "[*********************100%***********************]  1 of 1 completed\n",
            "[*********************100%***********************]  1 of 1 completed"
          ]
        },
        {
          "output_type": "stream",
          "name": "stdout",
          "text": [
            "Starting Portfolio Value for MAXHEALTH.NS: 10000.00\n",
            "Final Portfolio Value for MAXHEALTH.NS: 11057.39\n",
            "==================================================\n",
            "Downloading data for SBILIFE.NS ...\n"
          ]
        },
        {
          "output_type": "stream",
          "name": "stderr",
          "text": [
            "\n"
          ]
        },
        {
          "output_type": "stream",
          "name": "stdout",
          "text": [
            "Starting Portfolio Value for SBILIFE.NS: 10000.00\n",
            "Final Portfolio Value for SBILIFE.NS: 10741.85\n",
            "==================================================\n",
            "Downloading data for TRENT.NS ...\n"
          ]
        },
        {
          "output_type": "stream",
          "name": "stderr",
          "text": [
            "\r[*********************100%***********************]  1 of 1 completed\n"
          ]
        },
        {
          "output_type": "stream",
          "name": "stdout",
          "text": [
            "Starting Portfolio Value for TRENT.NS: 10000.00\n",
            "Final Portfolio Value for TRENT.NS: 13128.12\n",
            "==================================================\n",
            "Downloading data for VBL.NS ...\n"
          ]
        },
        {
          "output_type": "stream",
          "name": "stderr",
          "text": [
            "\r[*********************100%***********************]  1 of 1 completed\n"
          ]
        },
        {
          "output_type": "stream",
          "name": "stdout",
          "text": [
            "Starting Portfolio Value for VBL.NS: 10000.00\n",
            "Final Portfolio Value for VBL.NS: 11472.93\n",
            "==================================================\n",
            "Downloading data for KPIL.NS ...\n"
          ]
        },
        {
          "output_type": "stream",
          "name": "stderr",
          "text": [
            "\r[*********************100%***********************]  1 of 1 completed\n"
          ]
        },
        {
          "output_type": "stream",
          "name": "stdout",
          "text": [
            "Starting Portfolio Value for KPIL.NS: 10000.00\n",
            "Final Portfolio Value for KPIL.NS: 10013.30\n",
            "==================================================\n",
            "Downloading data for SWIGGY.NS ...\n"
          ]
        },
        {
          "output_type": "stream",
          "name": "stderr",
          "text": [
            "\r[*********************100%***********************]  1 of 1 completed\n",
            "ERROR:yfinance:\n",
            "1 Failed download:\n",
            "ERROR:yfinance:['SWIGGY.NS']: YFPricesMissingError('possibly delisted; no price data found  (1d 2023-01-01 -> 2023-12-31) (Yahoo error = \"Data doesn\\'t exist for startDate = 1672511400, endDate = 1703961000\")')\n",
            "[*********************100%***********************]  1 of 1 completed\n"
          ]
        },
        {
          "output_type": "stream",
          "name": "stdout",
          "text": [
            "Starting Portfolio Value for SWIGGY.NS: 10000.00\n",
            "Error running backtest for SWIGGY.NS: array index out of range\n",
            "==================================================\n",
            "Downloading data for ETERNAL.NS ...\n",
            "Starting Portfolio Value for ETERNAL.NS: 10000.00\n"
          ]
        },
        {
          "output_type": "stream",
          "name": "stderr",
          "text": [
            "\r[*********************100%***********************]  1 of 1 completed"
          ]
        },
        {
          "output_type": "stream",
          "name": "stdout",
          "text": [
            "Final Portfolio Value for ETERNAL.NS: 11567.50\n",
            "==================================================\n",
            "Downloading data for PAYTM.NS ...\n",
            "Starting Portfolio Value for PAYTM.NS: 10000.00\n"
          ]
        },
        {
          "output_type": "stream",
          "name": "stderr",
          "text": [
            "\n",
            "[*********************100%***********************]  1 of 1 completed"
          ]
        },
        {
          "output_type": "stream",
          "name": "stdout",
          "text": [
            "Final Portfolio Value for PAYTM.NS: 9952.90\n",
            "==================================================\n",
            "Downloading data for ADANIPOWER.NS ...\n",
            "Starting Portfolio Value for ADANIPOWER.NS: 10000.00\n"
          ]
        },
        {
          "output_type": "stream",
          "name": "stderr",
          "text": [
            "\n",
            "[*********************100%***********************]  1 of 1 completed"
          ]
        },
        {
          "output_type": "stream",
          "name": "stdout",
          "text": [
            "Final Portfolio Value for ADANIPOWER.NS: 12147.11\n",
            "==================================================\n",
            "Downloading data for HEG.NS ...\n",
            "Starting Portfolio Value for HEG.NS: 10000.00\n",
            "Final Portfolio Value for HEG.NS: 11891.16\n",
            "==================================================\n"
          ]
        },
        {
          "output_type": "stream",
          "name": "stderr",
          "text": [
            "\n"
          ]
        }
      ]
    },
    {
      "cell_type": "code",
      "source": [
        "import backtrader as bt\n",
        "import yfinance as yf\n",
        "import pandas as pd\n",
        "\n",
        "# Your SwingStrategy definition here (omitted for brevity)\n",
        "\n",
        "def run_backtest_for_ticker(ticker):\n",
        "    df = yf.download(ticker, start='2023-01-01', end='2023-12-31', group_by='column', auto_adjust=True)\n",
        "    if isinstance(df.columns, pd.MultiIndex):\n",
        "        df.columns = df.columns.get_level_values(0)\n",
        "    df.index = df.index.tz_localize(None)\n",
        "\n",
        "    cerebro = bt.Cerebro()\n",
        "    data_feed = bt.feeds.PandasData(dataname=df)\n",
        "    cerebro.adddata(data_feed)\n",
        "    cerebro.broker.setcash(10000)\n",
        "    cerebro.addstrategy(SwingStrategy)\n",
        "\n",
        "    starting_value = cerebro.broker.getvalue()\n",
        "    cerebro.run()\n",
        "    final_value = cerebro.broker.getvalue()\n",
        "\n",
        "    return {\n",
        "        'Ticker': ticker,\n",
        "        'Starting Value': starting_value,\n",
        "        'Final Value': final_value,\n",
        "        'Net Profit (%)': (final_value - starting_value) / starting_value * 100\n",
        "    }\n",
        "\n",
        "nse_tickers = [\n",
        "    \"DMART.NS\", \"TCS.NS\", \"BEL.NS\", \"DLF.NS\", \"GODREJCP.NS\", \"HDFCLIFE.NS\",\n",
        "    \"MAXHEALTH.NS\", \"SBILIFE.NS\", \"TRENT.NS\", \"VBL.NS\", \"KPIL.NS\",\n",
        "    \"ETERNAL.NS\", \"PAYTM.NS\", \"ADANIPOWER.NS\", \"HEG.NS\",\"PAYTM.NS\",\"SWIGGY.NS\"\n",
        "]\n",
        "\n",
        "results = []\n",
        "for ticker in nse_tickers:\n",
        "    try:\n",
        "        res = run_backtest_for_ticker(ticker)\n",
        "        results.append(res)\n",
        "        print(f\"Backtest completed for {ticker}: {res['Net Profit (%)']:.2f}%\")\n",
        "    except Exception as e:\n",
        "        print(f\"Error running backtest for {ticker}: {e}\")\n",
        "\n",
        "df_results = pd.DataFrame(results)\n",
        "print(df_results)\n"
      ],
      "metadata": {
        "colab": {
          "base_uri": "https://localhost:8080/"
        },
        "id": "GIrLo_Nw0xCd",
        "outputId": "985ad097-9ad7-4630-a110-52818a0b22f3"
      },
      "execution_count": 21,
      "outputs": [
        {
          "output_type": "stream",
          "name": "stderr",
          "text": [
            "[*********************100%***********************]  1 of 1 completed\n",
            "[*********************100%***********************]  1 of 1 completed\n",
            "[*********************100%***********************]  1 of 1 completed"
          ]
        },
        {
          "output_type": "stream",
          "name": "stdout",
          "text": [
            "Backtest completed for DMART.NS: 6.23%\n",
            "Backtest completed for TCS.NS: 3.39%\n"
          ]
        },
        {
          "output_type": "stream",
          "name": "stderr",
          "text": [
            "\n",
            "[*********************100%***********************]  1 of 1 completed\n",
            "[*********************100%***********************]  1 of 1 completed"
          ]
        },
        {
          "output_type": "stream",
          "name": "stdout",
          "text": [
            "Backtest completed for BEL.NS: 23.06%\n",
            "Backtest completed for DLF.NS: 18.68%\n"
          ]
        },
        {
          "output_type": "stream",
          "name": "stderr",
          "text": [
            "\n",
            "[*********************100%***********************]  1 of 1 completed\n",
            "[*********************100%***********************]  1 of 1 completed"
          ]
        },
        {
          "output_type": "stream",
          "name": "stdout",
          "text": [
            "Backtest completed for GODREJCP.NS: 5.28%\n",
            "Backtest completed for HDFCLIFE.NS: 5.76%\n"
          ]
        },
        {
          "output_type": "stream",
          "name": "stderr",
          "text": [
            "\n",
            "[*********************100%***********************]  1 of 1 completed\n"
          ]
        },
        {
          "output_type": "stream",
          "name": "stdout",
          "text": [
            "Backtest completed for MAXHEALTH.NS: 10.57%\n",
            "Backtest completed for SBILIFE.NS: 7.42%\n"
          ]
        },
        {
          "output_type": "stream",
          "name": "stderr",
          "text": [
            "[*********************100%***********************]  1 of 1 completed\n",
            "[*********************100%***********************]  1 of 1 completed\n",
            "[*********************100%***********************]  1 of 1 completed"
          ]
        },
        {
          "output_type": "stream",
          "name": "stdout",
          "text": [
            "Backtest completed for TRENT.NS: 31.28%\n",
            "Backtest completed for VBL.NS: 14.73%\n"
          ]
        },
        {
          "output_type": "stream",
          "name": "stderr",
          "text": [
            "\n",
            "[*********************100%***********************]  1 of 1 completed\n",
            "[*********************100%***********************]  1 of 1 completed"
          ]
        },
        {
          "output_type": "stream",
          "name": "stdout",
          "text": [
            "Backtest completed for KPIL.NS: 0.13%\n",
            "Backtest completed for ETERNAL.NS: 15.67%\n"
          ]
        },
        {
          "output_type": "stream",
          "name": "stderr",
          "text": [
            "\n",
            "[*********************100%***********************]  1 of 1 completed\n",
            "[*********************100%***********************]  1 of 1 completed"
          ]
        },
        {
          "output_type": "stream",
          "name": "stdout",
          "text": [
            "Backtest completed for PAYTM.NS: -0.47%\n",
            "Backtest completed for ADANIPOWER.NS: 21.47%\n"
          ]
        },
        {
          "output_type": "stream",
          "name": "stderr",
          "text": [
            "\n",
            "[*********************100%***********************]  1 of 1 completed\n",
            "[*********************100%***********************]  1 of 1 completed\n",
            "ERROR:yfinance:\n",
            "1 Failed download:\n",
            "ERROR:yfinance:['SWIGGY.NS']: YFPricesMissingError('possibly delisted; no price data found  (1d 2023-01-01 -> 2023-12-31) (Yahoo error = \"Data doesn\\'t exist for startDate = 1672511400, endDate = 1703961000\")')\n"
          ]
        },
        {
          "output_type": "stream",
          "name": "stdout",
          "text": [
            "Backtest completed for HEG.NS: 18.91%\n",
            "Backtest completed for PAYTM.NS: -0.47%\n",
            "Error running backtest for SWIGGY.NS: array index out of range\n",
            "           Ticker  Starting Value   Final Value  Net Profit (%)\n",
            "0        DMART.NS           10000  10622.549805        6.225498\n",
            "1          TCS.NS           10000  10339.255645        3.392556\n",
            "2          BEL.NS           10000  12306.433906       23.064339\n",
            "3          DLF.NS           10000  11867.653932       18.676539\n",
            "4     GODREJCP.NS           10000  10527.816586        5.278166\n",
            "5     HDFCLIFE.NS           10000  10576.192381        5.761924\n",
            "6    MAXHEALTH.NS           10000  11057.386223       10.573862\n",
            "7      SBILIFE.NS           10000  10741.852547        7.418525\n",
            "8        TRENT.NS           10000  13128.118764       31.281188\n",
            "9          VBL.NS           10000  11472.930326       14.729303\n",
            "10        KPIL.NS           10000  10013.304795        0.133048\n",
            "11     ETERNAL.NS           10000  11567.499924       15.674999\n",
            "12       PAYTM.NS           10000   9952.900024       -0.471000\n",
            "13  ADANIPOWER.NS           10000  12147.109955       21.471100\n",
            "14         HEG.NS           10000  11891.162860       18.911629\n",
            "15       PAYTM.NS           10000   9952.900024       -0.471000\n"
          ]
        }
      ]
    },
    {
      "cell_type": "code",
      "source": [],
      "metadata": {
        "id": "VRaKVVIE1RjD"
      },
      "execution_count": null,
      "outputs": []
    }
  ]
}
