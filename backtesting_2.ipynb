{
  "nbformat": 4,
  "nbformat_minor": 0,
  "metadata": {
    "colab": {
      "provenance": []
    },
    "kernelspec": {
      "name": "python3",
      "display_name": "Python 3"
    },
    "language_info": {
      "name": "python"
    },
    "widgets": {
      "application/vnd.jupyter.widget-state+json": {
        "5e91c908771d472786840bd2e3a79c4b": {
          "model_module": "@jupyter-widgets/controls",
          "model_name": "ComboboxModel",
          "model_module_version": "1.5.0",
          "state": {
            "_dom_classes": [],
            "_model_module": "@jupyter-widgets/controls",
            "_model_module_version": "1.5.0",
            "_model_name": "ComboboxModel",
            "_view_count": null,
            "_view_module": "@jupyter-widgets/controls",
            "_view_module_version": "1.5.0",
            "_view_name": "ComboboxView",
            "continuous_update": false,
            "description": "Ticker:",
            "description_tooltip": null,
            "disabled": false,
            "ensure_option": true,
            "layout": "IPY_MODEL_e76894e72d474826b25ec78a62532d3e",
            "options": [
              "DMART.NS",
              "TCS.NS",
              "BEL.NS",
              "DLF.NS",
              "GODREJCP.NS",
              "HDFCLIFE.NS",
              "MAXHEALTH.NS",
              "SBILIFE.NS",
              "TRENT.NS",
              "VBL.NS",
              "KPIL.NS",
              "SWIGGY.NS",
              "ETERNAL.NS",
              "PAYTM.NS",
              "ADANIPOWER.NS",
              "HEG.NS"
            ],
            "placeholder": "Type or select ticker",
            "style": "IPY_MODEL_770dae3700684ea2a0d9551b54636da2",
            "value": "VBL.NS"
          }
        },
        "e76894e72d474826b25ec78a62532d3e": {
          "model_module": "@jupyter-widgets/base",
          "model_name": "LayoutModel",
          "model_module_version": "1.2.0",
          "state": {
            "_model_module": "@jupyter-widgets/base",
            "_model_module_version": "1.2.0",
            "_model_name": "LayoutModel",
            "_view_count": null,
            "_view_module": "@jupyter-widgets/base",
            "_view_module_version": "1.2.0",
            "_view_name": "LayoutView",
            "align_content": null,
            "align_items": null,
            "align_self": null,
            "border": null,
            "bottom": null,
            "display": null,
            "flex": null,
            "flex_flow": null,
            "grid_area": null,
            "grid_auto_columns": null,
            "grid_auto_flow": null,
            "grid_auto_rows": null,
            "grid_column": null,
            "grid_gap": null,
            "grid_row": null,
            "grid_template_areas": null,
            "grid_template_columns": null,
            "grid_template_rows": null,
            "height": null,
            "justify_content": null,
            "justify_items": null,
            "left": null,
            "margin": null,
            "max_height": null,
            "max_width": null,
            "min_height": null,
            "min_width": null,
            "object_fit": null,
            "object_position": null,
            "order": null,
            "overflow": null,
            "overflow_x": null,
            "overflow_y": null,
            "padding": null,
            "right": null,
            "top": null,
            "visibility": null,
            "width": "300px"
          }
        },
        "770dae3700684ea2a0d9551b54636da2": {
          "model_module": "@jupyter-widgets/controls",
          "model_name": "DescriptionStyleModel",
          "model_module_version": "1.5.0",
          "state": {
            "_model_module": "@jupyter-widgets/controls",
            "_model_module_version": "1.5.0",
            "_model_name": "DescriptionStyleModel",
            "_view_count": null,
            "_view_module": "@jupyter-widgets/base",
            "_view_module_version": "1.2.0",
            "_view_name": "StyleView",
            "description_width": ""
          }
        },
        "197e3564cb1b49ef91c9237df75084e7": {
          "model_module": "@jupyter-widgets/output",
          "model_name": "OutputModel",
          "model_module_version": "1.0.0",
          "state": {
            "_dom_classes": [],
            "_model_module": "@jupyter-widgets/output",
            "_model_module_version": "1.0.0",
            "_model_name": "OutputModel",
            "_view_count": null,
            "_view_module": "@jupyter-widgets/output",
            "_view_module_version": "1.0.0",
            "_view_name": "OutputView",
            "layout": "IPY_MODEL_537ed478c6d34150a43cddcd82d9b569",
            "msg_id": "",
            "outputs": [
              {
                "output_type": "stream",
                "name": "stderr",
                "text": [
                  "\r[*********************100%***********************]  1 of 1 completed"
                ]
              },
              {
                "output_type": "stream",
                "name": "stderr",
                "text": [
                  "\n"
                ]
              },
              {
                "output_type": "display_data",
                "data": {
                  "text/plain": "<Figure size 2328.75x776.25 with 6 Axes>",
                  "image/png": "iVBORw0KGgoAAAANSUhEUgAABuUAAALCCAYAAADJSt7yAAAAOnRFWHRTb2Z0d2FyZQBNYXRwbG90bGliIHZlcnNpb24zLjEwLjAsIGh0dHBzOi8vbWF0cGxvdGxpYi5vcmcvlHJYcgAAAAlwSFlzAAAPYQAAD2EBqD+naQABAABJREFUeJzs3Xl8DPf/B/DXHjk2p8gtkrgjiJsIrfu+q0Xd91VatLQoFVrqqlb7Q1sljrrPqvsM6r7iKI2bIm5CEMnuvn9/pJlvNtkkm0hEeD0fjyU789mZ9+zOzGd23/P5fFQiIiAiIiIiIiIiIiIiIiKibKPO6QCIiIiIiIiIiIiIiIiI3nRMyhERERERERERERERERFlMybliIiIiIiIiIiIiIiIiLIZk3JERERERERERERERERE2YxJOSIiIiIiIiIiIiIiIqJsxqQcERERERERERERERERUTZjUo6IiIiIiIiIiIiIiIgomzEpR0RERERERERERERERJTNmJQjIiIiIiIiIiIiIiIiymZMyhERERERvaTw8HCoVCqoVKpXsr7Q0FBlfa9qnVmtZs2aSvw1a9bM6XCIiIiIiIiIsh2TckRERERvqEaNGilJD2tra9y9ezfVsgMGDDBJ8pw8eRIA0LVrV5PpiQ8rKyu4ubkhODgYI0eOxK1bt1Isc+7cuSavmTt37kttz5UrV1LEMWvWrBTlksecnNFoxJw5c1C3bl14eHjAysoKzs7OKFiwIN555x30798fy5Yte6lYM+LWrVsYOnQoSpcuDUdHR1hZWcHd3R3FixdH8+bNMWrUKJw5c+aVxfMmOH/+PD766CMEBgbC3t4eNjY28PLyQsmSJfHBBx/g66+/xr///mvymuT7a2qP5AnE5PvblStX0o2vQIECSvkCBQpk3YYTERERERHRa02b0wEQERERUfbo0aMHNm3aBACIj4/HwoULMWjQoBTl4uLisHjxYuV5xYoVUbp06TSXrdfrcf/+fdy/fx+HDh3Cb7/9hsOHD8PX1zdLtyE9o0ePRocOHWBnZ2dReb1ej6ZNm2Lz5s0m0x8/fozHjx/jypUr2Lt3L/bu3Ys2bdpkR8gmTpw4gdq1a+PBgwcm0+/du4d79+4hMjISf/75J1xdXVGiRAllfv369eHg4JDt8eVGW7duRfPmzREbG2sy/fbt27h9+zbOnDmDlStXIigo6JXvr0RERERERPR2Y1KOiIiI6A3VvHlzuLm54d69ewASWgKZS8r9+eefJkmh7t27p7rMESNGwMXFBbGxsVi9ejWOHTsGICHhMXXqVHz//fdZuxHpiIqKwnfffYdRo0ZZVH7OnDkmCbnq1aujevXqsLOzw927dxEREYH9+/dnV7gp9OvXT3nv7ezs0KZNGxQuXBgigkuXLuHQoUNmW8lVrVoVVatWfWVx5hZGoxHdu3dXEnJ58+ZF69at4efnh7i4OFy4cAH79u3D5cuX011W27ZtUbFixRTTmcgjIiIiIiKizGJSjoiIiOgNZW1tjU6dOimJshMnTiAiIgJly5Y1KZe0W0mdTof27dunusxevXop3e3169cPbm5uyryzZ89mWewZMXnyZPTp0wceHh7plk1sOQgkjGm2c+fOFGWePXv2ShJzjx8/NlnP9OnT0bVr1xTlLl26hOfPn5tMCw0NxZgxY5TnImIy/8KFCxgxYgS2bduGFy9eICgoCEOHDoWrqytq1aqllNu5c6fSHWPyZcbGxmLq1KmYN28eLl++DBcXF7Rs2RKTJk2Ck5OTUk6v12PMmDE4duwYIiMjcf/+fTx58gQODg4oUqQIGjVqhE8//RQuLi4Wvzdz585Ft27dlOeXL1+2qJvH06dP4/r168rzlStXmh2v7vTp0+m2NGzYsKHZz4OIiIiIiIgoszimHBEREdEbrEePHibPk4/rdvv2bZNEVatWreDs7JzucmNjY7Fq1SqTafny5ct8oJng7e0NAHjy5IlJMiktBoNB+fvmzZtmx8Kzs7NDnTp1siZIC2MBgFOnTkGv16coV6hQIZQsWdLi5Z4+fRqVK1fG8uXL8fDhQzx79gwHDx7EBx98gB9++MHi5dSrVw8jRoxAZGQk4uLicPv2bfzyyy9o2bKlSbnY2Fh888032LBhAy5evIhHjx7BYDAgOjoaR48exTfffINy5cqZfa+zWvL3NCIiIkXCEgBKlSrFsdyIiIiIiIjolWNLOSIiIqI3WMmSJREcHIyDBw8CABYtWoTJkyfDysoKALBw4UKTRFDyJF5yBQsWNDvd3t4eAwcOzKKoLdO1a1csWbIEly9fxq+//opBgwahaNGiab6mfPnyWLt2LQDg3Llz8PX1Rbly5VChQgWUL18e1atXR0BAwKsIHy4uLihQoACuXLkCAJg6dSrCwsJQpUoVlC1bFpUrV0atWrUsSpIm1bVrVzx8+FB53rBhQ1SuXBnbt2/HH3/8YfFy9uzZg/feew8lSpTAwoULlTh37tyJgwcPIjg4GACgUqlQsGBBVKlSBT4+PnBxcYHBYMDly5exdOlSPHv2DFevXsU333yD//u//8vQtmRU8eLFodPplJaFgwcPxoQJExASEoIyZcqgSpUqqFGjBnQ6XbrL2rRpk9L1a1KNGjXKUJKUiIiIiIiIKBGTckRERERvuB49eihJubt372L9+vVKa6d58+Yp5QoVKmS2q7/0aLVahIWFoUyZMlkRrsWsra0xbtw4tG/fHnq9HsOGDcPKlSvTfM3gwYOV7hiBhK4XDx8+jMOHDytlKlasiKlTp+Ldd9/N1vgBYNq0aXjvvfdgNBoBAA8fPsTGjRuxceNGAAnb2LFjR0yePBl58+ZNd3mHDh3C0aNHleft2rXDokWLAACjR49G7dq1sWvXLotiGzRokNL1aevWrU26PT106JCSlLO3t8elS5dw7949HDx4EP/++y+ePXuGEiVKoGLFiti9ezcAKNuUnXQ6HSZNmoSPP/5YmXb79m2sWbMGa9asUeLt168fxo4dm2ZybunSpVi6dGmK6W5ubkzKERERERERUaaw+0oiIiKiN9yHH34IOzs75XliF5bHjh3DyZMnlendunWDSqVKc1kjRozA5MmT8c0336B58+YAEhJbbdu2xa+//pr1wafjww8/RIUKFQAAq1atSncsOCcnJxw6dAiDBg0yGQ8vqSNHjqBu3bomya3s0rx5c+zatQsNGzaEVpvyfrm4uDjMmTMHDRs2VBJ3aUmaXASA7t27K3+r1eoMjZH20UcfKX8nbz2YtCVebGwsevbsCS8vLzRt2hT9+vXDZ599hqFDhyoJOQAmY72lp2vXrhAR5ZGRriYHDBiAtWvX4p133jG7Pz99+hRTpkxBp06dLF4mERERERERUVZgUo6IiIjoDefo6IjWrVsrzzds2IC7d++atJKzNGHTq1cvDBkyBF9++SX++OMPdO7cGQAgIhg0aBDu3LmT5fGnRaVSYdKkScrzzz//PN3XuLm54fvvv8ft27dx8uRJ/Pbbb+jcuTOcnJyUMnFxcdne1WKid955Bxs3bsTDhw+xfft2fPvtt6hVq5ZJmcOHD2PPnj3pLuvRo0cmzxPH3Uvk5eVlcVxJE2E2NjYm85ImCEeMGIHZs2enGM8tubi4OIvX/bKaNWuGPXv24P79+9iwYQNCQ0NRqVIlkzIrV67E1atXU11GWFiYSWIw8ZGRxCYRERERERFRUkzKEREREb0Fko4VFx8fj7lz5yrdGgJA/fr1kT9//gwvN7ELQwB4/vw5Dhw48HKBZkLt2rXRqFEjAMBff/2FrVu3WvQ6tVqNoKAg9OjRA/PmzcOZM2dMkk9pJWyyg4ODA2rXro1hw4Zhx44dmDJlisl8S+LJkyePyfPkSdJbt25ZHE/iuIMA0mxBuWTJEuXvUqVK4eTJk4iLi4OIYOjQoRavLzu4uLigUaNGGD16NA4dOoQBAwaYzH/VnzERERERERG93ZiUIyIiInoLvPvuuyhWrJjyPDQ0FPfu3VOeJ03aZcShQ4dMnsfHx2cuwCRxqVQq5WGpSZMmQa1OuLS9efNmquW+++47LFiwAM+ePUsxz8HBQVkGALi6umYg8szp1KmTMt5fco6OjibPLYmncuXKJs8XLlyo/G00GpWuS7NS0v2oVq1aCAoKgpWVFZ4/f461a9dmaplz58412Q+uXLli0etu3ryJAQMG4O+//zY7PzPvKREREREREVFWSTlwBRERERG9kbp3745hw4YBgElSys3NTRkfLj2zZs2Ci4sL4uLicPjwYaxZs0aZp9FoUKVKlVRfO2bMmFS7hDxy5IhF609NqVKl0KVLF4SFhaVZ7tSpU5g3bx769u2Ld999F2XKlIGLiwvu37+PVatW4fnz50rZxo0bv1RMlvj999/x+++/w9/fH++88w4KFy4Ma2trnDt3DsuWLVPKOTo64t133013eZUqVUKFChWU8fBmz56Nu3fvoly5cti2bRv27t2b5dsQEBCA06dPA0jYP1QqFZycnLB8+XJERkZm+frSEhcXh+nTp2P69OkICAhAtWrV4O/vD5VKhVOnTmHlypVK2QIFCqBEiRKpLmvTpk0mCcekhgwZkurrmjdvDmtr6xTTK1SogF9++SXF9KioKFSsWNHssnr37o3evXunui4iIiIiIiLKXZiUIyIiInpLdOnSBSNHjoRerzeZ3rFjR7NJBHPGjx+f6ryvv/4aPj4+qc6/cuWKxS2eMuPrr7/GkiVLTBJrqXn27Bk2b96MzZs3m53fuHFjZby8V+Hq1aupdqWo0WgwY8YMkzHv0jJ37lxUr14dDx8+BACsXbtWabHWpEkTrF+/XimbtGVgZn311Vdo06YNACA2NhY//vgjgIRE4vvvv2+SCHuVIiMjU00K6nQ6zJ49O83WmEuXLsXSpUvNzksrKXfq1Cmz0x0cHMxOj4uLU5KoyaXV6pOIiIiIiIhyH3ZfSURERPSW8PLyMtv6q3v37plank6nQ+HChdG+fXvs2LEDw4cPf9kQX4qPjw8GDRqUZplJkyZh0aJF6N27NypVqgQ/Pz/odDpYWVnB29sbjRo1wvz58/Hnn39Co9Fke8zHjx/H1KlT0aJFC5QqVQoeHh7QarWwt7dH8eLF0bNnTxw9ehQdO3a0eJmlSpXCwYMH8cEHHyBPnjzQ6XSoWLEilixZgg4dOpiUdXFxeeltaN26NVatWoUKFSrA2toaLi4uaN68OQ4cOIBSpUq99PIzws/PD/v27cP48ePRqFEjBAYGwtXVFRqNBo6OjggKCsLAgQNx+vRp1K5d+5XGRkRERERERKQSEcnpIIiIiIiIcrPw8HDUqlULAJDTl9fx8fFQqVTQalN2itGyZUv88ccfAAAnJyfcu3cPVlZWrzpEIiIiIiIiorcSu68kIiIiInqDXLx4EbVq1UL79u0RFBQEd3d3REVFYenSpdi2bZtSbsCAAUzIEREREREREb1CTMoREREREb1hbt26halTp6Y6/8MPP8SYMWNeYURERERERERExKQcEREREdEbxNvbG0OGDMHu3btx+fJlPHr0CFqtFt7e3ggODkaXLl3QoEGDnA6TiIiIiIiI6K3DMeWIiIiIiF7S6zSmHBERERERERG9npiUIyIiIiIiIiIiIiIiIspm6pwOgIiIiIiIiIiIiIiIiOhNx6QcERERERERERERERERUTZjUo6IiIiIiIiIiIiIiIgomzEpR0RERERERERERERERJTNmJQjIiIiIiIiIiIiIiIiymZMyhERERERERERERERERFlMybliIiIiIiIiIiIiIiIiLIZk3JERERERERERERERERE2YxJOSIiIiIiIiIiIiIiIqJsxqQcERERERERERERERERUTZjUo6IiIiIiIiIiIiIiIgomzEpR0RERERERERERERERJTNmJQjIiIiIiIiIiIiIiIiymZMyhERERERERERERERERFlMybliIiIiIiIiIiIiIiIiLIZk3JERERERERERERERERE2YxJOSIiIiIiIiIiIiIiIqJsxqQcERERERERERERERERUTZjUo6IiIiIiIiIiIiIiIgomzEpR0RERERERERERERERJTNmJQjIiIiIiIiIiIiIiIiymZMyhERERERERERERERERFlMybliIiIiIiIiIiIiIiIiLIZk3JERERERERERERERERE2YxJOSIiIiIiIiIiIiIiIqJsxqQcERERERERERERERERUTZjUo6IiIiIiIiIiIiIiIgomzEpR0RERERERERERERERJTNmJQjIiIiIiIiIiIiIiIiymZMyhERERERERERERERERFlMybliIiIiIiIiIiIiIiIiLIZk3JERERERERERERERERE2YxJOSIiIiIiIiIiIiIiIqJsxqQcERERERERERERERERUTZjUo6IiIiIiIiIiIiIiIgomzEpR0RERERERERERERERJTNmJQjIiIiIiIiIiIiIiIiymZMyhERERERERERERERERFlMybliIiIiIiIiIiIiIiIiLKZNjsXLiI4d+4cDhw4gEePHsFgMGTn6oiIiIiIiIiIiIiIXopKpYKjoyPKly+PsmXLQq1m2xYiyhoqEZHsWHBERATGjBmDf//9F3Z2dnBzc4NWm605QCIiIiIiIiIiIiKil2IwGPDw4UM8fvwYrq6uGDx4MBo2bJjTYRHRGyBbsmQRERH4+OOPERAQgC+++AIVK1ZkQo6IiIiIiIiIiIiIcgWj0YjTp09j4cKF+OqrryAiaNSoUU6HRUS5XLa0lGvfvj1sbGwwY8YM6HS6rF48EREREREREREREVG2MxqNGDVqFPbu3YstW7bA2to6p0MiolwsyzvDvXbtGs6dO4dOnToxIUdEREREREREREREuZZarUb37t0RExODgwcP5nQ4RJTLZXlS7siRI1Cr1ahatWpWL5qIiIiIiIiIiIiI6JUqVKgQ8uXLh8OHD+d0KESUy2V5Ui46OhoODg6wtbXN6kUTEREREREREREREb1SKpUK7u7uePz4cU6HQkS5XJYn5YxGI7RabVYvloiIiIiIiIiIiIgoR2i1WhgMhpwOg4hyuSxPymWXAgUK4IcffsjpMN4KBQoUQHh4eE6H8VZRqVS4cuVKTodB2eTKlStQqVRQqVQoW7ZsTodDRJTlEs9xefLkyZJlve51YuJ5PSIiIqdDeeuFhoYq+x+/KxBRbpOV9Wdu9CbWp127dlU+1zVr1uR0OFkmK+vb0NBQdO3aNUviel28aZ93esLDw5X9oWXLljkdTpbhdSURvSqvPCmX9ALF2toaRYoUwdixY6HX69N83eHDh9G7d+9XFGVKffv2NXtSLlCggLI9iY8JEyYo82NjY9G1a1cEBQVBq9VaXFmdO3cOLVq0gJubG5ycnPDOO+9g586dJmWSr1elUmHJkiUvu6lZImlFptFo4Ovri969e+PBgwcm5U6cOIHmzZvDw8MDtra2KFCgANq2bYs7d+4AyNxF+v3799GwYUPky5cPNjY28PX1xYABA1JtXr53715otdoMJUsuXLgAR0fH1+rL0927d9GvXz/4+fnBxsYGXl5eaNCgAfbu3ZvToVks8cLu0aNHaZYzd9wlfVy9evXVBJxB27Ztw/bt283OW7JkidkL2qTnzMRHw4YNTco8ePAAHTp0gJOTE/LkyYMePXogJiYmzVh+/fVX1KxZE05OTqm+55Ys9+TJk3j33Xdha2sLX19fTJo0KcVyli9fjuLFi8PW1hZBQUHYsGGDyXwRwVdffQVvb2/odDrUrVsX58+fT7Gc9evXIzg4GDqdDi4uLineq08++QQVKlSAjY1NqsdzevGuWrUKFStWRJ48eWBvb4+yZctiwYIFJmUs+UzGjRuHqlWrws7OLtXzhCXn8BcvXuDLL7+Ev78/bGxsUKBAAcyZM8fs8iyR2boMAJYtW4ayZcvCzs4O/v7+mDx5crrrs+R9uHbtGpo0aQI7Ozt4eHhg6NChJtcEq1atQr169eDu7g4nJyeEhIRg8+bNKZYzffp0FChQALa2tggODsahQ4dM5sfGxqJ///5wdXWFg4MD3n//fdy+fTvFcubOnYvSpUvD1tYWHh4e6N+/vzIvPDwcLVq0gLe3t7J/LFy40OT1s2bNwrvvvgsXFxe4uLigbt26KWKxZB+y5DPZvHkzqlSpAkdHR7i7u+P99983SWYl/bKc9HHr1i2lzJMnTzBo0CD4+/tDp9OhatWqKcZISO1cm3QfiIqKeq2+uCZ9j62srFCwYEF8/vnniI2NzZLl+/r6IioqCqVKlUq3bG76wTG1fSbxUatWrZwO0aySJUsiKirK7HcFEUGjRo1S/bEsrWM+6fVs0oe9vX2qsVhyHRoVFYX27dujWLFiUKvVGDRoUIrlWFIfWVJ/pleXJ71xKOnjwIEDSpn4+HiMHTsWhQsXhq2tLcqUKYNNmzaZrMdgMGDUqFEoWLAgdDodChcujK+//hoiYrJN9evXh6ura7rHRHqfW+J7nT9//hTXMZac+2bOnInSpUvDyclJqVs2btyYajzpSS0Wc+d7lUqFkiVLmrz+xo0b6NixI1xdXaHT6RAUFIQjR46kuc6FCxeiTJkysLOzg7e3N7p374779+8r8+fOnZtivcmHmMiKfQiw7Hrw0aNH6N+/P7y9vWFjY4NixYqZXBPu3r0bzZo1Q758+VL93C2Jt3nz5vDz84OtrS28vb3RqVMn3Lx5U5lvyT7/999/4/3331fqYnP1m7nzQ/HixVOU279/P2rXrg17e3s4OTmhevXqeP78uTLfkvozecyOjo4oWbIk+vfvb/aa+U1ibj9O+ujWrVtOh2hWw4YNERUVhUaNGqWY9+LFC5QtW9bseVBEMGXKFBQrVgw2Njbw8fHBuHHjTMpMnz4dgYGB0Ol0CAgIwPz58y2KKa36zpLjYsiQIYiKikL+/Pkz8E5kr9WrV6NKlSpwdnZWjgtzdWpukNZ+rlKpcjq8VEVGRmLu3Llm502YMAEqlcrkM0ltX1OpVFi+fHmKZaRWv6YltWMst+7nRPRmypF+Jhs2bIiwsDC8ePECGzZsQP/+/WFlZYXhw4enKBsXFwdra2u4u7vnQKQJVq9ejQMHDiBfvnxm548dOxa9evVSnjs6Oip/GwwG6HQ6fPLJJ1i5cqXF62zatCmKFi2KHTt2QKfT4YcffkDTpk1x8eJFeHl5KeXCwsJMfsh7nZJEJUuWxLZt22AwGHD27Fl0794d0dHRWLp0KYCEJFKdOnXQtGlTbN68GXny5MGVK1ewdu1aPH36NNPrVavVaNGiBb755hu4u7vjwoUL6N+/Px48eIBFixaZlH306BE6d+6MOnXqmP1x1pz4+Hi0a9cO7777Lvbt25fpOLPa+++/j7i4OMybNw+FChXC7du3sX37dpMv56+z+Ph4i8sePnw4RXcBjx49Qp06dVChQgX4+flldXhZwtXVFa6urimmX7lyBUOGDMG7775r9nWJ58xENjY2JvM7dOiAqKgobN26FfHx8ejWrRt69+6dYn9P6tmzZ2jYsCEaNmxo9txryXIfP36M+vXro27duvj5559x6tQpdO/eHXny5FF+GN23bx/atWuHb7/9Fk2bNsWiRYvQsmVLHDt2TPkxe9KkSfjxxx8xb948FCxYEKNGjUKDBg1w5swZ5cejlStXolevXhg/fjxq164NvV6P06dPp4i5e/fuOHjwIE6ePJliniXx5s2bF19++SWKFy8Oa2trrFu3Dt26dYOHhwcaNGhg8WcSFxeH1q1bIyQkBLNnz071c0jvHN6mTRvcvn0bs2fPRpEiRRAVFQWj0Zjq8tLyMnXZxo0b0aFDB/z000+oX78+zp49i169ekGn02HAgAGprjO998FgMKBJkybw8vLCvn37EBUVhc6dO8PKygrjx48HkPAjXb169TB+/HjkyZMHYWFhaNasGQ4ePIhy5coBAJYuXYpPP/0UP//8M4KDg/HDDz+gQYMGiIyMhIeHBwBg8ODBWL9+PZYvXw5nZ2cMGDAArVq1MrlxYerUqfjuu+8wefJkBAcH4+nTpyZJrn379qF06dL44osv4OnpiXXr1qFz585wdnZG06ZNAST8GNyuXTtUrVoVtra2mDhxIurXr4+///4bPj4+yrLS24fS+0wuX76MFi1a4NNPP8XChQsRHR2NwYMHo1WrVjh27JjJciIjI+Hk5KQ8T3xPAKBnz544ffo0FixYgHz58uH3339H3bp1cebMGSXeqKgok+Vt3LgRPXr0wPvvv69M8/LygrOzc4ptyEmJ73F8fDyOHj2KLl26QKVSYeLEiS+9bI1GY3I99qaoWrVqis8bANauXYu+ffvio48+yoGo0qfValP9PH744YdUf8xK75gfMmQI+vbta/KaOnXqoFKlSqnGYsl16IsXL+Du7o6RI0fi+++/N7scS+ojS+pPS68Rtm3bZpIoSnq9MnLkSPz++++YNWsWihcvjs2bN+O9997Dvn37lPPwxIkTMXPmTMybNw8lS5bEkSNH0K1bNzg7O+OTTz4BADx9+hTvvPMO2rRpY3JuMyetzy1Rjx49ULp0ady4ccPs/LTOffnz58eECRNQtGhRiAjmzZuHFi1a4Pjx4ykSZpZILZZp06aZ3FCh1+tRpkwZtG7dWpn28OFDVKtWDbVq1cLGjRvh7u6O8+fPw8XFJdX17d27F507d8b333+PZs2a4caNG+jbty969eqFVatWKeWcnJwQGRmpPE/+nmbFPmTJ9VVcXBzq1asHDw8PrFixAj4+Prh69arJdc/Tp09RpkwZdO/eHa1atTK73ZbEW6tWLYwYMQLe3t64ceMGhgwZgg8++CDF97a09vlnz56hUKFCaN26NQYPHpzq55D4fTdR8mE89u/fr1xr//TTT9BqtThx4gTU6v/dG52R+jMx5mfPnuHUqVOYNm0aypQpgz///BN16tSxaBm5Tdu2bVPcuAQAM2bMwMSJE9M9l+SUxJtkzfn888+RL18+nDhxIsW8gQMHYsuWLZgyZQqCgoLw4MEDkxubZ86cieHDh2PWrFmoVKkSDh06hF69esHFxQXNmjVLNZ706rtEaR0XDg4OcHBwgEajseQtyHbbt29H27ZtMW7cODRv3hwqlQpnzpzB1q1bczq0TDF3/XXlyhXUq1cPXbp0yYGILOPh4WH2d8jDhw/jl19+QenSpU2mJ97YltSvv/6KyZMnm01ip1fXm5PWMQbkrv2ciN5gksV+++03qVevXqrzu3TpIi1atDCZVq9ePalSpYrJ/G+++Ua8vb2lQIECIiLi7+8v33//vfKahw8fSu/evcXDw0NsbGykZMmS8ueffyrz9+zZI++8847Y2tpK/vz55eOPP5aYmJgMb8/169fFx8dHTp8+nSIGc3Glxdy2m3P37l0BILt371amPX78WADI1q1blWkAZPXq1RatOyP8/f1l586dL7WM0aNHS5kyZUymffrpp+Li4qI8X716tWi1WomPj091OZcvXxYAcvz48ZeKZ9q0aZI/f/4U09u2bSsjR440G29qPv/8c+nYsaOEhYWJs7PzS8WVCIBcvnw5069/+PChAJDw8PBUy5h7LxNfl/h579y5UwDIunXrJCgoSGxsbCQ4OFhOnTqlvCZxu1evXi1FihQRGxsbqV+/vly7ds1kfTNmzJBChQqJlZWVFCtWTObPn59im2fMmCHNmjUTOzs76dKliwAweXTp0sWi7TcYDNKgQQMJDAyUx48fK9MfPHggnTp1kjx58ohOp5OGDRvKuXPnUmzLpk2bpHjx4mJvby8NGjSQmzdvmix/1qxZUrx4cbGxsZGAgACZPn26RXElSms/1uv1UrVqVfntt9/MniPSO2+cOXNGAMjhw4eVaRs3bhSVSiU3btxIN7bEz/zhw4cZXu6MGTPExcVFXrx4oZT54osvJCAgQHnepk0badKkicmyg4ODpU+fPiIiYjQaxcvLSyZPnqzMf/TokdjY2MjixYtFRCQ+Pl58fHzkt99+S3d7RMyffyyN15xy5crJyJEjleeWnstFJM3zRHrn8I0bN4qzs7Pcv3/fonWl5WXrsnbt2skHH3xgMu3HH3+U/Pnzi9FoTHf9qb0PGzZsELVaLbdu3VKmzZw5U5ycnEw+p+RKlCghY8aMUZ5XrlxZ+vfvrzw3GAySL18++fbbb0UkYZ+ysrKS5cuXK2XOnj0rAGT//v0iknC+0Ol0sm3btnS3J6nGjRtLt27dUp2v1+vF0dFR5s2bp0yzZB9K7zNZvny5aLVaMRgMyrS1a9eKSqWSuLg4EUn9+E707Nkz0Wg0sm7dOpPp5cuXly+//DLVdbdo0UJq166dYnpW1YsvWyeKmH+PW7VqJeXKlVOeGwwGGT9+vBQoUEBsbW2ldOnSJvvIgwcPpH379uLm5ia2trZSpEgRmTNnjoikPK+nVTZ53VajRg0RETl06JDUrVtXXF1dxcnJSapXry5Hjx5N8V7MmjVLWrZsKTqdTooUKSJ//PGHSZnTp09LkyZNxNHRURwcHOSdd96RCxcuKPNftg47c+aMODo6ptgnwsPDpVKlSmJtbS1eXl7yxRdfmFzT1ahRQz7++GMZOnSouLi4iKenp4wePdpkGQ8fPpQePXqIm5ubODo6Sq1atSQiIiJD8aV1DXf8+HHx8fGRqKioFOfczBzzERERKa7RLZHadahIwvs0cOBAi5aTtD6ypP60pC635Frb29tb/u///s9kWqtWraRDhw7K8yZNmkj37t3TLJMovXWm9bklmjFjhtSoUUO2b9+e4jyX3rkvNS4uLhZfa1gaS3KrV68WlUolV65cUaZ98cUX8s4772RonZMnT5ZChQqZTPvxxx/Fx8dHeZ7eOTmr9iFLrq9mzpwphQoVUuqn9Jj73C2J15w//vjDpG7M6PfL1OpjS74/BgcHm1xDpia9zyq1mA0Gg9SsWVP8/f1Fr9cr09esWSPlypUTGxsbKViwoISGhpqcnwHIzz//LE2aNBGdTifFixeXffv2yfnz56VGjRpiZ2cnISEhJnXJhQsXpHnz5uLh4SH29vZSsWJFk98mRBLeq3Hjxkm3bt3EwcFBfH195ZdffjEpc/DgQSlbtqzY2NhIhQoVZNWqVRn+vh8eHi5arVZmzZplMn3FihVSokQJsba2Fn9/f5kyZUqG47t27Zq0bt1anJ2dxcXFRZo3b57ha5K0rvM2bNggxYsXl7///jvFdp85c0a0Wq38888/qS47JCREhgwZYjLt008/lWrVqqX6Gkvqu4wcFxn5DSw1o0ePtvi7fmoGDhwoNWvWTLOMuc9i4MCByrWYSEI93L9/f+nfv784OTmJq6urjBw50uQ7jr+/v4wdO1Y+/PBDsbOzk3z58qWoF5Oet2rVqmXy3URE5M6dO2JlZWXxdcfTp0+lTJkyUrNmTZPj9+rVq9K8eXOxt7cXR0dHad26tcl3qcRz0/z588Xf31+cnJykbdu2Jr+TpHcNbIm06tonT55I0aJFZevWrRZd55QtWzbFNYRIxurXRGkdY1m1n/fu3duiczsRUVpeizHldDod4uLilOfbt29HZGQktm7dinXr1qUobzQa0ahRI+zduxe///47zpw5gwkTJih3Mly8eBENGzbE+++/j5MnT2Lp0qX466+/TO7mDw0NRYECBdKMy2g0olOnThg6dGiad0xOmDABrq6uKFeuHCZPnpxuV5zpcXV1VbohePr0KfR6PX755Rd4eHigQoUKJmX79+8PNzc3VK5cGXPmzDHpIuZ1cuXKFWzevBnW1tbKNC8vL+j1eqxevTpDcRcoUAChoaEWl7958yZWrVqFGjVqmEwPCwvDpUuXMHr0aIuXtWPHDixfvhzTp0+3+DWvQuLdPGvWrMGLFy9eenlDhw7Fd999h8OHD8Pd3R3NmjUzacn27NkzjBs3DvPnz8fevXvx6NEjfPjhh8r81atXY+DAgfjss89w+vRp9OnTB926dUvRBWtoaCjee+89nDp1CmPGjFFak0ZGRiIqKgrTpk2zKN5hw4bh4MGD+OOPP0xaknTt2hVHjhzB2rVrsX//fogIGjdunGJbpkyZggULFmD37t24du0ahgwZosxfuHAhvvrqK4wbNw5nz57F+PHjMWrUKMybN08pU7NmzUz3iT927Fh4eHigR48eqZYJDw+Hh4cHAgIC0K9fP5PWj/v370eePHlQsWJFZVrdunWhVqtx8ODBTMVk6XL379+P6tWrmxzXia2THj58qJSpW7euybIbNGiA/fv3A0ho7XPr1i2TMs7OzggODlbKHDt2DDdu3IBarUa5cuXg7e2NRo0amW0pl942pRdvUiKi1EfVq1c3mZfWZ5IRaZ3D165di4oVK2LSpEnw8fFBsWLFMGTIEJMujyyRFXXZixcvUnR5pdPpcP369ZfqLnb//v0ICgqCp6enMq1BgwZ4/Pgx/v7771S358mTJ8ibNy+AhLvvjx49arIPqdVq1K1bV9mHjh49ivj4eJMyxYsXh5+fn1Jm69atMBqNuHHjBgIDA5E/f360adMG//77b5rbEB0drcRizrNnzxAfH5+ijCX7UFqfSYUKFaBWqxEWFgaDwYDo6GgsWLAAdevWhZWVlclyypYtC29vb9SrV8+kZaBer4fBYDD72f71119mt+f27dtYv359mues19Hp06exb98+k+P/22+/xfz58/Hzzz/j77//xuDBg9GxY0fs2rULADBq1CicOXMGGzduxNmzZzFz5ky4ubmZXX5aZRO7L922bRuioqKUVixPnjxBly5d8Ndff+HAgQMoWrQoGjdujCdPnpgse8yYMWjTpg1OnjyJxo0bo0OHDspd8zdu3ED16tVhY2ODHTt24OjRo+jevbuyr1hSh6Xl0aNHaNGiBWrWrImvv/5amX7jxg00btwYlSpVwokTJzBz5kzMnj0b33zzjcnr582bB3t7exw8eBCTJk3C2LFjTe5gb926Ne7cuYONGzfi6NGjKF++POrUqaNsX2I3Q5kZ6/jZs2do3749pk+fbra1QmaO+d9++w3FihVLtWW7Oaldh2aEufrIkvozI9cIid3Jv/POO1i7dq3JvNTqgKTniapVq2L79u04d+4cgIQu6v/66y+zd72nJb3PDQDOnDmDsWPHYv78+SYtjpJL7dyXnMFgwJIlS/D06VOEhIRkKF5LY0k0e/Zs1K1bF/7+/sq0xPq+devW8PDwQLly5TBr1qw0lxMSEoJ///0XGzZsgIjg9u3bWLFiBRo3bmxSLiYmBv7+/vD19UWLFi1M6tas2ocsub5au3YtQkJC0L9/f3h6eqJUqVIYP358ip4v0mJJvMk9ePAACxcuRNWqVVPUjWnt85Y6f/488uXLh0KFCqFDhw64du2aMu/OnTs4ePAgPDw8ULVqVXh6eqJGjRqp1q+ZoVarMXDgQFy9ehVHjx4FAOzZswedO3fGwIEDcebMGfzyyy+YO3duii4Qv/76a3Tu3BkREREoXrw42rdvjz59+mD48OE4cuQIRMTk95OYmBg0btwY27dvx/Hjx9GwYUM0a9bMZJsB4LvvvkPFihVx/PhxfPTRR+jXr5/SWjMmJgZNmzZFiRIlcPToUYSGhpp877LE1atX0bp1a/Tp0wc9e/ZUph89ehRt2rTBhx9+iFOnTiE0NBSjRo1K0a1eWvHFx8ejQYMGcHR0xJ49e7B37144ODigYcOGyu9Vid3jZmbs29u3b6NXr15YsGAB7OzsUsz/888/UahQIaxbtw4FCxZEgQIF0LNnT5OWcqmdjw8dOpRqzzMZqe+y4rh4Vby8vPD3339n+DuhOfPmzYNWq8WhQ4cwbdo0TJ06Fb/99ptJmcmTJ6NMmTI4fvw4hg0bhoEDB6baKq9nz55YtGiRyW8zv//+O3x8fFC7dm2LYurWrRuio6OxfPlypRWu0WhEixYt8ODBA+zatQtbt27FpUuX0LZtW5PXXrx4EWvWrMG6deuwbt067Nq1y6TVdnrXwEDGf3dLqn///mjSpEmK3wHMOXr0KCIiIlJ8t8ho/Qqkf4wlyk37ORG9wbI6y5eRlnJGo1G2bt0qNjY2yt0+Xbp0EU9PzxR3yCe9S2Hz5s2iVqslMjLS7Dp69OghvXv3Npm2Z88eUavV8vz5cxER+emnn8ze5Z3U+PHjpV69esodMubulPjuu+9k586dcuLECZk5c6bkyZNHBg8enO62p+fff/+VChUqiEqlEo1GI97e3nLs2DGTMmPHjpW//vpLjh07JhMmTBAbGxuZNm2aRctPS1a1lFOr1WJvby+2trbK3eFTp041KTdixAjRarWSN29eadiwoUyaNMnkLh9zd7LUrl1bfvrpp3Rj+PDDD0Wn0wkAadasmfLZi4icO3dOPDw8lH3Ikjsd7927J76+vrJr1y4RyboWASJZ0ypgxYoV4uLiIra2tlK1alUZPny4nDhxQpmfkZZyS5YsUcrcv39fdDqdLF26VEQSthuAHDhwQCmT2OLk4MGDIiJStWpV6dWrl0l8rVu3lsaNG5ts86BBg0zKZObO5kWLFolGo5FNmzaZTD937pwAkL179yrT7t27JzqdTpYtW2ayLUnvAp0+fbp4enoqzwsXLiyLFi0yWfbXX38tISEhyvNOnTrJsGHDUo0xtTuy9uzZIz4+PnL37l0RMX+OWLx4sfzxxx9y8uRJWb16tQQGBkqlSpWUu2HHjRsnxYoVS7FOd3d3mTFjRqoxJUrtPbdkufXq1Utxrk28I+3MmTMiImJlZZXi/Zs+fbp4eHiIiMjevXsFQIrWia1bt5Y2bdoo7wEA8fPzkxUrVsiRI0ekXbt24urqarYVWWrHsyXxiiTcdW1vby9arVZsbGxk9uzZJq9J7zNJKq3zRHrn8AYNGoiNjY00adJEDh48KOvXrxd/f3/p2rWr2eWlJivqsl9++UXs7Oxk27ZtYjAYJDIyUooXLy4AZN++fenGkNr70KtXL6lfv77JtKdPnwoA2bBhg9llTZw4UVxcXOT27dsiInLjxg2zcQwdOlQqV64sIiILFy4Ua2vrFMuqVKmSfP755yIi8u2334qVlZUEBATIpk2bZP/+/VKnTh0JCAhItdXe0qVLxdraWk6fPp3qtvfr108KFSpkUgdZsg9Zcn0RHh4uHh4eotFoBICEhISYHMv//POP/Pzzz3LkyBHZu3evdOvWTbRarUlrrJCQEKlRo4bcuHFD9Hq9LFiwQNRqtdnjX+R/73/S7Un0urWU02g0Ym9vLzY2NgJA1Gq1rFixQkREYmNjxc7OLsV+06NHD2nXrp2IiDRr1izVVpDJz+sZKZsag8Egjo6OJj0/ADC5EzcmJkYAyMaNG0VEZPjw4VKwYMFUW59YUoelFU+jRo1StEIXSbh+CwgIMLmLfPr06eLg4KC03qxRo0aK1j+VKlWSL774QkQS6kAnJyeJjY1NEXNiy4Xr169LQECAcn1hTmrn/N69e0uPHj2U50jW8iajx/zz58/FxcVFJk6cmGosSaV1HZpUWneQp1UfWVJ/WlKX3717V7777js5cOCAHDp0SL744gtRqVQmLTLbtWsnJUqUkHPnzonBYJAtW7aITqczOa8aDAbltVqtVlQqlYwfP97sdqV1TKT3ucXGxkrp0qVlwYIFImL+OsaSc5+IyMmTJ8Xe3l40Go04OzvL+vXrzcabGktiSerGjRui0WiUa+pENjY2YmNjI8OHD5djx47JL7/8Ira2tjJ37tw0179s2TJxcHAQrVar7GdJzwX79u2TefPmyfHjxyU8PFyaNm0qTk5O8u+//4pI1u1DllxfBQQEiI2NjXTv3l2OHDkiS5Yskbx580poaKjZbUv+uVsab6LPP/9c7OzsBIBUqVJF7t27p8yzZJ9PKrXWEhs2bJBly5bJiRMnZNOmTRISEiJ+fn7K+XL//v0CQPLmzStz5syRY8eOyaBBg8Ta2tqk5w6RzLeUE/nf97DE/apOnTopjr0FCxaIt7e38jx53ZIYa9JzzOLFi8XW1jbVmERESpYsafK93N/fXzp27Kg8NxqN4uHhITNnzhSRhOtJV1dXk/PhzJkzLW658vTpUylbtmyKlkMiIu3bt0/xO9TQoUOlRIkSFse3YMGCFHXbixcvRKfTyebNm0UkoaVfQECAXL9+PdU4zX2nMxqN0rBhQ/n6669FxPxn2qdPH6Wnmt27d8vOnTulbNmyUqtWLaXM8OHDxcvLS44cOSJGo1EOHz4snp6eZo+NRJbUdxk5Ll6XlnIxMTHSuHFjASD+/v7Stm1bmT17tsl1haUt5QIDA00+9y+++EICAwOV5/7+/tKwYUOT5bRt21YaNWqkPE963kq8Zkh6vi9dunSq57zkxo8fL/b29il6D9iyZYtoNBqTXooSz7eHDh0SkYT31s7OzuTabejQoRIcHCwill0Di6T/u1tqdd7ixYulVKlSynGeXku5fv36mbzXiTFmpH4VsewYy6r9nC3liCgr5MiYcuvWrYODgwPi4+NhNBrRvn17kzswgoKCTO60Sy4iIgL58+dHsWLFzM4/ceIETp48iYULFyrTRARGoxGXL19GYGAgBgwYkOY4OEePHsW0adNw7NixNMcz+PTTT5W/S5cuDWtra/Tp0wfffvut2fFhLCEi6N+/Pzw8PLBnzx7odDr89ttvaNasGQ4fPgxvb28ACXdlJypXrhyePn2KyZMnK+M25LSAgACsXbsWsbGx+P333xEREYGPP/7YpMy4cePw6aefYseOHTh48CB+/vlnjB8/Hrt370ZQUJDZ5W7fvt2i9X///fcYPXo0zp07h+HDh+PTTz/FjBkzYDAY0L59e4wZMybVfcicXr16oX379ilazLwu3n//fTRp0gR79uzBgQMHsHHjRkyaNAm//fZbhltxJb1LOG/evAgICMDZs2eVaVqt1mQ8leLFiyNPnjw4e/YsKleujLNnzypjSCSqVq1aipZvSe+6zYxjx46hR48emDBhgsl4XwBw9uxZaLVaBAcHK9MSW6Em3RY7OzsULlxYee7t7Y07d+4ASBjb4uLFi+jRo4fJeAV6vd5k7AdLB9dO6smTJ+jUqRNmzZqVassLACYtEIOCglC6dGkULlwY4eHhb+zYEckljqH25ZdfKmNYhYWFIX/+/Fi+fDn69OmTpetzdHREREQEYmJisH37dnz66acoVKgQatasCSDrPpP0zuFGoxEqlQoLFy5U9repU6figw8+wIwZM6DT6dJdR1bVZb169cLFixfRtGlTxMfHw8nJCQMHDkRoaKjFdy5mhUWLFmHMmDH4448/TMYGygpGoxHx8fH48ccfUb9+fQDA4sWL4eXlhZ07d6Y4x+zcuRPdunXDrFmzUm2BOGHCBCxZsgTh4eEmdzVbsg+l95ncunULvXr1QpcuXdCuXTs8efIEX331FT744ANs3boVKpUKAQEBCAgIUJZTtWpVXLx4Ed9//z0WLFgAAFiwYAG6d+8OHx8faDQalC9fHu3atVPuuE9uzpw56NChQ4q7tF9HtWrVwsyZM/H06VN8//330Gq1yjnkwoULePbsGerVq2fymri4OGWMrH79+uH999/HsWPHUL9+fbRs2RJVq1Y1u66MlE10+/ZtjBw5EuHh4bhz5w4MBgOePXuWotVB0rE47O3t4eTkpNRTERERePfdd1O0AAEsr8NSM2LECOzfvx+HDh0yaYUOJNSxISEhJueVatWqISYmBtevX1fGdk0+jkjSOvbEiROIiYlJMdbq8+fPcfHiRQCAj48P/vnnn3RjTW7t2rXYsWMHjh8/nmqZjB7zq1evVlo3WiK169CMSK8+ygpubm4m55tKlSrh5s2bmDx5Mpo3bw4gYVy0Xr16oXjx4lCpVChcuDC6deuGOXPmKK9btmwZFi5ciEWLFqFkyZKIiIjAoEGDkC9fPovfM0s+t+HDhyMwMBAdO3ZMtYwl577EchEREYiOjsaKFSvQpUsX7Nq1CyVKlLAoXktiSWrevHnIkycPWrZsaTLdaDSiYsWKyliq5cqVw+nTp/Hzzz+n+t6dOXMGAwcOxFdffYUGDRogKioKQ4cORd++fZUxXENCQkyu6atWrYrAwED88ssvJi1fXwWj0QgPDw/8+uuv0Gg0qFChAm7cuIHJkydnqNcSSw0dOhQ9evTA1atXMWbMGHTu3Bnr1q2DSqWyaJ+3RNJWoKVLl0ZwcDD8/f2xbNky9OjRQ7l+TewxBEj4bLdv3445c+bg22+/zZJtlf96WUg8H584cQJ79+41aRlnMBgQGxuLZ8+eKa1Hkp6fE3ssSPr929PTE7GxsXj8+DGcnJwQExOD0NBQrF+/HlFRUdDr9Xj+/HmadZZKpYKXl5dy3j979ixKly5tcg2RkdapPXr0wKNHj7B169YU4/edPXsWLVq0MJlWrVo1/PDDDzAYDEqvSmnFd+LECVy4cCFFnRcbG6vUS5UrV85UvfTTTz/hyZMnqY7lDSQcJy9evMD8+fOV3ylmz56NChUqIDIyEgEBARg1ahRu3bqFKlWqQETg6emJLl26YNKkSalek1tS32XVcfEq2dvbY/369bh48SJ27tyJAwcO4LPPPsO0adOwf//+NFtKJVelShWTa5qQkBB89913JvtO8n01JCQEP/zwg9nl2draolOnTpgzZw7atGmDY8eO4fTp0xa1ytqwYQNGjRqFxYsXo0yZMibzzp49C19fX/j6+irTSpQoofwWk/gbTYECBUz246TXX5ZcAwOW/+6W1L///qu0ILTku8Lz58+xaNEik+/FQMbrV8CyYyw37udE9ObKke4ra9WqhYiICJw/fx7Pnz9XurZJlPRvc9L7ITImJgZ9+vRBRESE8jhx4gTOnz9v8uN7Wvbs2YM7d+7Az88PWq0WWq0WV69exWeffZZmt5fBwcHQ6/WZ6s4g0Y4dO7Bu3TosWbIE1apVQ/ny5ZUfYNPqbig4OBjXr1/Pku4Ls4K1tTWKFCmCUqVKKd2LjhkzJkU5V1dXtG7dGlOmTMHZs2eRL18+TJky5aXX7+XlheLFi6N58+b45ZdfMHPmTERFReHJkyc4cuQIBgwYoHy2Y8eOxYkTJ6DVarFjxw6zy9uxYwemTJmivKZHjx6Ijo6GVqs1+VEiJ9na2qJevXoYNWoU9u3bh65duypfdBMv0hO/uAFItYuLVyW9Yz0td+/exXvvvYf3338/w92eJJX8h0yVSqW8RzExMQCAWbNmmZxPTp8+jQMHDmR6nUBClxJXrlxBs2bNlH1q/vz5WLt2LbRarfLFL7lChQrBzc0NFy5cAACTL5KJ9Ho9Hjx4kGq3T5awZLleXl64ffu2SZnE5+mVSTo/6evMlUm8ESHpj2Q2NjYoVKhQih8C0tum9OIFEo6VIkWKoGzZsvjss8/wwQcfpPnDSfLPJLOSn8O9vb3h4+Nj8uN5YGAgRATXr1+3aJlZVZepVCpMnDgRMTExuHr1Km7duoXKlSsDSNj+zLL0MwGAJUuWoGfPnli2bJlJVyhubm7QaDTp7mdxcXF49OhRqmXM7Wfu7u5wc3NLsZ/t2rULzZo1w/fff4/OnTub3bYpU6ZgwoQJ2LJlS4rERHKW7EPJP5Pp06fD2dkZkyZNQrly5VC9enX8/vvv2L59e5pd11auXNlkPYULF8auXbsQExODf//9V+n+yNznumfPHkRGRpp0F/U6s7e3R5EiRVCmTBnMmTMHBw8eVH6sTjy/r1+/3uT8fubMGaxYsQJAwg+uV69exeDBg3Hz5k3UqVMn1fomI2UTdenSBREREZg2bRr27duHiIgIuLq6mnTpDpivpxJ/7E3rmvhl6rAlS5ZgypQpWLJkCYoWLZpm2bSkFXtMTAy8vb1NYouIiEBkZCSGDh2a6XUCCddsFy9eRJ48eZRzH5BwA1NiQisjxzyQ0HVl06ZNTbrbTUtq16EZkVZ9ZEn9mdlrhODgYJPzhLu7O9asWYOnT5/i6tWr+Oeff+Dg4GBynhg6dCiGDRuGDz/8EEFBQejUqRMGDx6cocSDJZ9bYlfyifMTb2Rwc3NLM7mT/NwH/O+7SoUKFfDtt9+iTJkyFnedntFYRARz5sxBp06dUtx86u3tnSIRGBgYmOY1zrfffotq1aph6NChKF26NBo0aIAZM2Zgzpw5qe5nVlZWKFeunMk1JPDy+5Aldbm3tzeKFSum/LiduI23bt1Kcc5LjSXxJnJzc0OxYsVQr149LFmyBBs2bEjzvJd8n8+MPHnyoFixYspyzJ1jgPQ/24xKvNmwYMGCABLOrWPGjDE5r546dQrnz583+ZE86fk5MRlhblriOXvIkCFYvXo1xo8fjz179iAiIgJBQUEZqrNexsSJE/Hnn39izZo1ad7QmJ706qUKFSqkqJfOnTuH9u3bv1T8O3bswP79+2FjYwOtVosiRYoASLhJNTH57u3tDa1Wa3LjcGBgIAAo+4xOp8OcOXPw7NkzXLlyBdeuXVMSMO7u7mbXndH6LlFWHBevQuHChdGzZ0/89ttvOHbsGM6cOYOlS5cCSKhHk/7+Aby630B69uyJrVu34vr16wgLC0Pt2rVNui42J3FfGzZsGFq3bp3pdae3nwNpXwNn1tGjR3Hnzh2UL19eqRt37dqFH3/8EVqtNkWXxStWrMCzZ89SfJ/KTF1vyTFmTm7Zz4nozZMjSbnEH0kSfyTMqNKlS+P69evKmAXJlS9fHmfOnEGRIkVSPNJqgZdUp06dcPLkSZNKKl++fBg6dCg2b96c6usiIiKgVqtf6g7+Z8+eAUCKO53UanWaF7QRERFwcXHJdAu97DZy5EhMmTIFN2/eTLWMtbU1ChcujKdPn2bpuhPftxcvXsDJyQmnTp0y+Wz79u2r3C2btGVVUvv37zd5zdixY5U7mN97770sjTerlChRQnkvEy/Sk35Rj4iIMPu6pF9aHz58iHPnzilfCICEL+NHjhxRnkdGRuLRo0dKmcDAwBRjd+zduzfdO48Tj8/0xpeIj4/HBx98AA8Pj1TH3AgMDIRerzf5cfr+/fuIjIy0+A5oT09P5MuXD5cuXUpxLkn84ptZxYsXT7EfNm/eXLlpIendb0ldv34d9+/fV75chYSE4NGjRyatWnbs2AGj0ZjqvmwJS5YbEhKC3bt3m3yx2bp1KwICAuDi4qKUSX6X3datW5U7DQsWLAgvLy+TMo8fP8bBgweVMhUqVICNjY0y3gOQsA9cuXIl3S82ybcpvXjNSbxrNTXJP5PMSn4Or1atGm7evKl8cQISvqip1Wrkz5/fomVmdV2m0Wjg4+MDa2trLF68GCEhIan+AGCJkJAQnDp1yuQHv61bt8LJycnkOF28eDG6deuGxYsXo0mTJibLsLa2RoUKFUz2IaPRiO3bt5vsQ1ZWViZlIiMjce3aNaVMtWrVlOmJHjx4gHv37pnsZ+Hh4WjSpAkmTpyYokVwokmTJuHrr7/Gpk2bLGoRbMk+lPwzefbsWYrrhMQfO9O7VjC3Hnt7e3h7e+Phw4fYvHlzirvNgf/drZ38rt3cQK1WY8SIERg5ciSeP3+OEiVKwMbGBteuXUtxfk96/nV3d0eXLl3w+++/44cffsCvv/6a6jpSK5ta3bZ371588sknaNy4MUqWLAkbGxvcu3cvQ9tVunRp7Nmzx+wPTJmtwxLH9TDXCj1RYGCgMlZr0u1xdHS0+PxUvnx53Lp1S/nhJOnjZX5wBRLGmk1+7gMSWq+FhYUBsPyYBxLGstq5c2emx1JMeh36MpLWR5bUn5m9RkjtPGFrawsfHx/o9XqsXLnS5DyR2jkpIz/GW/K5rVy5EidOnFDmJ475s2fPHvTv3z/D25RUevV9chmJZdeuXbhw4YLZfahatWom+yGQUN+ndY2TVh2Q/AfoRAaDAadOnVLeh6zahyy5vqpWrRouXLhgsj+cO3cO3t7eFn8/tyRecyw5/izZP9ITExODixcvKsspUKAA8uXLl+HPNiOMRiN+/PFHFCxYUGnhUr58eURGRpr9LeRlejfYu3cvunbtivfeew9BQUHw8vLK8I3IgYGBOHnyJGJjY5VpltzouHHjRnz55ZcICwtL9Rokte+fyZPBaSlfvjzOnz8PDw+PFO+dJS3M0/Ljjz+anC82bNgAAFi6dKnSqrFatWrQ6/UmN2cm/uaVfJ+xsrJC/vz5odFosGTJEjRt2jTVzzcj9V1SWXFcvGoFChSAnZ2dyW8gyW9UMPcbSPIb2hLH+k267yTfVw8cOGDyG0lyQUFBqFixImbNmoVFixahe/fuacb++PFjtGjRAtWrV0+1NXNgYCD+/fdfk/EAz5w5g0ePHln8G4el18CZUadOnRS/cVSsWBEdOnRAREREimNx9uzZaN68eYrvk5mp6y05xszJjfs5Eb0hsro/zIyMKZeR+cn7861Zs6aUKlVKtmzZIpcuXZINGzYo42ucOHFCdDqd9O/fX44fPy7nzp2TNWvWSP/+/ZXXWzKmXHox7Nu3T77//nuJiIiQixcvyu+//y7u7u7SuXNnk9f9/fffcvz4cWnWrJnUrFlTjh8/btKvcfJ+ye/evSuurq7SqlUriYiIkMjISBkyZIhYWVkpfUqvXbtWZs2aJadOnZLz58/LjBkzxM7OTr766qsMbVNq25kVY8qZG9+jcuXKyufw559/SocOHeTPP/+UyMhI+eeff2Ty5Mmi0Whk/vz5IpK5MeXWr18vc+bMkVOnTsnly5dl3bp1EhgYKNWqVctQvOntI6/TmHL37t2TWrVqyYIFC+TEiRNy6dIlWbZsmXh6ekr37t2VclWqVJF3331Xzpw5I+Hh4VK5cmWzY8qVLFlStm3bJqdOnZLmzZuLn5+f0t98WFiYWFlZSeXKleXAgQNy5MgRqVKlilSpUkVZz+rVq8XKykpmzJgh586dk++++040Go3JfgUzY0Vcv35dVCqVzJ07V+7cuSNPnjwxu70fffSRODs7y+HDhyUqKirFIzHWFi1aSIkSJWTPnj0SEREhDRs2lCJFiijjbZj7DFevXi1JT42zZs0SnU4n06ZNk8jISDl58qTMmTNHvvvuO6VMZseUSy75+e/JkycyZMgQ2b9/v1y+fFm2bdsm5cuXl6JFi5r0ld+wYUMpV66cHDx4UP766y8pWrSoSX/w5sbkiYqKkuPHj8usWbMEgOzevVuOHz9uMkZbest99OiReHp6SqdOneT06dOyZMkSsbOzU8YCEkkY/0Or1cqUKVPk7NmzMnr0aLGyspJTp04pZSZMmCB58uRRxthq0aKFFCxY0GS8iYEDB4qPj49s3rxZ/vnnH+nRo4d4eHjIgwcPlDLnz5+X48ePS58+faRYsWLKuTZxf7Ak3vHjx8uWLVvk4sWLcubMGZkyZYpotVqZNWtWhj6Tq1evyvHjx2XMmDHi4OCgxJK4T1tyDn/y5Inkz59fPvjgA/n7779l165dUrRoUenZs2ea+1F6MlOX3b17V2bOnClnz56V48ePyyeffCK2trYm+5S5MTbSex/0er2UKlVK6tevLxEREbJp0yZxd3eX4cOHK8tYuHChaLVamT59uslx/ujRI6XMkiVLxMbGRubOnStnzpyR3r17S548eUzGKO3bt6/4+fnJjh075MiRIxISEpJiXK0WLVpIyZIlZe/evXLq1Clp2rSplChRQjln7NixQ+zs7GT48OEmsSQ9biZMmCDW1tayYsUKkzKJ22zJPmTJZ7J9+3ZRqVQyZswYOXfunBw9elQaNGgg/v7+8uzZMxER+f7772XNmjVy/vx5OXXqlAwcOFDUarVs27ZNWc6mTZtk48aNcunSJdmyZYuUKVNGgoODU4xRFh0dLXZ2dsq4K+a8bmPKJb+ejI+PFx8fH5k8ebKIiHz55Zfi6uoqc+fOlQsXLsjRo0flxx9/VMZxGjVqlPL+nT59Wpo2baqMU5j8vJ5W2fj4eNHpdPLNN9/IrVu3lH23XLlyUq9ePTlz5owcOHBA3n33XdHpdCbHp7m60tnZWcLCwkQkof5PvGY8fPiwnDt3TubPny///POPiFhWhyV19+5d8ff3l8aNG5utX+/cuSMiCfWKnZ2d9O/fX86ePStr1qwRNzc3GT16tLIsc2OItGjRQhlDxmg0yjvvvCNlypSRzZs3y+XLl2Xv3r0yYsQIOXz4sLKezI4pl5y59zK9Yz7RyJEjJV++fGbHDl21apUEBAQozy29Dk08H1aoUEHat28vx48fl7///luZn159JGJZ/ZleXT537lxZtGiRnD17Vs6ePSvjxo0TtVotc+bMUcocOHBAVq5cKRcvXpTdu3dL7dq1pWDBgiZju3Tp0kV8fHxk3bp1cvnyZVm1apW4ubkp43aKJIxTfPz4cVm/fr0yhvHx48clKioqtY/N7OeWlLlxZiw59w0bNkx27dolly9flpMnT8qwYcNEpVLJli1bUl1XetIa86Zjx47KeD7JHTp0SLRarYwbN07Onz8vCxcuFDs7O/n9999N4u3UqZPyPCwsTLRarcyYMUMuXrwof/31l1SsWFE574iIjBkzRjZv3iwXL16Uo0ePyocffii2trYm+1lW7EOWXF9du3ZNHB0dZcCAARIZGSnr1q0TDw8P+eabb5QyT548UY4L/DcW+fHjx+Xq1asWx3vgwAH56aef5Pjx43LlyhXZvn27VK1aVQoXLqzUsZbs8y9evFBi8fb2liFDhsjx48fl/PnzSpnPPvtMwsPDlXNX3bp1xc3NTTlPiiTsi05OTrJ8+XI5f/68jBw5UmxtbU3Gs078PC0ZU27btm0SFRUlFy9elD/++ENq1aolOp1OduzYoZTdtGmTaLVaCQ0NldOnT8uZM2dk8eLF8uWXXyplkh9X5r6rJN+f33vvPSlbtqwcP35cIiIipFmzZuLo6Ghynjc3BlOZMmWUuuHJkyfi5uYmHTt2lL///lvWr18vRYoUSfN70rlz5yRPnjzSp08fs/VS4jXY0aNHRa1Wy9ixYyUyMlLmzp0rOp1OqS8tie/p06dStGhRqVmzpuzevVsuXbokO3fulI8//lgZizGzY8olZ+49NxgMUr58ealevbocO3ZMjhw5IsHBwSa/r0VGRsqCBQvk3LlzcvDgQWnbtq3kzZvX5Lopeb0kkn59Z8lxkdb7mFFZMabc6NGjZejQobJz5065dOmSHDt2TLp27So6nU65Dtq0aZOoVCqZN2+enDt3Tr766itxcnJKMaacg4ODDB48WP755x9ZtGiR2Nvby88//6yU8ff3FycnJ5k4caJERkbK//3f/6UY195cffXrr7+KtbV1quMxJzIajdK0aVPx8/OTc+fOmd3X9Xq9GI1GKVu2rLz77rty9OhROXjwoFSoUMFke8xdF33//ffi7++vPE/vGlgk82PKJZfamHLnz58XlUql/I6bFnPrSu9YNHeMZdV+zjHliCgr5Nqk3P3796Vbt27i6uoqtra2UqpUKVm3bp0y/9ChQ1KvXj1xcHAQe3t7KV26tIwbN06ZP3r0aJNKyRLJYzh69KgEBweLs7Oz2NraSmBgoIwfPz7FgPX+/v4CIMUjUWIFk/RC6vDhw1K/fn3JmzevODo6SpUqVWTDhg3K/I0bN0rZsmWV7StTpoz8/PPPYjAYMrRNqW1ndiXlFi9eLDY2NnLt2jW5ePGi9OrVS4oVKyY6nU7y5MkjlSpVMrlwNleR+vv7m/zok9yOHTskJCRE+VyKFi0qX3zxRZoXC+biTW8feZ2ScrGxsTJs2DApX768ODs7i52dnQQEBMjIkSOVH2dFRM6cOSMhISGi0+mkbNmysmXLFrNJuT///FNKliwp1tbWUrlyZTlx4oSyjMTtXrlypRQqVEhsbGykbt26Jl+YRURmzJghhQoVEisrKylWrJiSaE26zeZ+ZBk7dqx4eXmJSqVK9ULd3PGU9JG4PQ8ePJBOnTqJs7Oz6HQ6adCggcnA6pYk5UQSkgJly5ZVLqirV68uq1atUubXqFEjzS8VmU3KPXv2TOrXry/u7u5iZWUl/v7+0qtXL5NEg0jC+bBdu3bi4OAgTk5O0q1bN5OEZuL6kx7Xo0ePNvveJT3+0luuSMJNEO+8847Y2NiIj4+PTJgwIcV2LVu2TIoVKybW1tZSsmRJWb9+vcl8o9Eoo0aNEk9PT7GxsZE6depIZGSkSZm4uDj57LPPxMPDQxwdHaVu3bpy+vRpkzI1atQwu01Jj6304v3yyy+lSJEiYmtrKy4uLhISEiJLlizJ8GfSpUuXNPdNS8/hZ8+elbp164pOp5P8+fPLp59+anJMm6s/0pOZuuzu3btSpUoVsbe3Fzs7O6lTp44cOHDAZLnmYknvfRARuXLlijRq1Eh0Op24ubnJZ599JvHx8cr81D7X5MfcTz/9JH5+fsp5K3l8z58/l48++khcXFzEzs5O3nvvvRQ/BEdHR0v37t0lT548kjdvXnnvvfdMBlJPbXuSfhFOrc5PrLcs2Ycsvb5YvHixlCtXTuzt7cXd3V2aN28uZ8+eVeZPnDhRChcuLLa2tpI3b16pWbOmyQ93IiJLly6VQoUKibW1tXh5eUn//v1NEp6JfvnlF9HpdGbnJXrdk3IiIt9++624u7tLTEyMGI1G+eGHHyQgIECsrKzE3d1dGjRoILt27RIRka+//loCAwNFp9NJ3rx5pUWLFnLp0iURSXleT6usSEJyzNfXV9RqtbK/HDt2TCpWrKhcqyxfvjzF8ZleUk4k4bxWv359sbOzE0dHR3n33Xfl4sWLyvz06rCk5s6dm2b9mvS6KDw8XCpVqqTsO1988UWKYzetpJyIyOPHj+Xjjz+WfPnyiZWVlfj6+kqHDh2U485c/ZXcyyTl0jvmRRJ+JM2fP7+MGDHC7HLDwsJMrhssvQ5N7/1Nrz4Ssaz+TK8unzt3rgQGBoqdnZ04OTlJ5cqVZfny5SbLCA8Pl8DAQLGxsRFXV1fp1KmT3Lhxw6TM48ePZeDAgeLn5ye2trZSqFAh+fLLL5UbY5K+V6mdH83JTFLOknNf9+7dxd/fX6ytrcXd3V3q1KmTIiHXpUsXk/N7elL7gfLRo0ei0+nk119/TfW1f/75p5QqVUpsbGykePHiKcqai+XHH3+UEiVKiE6nE29vb+nQoYPJj5ODBg1S6kVPT09p3LixHDt2zGQZWbEPiVh2Pbhv3z4JDg4WGxsbKVSokIwbN84k0Z34/qVV36cX78mTJ6VWrVqSN29esbGxkQIFCkjfvn1N3hdL9vnEc09a9X3btm3F29tbrK2txcfHR9q2bZsi2SaSUO/kz59f7OzsJCQkRPbs2ZOijKVJucSHnZ2dBAYGykcffWSSKEy0adMmqVq1quh0OmUbk+5TmUnKXb58WUkC+vr6yv/93/+lOM+nl/QSEdm/f7+UKVNGrK2tpWzZsrJy5co0vyeFhoamWS8l/UxWrFghJUqUECsrK/Hz81NuwslIfFFRUdK5c2dxc3NT9tVevXpJdHS0yfuS1nVKZpNyIiI3btyQVq1aiYODg3h6ekrXrl1Nbv46c+aMlC1bVvlsW7RooSSgEiWvl0TSr+8sOS4SvS5JuR07dsj7778vvr6+ynmuYcOGKY6xr776Sjw9PcXZ2VkGDx4sAwYMSJGU++ijj6Rv377i5OQkLi4uMmLECDEajUoZf39/GTNmjLRu3Vrs7OzEy8tLpk2bZrIec/XVkydPxM7OTj766KM0t+XKlSvp/saRuM9dvXpVmjdvLvb29uLo6CitW7c2+R5hSVIuvWvgxG1Oq35+2aTc8OHDxdfX16LfMM2tK71jMbWkXFbs50zKEVFWUImk0r9FJs2ePRtLly7Fli1bsnKx9AoVKFAAc+fOzdJB5CltKpUKly9fTnOMp1chPDwctWrVwsOHD5EnTx6zZebOnYtBgwalGJuJUnflyhUULFgQx48fR9myZXM6HHqDhIWFYfz48Thz5kyKsQOIXrWsqh9elzqRcofQ0FCsWbMm1S65iTKrRo0aqFWrFkJDQ3M6FHrD8fvVm6Vr16549OgR1qxZk9OhZIsCBQpg0KBBGDRoUKaXERoaiitXrmDu3LlZFldm1axZE2XLlsUPP/yQapnMbvOVK1dQuHBhHD58GOXLl3+5QF8zlvx2lJul9Zn36dMHHh4eqXYzSkRkiRwZU46I6G1UtWpVVK1aNafDoDfIhg0bMH78eCbkKMc5ODigb9++OR0GvaVOnToFBwcHzJgxI6dDoTdEdHQ0Ll68iCFDhuR0KPSGY/35Zlq3bh0cHBywbt26nA4ly4wfPx4ODg64du1aTofy2ouPj8etW7cwcuRIVKlS5Y1LyCWVP39+tGvXLqfDyDLcz4noVdFm+QK1Wuj1+qxeLBFRrpU/f36cP38eAGBjY5PD0dCbZPny5TkdAhEAKK2Ukg/gTpTdPvnkE3Ts2BEA4O7unsPR0JvC2dkZ169fz+kw6C3A+vPNM2nSJIwcORIA4O3tncPRZJ2+ffuiTZs2AFjfpmfv3r2oVasWihUrhhUrVuR0ONkiODhY+Y3DwcEhh6PJOpbs5/Hx8dBqs/zndCJ6y2T5WcTFxQVPnjzBkydP4OjomNWLp1dg0KBB7DLqFRs9evRr0eS/Zs2aSK9H265du6Jr166vJqA3hFarRZEiRXI6DCKibJOV57jXpU6k3CFv3rzImzdvTodBRJQp/I7w5vHw8ICHh0dOh5HlsrK+rVmz5mvTXWt4eHi6Za5cuZKhZVryu0pup9Pp3sjzV3r7uYjg1q1bHJaEiF5alo8pd+fOHTRu3BhjxoxBkyZNsnLRRERERERERERERESv1N9//40uXbpg5syZqFSpUk6HQ0S5WJaPKefh4YEyZcpg7ty5ePjwYVYvnoiIiIiIiIiIiIjolYiLi8OMGTPg4uLyRo8TSESvRpa3lAOAy5cvo0+fPnB0dESHDh1Qs2ZNuLi4QKVSZfWqiIiIiIiIiIiIiIiy1LNnz/DXX39hyZIl+Oeff/DDDz+gcuXKOR0WEeVyFiXljEbj/15gYWLt8uXLmDx5Mo4ePQqj0QgrKytYWVllPlIiIiIiIiIiIiIiomym1+sRFxcHAChZsiQGDBiAihUr5nBURK+PpGkltTrLO2R8o1mclHvy5EmmVvDw4UMcP34c0dHR0Ov1mVoGEREREREREREREdGroFar4ejoiKCgIHh7e+d0OESvLUdHRyblMihDSTlbW1t2QZkNDAYDzp8/j6JFi0Kj0eR0OERkAR63RLkPj1ui3InHLlHuw+OWKPfhcUuU+/C4pZwkIoiNjWVSLhO0lhRKTMSpVCom5bKBSqWCiPD9JcpFeNwS5T48bolyJx67RLkPj1ui3IfHLVHuw+OWXgfc9zKOKUwiIiIiIiIiIiIiIiKibMakHBEREREREREREREREVE2Y1KOiIiIiIiIiIiIiIiIKJtZNKacpQwGA/R6PUQkKxf7xjMajRARvHjxIt1BEVUqFaysrDh4IhERERERERERERERUS6SJUk5EcGdO3fw+PHjrFjcWydxQM7r169bNDCiWq2Gn58frKysXkF0RERERERERERERERE9LKyJCmXmJBzc3ODra2tRYkl+h8RQVxcHKytrdN970QEt27dwu3bt+Hj48P3moiIiIiIiIiIiIiIKBd46aScwWBQEnIuLi5ZEdNbJ7G7T0sTmm5ubrh16xYMBgO02iztgZSIiIiIiIiIiIiIiIiywUsPTKbX6wEkJJTo1UjsttJgMORwJERERERERERERERERGSJl07KJbbyYjeKr17ie09ERERERERERERERESvt5dOyhERERERERERERERERFR2rJ1QLJr14D797NzDf/j6gr4+b2adRERERERERERERERERFlRLYl5a5dA0qV0iI29tV0a2lrKzh9Wm9xYq5Hjx5YsGABevXqhenTp5vM++STT/Dzzz+jU6dOmD17tsm8AwcOoGbNmmjQoAH++OOPdNezevVqzJo1C8eOHcODBw9w6NAhlC1b1qRMbGwsPvvsM6xatQovXrxAvXr18NNPP8HT09OyjSHKRuHh4ahZs2ZOh0FERERERERERERElKtlW/eV9+/jlSXkgIR1ZbRVnq+vL5YtW4bnz58nWU4slixZAr9UsnthYWHo378/9uzZg5s3b6a7jqdPn6Jq1aoYP358qmWGDBmCTZs2YdGiRdi+fTuioqLQpk2bjG0MUTYJDw/P6RCIiIiIiIiIiIiIiHK9bO2+8nVXtmxZXLp0CatXr0b79u0BJLRs8/X1RYECBVKUj4mJwfLly7F//37cunUL8+fPx7Bhw9JcR8eOHQEAV65cMTs/Ojoac+fOxW+//YZatWpBpVJh1qxZKF26NA4ePIjg4OCX2kYiIiIiIiIiIiIiIiLKednWUi636Nq1K+bPn688nzdvHrp06WK27IoVKxAQEICAgAC0b98e8+bNg4i81PqPHTuG+Ph4k+4BixcvDj8/Pxw4cOCllk1ERERERERERERERESvh7c+Kde+fXvs3bsXV69exdWrV7Fv3z6l1VxyYWFhyrwGDRogOjoau3fvfqn137p1C9bW1siTJ4/JdA8PD9y6deullk1ERERERERERERERESvh7e6+0oAcHd3R6NGjTB//nyICBo1agQ3N7cU5SIjI3H48GEsX74cAKDVatG6dWuEhYWhRo0arzpsIiIiIiIiIiIiIiIiykXe+qQckNCF5aBBgwAA06ZNM1smLCwMer0e/v7+yjQRgY2NDaZNmwZnZ+dMrdvLywtxcXF49OgRvLy8lOl37twxeU5ERERERERERERERES511vffSWQ0BVlXFwc4uPjUb9+/RTz9Xo9Fi5ciEmTJuHw4cPK48iRI8iXLx+WLl2a6XWXL18eVlZW2LVrlzItMjIS165dQ5UqVTK9XCIiIiIiIiIiIiIiInp9sKUcAI1Gg5MnTyp/J7d+/Xo8fPgQ3bp1S9EirmXLlggLC0Pv3r3NLvvBgwe4du0aoqKiAADnzp0DkNBCzsvLC87OzujatSu+/PJLeHp6wtnZGYMGDUKVKlUQHByclZtJREREREREREREREREOYQt5f7j5OQEJycns/PCwsJQp04ds11UtmrVCkePHlWSesmtW7cOlStXRosWLQAAHTt2ROXKlfHrr78qZaZMmYIGDRrgww8/RO3ateHp6Ylly5ZlwVYRERERERERERERERHR6yDbWsq5ugK2toLYWFV2rcKEra3A1dXy8rNnz05z/sqVK5W/16xZk2q5SpUqIS4uLtX5nTt3RufOndNcl62tLb777jtMnz4dKtWreb+IiIiIiIiIiIiIiIjo1cm2pJyfH3D6tB7372fXGky5uiask4iIiIiIiIiIiIiIiOh1k61jyvn5MVFGRERERERERERERET0NpowYQImTpxoMq1o0aI4dOiQ8vzQoUP45ptvcPToUWg0GpQqVQorV66ETqcDADx8+BCff/45Nm/eDJVKhebNm+Pbb7+Fg4PDK92WrJCtSTkiIiIiIiIiIiIiIiJ6exUvXtxkmDCt9n+pqUOHDuGDDz7A4MGDMXHiRGi1Wpw+fRpqtVop06tXL9y+fRurVq1CfHw8BgwYgEGDBuG33357lZuRJZiUI6KXpvmwHRAdbTrR2RmGJYtzJiAiIiIiIiIiIiIiei1otVp4enqanffll1+iT58+GDx4sDKtaNGiyt+RkZHYvn07duzYgXLlygEAJk6ciDZt2uDrr7+Gt7d39gafxTKUlDMYDFCpVCbTjEYjRER5UMYlvm+Wvn+J77XRaITBYMjO0IggIunuZ5pH0YDa9NyAR9Fv9P6ZuG1v8jYSvWl43BLlTjx2iXIfHrdEuQ+PW6Lch8ct5aTEXMbjx49NckY2NjawsbFJUf7SpUsIDAyEjY0NKlWqhK+++gq+vr64e/cujhw5gtatW6N+/fq4cuUKihYtipEjRyIkJAQAcPjwYTg7OysJOQCoWbMm1Go1jh49iqZNm2bz1matDCXlzp8/nyJxJCJQqVSIi4vL0sDeRi9evLCoXFxcHPR6PS5fvpwiSUqU1eLi4hAZGZlmmUC9PmVSzijpvu5NcOHChZwOgYgyiMctUe7EY5co9+FxS5T78Lglyn143FJOUKlU8Pf3R6lSpRATE6NM/+KLLzBs2DCTshUqVMD06dNRpEgR3L59GxMnTkTjxo2xb98+XLlyBUDCuHNff/01goKCsGTJErRs2RL79u1D4cKFcfv2bbi7u5ssU6vVwsXFBbdv3872bc1qGUrKFS1aNEUS6MWLF7h+/Tqsra1ha2ubpcG9LUQEL168gI2NjcVJNq1Wi/z585vNOhNlJWtrawQEBKRZRqvVmk3Kpfe63MxgMODChQsoUqQINBpNTodDRBbgcUuUO/HYJcp9eNwS5T48bolyHx63lJNEBHFxcTh9+nSKlnLJ1atXT/m7VKlSqFixIoKCgrBmzRoUK1YMANC1a1d06NABAFC6dGns2rULv//+O0aPHp3NW/LqZSgpp9FoUiSN1Go1VCqV8qDMs/Q9TCynVqt5wqVsp1Kp0t/PVMo/SabJW7F/ajSat2I7id4kPG6Jciceu0S5D49botyHxy1R7sPjlnJCYo+KTk5OGc4LOTs7o0iRIrh06RKqV68OACkadwQEBOD69esAAE9PT9y9e9dkvl6vx8OHD1Mdp+51ps7pAIiIiIiIiIiIiIiIiOjNFxMTg8uXL8PLywt+fn7w9vZO0Q3rhQsX4OvrCwCoVKkSoqOjERERoczfvXs3jEYjKlSo8CpDzxIZaimXYc+uAS/uZ+sqFDaugJ3fq1kXERERERERERERERERpWnUqFFo2LAhfH19ERUVhQkTJkCj0eD999+HSqXCxx9/jG+//RalSpVCUFAQFi9ejPPnz2PevHkAElrN1alTBwMHDsTUqVMRHx+Pzz//HK1atYK3t3cOb13GZV9S7tk1aDeWgsoYm22rSErUttA3Om1xYq5Hjx5YsGABevXqhenTp5vM++STT/Dzzz+jU6dOmD17tsm8AwcOoGbNmmjQoAH++OOPNNcRHx+Pr776Cps2bcLly5fh7OyM2rVrY9y4cciXL59S7sGDB/jkk0+wadMmqNVqvPfee5g6dSocHBws3HoiIiIiIiIiIiIiIqLXy40bN9CzZ088ePAAbm5uCA4OxtatW+Hm5gYA6NevH2JjYzFixAg8evQIJUuWxKpVq1CwYEFlGbNmzcLQoUPRsmVLqFQqNG/eHBMmTMipTXop2ZeUe3H/lSXkACSs68X9DLWW8/X1xbJlyzBlyhTodDoAQGxsLJYsWQI/P/PLCQsLQ//+/REWFoabN2+aJNeSe/bsGSIiIjBixAiULl0ajx49wqeffopWrVrhwIEDSrkuXbogKioKGzZsgF6vR69evdCvXz8sWLDA4m0hIiIiIiIiIiIiIiJ6ncyZMyfdMoMHD8bgwYNTne/i4oLffvstK8PKMW/1mHJly5ZF/vz5sXr1amXa6tWr4evrizJlyqQoHxMTg+XLl6N3795o1KgR5s+fn+bynZ2dsXHjRrRu3RoBAQEIDg7GtGnTcOzYMVy7dg0AcPbsWWzZsgU//vgjKleujGrVquH777/HsmXLcPPmzazdYKJcLjw8PKdDICIiIiIiIiIiIiLKlLc6KQcAXbt2NUmuzZs3D126dDFbdsWKFQgICEBAQADat2+PefPmQUQytL7o6GioVCrkyZMHAHDw4EHkyZMH5cuXV8rUqVMHarUahw4dyvgGEeUyGUm0MSlHRERERERERERERLnVW5+Ua9++Pfbu3YurV6/i6tWr2LdvH9q3b2+2bFhYmDKvQYMGiI6Oxu7duy1eV2K/qG3btoWTkxMA4NatW3B3dzcpp9VqkTdvXty+fTuTW0WUezDRRkRERERERERERERvg+wbUy6XcHd3V7qiFBE0atRIGWAwqcjISBw+fBjLly8HkJA4a926NcLCwlCjRo101xMfH4927dpBRPB///d/Wb4dRFmp7O7RuB/3FADg5xWH2duGwNXaHhHVx+RwZEREREREREREREREudNbn5QDErqwHDRoEABg2rRpZsuEhYVBr9fD399fmSYisLGxwbRp0+Ds7Jzq8hMTcteuXcOWLVuUVnIA4OXlhbt375qU1+v1ePDgATw9PV9iq+hNpvmwHRAdnXKGszMMSxa/9PLvxz2FWqUCAFwvagP1f9OIiIiIiIiIiIiIiChz3vruK4GErijj4uIQHx+P+vXrp5iv1+uxcOFCTJo0CYcPH1YeR44cQb58+bB06dJUl52YkLtw4QI2bdoEV1dXk/nBwcF49OgRjh8/rkzbuXMnjEYjKleunHUbSW+W6GhApU75MJeoIyIiIiIiIiIiIiKiHMeWcgA0Gg1Onjyp/J3c+vXr8fDhQ3Tr1i1Fi7iWLVsiLCwMvXv3TvG6+Ph4tG3bFhEREVi9ejUMBgNu3boFAMibNy+sra0RGBiI+vXr45NPPsGMGTOg1+sxcOBAtGnTBvny5cuGrSUiIiIiIiIiIiIiIqJXjS3l/uPk5GTSrWRSYWFhqFOnjtkuKlu1aoWjR48qSb2kbty4gXXr1uH69euoVKkS/Pz8lMf+/fuVcvPmzUOxYsXQsGFDNG/eHNWqVcPMmTOzbuOIiIiIiIiIiIiIiIgoR2VfSzkbV4jaFipjbLatIilR2wI2rukX/M/s2bPTnL9y5Url7zVr1qRarlKlSoiLizM7r0CBAqnOSypv3ryYPXs2bG1tofpvHC8iIiIiIiIiIiIiIiJ6c2RfUs7OD/pGp4EX97NtFSZsXAE7v1ezLqJcLDw8HDVr1szpMIiIiIiIiIiIiIiI3irZO6acnR8TZUSvmbcpKfc2bSsRERERERERERERvd44phwRvbHCw8NzOgQiIiIiIiIiIiIiIgBMyhERERERERERERERERFlu+ztvpIoC7ALQtJ82A6IjkYtB3toGjVOmOjsDMOSxTkbGBERERERERERERGRhdhSjl577IKQEB0NqNSo/fQ5oFInPKKjczoqIiIiIiIiIiIiIiKLMSlHRERERERERERERERElM3YfSVRbuTsrLQU2+Fgj9oxT/833YzE7h8B/K8LyDe4+0d2d0lERERERERERERErxsm5YhyoaTJpZ2hoagRGpr2C/7r/hHA/7qATKP7R1dre9yPS0j0+V2Iw7Ui1nC1tn/puF+Z5N1dJk4jIiIiIiIiIiIiIsoh2ZqUuxZ9Dfef38/OVShcda7wc/Z7Jesiyojw8HDUrFkzp8PIkIjqY5S/Q/8KRWjf0JwLhoiIiIiIiIiIiIjoDZBtSblr0ddQ6udSiDXEZtcqTNhqbHG672mLE3M9evTAggUL0KtXL0yfPt1k3ieffIKff/4ZnTp1wuzZs03mHThwADVr1kSDBg3wxx9/WLyepOrXr49169Ypzx88eIBPPvkEmzZtglqtxnvvvYepU6fCwcHBom3JKUm7RFSwi8AUXouknLnuLlPp6jK57IhdtWIF1CtWAQB8bG2g+bA9jB+0gnzwgfkX/Be/JV11EhERERERERERERG9jtTZteD7z++/soQcAMQaYjPcKs/X1xfLli3D8+fP/7ec2FgsWbIEfn7mk3thYWHo378/9uzZg5s3b1q0ngYNGuDatWvKI3mSrkuXLvjnn3+wYcMGrFmzBn/99Rf69euXoW3JEYldIiZ9sIvA15JhyWIYNm6AYeMG7CxZMuFvC5On2ZGUkw8+gGHJIhiWLMKNAv4wLFmUekIO/4tfiT0D8RMRERERERERERERvQ6yLSmXG5QtWxb58+fH6tWrlWmrV6+Gr68vypQpk6J8TEwMli9fjt69e6NRo0aYP3++ReuxtraGl5eX8nBxcVHmnT17Flu2bMGPP/6IypUro1q1avj++++xbNkyi5N+RERERERERERERERE9Hp7q5NyANC1a1eT5Nq8efPQpUsXs2VXrFiBgIAABAQEoH379pg3bx5EJN117N69Gz4+PihZsiQGDBiA+/f/16Lv4MGDyJMnD8qXL69Mq1OnDtRqNQ4dOvQSW0aUO+R4155ERERERERERERERK/AW5+Ua9++Pfbu3YurV6/i6tWr2LdvH9q3b2+2bFhYmDKvQYMGiI6Oxu7du9Ncfv369TFnzhxs2rQJ48ePx+7du9GsWTMYDAYAwK1bt+Du7m7yGq1Wi7x58+L27dtZsIWvp/Dw8JwOgV4TTMoRERERERERERER0dtAm9MB5DR3d3elK0oRQaNGjeDm5paiXGRkJA4fPozly5cDSEictW7dGmFhYahRo0aqy2/btq3yd1BQEIKCglC8eHHs2rULtWvXzvoNyiXCw8OZjEkF3xsiIiIiIiIiIiIiojfPW5+UAxK6sBw0aBAAYNq0aWbLhIWFQa/Xw9/fX5kmIrCxscG0adPg7Oxs0boKFSoENzc3XLx4EbVr14aXlxfu3r1rUkav1+PBgwfw9PTM3Aa9psruHo37cU8BAH5ecZi9bQhcre0RUX1MDkf2esmVSTlnZyA6GgCww8EetWOeJkzLIXqjGieeFsHl516onfcE8lo9ybFYiIiIiIiIiIiIiIgAJuUAJHRFGRcXB5VKhfr166eYr9frsXDhQkyaNAl169Y1mde6dWssXboUvXv3tmhd169fx/379+Hl5QUACA4OxqNHj3D8+HGEhIQAAHbu3Amj0YjKlSu/5Ja9Xu7HPYVapQIAXC9qA/V/095Emg/bKUmqWg720DRqnDDD2RmGJYtzMLLskXSbdoaGokZo6Ctd/7NnwKFDKuzdm/A4sHs1AMDH5j46nvZCPddjaOuxE00eA05OrzQ0IiIiIiIiIiIiIiIATMoBADQaDU6ePKn8ndz69evx8OFDdOvWLUWLuJYtWyIsLMxsUi4mJgbffPMN3nvvPXh6euLSpUsYPnw4ChcurCT/AgMDUb9+fXzyySeYMWMG9Ho9Bg4ciDZt2iBfvnzZsLX0SkRHA6qEIRtrP32u/J2YqEvOXCtCAGxJmIr794G9e1XYt0+Fv/5S4dgxFfLmBapVEzRqJBgfPQRlHC9Dqzbi3FMfLLtdAxOutEOf/Fo0bCho08aIxo0FdnY5vSVERERERERERERE9LZQ53QArwsnJyc4pdKEJiwsDHXq1DHbRWWrVq1w9OhRJamXlEajwalTp9CqVSuULFkSffr0Qfny5bFz507Y2Ngo5ebNm4dixYqhYcOGaN68OapVq4aZM2dm3cbRay+xFaFapUpoRfjf329qS8KMunULWLJEhYiIfihTRgtvbysMG6bB/fsq9OxpxIkTevz7rx5Llxrw8cdGVHA6D63aCAAoZn8DIwstwqkqPbF3rx7FiwtGjdLAx0eLTp00+PNPFV68yOENJCIiIiIiIiIiIqI3Xra1lHPVucJWY4tYQ2x2rcKErcYWrjpXi8vPnj07zfkrV65U/l6zZk2q5SpVqoS4uDiz83Q6HdavX59uLHnz5sXs2bNha2sL1X/dO1Lm5cox2cjEvXvArl0qhIerEB6uRmSkCiVLCmrW9EanTgZUrSrw9s7YMlUqICgICAoyYswYI44dU2H5chUGDdLg8WOgRQtB06ZGFCsmKFAAbEVHRERERERERERERFkq25Jyfs5+ON33NO4/v59dqzDhqnOFn7PfK1nX2+B1SGwljsuW0THZXofYKWMePgR271b9l4hT4++/gWLFgJo1jRg92oAaNQTu7lm3PpUKqFBBUKGCYPx4Iw4cSEjQjRqlwZUrwIsXKnh6CgoUEBQsiP/+T0jWFSwoyJ8/YRlERERERERERERERJbK1jHl/Jz9mCjLpXJjYiuzSbzcLrd8Ts+eAVFRQFSUCjdvJvx/9Srw119qnDgBFCoE1Kwp+PzzhCRcRlvCZZZaDVStKqhaVQAYYTQmxHnligqXLyf+r8LevSpcuaLC9esJr/H11cDfvwBat9agWTO8snhzUm48LxARERERERERERG9LrI1KUf0MhKTaTtDQ1EjNDT9F0RHAyo1aj99DqjU/5v2hstoksTS8iLAqVPAvXsqGI1QHiIweZ50ul4PPHzYCSNGqBEVpUJUFHDzZsL/0dEqqNUCLy/A2zsh6ebjI/j4YwNq1hT4+mZ827ODWg34+CTEVq0aAIjJ/BcvgGvXgEuXBJs2PcPcuY745BMVKlQQNGsmaNbMiBIl3syWdEzKEREREREREREREWUek3JEb5n0kip//w0sW6bG8uVq3LgBeHklJKpUqoT/k//9v4dArQbc3YvB2zuhm8eqVQFvbyPy5UtIwnl4ABrNq9nO7GJjAxQtChQqZISv7x1MmeKC27c1WL9ejXXrVBg3Tov8+YFmzYxo1kwQEiLQ8kxLREREREREREREb6EJEyZg4sSJJtOKFi2KQ4cOmUwTEbRu3Rrbt2/H77//jiZNmijz/v33X3z22Wf466+/YG9vjw8//BCjR4+GNhf+8PrSEav+aw4iIumUpKymehOb4lCOOH8eWL5cjWXL1Lh4EWjYUDBmjAGNGwvs7XM6utdfvnxAr15G9OoFxMQAW7ao8OefarRurYZKBTRqlNCCrn59vp9ERERERERERET0dilevDjWrFmjPDeXTJs5c6bZnIfBYEDbtm3h6emJzZs349atW+jXrx+srKzw1VdfZWfY2UL9sgtIfPNiY2NfOhiyTHx8PABAk9ubHOVS4eHhOR1Clrh2DZg6VY0qVTQoU0aLAwdU+OwzA65f12P5cgNat2YCKTMcHIBWrQRhYQnv5dKlBri6CoYP16BIES2mTlXj+fOcjpKIiIiIiIiIiIjo1dBqtfD09FQerq6uJvNPnTqF6dOn4//+7/9SvHbHjh2IjIzEL7/8gqCgINSrVw8jRozAb7/9hri4uFe1CVkmQy3lDAaD2Uylo6Mj7t27BxGBTqfLsuDeJpbuPCKCe/fuwdbWFkDCZ5IdRCTdZWsEgCpZC0lJOyZz7SnTW48lsWQ2nszYuXMn3n333YzHkk48qbU1zar4RRIScevXa7BihQaHDqnwzjtGdO9uQIsWBri5JV1nlqwyx7yKfSFxWWktU6UCqlVLeHz7LbBhgxqhoVpMm6bFiBF6dOligJVVloWU7Sw9FoleV5Yct0T0+uGxS5T78Lglyn143BLlPjxuKScl9pz4+PFjk5yRjY0NbGxsUpS/dOkSAgMDYWNjg0qVKuGrr76Cr68vAODZs2fo1asXJk+eDE9PzxSvPXz4MEqUKAEPDw9lWp06dfDZZ5/hn3/+QenSpbN687JVhpJy58+fN9tNpYhARBAVFcUuFbNZ4nutUqnw5MmTbFtPXFwcIiMj0ywTqNcD6mSft1FSfZ1er4c62f5hlNTLZySWzMSTWZl+b9KIx9x7k1A8c/HHxwOXL9siMlKHyEgdzp1L+PvxYw2Cgp6hUaNHGDv2Edzd9QCA+/cTHm+KV7UvAMCFCxcsLlukCDB/PrB5cx5MmuSFSZNU6Nv3Fho2fJQjY+2dOHECZcqUsbi8pcci0esuI8ctEb0+eOwS5T48bolyHx63RLkPj1vKCSqVCv7+/ihVqhRiYmKU6V988QWGDRtmUrZChQqYPn06ihQpgtu3b2PixIlo3Lgx9u3bB0dHR4wYMQKVK1dG48aNza7rzp07Jgk5AHB3dwcA3L59O4u3LPtlKClXtGjRNJNuBoMBer3+pYN62xgMBly7dg1+fn4WdUlpZWUFtfqlex5Nk7W1NQICAtIso9VqzSY+Unud9qY2xf6jltTLZySWzMSTWZl+b9KIx9x7A1j2/jx6BJw6pcKJE2qcPKnCyZNqnD2rgkYDlColKFPGiI4dBUFBBpQqpYeDgwaA63+PN1O27wsiMD6LwvXzB+Dr4w21ygiVGADRA0b9f//HJ/wvekAMUBn1EI0NxM4fgX2c0P8jA+YvsML48X5YtMgXoaF6NGlixKu8r2Hp0qVo06aNxeUtPRaJXlcGgwEXLlxAkSJF2AU0US7CY5co9+FxS5T78Lglyn143FJOEhHExcXh9OnTKVrKJVevXj3l71KlSqFixYoICgrCmjVr4Orqij179mDXrl2vJO7XQYaSchqNJs2knEajgbW19UsH9bZJ7BbUzs7utTmBqlSq9GNRKf8kmSZpvi753iNIf2w8i2LJZDwZUXb3aNyPewo/7zjM2fkFAMDV2h4R1cekLJzHGYiOBgDscLBH7ZinynRz8bha2+N+XEIZvwtxuFbEWpmevHxMDLBrlwrbtqmwdasa586p4O0tKFNGEBQkaNDAiDJlBEWKIFnrq+xN5L5WsmpfMMQCMeehenIOqseRUD05Bzw5l/Bc/xj+YgfrGw6ASguotQn/qzTK36K2+m/af/P1MVA9vQZV3D3YqG3wka8f+swtgNOXC+DPlQVw4g9/NP3QD+Xf9QdsPQFV9n5mFh9bmSxP9LrSaDTcl4lyIR67RLkPj1ui3IfHLVHuw+OWckJij4pOTk4Z7j3R2dkZRYoUwaVLl3DmzBlcvnwZBQoUMCnTuXNnhISEYN26dfDw8MDRo0dN5t+9excAzHZ3+brLUFKO6G12P+4p1CoVrhe1UdJbiYm05AxLFit/7wwNRY3Q0DSXnTSxF/pXKEL7/q+80QgcP67C1q0Jibj9+1XIlw+oV8+Ir782oGpVQS4897x+nt+E+uaf/0u6PY4Enl0F1DaAYzFI4sOrPuAYAL1dIYwcMwnffPNNxi989DHA06tQPbsK1dNrCMp7BYGFj+HuldWw+fcqrNbdhRE2UDkWhDgVT3g4Foc4BQKOAYDWLnveAzM0H7ZTEsy1HOyhadQYcHY22ceJiIiIiIiIiIiILBETE4PLly+jbdu2aNmyJTp16mQyv1q1ahg/fjwaNmwIAKhUqRK+++473L17V+m2cufOnXB0dMyVvXoxKfeWCA8PR82aNdMsk9gSDAD8vOIwe9uQ1FuCZYK51mCu1vZZsuw3zfXrwPbtCS3htm9X4cULoEYNwfvvC2bONKBIEbzSbg7fCrG3obq+GuIYAPFqCGPRTyCOxQA7X/Mt1l5mEF2tA+BcEuJcEomjdKoBeFYH7t0Dhk99js2rruH9+ufQpeUZ5NP+A9WtrVA9iQT0TwE7f5NkHf77G9Z5ExYmgoR2qPLf30Yz0xIf6YiOVra/9tPnCX//l6QjIiIiIiIiIiIiSsuoUaPQsGFD+Pr6IioqChMmTIBGo8H7778PNzc3s63d8ufPD39/fwBA7dq1ERAQgL59+yI0NBR37tzBuHHj0LNnT7PdZb7umJR7S1iSlEtsCQZAaQ2WWkuwzEirNdjbTgSIiACWL1dj7txP8O23WpQvL6hXT9CnjxHBwQL2DJvNXMrBUGNTtq7CkuPQzQ0YO16HPv0DMHFiIIq0eA+NGwtGjTKgVB0Bnl+H6vE/UD35B3j8D9RXf094Hncvw/H0L+6ABWvX44AuENNrzwI0tpncMiIiIiIiIiIiIqKUbty4gZ49e+LBgwdwc3NDcHAwtm7dCjc3N4ter9FosGTJEnz22Wdo0KAB7Ozs0K5dO4wYMSKbI88eTMpR5jmbGTfN2TmHg8pdTp9OSMQtX67GjRtAkyaCatV2YubM92HhOYlyEUuScol8fIAffzRiyBAjJkxQo0oVLVq0EIwc6YvAQF+IVz3TF7y4B8RHA1D914zyv4dKbTKtwp6vAZUKKgDl9LdRN/4yxkavg/YPb4hnHRjzNYF4NQR03lm56URERERERERERPQWmjNnTobKP3z4MMU0Pz8/LF++PKtCylFm+mQjsoxhyWIYNm6AYeMG7CxZMuFvjjOVrshI4Jtv1ChTRouQEC3+/luF0FADbt7UY9EiA0qWPMWEHCn8/IAZM4w4dUoPBwegUiUtunTR4Ny5ZAVt3ACHwoBDIcC+IGBfALD3T+h+0y4/oPMBdPlwR22Pe2p73FXbY4t1IXxuXwflnLtDX2s7JE8ZqC/+Cu26gtBsqwr1mW8A18ewqJtLIiIiIiIiIiIiIkoTk3L02rO0ZdHr7PJlYNIkNSpV0qJ8eS2OHFFh6FADbtzQY8UKA9q0EdhzeL0cFx4entMhpKpgQeCXXwyIiNBDqwXKl9eiZ08NLl16+WWLSgW4lIex5CgY6u6HvullGAv3gurhcagaH4GqzW6oqp4BfO8AWv3Lr5CIiIiIiIiIiIjoLcSkHClcre1hFIFRBPnPv4BRBK7WOZ8pyq1JuadPgV9/VWPlys9RsqQWu3ap0L+/Adev67FmjQEdOwqcnHI6SkrqdUvKmYunSBFg9mwDjh3TIz4eKF1ai759NbhyJQtXrPOGFOwGQ7WVkEU1IHtLAkYVVMH/QNV+J1T1j0F9/icg5kIWrpSIiIiIiIiIiIjozcYx5UgRUX2M8nfoX6EI7Ruac8HkYteuATNnqjFnjhr58gEDBjigVSs93N1zOjLKbdIag65YMWDePAO++AIYN06DUqUSxpz74AMjGjYU6HRZFIRBA9xwg9xwA1AccH4K5L8L1Y210J74ArAvCKN3I4h3I4jbO4DGJotWTERERERERERERPRmYUs5Miu3tk7LKSLAgQMqtG+vQWCgFv/8o8KSJQmtmfr0MTIhR9mmRAlg4UIDDh7Uw89P8MUXGvj4aNGxowZr1qjw/HlWrk0FRDsAp/1hqLkV+hZRMASNhSr+ETQHu0K71huavR9AdWkO8PxGVq6YiIiIiIiIiIiIKNdjUu4NVnb3aPhuGwLfbUOw1esBfLcNQdndoy16LZNylpF4DRYvVqFaNQ0aNdLA01MQEaHH6tUG1KolUKlyOkJ6W5QsCXz7rRGRkXps3WpA/vyCzz9PSNB16pQdCToAVs6Q/O/DUOk36JtdhaHGVohLWagvz4Z2XWFodjeFKmojIMYsXjERERERERERERFR7sPuK99g9+OeQv1fVuh6URuo/5v2xnJ2BqKjscPBHrVjnv5vWjYwRtvj2cYQPF33DkY7avDRR0Z07WpAnjwvv2wmROllqFRAhQqCChUE335rxNGjKqxYocLQoRp07w7oK3SGrnoEbCqehcpan4UrVkPyVoDkrQCUGAk8vwH1xVnQHO4JWDnDWKQfjAU6A1bZc0wSERERERERERERve6YlMul0hprKjfIjtgNSxYDAHaGhqJGaGiWLx8A9DfdELO8Dp7vqADrYtfg2G8lzn7ZGRpN1q0jN3+ulJLmw3ZAdDQAoJaDPTSNGifMcHZW9tnsolIBFSsKKlb8X4Ku7neP8PiX92Cc0gF2TfbCof1mwPZF1q9c5wNjqVAYA4dB9e9yqC9Mh/b0aBgLdIaxSD/AMSDr10lERERElAvk9u/zRERERJR57L7yNXHixIkMlQ8PD8+eQF6R3PoFxHDfCYjXwO27H+E6+f9gW/Vklibk6A0UHQ2o1IBKjdpPnyt/JybqXpXEBJ1jj7VwnzsWeb/+BXGnCuNu7+GI/asMRLJpxRpbSIFOMNTZD8O766F6cQ/azeXZtSURERERvbVy+/d5IiIiIso8tpTLQYktaDQCeNnpYD1vAaDCK2lBQ5ljE3QJNkGXcjoMymKJx+KrbsmWU1QqwLrkZbhOnYbnWyvj8f+1QdPDGnz/vQHFimXfSsUtBAa3kP+6tvw1SdeWH/3XtaVTNq2ciIiIiIiIiIiIKOexpVxOSmxBo1ahZkwMoFblSAsaorfef8diTrZkywkqtcCuwUG4zRqHAgUEFStqMWqUGs+eZfOKdT4wlhoDfZOLMAQOh/rKAmj/9INmVwOoT42E6sYfwPOb2RwEERERERERERER0avFlnJERBlUdvdo3I97Cp/8z1Fg5xcAAFdre0RUH5PDkaXP1doe9+OeAgD8LsThWhFruLuqMH26Ed26CT7+WI3Fi7X47jsDmjfPrj4t//Nf15Z6/47Aowio7x+A6sEhqE+tgerJOYguPyRvRUjeypC8lSAu5QErx+yNiYiIiIiIiIiIiCibMClHRG8eZ2cgOho7HOxRO+bp/6ZlkftxT6FSqfBvEWtoVCqo/puWGyRNHIb+FYrQvqHK84oVBX/9ZcCcOWr07q3BnDmCac+8Udj+dvYGpVIBLuVgdCkHoF/CtLhHUD08AtWDw1Dd3wf1uWnAi7uAUyAkbyUYXStD3KoBjsUTXk9ERERERERERET0mmNSjojeOIljwe0MDUWN0NCcDSaX0WiAXr2MaNnSiJEjNSi9eRaG+i/HFwWWQqeJe3WBWOfB/7N33+FRlF0Dh38zs+m99wAphN57DaGjUqSj6KuiYvcV7IVgBXtX/F67FDt2KQICKiAqCCi9twCB9Lozz/fHQgQJkECSTTn3dS07O8zOnpns7Mwz5ykqrA8qrI/jtVKQv8eRpDv6K/quWWh//BdsPqiQrqjg7lgh3cG/BWhG1cUphBBCCCGEEEIIIYQQZSRJOSGEEKcJCYEZM0yuWXcnt2y6hQ8O9ub1Ri/QJ+gP5wSkaeAZi/KMRUUPd8wzC9COrkY7sgzt4Dxs66eAZqCCu6BCuqGCu6EC2oLh5pyYhRBCCCGEEEIIIYQQ4iSSlBNC1FrJycnODqHG6+z3Nys73MorewYzbG0q/4mcz7SE/8Pd2YGBY0y6kG6okG7QGLDsaBlr0A4vQzuyDH3Ts2DPQwV1RIV0R4X3RwW2k5Z0QgghhBBCCCGEEEIIp5CknKh1JBEjTpDvQsUwNItbY+cyIOhXrvprMm1Wvs5bKzQ6dVLODu1Uug0V2M6ReEv6LygLsv5CP7wc7dBi9M0vgu6CCu+LFT4AFd4P3IKdHbUQQgghhBBCCCGEEKKO0J0dgBAVTRIxQlSOhl77+LHtJK6K/J5+/Qzuv1+nsNDZUZ2FpoNfM6yEiZhdPsQ+5ABml49QHtEYm57B9mU0xg/d0Dc8gnZ0tSOJJ4QQQgghhBBCCCGEEJVEknJClFGQqxeWUkRvKcRSCkspgly9nB2WEOftfBLYNt3invpzWLbMznff6XTpYmPt2oqPrVLoLqiQ7lgtHsfe7zfsF23FanAVWuafGD/2x/ZVDMaqq9B2z4Gio86OVgghhBBCCCGEEEIIUctI95VClNGaHlMBSF2eSurEVOcGI0QFuJBWpS1bwi+/2HnkEZ3u3W3cf7/FpEkWtpp0VvGMRsVdgxl3DVhFaEd+Rjv4Pcbf02DVVaiQZFT0MKyoIeAe5uxohRBCCCGEEEIIIYQQNVxNun0qRLUg3WOKcvHzg8xMABZ5e5GSk/vP/FIYY8aWLN/L2wtj4KCS5c05sys93PJwc4NHH7W4+GLF1VcbfP21xptvmjRs6OzIzoPuigpNRoUmY7WYBjnb0fd9jrbzPWx/3IYK6oKKvhQreih4RDk7WiGEEEIIIYQQQgghRA0k3VeKClGXElV1aVvFhTPnzMb87lvM775lcdOmJdNnTLBlZjrGQtN0UnLzS6ZPJOqqo06dFL/+aqdtW0WHDjZefVXHqunDs3nHYSVNwuy9HPugzajooWh7P8H2dTzGoh7om56D3J3OjlIIIYQQQgghhBBCCFGDSFJOVAhJVAlRt3l5wfPPW3z6qcnTT+sMGmRw5Iizo6ognjFYibdg9lqM/eIdqNhxaAe/x/ZdY4yFndA3Pgk525wdpRBCCCGEEEIIIYQQopqT7itrkFZLp5Be5Oj6Lja8iDcXTgYgyNWrZLwzIYRwpt69Fb//buc//zEYOtRg3jwTLy9nR1WBPCKwEiZCwkQoPIy27yv0fZ9jWz8VFdIdK/5aVORg0F2cHakQQgghhBBCCCGEEKKakZZyNUh6US66pqFrGnsT3UqmTyTqhBB125IlS5wdAgD+/jB7tonNBuPGGRQXOzuiSuIWgoq7GrP7V9gv2oIK6YGx9m5sX8ehr3sAcnc4O0IhhBBCCCGEEEIIIUQ1Ikm5WizI1QtLKSyliN5SiKUUQa61qcmKEMIYMxZj4CCMgYPQXnmlZNoYM9apcXl4wGefmezcqXHjjQZKOTWcyucRidXkPuyDNmG2n4GWuQHbd00xll2Ctu8LsOzOjlAIIYQQQgghhBBCCOFk0n1lLXZyl5apy1NJnZjqvGCEEJUjMxM0R/2KlNz8kmkyM50YlENgIHz9tZ2ePW1MmaLz8MOWs0OqfJqBihiEGTEI8vag73gL4/fbQLsdq8F/sBpcDZ4xzo5SCCGEEEIIIYQQQgjhBNJSTgghRKWJiYGvvrLz+us6r71Wx045njFYTadgv2grZusX0I6uxvZtEsbyoWgHvgNVB5KUQgghhBBCiBpj7dq1zg5BCCGEqPXq2B1SIYQQVa1pU/j8c5N779X59FPN2eFUPd2GihrsGHtu4AaUXzOMXydg+745+tbXwZ7j7AiFEEIIIUQ1Vt6xo6vLWNOi5vnzzz+dHYIQQghR60lSTgghRKXr2lXx7rsmV19t8OOPdTAxd4JXA6zmj2K/aBtmo7vQt/8ftq/j0P+8B/J2Ozs6IYQQQghRDUlSTgghhBCi9pCknBBCiCoxZIjiqacsRowwqPMVMA13VIMrsfddjdnlI7Tszdi+bYzxyxi0Iz+DUs6OUAghhBBCCCEqlCSMhRBCCEnKCSEXhUJUoeuus7j5ZovBg23s2uXsaKoBTUOFJmN2/Qz7gLUo90iMZRdj/NAFbdcssIqcHaEQQgghhBBCVAi5/yKEEEJIUk4IuSgUVSY5OdnZIVQLDz1kMXCg4qKLbKSnOzuaasQ7Aav1s9gv3oGKHYuxYSq2bxLR/3ocCo84OzohhBBCCFGNGWPGYgwchDFwEL02bCiZNsaMdXZoohaT+ylCCCFE+UlSTgghqogk5Rw0DV56yaRhQ8XQoQZ5ec6OqJpx8cNqeCv2gX9htnkRLe0HbN81Rt/8vLScE0IIIYSoI1otnULMwsnELJzMgvCjJdOtlk4p/Q2ZmaDpoOmk5OaXTJOZWbWBizpFknJCCCFE+UlSTgghRJWz2eCDD0x0HcaNM7DbnR1RNaQZqKghmL1+wOz4Pvr2N7HNa4W2/ysZc04IIYQQogY6kWgrS5ItvSgXXdPQNY29iW4l0+lFuVUctRBCCCHEhZk2bRoBAQGnPDp06ADAsWPHuOuuu2jfvj0RERE0a9aMu+++m8x/VSzas2cPo0aNIjIyksTERB588EHsNfSGos3ZAQghhNP5+UFmJou8vUjJyf1nnhNjAapHPJXI0xM+/9wkOdnGjTcavP66I0knTqciBmAP642+/f8wfr0W5d8Ks+WT4N/C2aEJIYQQQogyOpFo25voVlJDWpJsQgghhKgLGjVqxNy5c0te22yO1NSBAwc4ePAgDz/8MI0aNWLPnj3ccccdHDx4kHfffRcA0zQZPXo0YWFhzJs3j4MHD3LDDTfg4uLCQw895IzNuSCSlBNC1HnmnNkALE5NpWdqarWIBcoYTw1P4gUGwtdf2+nTx0afPgYzZpgkJjo7qmpKd8FKuBErdgz6X49h+6ErVv0rsJpOAfdQZ0cnhBBCCCGEEEIIIUSpbDYbYWFhp81v0qQJ7733XsnrBg0a8MADD3D99ddjt9ux2WwsWrSITZs2MXfuXEJDQ2nevDn33Xcfqamp3HPPPbi6ulblplywciXlTNNE07TKiqXOMRSgqZJeyJQCTVOgHPu6NGfqsOxMy5e8T6lzLlNXyb4RJ5Tru3DSgauO/y5W9PeoLPGYMz8omV708MN0O7l2SAXEc+J36tTAKnZbo6Jg5UqTBx6w0b69jSlT7Nx0k4lhVNhH1C6GH2bzJ9HqX4Nt3b3YvmuCvdE9mPE3guHm7OiqtRPfW/nNF6JmkWNXiJpHjtszK61MXxHl/1Kv24+vRP4OoizKety6jLsc7XjF0F7eXhgDBqH8/Cie9cFZ3wdy/0WIiibnW+FM6vi90aysrFNyRm5ubri5nX5/avv27TRu3Bg3Nzfat2/PQw89RExMTKnrzsrKwsfHp6Q13a+//kqTJk0IDf2nUnrv3r2ZNGkSGzdupEWLmtWTVLmSclu2bCnZ2eLCNbbbQf/nC2uax/tAtRSbNm06bXm73Y5eSlLUUqUvf7KioqJzLlNXyb4RJ5T1u3DysXjiwqcsx2FlxXO+y5fFv3+ngDP+Rl2om26C9u29SU2NZuZMk4cf3kP9+oUV/jm1StAT+Lj9TOSWp9E2v8b+sP+S5dMLpALNWW3dutXZIQghzoMcu0LUPHLcnqq0Mv2ZyhHlLf+Xet3ueIOUd6vQ2rVradmypbPDuCDnOm4bp6eXfNd6ZGVhB0hPL9P3TO6/CFE55HwrnEHTNOrVq0ezZs3IyckpmX/33Xdzzz33nLJs27ZteeWVV0hISCAtLY3p06czaNAgfv75Z3x8fE5ZNj09naeeeoorr7yyZN6hQ4dOScgBhISEAJCWllbRm1bpypWUS0xMlJZyFchms4GuoZQjIWcYNsd9VEuRlJR02vKhh/04Wuzomi52axG7ExzNMoNdvEpd/mSurq7nXKaukn0jTijrd8G234aGIyFnGAZoGroq/bitinjOd/myOPE7dYoz/EZVhKQkGDZM8eCDbowdm8T999u57TYTm3S2fBZJYI1H3/E/6v/9CFb+XOwtn0b5NXd2YNWOaZps3bqVhIQEx7ErhKgR5NgVouaR47Z0tv220+6pnKkcUdqyZ12+tOt2qNRrd3G6Dz/8kFGjRjk7jPNyosLpuY7bCykjyv0XISqWnG+FMymlKCoqYv369ae1lPu3vn37lkw3a9aMdu3a0bx5c+bOncv48eNL/i8rK4vRo0eTlJR0WmKvNinXbU7DMCQpV5E0xz/a8S4mtOOv0VSpP6Rre04tmU5dnkrqxNSyf5SmyY/zGci+ESeU9bsQ5OpFelEullKOAdqVIsjVq8K/R+X9blbKd1kr+eekeaX/RlUUPz948UXFyJEm111nY+5cg//7P5OmTSvtI2s+w4CGN2GvPw79r0dxXdwdK+EGrCYPgovPud9fxxiGIb/7QtRAcuwKUfPIcXu6f99RUXDGfVTa3ZczLl/adTtU+rW7OFVtuL9wzuP2AsqI5d0/S5YsITk5uczLC1FXyflWOMOJHhV9fX3LnTPy8/MjISGB7du3l8zLzs5mxIgReHt788EHH+Di4lLyf6Ghofz222+nrOPw4cMApY5TV93pzg5ACGdptXQKMQsnsyD8KDELJxOzcDKtlk5xdliiBljTYyo7e03nh9jr2NlrOnv6PM2aHlPP/UZRLt27K377zU6XLorOnW1Mm6Zjtzs7qmrONQCr1TPYey9HS1+BbV4LtL2f/TMGohBCCCGEEELUEEuWLHF2CEIIISpBTk4OO3bsIDw8HHC0kBs+fDiurq7MmjULd3f3U5Zv3749f/31V0kiDmDx4sX4+PjUyBbYkpQTdVZ6US66prE30Q1d09A1jfSiXGeHJYQ4iacnPP20xfffm7z/vk7Xrjb+/NPZUdUA/i0xey3BbPIgxm83YiwfAjnbz/0+IYQQQgghhBBCCCEq0IMPPshPP/3E7t27WblyJePHj8cwDIYPH16SkMvNzeWll14iOzubtLQ00tLSSrpWTklJISkpiYkTJ7Ju3Tp++OEHHnvsMSZMmFBqd5nVnYzSI4QQotrr0kWxerWdqVN1unWzcdttFr17K+LjFVFRoFdwFZNa0U2KpqPirsYedQnGn/dhm98aq9FdWEmTwah5FyxCCCGEEEJUtVpRLjiHVkunlFRQjorOp/7iuwHHsA3SI4wQQoiKsG/fPiZMmMDRo0cJDg6mY8eOLFiwgODgYJYvX87q1asBaNOmzSnvW7t2LbGxsRiGwZw5c5g0aRL9+/fH09OTsWPHct999zljcy6YJOWEEEJUC+cq8Hp4wLRpFpdeqkhN1Zk5U2fvXg03N0VcHMTHKxITFfHxjun4eEVMjGO4tYqOpUZxC8Fs/39oDf6D8dvN6LtmYbZ5CRWW4uzIhBBCCCGEqNZqVbngDE70IqSAPQmuGJqGdnx+qfz8IDMTgEXeXqTk5Drm1VLGmLEl21vCzw9zzmznBCSEEDXQW2+9dcb/69atG8eOHTvnOmJjY/n4448rMiynkaScEEKISlHeAmxZl+/QQfHtt47m6/n5sH07bNumsW2bxtat8NlnGtu26ezeDTYbNGgATZsqJkyw6NNHUc6xZyuFMwr3Krgr9r6r0Le8hPHTcFTkxZitngL38CqNQwghhBBCCFFznZyMWpyaSs/U1LMuf3JLvNjwIt5cOPmsrfBOToL18vbCGDjIuUmwzEzQ9NPnCSGEEOdJxpQTQghRKapiUG4PD2jaFAYPVvz3vxavvOIYf27LFjtZWXZ++83O9OkmCQmK8eMN2rSx8c47GgUFlR7aWTltwHLdBSvpDuwD/gSrANt3zdC3vgrKdE48QgghhBBCiFrtREs8XdPYm+iGrmlnboV3gZxWzhJCCCHKQZJyzuTnB8oCS7HE2xss5Xhdi5v9CyFEVXFzg0aN4KKLFI89ZrF9u50bbrB46imDhAQbjz6qc/iws6N0Es8YzC4fY3Z8F33T8xiLekDmemdHJYQQQgghhKjjzDmzMb/7FvO7b1nctKljuoyt5CQpJ4QQoiaQpJwTnbjQKPrmK+YnNaTom6/KfLFR2/s0F8IZ5LiqvZYsWYKnJ1x3ncW6dXZmzDBZtkwjPt7GDTcY/PWXsyN0DhV5Efb+f6CCu2Jb2AV9w8NgFjo7LCGEEEIIIUQNIGVoIYQQovwkKVdDyYWPEBVPjqva6+Qak7ruaD03b57J0qV2CguhQwcbl1xisHChhlIXtv4ax+aF1fJJzOSF6Hs/w7awI1r6KmdHJYQQQgghhKjmylKGDnL1wlIKSymitxRiKUWQq1flByeEEEJUUzZnByCEEKLucvYg3q1awVtvmTz6KLz2ms7lQ/OJdDlC34RIspePxN8lt0zxLFmypMYndVVQB+x9V6H/PR1jSR+s+OuxmqWCTQrMQgghhBBnU9ZrwSBXr9PG0pLkRPXUaukU0otyiQ0v4s2FkwHH32pNj6lOjqzmOXmfpS5PJXViqvOCEUIIIaoBScoJIYRwnsxM0ByNtlNy8x3Tx5N0VSkyEh55xOKBlWN572A/3th2Ea/kXkv/oN8YHbaYQTng7V3lYVU93RWr6YNY0ZdirL4e2/w2mG1fRYX1dnZkQgghhBDVVlmTcpLQqTnSi3LRNY29iW4lXUz9O6F6shOVDUsqGkKVVjYUQgghRM0hSbk6oqa34BBCOImfX0mSbJG3Fyk5jpZjNUV5a7h6GoVMjP6GidHfsDE3hg8P9uSRHZdzXbSNiy5SjBpl0b+/wt29/LGU2ioQqmdh3a8pZsqP6FtewfhpBCpmJGbL6eAa4OzIhBBCCCGEqH6OVzYsqWh4Yp4QNVRt6A1GCCGqKxlTro6QE6kQtV9lHOfmnNmY332L+d23LG7a1DFd3RJIZ3FKDVdNQ9e0s9ZwPVkjrz1Mif+ADZ2uYckSO/XqKSZPNoiOtnHNNQbz5mkUF5cjmBOtAk8urDupZWCZaAZWw1ux9/8d8vZgm9cSbd9cZ0clhBBCCCGcrEaPpyxqFLmX5TxynAshROWRlnJCCFFLSIGlcmiaY+y5Vq0sHnvMYtUqjY8+0rj2WoPiYrj0UoucnDiKisDV1dnRVgKvBpg9vkXb+R7Gr9ehds/BbP0iuIc6OzJRi5mWSf2X6hPjG0NiYGLJo2FQQxICEvBx83F2iEIIIUSdVRda0JwY/y92axG7E1xL5omqVdu/Z0IIIZynqKiIXbt20aBBA2y2qk2TSVJOCCGEKCNNg44dFR07Kp580mLZMkeC7osvRvPllzZ69VIMGKDo18+ifn1nR1uBNA3V4Ers4f0wfr8J24J2mB3eQYWlODsyUUtpmsbcUXPZfHQzW9K3sCl9E19v+ZotR7eQXZRNhHfEKcm6kx+Gbjg7fCGEEKLqldbt/In5okR5x/9LXZ5K6sTUyg1KXJBShwmojkMECCGEqBby8vK4++67mT3bcZ5YvXo19evX56677iIiIoL//ve/lR6DJOWEEEJUmBNjuAEl47idbQy3mswwoPfrY+idmcnIPt4EHgjn+786MOeXTtx2WyMSEqB/f8cYdN27K2pFvVqPCMwun6Jvex3jp2FYDW/DavIQ6HI5ISqWrum0jWhL24i2p8xXSpGWm8aWo1vYcnQLm49u5qe9P/HO2nfYdmwbLoYLzUOb0yqsFa3DW9MqrBVNQ5riZnNz0pYIIYSozco7fnF5nGipVdr80pycgFicmkrP1NQyf1ZdaPl2Ql3a1ppMKdi0CQoKwNMTvLz+eXZxcVSWLHFimAD4Z5iA6jpEgBBCCKd7+OGHWb9+PV999RUjR44smZ+cnMy0adMkKSeEEKJmOTGGG+AYx+34PGep9G5njhcA++Tlgd922vht5z41iyOzvuWHHzTmz9e59lqdY8cg2fNRBgStZkDwahI891dcDFVN07ASbsAK7oxtxeVoh5ZidnoPPGOdHZmoAzRNI9w7nHDvcLrHdj/l/4rNYv468hdr09ay5uAaPlj3AXcuvJN8ez6NgxuXJOlahbWiZVhL6QJTCCHEBTtl/OKT5lWEqqzUVpZElbRGOofjLRWlleKFOXgQZs3Sef99na1bwd0dcnPBbv8nC2cY6pQknWfaDLyMAryMQsJcjxLllk6U22HCP9OIioLISEVEBFRxz2RCCCGqqW+++Ya33nqL9u3bo51Uy6NRo0bs3LmzSmKQU5IQQohay1ndzgQEwIgRihEjTJSCdetgweh1fH64G5O2XE+i5z4uD/+BcRGLiHVLq7K4KpR/K+x9VmD8cTu2+e0x289ARQ11dlSiDnMxXGgZ1pKWYS25osUVAFjKYtuxbaw5uIY1aWv4ftv3PPHTExzOO0xiYCIdIjvQMaojHSI70Dy0OS6Gi5O3QgghhKimanhrpMps1Qj/tFQsayvFk5OcJSohyVkTWgYWFMDXX2u8/77OggUaXboobr/d5NJLFT7H61AVFzuSc3l5/zzn5Wnk5UHB3e+Qa3mQbfcgrSiQfYVBrM+px77HDfbvhyNHNDRNERYGUVGKyEjHc2wsdO6saNdO4SadKgghRJ2Rnp5OSEjIafNzc6uuUYEk5aqJFi1aODsEIYQQlUDToEULaF3/Q+5q8DFZdk++PNyJDw70Zsr2K+juv45x72oMG6bw9XV2tOVk88Zs/z+00FkYq67BqrcYq+V0MNydHZkQgKMbzBNjzY1s4uiWQinF/pz9/H7gd1btX8XnGz/nvsX3YbfstA1vS8eojrSPbE/HqI5E+0Y7eQuEEEKI8qvuSRhnqMxWjeflpCTnKfMqWHVNyikFv/6q8d57Gh99pBMQAJdfbvHccyZxcacv7+IC/v6OR8kKcragHVuNcdE7EJINAdmgAabueIRGge6KpbtTZHejoNid/EI3cgvcyMlz50imN9+90Jr7/u6MV1Rzuna30bOnon17SdIJIURt1qpVK+bPn891110HUNJa7v3336dDhw5VEoMk5aqJli1bOjsEIYQQVcDXlsflEYu4PGIR+wqCmH0wmeefb8Wtt8KQIYrLLrPo3VvVqO5VVL1x2APbY1txOfoP3bB3+gB8Gzk7LCFKpWkaUT5RRPlEcUnDSwAwLZO/j/zNqv2rWLlvJY8se4S/j/xNpE8kHSI70CGqA52jOtMush2uhquTt0AIIYQ4u7IkYUrtjhJqdZeUSoF9WxRWlhcq3w0z35XXt+rk5HDSQzvl9Y4dE0hP12ndWtG6taJJE86asKmOCbDqJDvblyef1HnvPZ39+2H4cMWnn5p07arQ9TO8SSnI34d2bDXa0dVoR39DO/Yb2HPArznYLNSWSDjqC5YGhgW6HWv6o2AWgFWIi1mAi1WEr1VYMo+iDHp3/ByVfh+WabL5SHt+eL8Tr97XGTOgI83bh9Kzp6KT6YK7zazS/SSEEKLyPPjgg4waNYqNGzdit9t5/fXX2bRpE6tWreLrr7+ukhhq0C0/IYQQziQFzFJc4NgRUe7pTK73Mbd/exVr18LMmToTJhhoGowdazFunEWNqbPhk4g9ZSn6uvuxLeyM2eYFVL3x/xqFXYjqydANmoU2o1loM65udTUAWYVZrN6/mpX7V7Js9zKe+uUpCuwFdInuQnK9ZJLrJdMmog02XS6nhRBC1ECldUd5Yn4tU1QE+Qvbk/dZCubBIHT/bDTPQjT3Qr6O1vD25vhDERysqF/f8drHR/H553/g6hrLBx/oTJ6sUVgITZtSkqRr3VrRvLnC09PxWVJmOpXdDr//rrFokePx44+T6dVL4557TIYNc4wNV6rcHeh7PkY78osjAVeQBj5JqMB2qKhLsJpNRfm3AMMd49lBp7c6VBYqrPdpq1WlfZYyIXM9jdJX0qjdSq47cBfuRVtIy23Asq87c59rP/IPhhGVl09v/z9p77sJm2Zd6K6pctW11aQQQlS1zp07s3TpUp5//nmaNGnC4sWLadGiBfPmzaNp06ZVEoPcRRBCCFEmcgF/uvKOHXEmmgatWkGrVhZPPGGxcKHGzJk63bvbSEyEO+80GTOm1CJk9WK4YbV6GhXaC+PXCai0RZhtXgIXH2dHJkS5+br5ktIghZQGKYBjfLo/D/3Jj7t+ZMmuJTz5y5Mopege252e9XqSXC+ZlmEt0f99U0gIIYQQTpGRAf/7n87LL+vkqv54XboEzz6r0NyLAbCU4us+T591HTt2/EZqqqNlvWXB1q3wxx8af/yhMXeuxpQpOpmZ0KiRI1HXqZNi+HCL4ODK2abqnlixLMd42kuW6CxerLFsmYauQ48eiksuUTRt+gzPPfff0t9clIG291P0XTPR0n9BhfZGhfXCang7KqA1uFRSX/+aAf4tsfxbQvx1GEBxYTpBR1cyrO0KBix4EtfQo5hK57s1A7l29TiKd4fS7f90+vSxaNCgcsKqaNX9uyOEEFWpQYMGvPDCC077fEnKCSGEENWIzQYDBigGDDDJyoKPP9a49VaDX3+1mD7dqhHdWqrIi7D3W42x8kpsCztiNnkAFX2pjDUnajRd02kV1opWYa24rcNt2C07aw6uYfGuxfyw4wceXvowroYr3WO706teL3rW60mTkCaSpBNCCFE9He/xATjvXh+qq9274eWXdd58U6dxY8Wzz5rc6vUYxgVeR+s6NGwIDRsqRo92VJhTCnbt+idR9/77GnfcYeOiixRXXGHRv7/CxaUCNuq46pZYUQo2b/4nCffjjxp5edCtmyI5WfHggxatWikMw7F8auq/WmJaxWgH5zsScfu/Ap8krPqXY3aaCR4RZQuitO/yWb7H2iefoH/y2alhjLgUNWLEPzPcglARg1ARg/C8azXoGragLIbE/sHAy37A5p3Hz3sG8eiE4aw7egmduvvQp49jm2vcOOFCCFHHzJ8/H8Mw6N371BbVP/zwA5Zl0bdv30qPoQbc2hNCCCGqyAV2R1nRfH3hmmsUPXrYGT7cxvr1GjNnmpVW87ZCeURh9pyHvvVVjL8ehTV3YNW7HCvuGvBt7OzohLhgNt1Gu8h2tItsx52d76TILGL1/tUs2bWELzd/yb2L78XTxZMu0V3oFtONbjHdaB3eGhejAu/MCSGEEOfp5HHjytTrQzkTHyerqkTSH3/A888bfPKJRv/+ii+/NOnSRaFpcNtCBZS/W/Vzxa1pUL8+1K+vGDZM8fDDsHEjvPeezk03GVgWjBtnMX68RbNm57VZ1U5RESxapPHZZzoLFmgcOgQdOzoSUjffbNG+vTrruHsoBRl/oO/8AH3Ph6DZsGLHYvb+CfxblDue8n6X1YgRmCcn4MpCaXDED+2IH26/KwjIotu9Tena/An03GvYkN6HmXOGc8M1Q0hsGkifPopu3RTh4YqQEAgI4Mxj5gkhhKhSU6dOZcqUKafNV0oxdepUScoJIYQQVamiuqOsaImJsHy5nf/8x6BLFxsff2yvGWPNaQZW4i1YCTehHf4Rfdv/YZvfDhXUEStugrSeE7WKq+FKl5gudInpwn3d7qPQXsjvB39n2e5l/LjrRx7/6XHslp1OUZ1KknQdojrg6eLp7NCFEEKIcyp3Eu8klZmUUwoWLNB49lmdn37SGD/e4vffTZKSKmb95xN3o0bw+OMWDz9s8cMPGu++q9Opk43mzRVXXKEYPdoipGLCqzLFxbB4scYnn+h88YWGmxtceqnFjBkWXbueZWy4k+Xtpkfwz9jmt4LcXaiooZgd3kGFpTi6kKwxNDjqg9UsFZqlYmZtpMm+z3ki/mWeGHY9e4t78s2fl3Lf7YNZuyWK4mIdw1AEB0NwMISEqJLnkBAICYHgYEVYGMTEKCIjqdDWlUIIIU61fft2GjVqdNr8hg0bsmPHjiqJQZJyQgghxL9Upy5hTvD1hU8+MXn0UZ3kZBszZpiMGlUDxpkD0HRUaC/M0F5QcAh953sYGx6R1nOiVnOzudE5ujOdozsDYFom6w6v46fdP7FszzJm/D6Do/lHaRvRlq4xXUmul0yP2B54uHg4OXIhhBCi+tu3Dz78UOe993T27Cnmlls03n3XJCzM2ZH9w2aD/v0V/fubHD0KH3+s8+67GnfeaWOw/wNcGbmAfoG/YdMtZ4daKmXqLFzoSMTNnavh4uJIxH3yiUWXLv90SXlGVjFa+gq0A9+hH/weMv8i3isWM+lBVPQwsHlXeMxOKcf5NsLyvRer8b2Qs53IfZ9zXdh7TGx7M8rmi90ziVyjIcfMRhzMa8iezIZsO5TIwUPubNmi8csvcPiwzsGDkJbmaH0ZEQHR0YqYGEeiLibG8To21jEdHOxYTgghRPn5+vqyc+dOYmNjT5m/fft2PD2rptKsJOWEEEKIf6luSbkTtYt1HR56yKJlS8XVVxusXeuogXvOAnF14h6K1WgyVtIdaIeWoG//n7SeE3WCoRslY9Ld1P4mlFJsPbaV5buXs2zPMm749gYO5x2mR2wP+sX3o19cPxoFNUKTOy5CCCEEAFlZ8PnnGrNn6/z4o0bXropbbzXZuvVxUlPvd3Z4ZxUYCNdfb3H99bBhA3wwJI0Jf91BkeVCJ7+/6OL/N518N9A2B7wrPldVZsrUKVzXkIKlrSj4uQX/cTcYNsziww8tunUrQyKu4KBjjLgD36GlLQTNhgrvh9noTlRYX95+4mVS64+vtPidXo7zjsNKmgRJkzCLs9Cyt6Blb8QnezO+2Wuor31IJ2sreBVBs/oonySUT0PwaYjyjqfICOXA0VB2Hghmz16DPXs09u51tAbds0dnzx7IzNRwd1ckJkLnzhadOyu6dFHUry+JOiGEKIuBAwdy77338sEHH9CgQQPAkZB74IEHGDhwYJXEIEk5IYSoppxeoBAVq7RxOE7ML4UxZmzJ8pq3F8b0J0uWHzJnNkuX2hk50sa6dRrvvWfi7//Pe6vbAPCl0nRUWApmWMqpref++C9W7ChU7DhUUCcpWYpaS9M0EgMTSQxM5KpWV6GU4q8jfzF/+3y+3/o99y++n3CvcPrF9aNvXF9S6qfg5+68MS6FEEIIZygqgvnzNWbN0vn6a434eMcYbW+8YXKigntqarFzgyynpk3hycT/4/GEt1mV1YgVmY35OaMJr+y5hEPBNpo3dyRbOnVSdOqkaNCgci6JlXK0OCz8tTHmziiKd0RQ+HsSmgbuXf/E/9632XX7xLMn4pSJdnQ12oHv0A5+j3ZsDSqgFSp8AFbD21GB7U7pmrLal1EqkosvKrAtBLbllP5NlAV5u9GyN6Flb4bszWh7PkbP3YlHYRrxZj5x6OATDK1DUJ1DwS0E5R4GbiHkq1AOZYWydXcAa9e58d1sD558wA0ffzdatHShdVtX2nZ0pXlLV1xcXaQ8JYQQ/zJ16lRGjhxJhw4diIyMBGD//v107tyZRx55pEpikKScEEJUU3WqwFLDleVvVe5xODIzQXOMBp6Sm18yfSJR17Qp/PSTnfHjHePMffKJnSZNHIvUiKTcyU5uPXd4KfquWejLLgG3YKx6Y7Fix4JPQ2dHKUSl0jSNpiFNaRrSlP92/C+5Rbks3b2U+dvnc/+S+9lxbAedozvTL64f/eP70zKsJfqJ3wUhhBCimjm5glkvby+MgYPAz++Ua+IzUQpWrNCYNUvj4491PDxg9GiL5ctNWrSo7Mirjk236OL/F138/+KOep+iLIvtr3/LihUaK1ZovPCCwTXXOLoq7NhR0bmzYtu2hqxYoeHrq/DzA39/8PQ8d94lJwc2bNBYtw7Wr9dYt05j/XqNY8c0jPAR2BocwFZ/P753voN76x3ohoWlztAyruAg2sEF6GkL0A4uAGVHhfXBSrgRFd4P3MPPGEeNKqNUFk0Hr/oor/qo8P6n/789BwoOoRUehoI0KDyMduI54088Cw/ToPAQDTwy6NuuCNoUglmIpk5KTu86/gDslitKd+PORLAt+M6R3HMPQ7mHgtvxZ/cwlJvjGdfAf8qeQghRC/n5+TFv3jwWL17M+vXrcXd3p2nTpnTt2rXKYpCknBBCiAoT5OpFepGjBVjs1iJ2J7gS5FqWUb9rNmcVLgMC4IsvTB58UKd7dxtvv20yeHANGWeuNJqOCk3GDE2GNi+g7f8GfddMbH8/6ahxGzsOK2YkuIc6O1IhKp2XqxcDEwYyMMHRfca2Y9tYsH0B87bPY/rP0/F08aR3g970jetLnwZ9iPCOcHLEQgghxElKq2B2PElXGqVgzRr4/HOdDz/USU+H4cMVc+aYdO9ehm4TawFNg/r1oX59xZgxCrDIzYXVqx1JumXLNFasuIjFiw0yMqCoyJGJMwxHgu7EY7PagemRg+adj/uhkUx/KxPzYDC6Tx7dWrvTrJli3DiLZs2gSRNFk5WPoGsaCjDtdjTjX7cKrSK0Iz87uqVMWwAZf4J/S6zwvlhdPkQFdQbdpYr3Vi1m8wZvb5R3XMmsMpXwlAKrCKxCzOJCNv1VxHWfzaNwayD6zlD8tXyi+/9AdJvfqOe6hWtDDcj8C63wkCPpV5CGZhWiNBu4hXJFrAf6tiisyIvAI7LSNlcIIZxB0zRSUlJISUlxyudLUk4IIUSFWdNjasl06vJUUiemOi+Yk9TmGpmGAY8/7hhn7sorDSZNslCqFnRRYnigYkZgxoyAwiPoez5B2z0L21rHeBRWvXGoyEvAVjWD8ArhbPEB8cS3jWdi24kU2gtZsW8F87fP5+VfX2bCVxNoFtqMvg360jeuL11juuJuk7EZhRBCVG+m6WgRN3euxhdf6Bw6BP36KR5/3OSiixTucirDywtSXhtDyolu8Lv/0w1+gXcwR19+j8xMyMrSyMhw5D2vX7ESI88DleOBGVuIb4MVuNQ/AIEZLOz79GmfcXLFSkspdKWoZ2ZwsTqIsXwY2qElYPNEhfXBbHgbKqyvo0WVqF40DQw3MNwwXKBJO9iV8Rd6bw2lYOevTVj27m1YM3zxGj2fy54agpvbSe9XCuxZjuRcQRo7P3yExJ3vYvv9FlRAG1TUJViRl4BvU+kSUwhR48yYMYMrr7wSd3d3ZsyYcdZlr7/++kqPR5JyQgghar3anJQ7YfRoRcOGjnHmdP0/XH45JCY6O6oK4haMlTAREiZCzjb03bMxNkyF325ARV+KFX+DY7wGIeoIN5sbPev1pGe9njzW6zEO5R7ih50/sGD7Aq768ioyCzPpEduDPnF96NugL42DG6PJzRMhhBAV5EKurYuKYMkSRyLuq690Cgvh4osVTz9t0qePwtPT0RW7u/v5f0atc4Zu7d1zjhAWBmFhcHJbqtv9VqCXct63ztDcak2PqWDmow78QNbGOQQWrUbL240K6owK6obZ9EHwbyVdGtZgmgbuHf7Crd3fFPzUguwPBtDkGxv33WdyxRUKF5fjC7n4gYsfyqchS490IaV3KuQfQDvwLfr+r7D99Th4RGFFXoyKvAQV3BV0ubUshKj+Xn31VUaOHIm7uzuvvvrqGZfTNE2SckIIIURtVFlJwtat4ddf7fTvf5R27eK56y6LyZOtU2tA1nTe8VhNHsBqfD/asdVoO97BWJKC8m+N1fAWVOQQKRiKOifUK5SxTccytulYlFKsO7yOhdsXMm/bPB5Y/ADBnsEMjB/I0EZDSa6XjKvh6uyQhRBC1GDlvZbNNd2Yl96Ozw914ZsoGx4eMGSIxdtvm/TseTwhcJKyjI98IWPWieMKDqEd+A59/1doaQsdY4m5d8Le/Am08N7g4uvsCEUF03SFR/e1uHZeyyPpT/PIIwZPPQUPPGAyduwZuon1iEDFXYMZdw3Yc9DSFqLv+wr9lzGgLFTEQKyoS1AhPcEtuMq3SQghymLt2rWlTjuL3LUSQgghqlhlttwLCIBBg77g+efbcNNNBnPm6LzyikmPHjV4rLnSaBoqsD0qsD1W80fQt7+JseZOWHs3VsKNWA2uBld/Z0cpRJXTNI0WoS1oEdqCOzrdQV5xHst2L+PrLV8z4asJ5NvzuSjxIoYlDaNvXF88XaQLWCGEEBUrNxd+P9aCFZlN+TmzCYuOtiLC7SjDQpbz5YcmHTsq9AttdFXOMesEju4Jszai7/8abf9XaOkrHWPDRV6M2fQBTO9m7Nu8Ge/IJIy6MIhfHaYZinHjFCNH2nn/fY0pUwyefBIeesjk0kvPcnzavFFRQzGjhoJlR0tfgbb/K4x1D6LlbEV51kcFtkEFtEUFtkP5t5YymRCiWikuLqZDhw7MmTOHpKQkp8UhSTkhhBCVoi50GVmddemiWLXKzvPP6wwebDBihGLaNJPg2lh50TUQq9GdWA1vR9v3Ofrml7BteASrwZVYCTeBT23px1OI8vN08aR/fH/6x/fnhf4vsHLfSuZumsudC+/kUN4h+sf1Z2ijoQyKH4Sfu5+zwxVCCOEEF3LdrhRs3QorV2qsXKmxYoXO+vUQpD9AJ/+/6ea/gUfi36WF93Y0LMzOwyoucHFOhrJoaz/AgOLt9C3ajm3+66jQXqh64zA7fQCeMf8sbJrOC1Q4hYsLXH214rLL7Lz5ps4ddxhMnw6pqSbqXHU6dRsqpBsqpBtWy+lQeATt2O9oR1ejpa9A3/oqWv4+lHfC8SRdW8ezfytw8amKzRNCiNO4uLhQWFjo7DAkKSeEEKJySFLO+Vxc4M47LUaMsLj9doPmzW1Mn24yfryqnWNz6y6omFGYMaPQ0leib3kJ27xWqPC+WIm3QlAPZ0cohFPpmk7n6M50ju7MtJRprElbw9xNc5n20zQmfDWB3g16MzRpKBcnXkyoV6izwxVCCFFFynPdnpsLq1ZprFjhSMKtWqWRkQEtWyo6dlTccYdJp06K+BtGof27uc1ZbvK3WjqF9KJcAGLDi3hz4WSCXL0c452JsilMR8vexNjCDSRYGSSYx2hv3w/ADy71ecKjM6/1fV+6pRSncXODG2+0+M9/LF5/XWfCBIOgoMu4+27wLGunCm7BqPB+qPB+/8zLP+BI1B37De3QEvSNT0PhYfBJwooYgIoegQpsT+0snAohqqtrrrmGF154gRdffBGbzTnpMUnKCSGEELVcgwYwd67JZ59p3HGHwXvvKV5+2aRRI2dHVnlUUEfMoI6Qtwd92+sYv4xF94gk0Hs42G8DQ2pnirpN0zRah7emdXhrpvacysYjG/li8xf83x//x03f3USLsBZ0jOxIx+iOdIzsSHxAPJrcMBFCiDpr2zZ49VWdd97R8fKCjh0V3bsrJk+2aNNGnXbjvrynjPSiXPTjb9qb6IZ+fJ74F80Cn3zwywXfHIxfr4PszWjZm9CK0lFuIYw2XdhuBLDSFskM99b8aovE1HQspXhNEnLiLDw94Y47LK64wqJDBy/69jX4/HOT0POtq+URgfK4CBV5keO1UpC/F+3oKse4dEsHOno9iRmOih6JCmgjCTohRKX7448/WLp0KYsXL6ZJkyZ4/usi5v3336/0GCQpJ4QQQtQCpQ52DyUD3msaDB+u6NPHzpQpOh062LjjDot77rFwd3di4JXNMwar+WNYje+DHR8Q8vdzuH33Ilb9K7Hir5OuLYU4rlFwIxoFN+LuLnezO3M3y/csZ9W+Vby06iWuPXQtAe4BdIjqQMfIjnSK6kS7yHZ4u3o7O2whhBCVSClYvFjjpZd05s/XuOQSxZdfmnTpUkt7XahKfn6Qmckiby9ScnL/mQegTMjbjZa9FS1nK1rHTeCbD755joQcQJYnZHpiuQWjgruCbxLKpyG4BjJ04eSSBKcQ5yM4GMaOfYtt26bQvbuNL7+0UyFDL2kaeMagPGMwo4eDWYB2cB76nk/Ql/QB9zCsmOFY0SPAv5Uk6ISoRaZNm8b06dNPmZeYmMiqVasAKCgo4IEHHuCzzz6jqKiIlJQUnn76aUJPqhWwZ88eJk2axPLly/Hy8mLMmDFMmTKl3K3d/Pz8uOSSSy58oy6AJOWEEEKI6uh4QR0ovbD+b6UNdn9i/r9W+/zzFpddprjxRoOPPtK55prfmTSpRaVsRrVh88KMm8Cmom40DjqEbccMR9eWoclY8dc7am9qMqC9EACxfrGM8xvHuGbjAMgrzuP3A7+zYt8KVu5byaurX+VQ3iGahTSjY1RHOkZ1pFf9XsT4xpxjzUIIIWqCvDyYPVvj5ZcN9u+Hq6+2eOEFk9hYZ0dWe5gz34K8vex+/VHUsN6Q40jA2b5vBjk7HIk5r3oo73jQFWp/EGyMcSTjsj1A6aAsrMmPO3tTRC3l4mJn1iyT++7T6dnTxqefmnTteq6B5srJcEdFDcGMGgL2PLSD36Pv+QTb4l7gEYkVM8KRoPNrLgk6IWqBRo0aMXfu3JLXJyfT7rvvPubPn88777yDr68vd911F+PHj2fevHkAmKbJ6NGjCQsLY968eRw8eJAbbrgBFxcXHnrooTJ9vmVZvPjii2zdupXi4mK6d+/OPffcg4eHR4VuZ1lIUk4IIYSohsw5s0umF6em0jM1tULX37694pdf7Lzyis799zfj998NnnrKJDKyQj+m+tE0rJAemOG9IH8/+vY3MX6/BdbcgRU3AavBVeAe5uwohahWPF086RbbjW6x3QBQSrE7azcr9jqSdK/99hrXfXMdTYKbMDBhIAPjB9IpuhM2XYoaQghRk+zZA6+/rvPmmzphYXDzzRbjxll4eTk7shrGKoL8fWh5eyFvD1r+Xsjbi3bydFE6SjMYGumNtv8wyjseFdoLK+5aRyLOqwEYbgAYTwz6p8KdEFVI12HaNIvYWLjoIoM33jAZNaqCE3Mn2DxR0ZdiRl8K9ly0A986EnQ/dAOvWKzYMVixY8E7vnI+XwhR6Ww2G2Fhp99vyczM5IMPPuD//u//6NGjBwAvv/wyHTt25Ndff6V9+/YsWrSITZs2MXfuXEJDQ2nevDn33Xcfqamp3HPPPbi6up7z85955hmmTZtGcnIy7u7uvPHGG6Snp/Pyyy9X+LaeS7lKyqZpylgSlcA0zVOeRdUp7VJC/g6iLOS4rRiGArR/HYlK9uu/KaXOuU9K3Zdw1v2paXDzzSY7dz7P/v130ry5jYcesjNxoomTxrqtVKcdt65hmI3ug4Z3oh/4CmPbDGx/PYoVNQx73HWowM5SI1OIM4j2jmZEoxGMaDQCgCN5R1iwYwHfb/ue4Z8MRylFnwZ9GBA/gL4N+hLqdb6Dkcg5V4iaqC4dtzW9TKkU/PKLxquv2vjyS50+fSzee6+YlBSr5DLofDbnfK7zy7MvK3v95VKQhpE2H/3gd+jpv0BBmmO+exjKI9rx8IzGCu5eMq08osE9nKcfeYyHxpyhhv/x2Mp7nR/o4sXRYkcvG7Fbi9id4Foy/2zbW5eO2/KormXWH3/8kZ49e55zuTOl0M4V/8ll0OuvN4mK0vnPf1zYudPOHXeYlVtM0twh8lLHozgb/eA3GLs/xPbX46iANpgxYzCjR4BbSCUGUTPIcSucSSnHL0xWVtYpOSM3Nzfc3NxOW3779u00btwYNzc32rdvz0MPPURMTAxr166luLiY5OTkkmUbNmxIdHR0SVLu119/pUmTJqd0Z9m7d28mTZrExo0badHi3L0/zZkzh6effpqrrroKgCVLljB69GhefPFFdL1qK7+U65bbli1bSna2qHhbt251dgh1it1uP62fdUspNm3a5KSIRE0kx+2FaWy3g/6vq3lLjsN/KyoqOuc+KXVfQpn2p7v7EaZMWU+fPj488UQUb75pcf/9+2jePO9Cwq62Sj9um0LYi7j5bSP42EcELBtMkWsU6QEjyfDrj2n4VnmcQtQ0bWxtaJPUhrsS72L9sfUsT1vOU8uf4rpvrqOxf2O6h3enW1g3mvg3QT+PGv9yzhWi5qntx21NLlOmp9v49lt/vvoqkL17XRgy5CiffHKEevWKANi8+cLWX97r/PLuy8pe/1kpC4+Cv/HNXoZvzjI88v8m370h2d7dyQ5/hCKXKIpdQkBz+Vd8QO7xBznA1jJd5zd0d8fIyQFgia8PyVnZAJje3mwu5b2zQ0aXTL//w/uM7zG+5HVZtre2H7flVV3LrAsWLCA8PPysy5T2vYeyfff//d1MTIQZMzy49dYGrF2bw91376vCipytIbg1Nv+j+GXOJ2DzO3iuvYts704c87+ITJ9klF713c9VJ3LcCmfQNI169erRrFkzco6fpwDuvvtu7rnnnlOWbdu2La+88goJCQmkpaUxffp0Bg0axM8//0xaWhqurq74/Wu4ltDQUNLSHBVdDh06dEpCDiAkxJGYP7HMuezdu5e+ffuWvE5OTkbTNA4cOEBUVFTZN7wClOvnMzExUVrKVQLTNNm6dSsJCQkYhoxnU1Vs+22nfZ91pUiqkNFrRW0nx23FsNlspRZw5Dg8laur6zn3San7Es64P13GXY52fLy5Ad5eNL9jMs38/Bj75wc8/bQr116bwGWXmTz8sJ3AwArZDKcr23GbBAyiuDgb2545RO58m6i0p7DCB2DGjMUKH1jSlZAQ4sya0pTROG4K7svex4LtC/hu+3dM/GUinjZP+sb1pV+DfvRp0IdAj7P/yMg5V4iap64ctzWtTJmfD19/rTNrlsHChTodOihuu81k+PBi/Px8AJ8K+6zyXueXd19W9vpPU5yFfugH9IPfYxycB/YcrNAUrEY3URjeH90jEj/gDKM/n1Hfvn3PHcOnH2Mdn1zy8MP0OD52jobjyvVsylKOOKGuHLfldb5l1rK2ZDtfZSojlvK9h7J990tbf1IStG1rMWRIIA89FMB77xU7oXvbzsAUinK24bHnQ7z3vEnsgUexooY4ymshyVCHulCX41Y4k1KKoqIi1q9ff1pLuX87ORnWrFkz2rVrR/PmzZk7dy7u7u5VEq/dbj/ts1xcXLDb7VXy+Scr16+UYRiSlKtEhmHID2gV+/e3WYH8DUS5yHF7gbSSf06ap2Sf/oumaefeJ6XtSzjj/tSyMh2DBAApefmg62hZmXh7G6SmKsaNs3PbbQatWrnxxBMm48erWtOTY5mOW8MfEidiJk6ErL/Qd83GZd3d8PsNWDEjULHjUMFdZHwPIcog1j+Wa9pcwzVtrqHILOKnPT8xb9s8pv8ynau+vooOkR0YED+AAfEDaBXe6oyt6OScK0TNUxeO2+peplQKfvpJ44MPdD75RCM4GC67zOK55+zElwzNVAnx+vvB8Qpgi7y9SMnJBX+/s+6bcu3L8yhHlPtvVXAQffcctP3foh1ZDl71sSIGYXZ8BxXc7Z8x3868hnNKSUkp1/JlKhdcwPJQN47bcjnPMuvSpUvL/fc9l1ZLp5BedLxr0ogi3lp8NwBBrl6s6TH1tOWDXL3+Wf6krkyDXL3OGf+Zvjvx8bB0qcmIEQb9+rkyd67JORrsVQ6/huD3IGbTB9CO/Ya2axYuq68BNKzYUaiYUajADnVmOAI5boUznOhR0dfXt9w5Iz8/PxISEti+fTu9evWiqKiIzMzMU1rLHTp0qGQMutDQUH777bdT1nH48GGAUsepO1O8N9544ylJw4KCAu644w48PT1L5r3//vvl2pbzUXeqDgghhBCizBo2hG+/Nfn4Y4077zR45x3FSy+ZNG3q7MicwLcJVvNHsJpNRTvyE/quWeg/DQMXf8eA4/XGgW9jZ0cpRI3garjSq34vetXvxbTe09iduZt52+bx/fbveeqXp/By8aJffD/6x/Wnb1zfc7aiE0IIUbpt22DmTJ2ZM3WOHoWRIy2+/NKic+eqqWhlzpldMr04NZWeqamV/6EVQSm09J/Rt76GtvdzVFAnVNQQzLavgE+is6Mrt5PH5xE1X3pRbkl3lHsT3dBPml+akxN1qctTSZ2YWiFxBAY6yooTJhh0727jiy/sNGlSIasuP01DBbZDBbbDavkk2qEf0HfNRl86CFwDsWKGY8WMAv/WdSZBJ0RNkJOTw44dOxg9ejQtW7bExcWFH3/8kcGDBwOOYdT27t1L+/btAWjfvj3PPPMMhw8fLum2cvHixfj4+JS5RfjYsWNPmzdq1KgK2qLykaScEEKIGmfJkiVSwKwCmgajRin697czdapOp042br7ZYvJki6AgZ0fnBJqOCumOGdIdWj+HduA79F0zsc1vh/JvjoodhxU7GtzLVktLCAGxfrFc2+Zarm1zLYX2Qkcruu3zePynx7nyyyvpGNWRfg360czWjIaqobPDFUKIas004aOPNGbM0Fm1SqNfP8Vjj5lcfLGiinqGqrnsOWi752BsfQ1yd2LVH4/Zb3WNr3glZSZxQkV/F9zd4b33TB58UCc52cbs2Sa9e6sK/Yxy022o8P6Y4f3BLEA7OA99z8fYFvcG9/DjCbqR4NdCEnRCVLEHH3yQAQMGEBMTw4EDB5g2bRqGYTB8+HD8/Py4/PLLuf/++wkICMDHx4e77rqL9u3blyTlUlJSSEpKYuLEiaSmpnLo0CEee+wxJkyYUGp3maV55ZVXKnMTy0WSckIIIWqcupaUc/a2+vnBs89ajB9vMWmSQWysjX79FOPGWVx8scKjLo6pbbijoodhRg+DoqPoez5F2z0L25/3oqKHYSXciArqLIU9IcrBzeZGSoMUUhqkML33dHZl7mL+tvl8u/Vbpm2fRtQfUQxJGsKQhkPoFN3pjN1cCiFEXWNZ8NlnGg8/bJCTA7feavHhhyZl7M2pbsvehL51BvrO98AzGivhBqzYceBScePriRrOz9EVa0k3rCfm1TCVUabUdXjsMYv4eMWllxrcf7/FnXda1aMIZLg7WrlGDQF7HtqBb9H3foJtUQ/wjMGKHnE8QVcXu4IRourt27ePCRMmcPToUYKDg+nYsSMLFiwgODgYgMcffxxd17niiisoKioiJSWFp59+uuT9hmEwZ84cJk2aRP/+/fH09GTs2LHcd999ztqkCyJJOSGEEKKac3ZS7oTWrWHRIpNNm2D2bJ0HHzSYOBGGDlWMHWvRq5eiTnZj7xqIFX8txF8LWX+jb5uBsexi8I7HTLgRFTMabJ7nXo8Q4hT1/OpxbZtrubrl1azZsIYdth18vfVrhn48FDfDjUsSL2Fw0mB61euFm61stSOFEKI2UQq++kpj6lSDw4fh7rstrrnGqnat4qrLtewJhrLoW7yDKwvWYpv3GipqMGa3z1DB3aVClTjNia5Ya1Q3rFXs6qsVzZubjBljsGqVxptvmtUrb2nzRMWMwIwZ4WgVu/9rRwu6TU+DdwJWzAisyEukBZ0Qleitt9466/+7u7vz9NNPn5KI+7fY2Fg+/vjjig7NKaR6qRBCCCHKJSkJUlMt/v7bzrffmvj4KK64wiAuzsadd+r8/rvjJlGd5NsYq/Xz2C/eidXgaoxNz2L7ugH62nsgZ7uzoxOixvKweTAsaRjvDH6Hfbft4+3Bb2PoBtd/cz1RL0Rx+dzL+fivj8kuzHZ2qEIIUemUgu+/1+jSxWDiRIPLL7fYuNHOTTdVv4QcVJ+knL9VwM35v7Ii820ez13MKlsk9ou2YHaejQrpITfjhVMtWbLE2SFckPbtFStX2snNhc6dbaxf7+yIzsDmjYodg9n1U+yD92E2mox29Ddsi3pg+yYe/beb0Q58B2a+syMVQtRikpQTQgghxHnRNOjYUfH88xa7dtl5/XWTtDSNlBQbzZvbePxxne11NQ/l4ouVcAP2/n9idp6NlrMV2/fNMJYPRTs4H5Tl7AiFqLFcDBf6NOjDSwNeYsctO/h2zLfE+sWSujSViOcjGPrRUN778z0yCzKdHaoQQlQopeCHHzR69jS48kqDYcMUmzfb+e9/LTylUf6Z5e1hat5Sfs14i97FO5nq2YMO/lfxjEdH8Ih0dnRCADU/KQcQHAxff20yfLhF9+425syp5oluFz9Uvcsxu32OfchBzLaO8aaM327C9kU4xvJhaNvfhPz9Tg5UCFHbSPeVQgghaoxWS6eQXpRLbHgRby6cDECQqxdrekx1cmTCxQUGDlQMHGiSkwNffqkxe7bOI4/Y8POD+HhFfDzExSni4xUJCY7p0NBaXilZ01BhKZhhKZC7C337GxgrrwTXAKz4iVgNrgSX6tS3ixA1i67pdIjqQIeoDjyW/Bh/H/mbuZvm8tzK57jxuxvpH9+fkY1HcnHixXi7ejs7XCGEOG/LlmmkpuqsXatx++0WX39t4uvr7Kic6Pg4X8A/Y339u7+8zA0Ym55B2/MRCS71GOUzlMM7g9id4Ao4yhFCiH8YY8aWHFe9vL0wBg5y/IefX0k3nudchwGPPGLRvr3i6qsNVq2ymDbNwtW1sqKuIIYHKmIgKmIgllKQ+Sf6/m/Qd7yN9ttN4N8SK3IQKuJiVEBrkLGNhRAXQJJyQgghaoz0olx0TWNvoltJU+/0olynxiRO5+0N48Ypxo0zyciAzZs1tm6Fbds0tm/XWLRIY9s2jcOHNby9Hcm6+HhFXJwiKUkxYoTCqzbeI/Gqh9X8MawmD6Lt+Qh966vY/noEK2kSVuItYKuNGy1E1dE0jSYhTWgS0oT7ut3HX4f/4uO/P+bRZY9y/TfXMzBhICMbj2RQwiA8XDycHa4QQpTJH3/AffcZrFypcfPNFp98YhIQ4OyonO/kBMG/x/rSjvyEvvEptLSFqNix2Pv+Sg/fxvQAUlNTSZ2Yetr6hDiXyuqGtTwVT4NcvUrKv7Fbiyo+wZyZWZJsSsnN/yfxlFn+3gcGD1b88oud0aNt9OunMWuWSWRNaZiqaY4knH9LaHIfFKShHfge/cA36JtfAMMLFdYLKzQFFdoLvOo5O2IhRA0jSTkhhBBCVBp/f+jQQdGhA8CpA81lZcG2bf8k67Zt03juOZ2pU+Hxx01Gj1a1sxWd4Y6qfwVmvfFoafMx1j2IvuUVrMb3YMVNAMPN2REKUSs0CWnClJApPNT9IdYeWsvHf33MfYvv49pvruXixIsZ2Xgk/eL64WaTY04IUf0cOwZTpui8847ODTdYvP++SXCws6OqPKUlG8qVaFAW2oFv0Dc+jZa5DivuWsw2L4NndCVFLOqasiblTrQ2K2tLs/JUPD05UZe6vPonmBMTYdkyOzfeaNCxo42ZM0169KiBg4+7h6EaXInZ4EowC9GO/IR2aBH69v9DWz0RvBpghfVChfZChSaDW4izIxZCVHOSlBNCCCFqg9K68Dkxv5ry9YXWraF1a8WJhJ1lwfvva9x5p8HrryuefdakTRvnxllpNA0V3h97WF+0fZ9jrJ+Cvvl5zKYPoupdBprh7AiFqBU0TaNVWCtahbXi0eRH+e3Ab3z010fcNu82souyGdxwMMMaDaNPgz6429ydHa4Qoo6zLPjgA4177zVo3lyxapWdRo2cHVXlO+9kg1XE2E5F2Oa3hsJ0rMSbMbvNBVdpTiic5HhrswttaVZbeHnBO++YvP66ziWXGKSmWtx+u1VzK18abqiwFFRYiuN1UQba4aVohxZj/PUorLgc/JpjhTla0amQ7mCTLtSFEKeSpJwQQghRC5ytC5+aRNfhyisVw4bZeeIJneRkG2PGKB5+2CQ83NnRVRJNR0UPxx45BG3XBxjrp8LGpzGbTUVFDa3lg+4JUbU0TaNdZDvaRbZjWu9prNi7gk/+/oRbv7+VzMJMBiYMZFjSMAbED8BLxhoSQlSxNWvgttsMdu3SeP55kxEjammvARUhfz/6jrfQt79JU90dK+m/WPXHgyHdEwtR3Wga3HCDRevWijFjHN3xzphhVuf6o2Xn6o+KGoyKGowFkH8A7dBi9EOL0X+/BfL3o4K7YNW/AhU9Amyezo5YCFENyKiUQgghhKh2fH3hiScsfvvNzpEj0LSpjWef1SkqcnZklUi3oRr8B/vAv7Dir8P4/WaMH7qgpS0EVQO7eRGimtM1nS4xXXi237Nsu3kb34/7nhjfGB5Y8gARz0cw4pMRzFw/k8yCulu7XQhRNTIz4b//1ene3Ubnzop16+yMHCkJudMohZa2COPn0di+SUQ7/BNmq2exD1yPFX+dJOSEqOY6dVKsXGknIwNatrTxxRe18EfOIwJVbxxm+//DPmgL9gF/oiIGYfw9HdvX9dB/vw0y1jo7SiGEk0lLOSGEEKKWqaxByJ0hMRE++8xkwQKNSZMM/vc/naeeMhk0qBbfqDLcsBJvxmrwH/QtL2H8PAYV0Aar+SOooI7Ojk6IWknTNNpHtqd9ZHse7/U46w6v4/ONn/PUz09x3dfX0btBb4YlDeOShpcQ7FmLB3USQlQppWDmTEdXlUlJihUr7DRt6uyoqqGiY+g730Pf9gYUHsFqcCVm/zXgk+jsyKpcbbrOFxemun0XlixZUqaYwsLg229N3n1X49prDT74QPH88yZRUZUfY5XTNPBOwEq6A6vhf9GOLEff/ia2H7qj/JphxV2DihkFLj7OjvScLGWRV5xHblEuOcU55BbnOqaLHNM5RTnkFeeRU5SDpSx0TS95GJpxyuuS+bqBpml4u3jj7+6Pv7s/fm5++Lv74+vmi02XtIWoveTbLYQQQtQy1a2AVhH69lX89pudN97Queoqgw6ua3g27mUae+3+Z6GzDKBeI9m8sRrfixV/PfrGpzF+7IcK6oxV/3JHt5YyNoEQlULTNFqEtqBFaAum9JjCpvRNzN00lxm/z+DG726kZ72ejGs2jmFJw/Bxq/43UYQQ1dO6dY6uKrdu1XjySZMxY2pxhaPzoRTasdXo22ag7f4I5d8Cs/HdqJiRF9QirqZfJ9f0+EXFqW7fhbIm5cAxZMFVVykGDbIzaZJBixY2HnvM4rrrLPTa2qebpqFCumOGdIfWz6HvmoWx5WVYeycqZrQjQRfQ9oKHLlBKUWQWUWAvoMBeQKFZ6Jg2Cyi0O6Zzi3PJKswqeWQWZpJdmE1mYSZZhVlkF/0znVWYVZJ4K9kUNLxcvfB28cbL1QsvF6+S154unhi6gaUsLGVhKhOlVMlrS1mYlnnK/+cU5ZBZmElGQQZZhVmo4+PNe7t64+/mj5+73z/P7v6Ee4UT6RNJhHcEUT5RRPhEEOkdiZvN7YL2nRBVSZJyQgghhKgRXFzgppssRo+2eLj9Htqueo3ror5hUr1PiXE/XHsHUHcNxGrxOFbiLei73sf4+0n47RZU9FCsepejQpNBM5wdpRC1VlJQEnd3uZu7u9zNrsxdfPzXxzy74llu+f4WhiYN5fLml5NSPwVDl+NQOFd5bogK58nJgalTdV5/XWfiRIu5c018fZ0dVTViz6Wd/xpsCztB9iZU7FjsKT9CQOsKWb0cI0JUH2Fh8MEHJt99p3HrrQazZmm8+qpJs2bOjuz8KKVOSzBlFmaWJLQ0HAk3TdPQiIR6D6HnbEVPW4i2IRnNPQLC+1IU1IUcpcgpzCG7KJucohxyik6fPvE6Kz8L+3f2kgTcv9l0G+42d9wNd9xt7ni4eODn5oefmx8+bj74uvni5+ZHjG8Mfu5++Lr64uv2z8Pb1RtvV2+8XLzwdvXGw+aBVkm1SCxlkV2YTUZhBhkFGWQWZJ4yfazgGGm5aSzauYgDOQfYn72fQ7mHUCiCPIKI9Ikk0jvylKTdyCYj8Xf3r5R4hThfkpQTQgghRI0SHAyvNHqJ66O/5YFt/yHxp7cZEvILt8R8Rid1wZULqy+PCKxGd2El3Yl27He0XTMxVowH3RWr3lisepeBXw0twQpRQ9Tzq8fkzpOZ1GkSa9LWMHPdTK768ipsuo0xzcZwWbPLaB7a3NlhijpKknLV38aNMGqUDX9/xU8/2WnRwtkRVSOZ69C3/Q9910y6BrlgNXjQcW3j4ufsyIQQlWzgQMUff9h5+GGdLl1s3HabxX33WXg4YZhIpRTZRdmk56dzNP8oR/OPnjJ9NP8oRwuOOlqSFWSRUfhP8i2rMAtLWQC429zxd3N0w+jl6nXK+k+0BDtl2kqAnAzY/wG69SbeHmH4+Mbj7RmOt6s3Pq4+RHhHlEx7u3k7WqrZvDh84DBJcUl4uno6km8nPdwMtxpVcUzXdPzc/fBz96OeX70yvafYLOZg7kEOZB9gf85+9mfvZ3/OfnZn7WblvpVc3PBi/PGv3MCFKCdJygkhhBCiRmrhs4MvW01ha14kr+wZzMVrHiOhk42bbjIZNUrh7n76e9auXUtSUlLVB1uRNA0V2BYV2Bar5XS0g/PQd83EtrAz+DbGqnc5VuxocA9zdqRC1FqaptE6vDWtw1vzRMoTLNixgJnrZtLl7S40Cm7E5c0vZ0yTMYR5y3EoqhdjzNjSW5aXoQtoSfpdmM8+c4yfNGGCxaOPWri4ODuiasDMR9vzCfr2/6Ed+w0VfSlmt89Zu95OckIvZ0cnhKhC3t7w5JMWY8ZYTJxo49NPdV55xaRXL3VB6y20F3I47zCH8w5zJO/IGZ/T89M5ln+MowVHsVt2AALcAwj0CHQ83B3PQR5BxPnHlYx/5ufuV9Lq7ESLMz93P1wN1/OOWTv6K/qWl9D2foYKTsZKvBIV3g+00/v2NE2TTUWbSApPwjBqTvKtIrkYLsT4xhDjG+PsUIQoM0nKCSGEEKJGS/Dcz3NJr/Nw3Nu8PfRzpk0zuPdeuPZax7gEkZH/LPvnn38yatQo5wVb0XQXVOTFmJEXQ9ExtL2fou/8ANuf96DC+mI1uBIVeQnocudPiMriYrgwKGEQgxIGkVGQwWcbP+ODdR9w76J76dugL+OajeOShpfg6eLp7FCFcCTkSrmpV5YuoCUpd37sdnjgAZ033tB54w2TESMu7AZzrZC1EX37/9B3vg9uQVhxEzC7fgpuwQAkSz5OiBrh5Ioevby9MAYOuuBxvtu0gZ9/tvPSSzrDhhmMGKGYPt0kKMjx/ye6iEzLTSt5HMo9xMGcg47nXMfziYRbdlE2AL5uvoR4hhDsGUywZ3DJdGJgIsGewQR5BBHkEVSShAtwD3BaCzMV2B6z43vQYhr6thkYv14DLv5YiTdh1b9CxhYXohaQpJwQQgghqpXzvennY8vnppssbrjBYv58jZdf1nnqKRuXXqq4Le1+Ouqr6efpgetFl4DGBRcYqx3XAFTcBMy4CZCzDX3XTIw1k+GP/2LFXYMVdw14RDk7SiFqNX93f65udTVXt7qa7ce2M2v9LKYum8rEbycyJGkIY5qOoXf93rgYkigXtV+taJ1+gdLS4PLLDQ4e1PjpJzuNGzs7IicyC9H2fe5oFXfkF1TUEMwuc1AhybW473EharmTKnqk5OY7pss4zrdSinx7PscKjpFRkFHyOFZwjMyCTHLbHWPkmxksWJZJvbsziGmUhumZxqHcNPKK89A1nVDPUMK8wwjzcjxCvUJJCk4i1Cu0JOkW4hlCsEcwbja3ytwTlcMjEqvZVKzG96Lt/hBjy0vo6x7CanAVVsIN4B3n7AiFEOdJknJCCCGEqFYutCa+rsOAAYoBA0w2boTXXtPp+8lDNPXaxU1Rn2CPWI5NU2UuMNZI3vFYTR/Canwf2oFv0bfNwPb3dFTkIKz461GhKaW3lBBCVJi4gDge6P4A93e7n98P/s6cDXO4/pvrKTaLGdF4BGOajqFTdCd0ORZFLXKi1YShINzTA9d33wf/WlYJpoxWrNAYM8agUyfFZ5/Z8fFxdkROkr0Jfcfb6DveAxcfrLhrMDvNlG62hahBFIr84nxyi3PJKcohtziXvOI88v2Okmsocg2THMPueNbtZC6+j9wix7LZRdmO6eIccor+eWQWZlJkFgHgYfPA392/5BHgHoCfmx8B3gFcOTSSXZua8s1H4cQEhvLkHSF0aRFGkEdQjRor7YIY7qgGV2KvfwXakeXoW17C9n1zVMQAVPxNoOT3VIiaRpJyQgghhKi1GjWCF16weHTDWN45MICHtk9g6s6rubv+h1wRPp9aX4zTbaiowZhRgyFnK/q2/2GsuBxcA7Hir3N0f+Ia6OwohajVNE2jbURb2ka0ZVrKNJbuXsqcDXMY8tEQ/N39GdVkFGOajqF5aHNnhypqoFZLp5BelAtAbHgRby6cDECQqxdrekyt+oBOtJrQFMk5OWCz1e5KMKVQCl59Vefee3VSUy1uv92qWw3BlIKMP9D3fYG+7wvI3oyKvAiz47uosN5SKUiIaqLQXsj+nP3sy9rHnuw97Mvax/7GO9hLFvvcCtnrasfS7OTqJnmGifWUX8l73W3ueLl44d0wFy/TwMsy8DYNvEwbPqaBV34G3q7eBPoF4uPqg7erN16uXni7eOPj6oOXq5cj6eYegJ+7H+62UgYDP1kyZI6Bhx/WGd9P56abLB54wMK7rvXiqGmokO6YId0hdyf61tdxWTGGhnowhstN0OBycPE793qEEE4nSTkhhBBC1Hr+LrncXu8zro/4lDlH+jNtx1ge2zGOya/r/Oc/Fu7nKAfWCt4JWC2nYTWbgrbnE/Rtb2Bb9xAqdpSj9VxAO+k+SohKZugGver3olf9XrzY/0W+3/Y9czbMoes7XYkPiGdM0zGMbjKa+v71nR2qqCHSi3LRj/927010Qz9pfm1XHce4swpcyXpxFI9v0PnyS5OePevI+HGWHe3IcrR9X6Lv/xIKj6DC+2M2ugsVMRBcA5wdoRB1jqUsdmXuYlP6JjYe2ciOjB3szd7Lvqx97M3ay6G8Q2hoRHhHEOUbRZRPFNEDBtLJN5pIn0i+++Q7Jl4zEU8XT0cCztUbLxcvPF08S1qoGQMHnZ5oVxbm869W+Pb4+cEzz1iMH29xyy0GLVrYeOYZk6FDVd0swnjVx2o5jeJG93Jk9UtE7XoPbf39qNgxmPHXQUAbZ0cohDgLScoJIYQQos5w0U2uipzP+PAf+CitO4+/di9PPKFzxx0WEyZYeHk5O8IqYHig6o/HrD8ejv2Bse0NjCV9wScJK/JiVEArlH8r8IiWJJ0QlcjN5saQpCEMSRpCVmEWX2z+gjnr55D6YyodozoytulYRjQeQZBnkLNDFXVYaS3xKqsVXnmTbNUtKWffH8yxR65G8yhk5Uo7UbV9GFczH+3gAvT9X6Lt/wYAFXkxZuvnHS3iDA8nByhE3VBoL2Trsa1sPLKRjekbS543p2+m0Cwkzj+OhkENSQhIoHtMd0fyzTeaKJ8oIrwjzjjO7caPN9I5unMVb825tWoFP/5o8u67GjfcYPD224rnnjOJj3d2ZE5i8+ZowKWEdLoXW+Ya9O1vYFvcC+XbBCv+OlTMKLDVhUKuEDWLJOWEEEI4j59fSZdGi7y9SMnJdcwTdU5V3vQDsOkW48IXM/KbO/n8c40nnjB48kmd226zmDjRwte3Uj62+glojdnuNWg5DX3XbLQjy9B3z4GcreAadDxB1xLl3woV0Aq8E6XbKSEqga+bL+Obj2d88/EczDnIx399zLt/vssdC+6gb1xfxjUbx8WJF+Pp4unsUEUdU1pLvMpqhVfdkmzlUbCiKRlPX45H71/xvmYuUVHTnR1S5VAm2r656Ls/RDs4H9yCsaKGYHX5EBXUBXS5xSREZbCUxd6svWw7to1tx7ax9dhWNqdvZmP6RnYc24FNt9EwqCGNghrRKLgRgxsOplFwIxIDE8/dNeQZVOffY12Hq65SXHKJnfvvN2jTxsbkyRZ33llHekA5AxXYFjNwBrSYjr57FsbmF2DNnVj1L8eKmwB+zZwdohDiOLliEkII4TTmnNkl04tTU+mZmuq8YIRTVeVNv5PpOgwfrrj0UjvffKPx+OM6zzxj4+abLW6+2SKgrvS25OKHlTAREiY6Xhdno2X+iXZsDVrGGvRNT0PmX6C7ovxblCTplH9L8G0steGFqEDh3uHc0uEWbulwC5vTNzNng6P13MRvJzI0aShjm46lV/1e2OTmtxCVpqwJQmVqZM8cRO7cnvjd8hEeKb9hqVrYZaVZgL7zffRNz4JViFX/CszG94J/K2lVL0QFUcrCLMzGLMiguCCDOxfeydZjW9l2dBs7MnZQZBYR4xtDfEA88QHxdIvpxoTWE2gU1Ih6fvVKupSsKNU5KXdCcDDMmGHyn/9o3HyzwaxZOi+8YNKvXy38HS4PV3+shBux4m9AS//ZMWzBwk6owPZYcRNQ0cPBqMPZSyGqASnJCSGEEKLO0zS4+GLFRReZLFzoSM49/7yNQYN2Mm1adO3vgurfXHxQwV1RwV3/mWcVQeYGtIy1jkTdjnfRMteBPRd8ElB+zR0P/+Yov2bgWV9u1AlxgRoGNeShHg/xYPcHWX1gNbPWz+KqL69C0zRGNRnF2KZjaRvRFk2ONVFDaZ98gv7JZwBEubthjBmHNeJS1IgRpS5vjBlb0stCL28vx3hGfn6nVPQqTWV0jZmeDhmp12PuDybo2edxaXCgzOuvMYoz0be9gb75RXD1x2xyLyp2DOiuzo5MiOrreG8wJT3BnJgHZBdmsz1jOzsydrD9mOP52LbvMAsyMYuyQSkMN18MNz8KgxqRXC+Za1pdQ3xAPA38G5x3q7farnNnxcqVdl59VWfsWIM+fRT332/SooWzI3MyTUMFd8UM7gqtnkHf+R7GX4/BmklY9S7DanCVtJ4TwkkkKSeEEEIIcZymQd++ij59TJYt07juumIaNrQxfLji1lst2rWrw7UudVcIaI0KaE3JXlAK8nahZa5Dy1iHlrkeffdsyN4CNi+UXzOUX3Pwa+ZoYRfYHvTSx60QQpyZpmm0j2xP+8j2PNXnKX7Y8QOzN8ym78y+RPpEclmzyxjXbBz1/es7O1QhykWNGIF5PAG3LzUV81y9JmRmlnSjnJKb75g+nqQ7m4ruGvOPP2D0aBuEWAS/+Cy6d36FrbtaKDiIvuUl9K0zUL5JmG1fRkVeIl1YC3EOSin2/+95th7bygtvP8Oinu3ZkbHDkYR7PorDeYfxdPEkzj+OBgENiPePx82/ATZ3f2xufhhuvmi6gaUUL/Z52tmbU6PYbHDrrRYjRlikphp07WqjY0fFTTdZXHKJwlbX74C7BWMl3YHV8Ha0wz+ib38L28LOKP9WWHFXo2JGgs3b2VEKUWfU9Z8kIYQQQpRTTR7zpaw0DXr0UIwZ8y5jxqTyyis6vXsbtGqluOUWi6FDpWAHOHaUV32UV33HzboTzHzI+hstc70jWbdvLvqGVEDDir4UFTsaFdxNbu4JcR5suo3+8f3pH9+f3KJcvtzyJTPXzeSRZY/QObozlzW7jOGNh+Pv7u/sUIVwuhMt60pa1cFZW9adGOP2xPi2wGlj3L73nsattxpMnmzxeof/o4J7jHOunG3om55D3/keKqQHZtdPUSE9pOW7ECdRSpGen87Wo1vZcmwLW49udTyOOZ6zi7IJ9QzFVXfFP8ufxMBE+sf3J84/jjj/OEK9Qk9p4T574eSSbvzFhYuMhDfeMHnsMXjzTZ077jC48064/nqLq6+2CApydoROpumo0F6Yob2gMP2ksecmoWJGOxJ0Ae3kd1+ISia3k4QQQghRLnUhKXeyRo3gpZcspk61eOstnbvuMrj7brjxRkfBrs6MO1cehgcEtEEFtDmpVZ2Jdngp+u6P0H8aCYYHVsxIVOwoKfgJcZ68XL0Y23QsY5uO5UDOAT7c8CGv//46t8+/nYsTL+ay5pfRP64/Loa0UBXnJ8jVq2SM19itRexOcCXI1cvJUZXD8ZZ1Ja3qTsw7gxNj3J4Y3/bEPICiIpg8WWfOHJ3Zs00GDlTMWKiAWnD+yliDsfFptL2fo6KHYk/5EQJaOzsqIZzCtEzSctPYn72fvdl72Z+9n33Z+9iTtack+ZZRkEGQRxAJgQkkBCTQJKQJgxsOJjEwkYTABHzdfElNTSX1klRnb06dFRIC99xjMWmSxdy5Gq++qvPIIzbGjVPceKN0bQmAWxBW4i1YCTejHf0VfcebGEv6gXcDrAbXYNUbC66Bzo5SiFpJknJCCCGEEP9SWs36ED8/Js+ZzW23OQp2L73kKNhdcYXFTTdZJCXVvYRluWjGP7Uy27yAlrYQffeH6Ev6gXsYVsxIrNjRMq6BEOcpwjuC2zvezu0db2fdoXXMXD+Tm7+7mSKziFFNRnFZ88toF9FOxp8T5XJyC7HU5amkTkx1XjBQMlYT8M94TcfHaqpM+/bB2LEGubkav/xiJz7eMf9E0vJEwvLEvBrBsqMd+BZ962toR5Zj1b8Sc8Cf4B3v7MiEqFRH84+y7dg2th3bxt6sf5Ju+7L3sT97PwdyDmAqk0CPQCK9I4nyiSLKN4rEwEQGxA9wJN4CEgjwkJp5NYGLC4wcqRg50uSPP+CVV6Rry9NoGiqoA2ZQB2j5NNqej9F3vIntz3tQ0cOwEm5CBXV0dpRC1Cp1/WdHCCGEEHWBnx9kZLLE25s+efmgqbPfxDtLzfqTC3arVjmSc23a2OjTR+Hvv4eePaXR1znprqiIQZgRg8Ce57gpuOcjbAs7g3c8VuxorJiR4J3g7EiFqJGahzZnWso0Hkt+jCW7ljBz/Uz6zexHpE8kwxsNp398fzpGdcSmS3FQ1Cwndzu5ODWVnucag64CFK2Lp9NVNlJSFK+9ZsfT85//O5G0rBYJy7IqPIy+/S307f8HVjFW3ATMjm+De7izIxOiwmQUZJzSveS2Y9tKWrkdzT9KgHsA8QHxRPtGE+UTRfvI9gzxGUK0TzSRPpFE+kTi6eJ57g+qADU6uV/DtG4N//ufyRNPnNq15XXXWYwaZVG/vrMjrAZcfFBxV2PGXQ0Zf6LveAvjx/6ooE5Yje+VLo2FqCBSCqsmtKIiyMsDozZ1SF+9eRQUn9Zvt6WU4+8gxLmYJlp+vhy3FSi5S5dzHn9y3FYg03Qkpk6mrLLtS6uMy5VDuf+25YzffOtNTNNk/qOP0uOBBzBOHLcXuP4OzeD9GfDk0Tt4dUNvXjkwim5fb+Oe2JkMjluPev+d0td/3JLly0nu1u2sy9QFKmgQZtAgaJqJlvYN+v7PsG14GLyTsEIHosIGoPzbyhh0dZWcc8+bAfQO60zvsM681GM6X2z7hq+3fceM317HUhYpscn0r9+HfvV6E+0T5exwxXko7fwJZzmHenlBVhYAi3y8ScnOccz39T33ub0s5/8T61ewxMuTPrl54FeGdZd1/eVdvpzXCyfvT6Ug6+teZHwwmGcfKeDG64ocHVWW9tZKuDaqUEqhZaxG3/V/aAe+QPm3w2z0MCrsItBdwKJ6xy+qRg063yqlOJiXxo7MnWzP3Hn8eQdbj21nW+Z2juSn4+/mR4J/PPH+cST4x9E3qieJ/vEkBMQT6H6OVm7FQPEFHhNl/F1Y0+5uAFKXTiP1inv++Y+acExeSJnSiUK84J5bYdINMPdrF/73titTptho0cxi2OBihg0uJinRcnaYZVOZx61rAlbS41gNJqHveA3jp+Eon8ZYCZNRIX1qTnLOMMDNzdlRCHEKScpVB4WFeKxbh7Z/f7W/8KlN+m5MJ8tegJHphulXCICvzR1cljk5MlETaKaJ1969aGlpctxWkGSAZWc//jqu31d64kaO2/LLOMbpY6Coc/4NAMcFf1mWK4dy/23PI37NNNHz89GWLTv3cVvO9Ucf/p3HA//gHr/XmHFkBDduuo0Ht2Vy58PbGd1jPzZDlfq+JQsWkKxK/79Sl9+2jeT4s3crZTwxDfJyT/8PTy/Me+85fX41o4jB5Dbwugqt+Df0XSvRt70GmivK1g7L1gFlaw2ae5XGVZZ9LyqHnHMrhhcwjgjG+V6NvemVrM7dwrys33jrl1e4ceHtNHaPob9fG/r5tqWrdxPcdBmHriYo7fwJZz6HmtdOKJlevGABPfv2/ec/z3VuL8P5/8T6LdNk4fff03PAAHTDKNN1Q3J4ePmuL8pyPVLO8/mJ/WkvcmPV3JvI3dGMXuMf4qYm3WD5BcbiDKoQrXgpRtE3YO3DcumF6fEM2OvBVmDrCmdHKKqR6na+zbcK2VGYxo7Cg+woOsiOwjS2FR5gR+FBdhamka+KCLP508At/PgjjBT3biT6jSLBPYIgw/efLpvtwBHgSD6wvkrir5TftOrmQsqU1YALMDIYRt4JR65z4auV4cz9LpxHngghISKXYV0OMLTLQVo2yKq2+aeqOm4temJ5tEXP+wZj9dWghWK6jUbZOlb/ipOentChgyTmRLUiSbnq4PhNQtzcwMPD2dHUGa90uRGA1LlzSe0x1LnBiJrHNLG8vMDHp1oUWOqKXA/X0y6GlcLxdxDloxunXzwr64z70nhoCuQ4atP3CgrEWP4TeHtjPjy11OXLq9x/23LGD4BponS9bMdtedd/fHlfo5A7I2dyc/gnvHPkIlJn3s7Dsxsxeewexvc/iLvbvxJwJ+IpoyU7d5LcqtXZFyooAKOUm+kFBTXsWPFBEYXJYFDFaIVr0Qp+wSh4G/KfQrm1QXl0wXLvDEYoSzZuJLlRo0qLpkz7XlQOOedWOBvQybc9nSLaMwU4UpTBD8d+Y/7RVVy58xmyzXySA1rTP7AD3fxa0sSrHoYm+746Ku38CWW8PirnOahcy5fnnHtcuX9jyxJPOc/nOe6upG9rxoYvrsLmnkf3O+7GzScDfAZeeCxVyb4PPfcL9NzvwAjA8hmK5dkPdG9nRyaqMyedb4stO1vy97Ihd8dJj+1sy9+Pq2ajvkcEce6RNPCIoJdPB67xiKSBewQNPCLwMqrvPbRK+U2rbs6nTFZNBfvAVdEZXDU8g8ycLXzzSxBzlwXz3F3xRAQVMbT7EYb1OEz7xtno1SkHVaXHrQ8WE7Cscei5X2LkvAbFszB9xqM8kqE6XisWFjoS3qbp7EiEOIUk5aoTV1dwr9pa3wJHc2vZ76K8TBPl5ub47sgNwipT6GorPXEjx3D5GaUVoM7ye5ifDzZHoiclM9sxnZ9fYfu+3H/b8sYPx7tX0cp23Pr5QU4OiwICSDl2zDHP26/M8XgYdm4I/5yrnkth9rwgnnwvhkffq8/tYw9w7bBDeHse7w6lvOegsixf2r6Bc++fas0d5dENRTdH64+i7eh5y9FyF2LLeAFcE9CzA0G7CVwTKqcrFblecB4551a6YPdwRvtexOh6F2Epiz+ztzL/yAo+PbyUu7e9jk0zaOvXiHZ+Tejg15T2/k2Jdg91dtiC0s+fUMbro3L+riU3a1b25U2TNrGxlXvcnu85sZTzoWXBV8sCWPbKE+QdjiC253fE9ZuLZjMpVLYK35eVpmg7xtE30HKXoby6YYY/jvJoV3O6GBPOVcnnW6UUu/IPsCFnOxtytrM+eysbcrazKWcXmqbRyKs+TX3i6BDYnKvrDaOJdwNi3MPQq3srnIpSXX5HyuN8ymQ1gJ87jLski3GXZJGbv5P5K/z4fHEgg+5sia+XyaUp6Vw//BANYwucHaqTrpPdsTz/gxU0Bj37a4yMNyDnHUz/K1E+A0CrZumGoiJnRyDEaarZUSKEEEII4XzmE48DsPjDD+k5evS53+DtXUoSzxsXm+KKi45w2YAjfPFjANPfjWL6u5HcNCqNm0YerMQtqMU0DdzisdziIeBKsB9Fy/uZCI/Z2PZNAFsIllcvlFcKyq2R3IgUopx0TaeVb0Na+TbkrrgrKLbsrM/Zxq8ZG1iVuYHUrW+wMWcnEW7BtPdvQnu/pnTwa0pbv0b42LycHb6oRMnNmpVr+baxsZUUiUNy06YXvI5iu8aHC4J46r0IjmbaCOv2CTFdF2LzyK+ACKtQ8T6Mo/9Dy1mI5XsxZuyn4BLu7KhEHZVlz2VL7m42H39syd3N5rxdbMndQ75ZSLxnNE194mjqHc+QsGSaeseR4BmNTZdblKL68fKwGNbrGMN6HaOwSGPRal9mfhdM63HN6dsxk1vHHKRXu+rbvWWl0t2x/EZg+Q5By/4O49g7cOx/WP6XYflcAnrNTs4KUZnkjCeEEEKImucMSTBnOVcSzzDg0hRHYe6H6z/jiTljeO6txvSM7MPHX3xFT5/fiQgsLFmPKAdbIMr3YmZuyyW1zSVoeT+j5yxG338jGH5YXsko7xSUW7PqP96BENWQi26jtW8SrX2TuI5LAcgszuH3rI2sytjAqowNvLLrIw4WptPYuwE9A9vQN7gjyYFt8bZ5Ojl6cTYVkdRypvImCU+WX6Dx7tchPPNBJJqmmHT5Aa646DAj1n5Vs26s2g+hH3sbPfsblFcv7LGzwCXG2VGJOsBu2dmRv/944s2RcNucu4vNebs5WJiOr82Lhl71SPSMobF3AwaH9SDRK5ZGXvXwMORGvaiZ3FwVA7tkMrBLJnsP7eHVj8MYe38i0aGF3DrmIKP7pp8+XEFdoLmgfAdj9xmElrMQI+N99KNvYvmNxPIbAYafsyMUotqRpJwQQgghapxyt2Q7TxV9w1LToL/bEvo3Wcry7BZ8mN6XJ9Kv4rLtj5Lotptuj7nTvU023VtlUS9CutkoN90T5d0H07sPWAVo+ascCboDd4DmgeXVE+XdC+Xesvp1qyJEDeLn4k2voHb0CmoHOLok21d4mJUZ61mU/it3/P0s+woO0yWgBX2DO9E3uCMtfRLrThdkNcSFJLVqqizTk9fThvH8pa0I9LOTev0eRvU9ioutht1ENTPQj72PnvUJyrMT9qi3wS3e2VGJWijXns/m3F1szN3FxtydbMzZyabcXWzN3YOFRZxnNA29YmnoGcu4yAEkesXS0CuWUNdAtBqV4RaifKJDi3j8pj3cf/U+3v8mmCffi+T+V2K57tI0rr80jbAgu7NDrHqaDeUzALt3f7S8X9Az3seW8QGW7xAs/7FgC3N2hKIaee6553j44YeZOHEiTzzxBABpaWk89NBDLFmyhJycHBISEpg0aRKDBw8ued+xY8e46667mDdvHpqmMXjwYJ544gm8nVhJ+3zI3QhR59X0GqJCCCEqT2XesOzm8yfdfP4EIL3Yl2XZLVjqdQcvzQlnwiNxxIQW0b1NFn8HfIV7gz/xCE7D28vgopXPA+Dn4s6sNhMrLb4aT3dHefXA9OoBqhgt71f03MXoB+8DNJRXdyzPLiiP9mDUrAt4IaobTdOIdg8lOjyF4eEpKKXYkreHBUdWsODISh7f9hbehge9gzocT9J1IMwtyNlhV3tL1q+vk4mzynC42J8X00bxStoIktx38cqUnVzc7Rh6TcsTW7noGbPQM2aj3JtiRr6KcpfyrLgwSikOFR3l76wd/JLxB4cLstict4eNOTvZXXAQH8OTJO/6JHnVo41vI8ZFDiDJqx7xntG4SJeToo7z8rCYOOIQ1116iO9/8efF2eE89X4ko/umc+uYA7RIrGHdIVcETUN5dcH06oJWsN6RnNs1AuXdFzPgcnCNc3aEwsl+//133nnnHZr+6578DTfcQGZmJrNmzSIoKIhPPvmEq666isWLF9OiRQsArr32WtLS0vjss88oLi7m5ptv5vbbb+d///ufMzblvMnZU9R5UtAVQgjhbEEuWQwNWMolt48AIDPH4Oc/vVn2hy9fLetG1uwrcPXOxid6J+4B6bj7H8XNL50f7L5EhRYRHVqEt6fl5K2oxjSXkoIh6m60/DVoeT9iHH0Nih9AuTdFeXZCeXQ6Pg5dTbtLK0T1ommao+WEVyw31RtFoVXEz8f+ZP6RFbywczbXrHuYFj6J9A3uSI/A1nTyb46/i4+zw652lmzYcM6yip+LO5nFBaXOF7CjMILnDl7GW0cuoYv3Oj5OuI8Un1VYPV50dmjlYxWgZ32Kfuw9lEssZsRTKI+2zo5K1DDFlp1teXvZlLuLzbm72JS7i005jucMezYRrkHEGmG0cm3EoJCu/Lf+OBp51yfSLURavVUBqTBes+k6DOqawaCuGfy5xYOXPgyn6zXN6NIim0mXH6Bfp0xnh+gUyr0ZZvh0KNqBkTEL254rUZ4dsPzHozxaOTs84QQ5OTlcd911vPDCCzz99NOn/N+qVat4+umnadvWcY0zefJkXn31VdasWUOLFi3YtGkTP/zwA4sWLaJ169YATJ8+nVGjRvHII48QERFR5dtzvsqVlDNNU07ElcA0TQAsy4Lj00KI6s2yrFOehXNZ8ttZboYCtH911aTOvC/Lu3xFKcv6yxpDVR2354qn1H0Jp+xPHw+T/h2P0r/jUda2ewmzyI3MHQ3JSYukMCOInINRHPm7BRMX12f/YVeK7Tp+3naiQoqITn+eaLfDRLscopHHTjp4b6C+6wG0Kvh7OVvZtk8Dt9aORwBQvB89fyV6wSqMYx+A5oLl0cHxcO8AtuByrl9UNDnn1nwuGPT0b01P/9Y8lnADBwvT+SH9VxYeXcXNG55kT0Eazbzj6eLfgi7+Lejs35xYj3Bnh10tnOt354OW1573eyuTs4/bNZu9eHZWJJ+v+5jB/ktZ1OhGOnj/dTy48u+birweKRel0HPnYTv2Gkr3xx58P5ZHF0d/2HJOEv+ilOKYPZt9BYfYV3CIvYWH2Zm/35F8y93F9vx9aGgkeEaT5FWPhl716Bnd5vh0LN66B3v27CEmJgb9pGakyrKoYR281kg9GjeucdeaziojVnfN4nKYce9WHr5+F/83N4zLHkhgYJdjPPvfHQT6Vmy3ls4+35aZEYsVdA/4XYOR9SHGgf+iXBMx/S47fl6rpEqRpgmmiTr+LCqWUo7jPysr65SckZubG25ubqW+584776Rfv34kJyeflpTr0KEDn3/+Of3798fPz4/PP/+cwsJCunXrBsCvv/6Kn59fSUIOIDk5GV3X+e2337j44osrehMrTbmSclu2bCnZ2aLiaPn5eAF79+5FneELK4Sonvbs2ePsEOoU07SfVjlEKcWuXbucFFHNFevmipHn6EpjSVAgyelHMT092H2GfdnANEH9q2KOVXH7/nz/tkVFReWOoTKP27LEU+q+hDPuT9O0o9lM/BPX4J+4pmS+UorXwi/FsuBotjsH0z04eNQT+0e/sNcexpaCKOYe68GG/DgCbNm099xAwrM+NI9Pp3lcOoG+1X/Mut9276ZtbGyZlj2f78I/2jgeyo6H2oJn7lq8cmfixuMUEkseLYhx19m1c5uMRedEcs6tXbrRmG4+jcEHDhan83vBZn7L2cS0w2+zsXA34bZA2nok0cYjibYeSSS6RmPUsVasF/a7Vj1U5XGrFKzYEMb/vmrMrxtDGNpjB2saXUei517gpHtxZ7l+qcrrkXMx1DHC+B/ubOUg48k2u8BhHdhdoZ8jaoYiZeeYPYtDZgZp9qOk2Y9ysPgoB+2OR5o9nYP2oxSqYjw0N8JtgYS7BBJpC6GxawwX+XckLjSSKJcQbJrxz4qLgQw4lnGEY8dnyflWlFVllxFrg/G9t9K3lQf3v9GRlmOb8ei1v5Lcen+Ff07NOm4vQVe98C9ciP+hx4kmVo0AAQAASURBVFAEks5IcmnlqHRSgbTCQvTcXHI3b0Z5eFTouoWjd4x69erRrFkzcnJySubffffd3HPPPact/+mnn7J27VoWLVpU6vrefvttrr76auLi4rDZbHh4ePD+++8TF+fo8jQtLY2QkJBT3mOz2QgICCAtLa0Ct6zyleuuQmJiorSUqwRmdjZ7V68kNDwY3dPT2eEIIcrAsiz27t1LdHT0KbUIReXS00D7V008BYRFyYDB5VX4+NSS6UWff0mHYY6Bc8+0J4tdNPj3V93SyrTvl/+9iW6Nk866zPn+bW0utjL//S3LQqEIiQiptOO2LPGUui/hjPuztH0Dp+6fCMDR4Y0dl+WfnLL+XNOdtblJrM5uyq/HxvHl+wnsOuBB/ch82jbKok3jLNo2zqJFYjae7tWrhuWfq1YyqHP7Mi1bnu/C2UUByRQCReYxbIW/4V3wK5cn/YSXtpBi93bY3Ttid++AMgIq4PPEucg5t/YLI4yWNOGq468z7TmszvybFZnrWZz5B08dmYWLZqODXxM6+jWjo19T2vo2wsuofTdXrv7zbbLsju4ovfxt3JT2GQC+NnfeanHV2d5arVTlcWu3a3y1NIQX5sSyY58HE4bu462HfyE0sBiXO/dSXI7rl6q4HjknpXDJW4hHxssUu7clz/8dPA1/5E5B7ZNr5rO/8AiHi445HsUZHC7K4EhRBoeLj3G4KKNkfqbdcbPTz+ZNlFsIkW7BRLqH0MQtnj5uHR2v3UKIdAvBz+Z1Xvfu5HwryutCyoiVrSxl0KoSFgVfvfQ3730dyeRXujK45yEev3kLft4X3nKr5h63YUA8udaVuObOJSL7dSxbLAW+V2O6t6q4jykowMjNx9awIcg99wqnlKKoqIj169ef1lLu3/bu3cu9997LZ599hrt76d2sP/bYY2RmZjJ37lwCAwP59ttvueqqq/j2229PG3+upitXUs4wDEnKVYJCZWdH9k7SDueheda+gqUQtZFpmhzKOES6azqGYZz7DaJCFOceKrX28p+H/3RSRLVDgVl4zn2oeWedXmtNKVQZ9v3CDZvwDS486zLn+7ctS+wnmKZJoVnI2kNrK+24Pe99CWfcn6XtG8fipe+f09efjbvvYbqFL+P/2bvvODnq+o/jr5mt11uSS+9Heg+9harSRJo0kZ8/RESUHyIiYEGUoiIICkhRQGmigFIFpEsoIUAgQEJ6z+V63zYzvz/2bnOX3O7tXm5zu5f3M497ZHf2c3Pf3Z3vZ74z3/l+58ALo8vrG3L4bFU5n60YypMLy/n1X6bS3OIjPz+A123h8bT/uG08bguPJ4LXY7U/ji73eiOMHl7HtL22MGlCJTn+vp2KBVL7flOJTc0Q4FieWDyBcw7OoTT0KaWBBylwfkOTMZpacyq15lRajBF9fmWnRGmfu2cajI/jC+ZxfME8Io7F520b+bh1DW/ULOaODf+gIdJCRc5IZuSOZUbuOKbnjmOQp6i/i73LahrWx3J+Qy7Q2r48y9o7u6PeBoMunnt1Go88OYdwxMVXj3ufG45cSm5OmK0WbK1Kvf2yO9ojiXicBioi/yDXXsMy9ylU27Ohdj0aHZedgnaYynAdW0I1bA3XsjlUy9ZQLVvC0f/rrWbchosSVz7F7nxK3AWUuPMpduUzwl3MtPyRXZYVu/PxmZ7u/5gNkbYm1rc19bq82t9KqnblGDHdkjkG3d3m7PcR94wv5Ibbj2L+OXO5/Nsvss/sXcvvA6PeTsXlvoIR1muMqL6SJmMMa93H0GyO2eU1m8EQuQGbCudgfFn7+WSujhkVCwsLe+wzWrJkCVVVVSxYsCC2zLIsFi5cyN13382iRYu4++67WbhwIVOmTAFgxowZvPXWW9xzzz3cfPPNlJeXU1VV1WW9kUiEuro6ysv7/2KAVGj+nQxgORYhO0ixy4vHrV57kWxgu2xy3DnkefMw97CplPqT4fJg7jw7BrnKnbtk1rhhPX6Gpi8f2qJnBj8qKGdmUyXk5GHH+T3zzjtj8bMLysn/+FXIycX+1re6je/td5tM2WPrc9lMGFqU1nqb1Gdpm8QZKtft59ndZwPxP59k1p9bBsPLtnHEPtuA6JRfmyoLqG/0Ew67CEVchMMmobCLUNhFJLL9cTgS/T8YcrFsxUj+/vRcGpr8TBhTy4xJ25hesY0ZkyoZPbyB3lysmeq20xEfi4WE8R0+Xr2VGeOTv2eVgYnlnUIVU6jiZDx2HUXWUoqtjxkVfgnLyKXBNZ0G1wyaXFOwjfROSZ5q+bOZ9rkCMN8zhfmF0QN0x3HYFKrmw5aVLGlZxX1VL7ImsIXh3jJm5k1gVt4EZudNZLx/WNZtM6nm/EyVznrb1Ozlb89O42/PTKekqI3zT/+ALxy0Co/HBjztP1Hd7xO7399C79sjJsaufT+OQ6n1LqNCj9DkmsynuVcTMQo1Oi4LhO0IG0LbWB3YwprAFtYFK9kcqmFzsJrqSAMuTIZ5yxjuLWO4dxCTc8dwhG9e7HmpuyBj8pT2t5KqVHPsrki17bvLeTlNJgyPcOc1z/H356bxkxuP50uHruDic98hLyfcq/UNnHqbS7XnJOqcoxka/jezwrfR6JrKZu8JtJkje73WSNghaDViObqfXH875JBDePPNN7ssu+iii6ioqODiiy+mtTV6DmDHEZ8ulyvW+bf33nvT0NDAhx9+yOzZswF4/fXXsW2befPmpf9N9CF1ymUQj8uD1617yolkA9u28JgevC4vpqmrbXYXw3DBDidKDFDu3EXz9kriCrTvfC/28OMX3mXu0Ymn0DJbg3Q0M+Y31kQftwax43xXvf1ukyp7O9u2mDysNK31NpnymI6Lnd4sAEa3n093nw3E/3xSXX+H8SNDQOr3mXMc2Lwtj4+WDeaj5YN5/IVpXHfHwfh9EWZMqmbGpCpmTqpm5qQq1mxbw+wJIxKuL9VtpyM+FgsJ4zssXVuZ3Pf1hz9AWxtzCgbjv/n16MKcHOyLLqKRoTRyJIYTIi+yjILIEkaH/o7bqafVVUGrexxtrrG0ucYRNgb16Ui6ZMs/EGifK90Z7xnJ+LyRnMQCIDrl5ZLmlXzQvJIX6xdz86a/4zU9zCuYxD4FU9inYAoTc0Zk/AmrVHN+pkpHva1r8PHAk1N5+KnJVIyt4xf/9yYHz9/Unlq7Hz3U/T4x/v6wt+0RwzB6/f247XpGtN1PrrWSzTnn0uDdBxPw9mptki5tVpC1wa2sbtvM6sDm2P/rA5W4DJOx/mGMzxnOWP8wDiqaxXDfIEb6BjHYU5I198PU/lZSlWqO3RWptn13JS/vDl/78koO3buSn/zuQM74v1P4xcVvsvfM1O+JNfDqrY8qz1nU2ccwJPgUk9uup9Ezj0rfVwi5Ur8g0TBDvTjClXQoKChg6tSpXZbl5uZSWlrK1KlTCYfDjB8/nksuuYRf/OIXlJaW8swzz/DKK6/wyCOPADBp0iSOOOIILr74Ym666SbC4TA//OEPOemkkxg2bFh/vK1eU6dchnCFwpiBIIa7m6HVpoHj3d4kNwIJhl8bBo4vDbGA49++M0spNhiKnrHr69hQKHrZYl/E+ryxE2VGOAxW/HvqpBTr9dAxTMAIRzrdXXwXYz0ecKUeSySCEUkU64aO4dypxFpWtBzxYt0ucLt7EWtHP+N4XK5oOVKNtW2M0K7FmraFKxiK/k1f++fgONFtOO56zej3kUxsKvV+D8oR3rCFix3u8+Fs/3vKEe2xGZAjol+MEXts2A7gdLttOO7tBw+mZeNt/8w6f7ddYnuZI8xgEFcwFN3f7njA0sc5YnvszvXesGy6P+PaaRvslCP8ochOfTmWYRDq9Ll1/px2Wr8BTqerzfo6RxgGjChvYWRRLcfsuxyAcNhk+ZoSln4+iKUrBvHiSzNYva0cv7+ZMcNCjC6pZuigZsrLWikf3Br9f1ALQ0rbcFk2TqepRaLvp/ttZ6cixepbnG3N74t1ss3NLcX1/ivRF/x+7Asu2CkWgLY2DNthbv227S82t3RZv+Pz0uyZSbNnJltdX8UX3kR+ZDm+0DqGWB/itzdjGbm0ucbQljuOtvbOukikKHHuSVDvveFw1zJkWY5IpR3R5QLsAdKO2B6bQttA7YjuY9vbEcV4ONQ/hUP9U2AQROwIn7Wu4+3wal6vX8ItG/9Oqe1jft5ezC+YxLyCyYz2lXeZaicT2hGd95+eiI3LTrBPzOB2REdbufM+t7c5orbaw0OPT+Sx5/diWkUNt/3wWeZM2xb9mIKJjzV23Cc6Rqf7H3VT7zvvcyOmScRtxo3tbM6YTlMmJZsjHIfi4EKGNT5Ii2sSK3J+imUXdv2elSNidsexBoEgNaF61ge2sj60jXWBrawPVLImuJXNwWpsv48J/uGMyxnOHO8YTsrfl/H+YQz3Ddqpwz8rjzU6yhuOYDgJ9rVZ1o4YiOcjtsf2b44wLDtalzsfa1h2/Draqd5/uGoTc0YMil+GHXKEZ4e27452zBE7tpXjxvbjOcvRw5v48/XP87fHx3PZ1fvz5SNWcuFZH+Df4T7fier9jvvbgXI+wiKXLcZXqfYcwZDAU1Q0XUV97gFsyzuRsFmWco6gpRXcLd0He73g8XT/muw2Ho+HRx99lJ///OecccYZtLS0MG7cOG6//XaOPvroWNzdd9/NZZddxoknnohhGJxwwgnccMMN/Vjy3jEcJ0E2aec4Do2NjeTk5OiecmnQVFtJ6dBR8V+fO511V20foTD1zIsw4+w8W6btxZprfhB7Pvl/vo+7sbnb2NYJY1j966tiz/e64Aq8VTXdxgZGDmPlLT+PPZ948c/wb9zSbWxocBmf//H62PPxP7yW3FXruo2NFOaz7N6bYs/H/fRG8j75vNtY2+fl04f+EHs+5tpbKXh/abexAEsfuyv2eNSNf6Torffjxn7y4O9jO88Rv7+Xklffihv72Z9/i1VUAMCwux+i7N+vxo1dfsd1hIdEGxnl9/+DwU++EDd2xc1XExw9HIAhf3uSIY8+HTd21a+upG3iWAAG/fN5hv71sbixa35+KS3Toze3LX3uFYbf83Dc2LVXXkTzvJkAFL+8kJG33Rc3dv2l59N4wHwAChe+x+jf3hU3duN3zqX+8AMAyF/8EWOv+0Pc2M3nnUHtlw4DIG/pcsb97LdxY7d+7WSqT/wCADkr1zLh8uvixm477Ti2ffUEAHzrN1NxydVxY6tOOJrKr58CgGdbNZO+fWXc2OovHMLW888GwNXQxJRvXBo3tm7B/mz6bnR0kREIMu2s78aNbdh/Lht+sP0E8fSTz48buyflCPvSHzJzbX23scoR26U7R9z36gf8n92WMEdsmDyCpkHRe/sUVDcyatnGuLEbv3Mu5w3dgGHA3surueavS+LGZluOqPniArZ880yg5xxRP6SIjXf8Bug5R7wxbQjXnj6DG6d+FeghR5Tks2HaaMDBvuSSfssR717zK+58bjPzx8zlzHu+RXn9mm5j1zOKY/KfZbhvM+NzV3N11dUMDXR/1WikMJ/PZ46i44TrmI/WktfY2m1sR44wb74ZMBj1yXoK6rp/b7A9R5g338zIzzZSWBP/Hi2p5Ij6O+fjL9iMz9mCc68L8z/xTwxla46Avm1HbLjwHD6bMo6hQ4dS+MEnA6odkUqOUDsiqrftiJAdZthPrmdYnP1RxOdh2UO3xZ73Vzviqz86mMb86EnIC59axvHvbIobO9BzxIpJh3DvP2fhvLCUByNnxI1N5Vhjy/ih1A0vwb7kkh5zxD1fmMhjB4/BceA27759miNqzjmK4eEHya1cjvv/2uLGKkdEpStHtOb7+cGvj2RtcBtrg1v54x83cMja7k+RWT4Pnz74h9g5sYF4rNE2spytW7cy6/X3KP/7M3FjMyVH6HxEhuSI2LFG1OSFn2HG6YzqnCPue/UDbrj/r0nniOHnXkppU/ftcZ2z3G4gn49ouWwiObPX0mDuTeiNMspvj1+GjhwRbm0i/9U3qfjT43FjI/fcg3POOXFfl/gcx6GtrS2pe8pJVxoplwmCia/ycjW3krts5fYFCa60MFvbusQmumrADAS7xia4qscMhbrEmqH4V9QY4XDX2ARXshgRq2tsa/wDEmynS6yrufuTbh26xDbFuRqiI/bzVbGrgNwNiW+MnLNyDXZedF5qd11D4thV6/DU1gPgqa1LGOtfsx5X+/y5nuraxLFrN2BEoifxPFXVCWN96zfFRqF4K6sSx27YEntv3q2Jh837Nm2Nfca+TVsTxnq3Vm6P3dB9wygWW1m1PXZ9/JMQEH3vsdg4Da5YbHVtLNZTmfgz89TWxWJ7+o7ddY2xWLMl8TbpbmiKxRoJ6hBEt9ku9T5R7B6UI+xAgpEUyhHbY9OcI8xgCG9N4hzhbQ2S09454m1NvJ/zbq1karAew4DR2xJ/F9mXIxqSzhGucCTpHFHYGmLqunpyzZ7zhCtitX8XDs6ylf2WI0ZuWcqIkhq+XFJLibcxbmyZu4bzS+9kU2gEK5srqA4OYijdb2922MHX0Ba7/4+Z4CrMjhxhNLYCBq5EIz3ZniOMxtaeY1PIEfXr9sPOy8UwQgxufYZ8VsSNndByLVZDPhErD3db/M8MMitHQB+3I7Zso8jnJre+ZQC2I5LPEWpHbF9Pb9oRuUBxMP7JgqAd5piPL+MQcxwLjPGMaY7faQ/pa0fstaGB1tzo1dqlTYm/52xtR0DPOeKJf43mh2tP45CKz7n28Bcg/nnClI41PIEQOUELZ9nKHnNEeV0bU9fV4zjg92xIvN4UckRu00pKW1+nLTCarZtPYSR/jRurHNEem2KOqP1sMVudJjbTyMlttXHvzRewg2yuWs0ko4QvGrOYShDitDkMG/KWr4o9H4jHGkZzM0W1tVmRI3Q+gtjr/Z4jYsca7RIM/eicI8xgKKUckWiEWm/bEcY//4lrc/zvTucst8uEdkTj1lnUbjqYosLFDA6/k3i97TkiEmjDW12fMFakP2ikXAZo2rSW5T+9mNJRY3HnF+0cYJrbh65Dz0PMOw25TSk2FI6/kzOMrtMZpBIbDvc8VUOvYiNg9zCtQ7KxXs/2adYikU7TX+1irMdD7ExhxMLoach20rHu2LDxlGItK/Hwbrd7+7DxlGLt2A63+1hXp2HjKcTaduKpJVwucPcm1kl40JdMrO1Y1NTUUjZ4EIa3fYoCx0k4tYTjMrdPhdFDbGr1fs/JEbd+/ixmN9NXfm/sUTvFKkekL0fc9fkWzp8wJPH0lY8+Ah3T+HSavtI5fecr3R23i9+uexHDANN2cHeavrLju+0c29sc4YSC0XpbVoppuBLE7nqO2B67c703HnkYupm+0jHYfoVepxxx69oXd5q+0jYMwi6TS8d/Eehal3daf2z6Sgfn7K8lrPfv17UwZ2jJ9l/tgxxxz/pXabHDhD0uIuES3J46iiyTb45e0O1qjb89jNNpelHDtrFsg/VHfZuVWwezsjL6s6JyCOurS7EMFxX+FVT4P2ey7zMqfCsZn7OS8rMPwzR2yBc+L8YDfwUMDNvudNJg522zI0cYD/w1uv12WVXX+L7NEQ6mEcRltmD6grg9LbjMZlx2E26nCZfZgsvVQsBuosjThmE42I6J5c7HcvKx7DwioVyscC6WnYtt5xOxcglbpVh2PmBkXTvCMqG6vp5BZWWYjjEg2hHbY5NvG6gdESe2j441mp0Ab7m28Jq1ktcjK2kKNbGPOZqD3OM52D2BMZR2neoyTe2IGze+hNG+v3dbdmy0Qbf7xAxuR8Tayp32uT3liPU1Jfzp1QN5+oPpHDR9Dd86aiFThlf2ybHGn1du5RsTh/aYIzrvcy3TwHKZOA5cOvboXc4RblcDgwr/jc9XSXXbl2gOTAU7cWeUckT0fFSrEaHOE6bOaaXOaaMp2EiD00a900a908o2p5lKu5FKp4kqp5WAFwYb+Qw1Chll5TOUAsqNAoaahZQb+YwxyygjF2PHKTT38PMRNjbVNTUMKirGleBMYba1Iwbi+Yjtsf2bI4xHHu5m+kqr22O+6Hq31/u7Pt/Ct8aUJShD1xxx7ycb+MbE8u5ju2lH/HnFFr4xsZt7kHWKTaqd302OeL+2mbml+Tutuq9yxNqqUn7+xLFsrC3myhP+zYLZa+PWe9ux+NPnW/jfvYZhGq605Ij3a5uZU16SMecjAEy7mULPBxTlLcbAoqF1Dk1tc7DsvC6xVnMjVl0NIy74IbnlI7tfsaav7DWNlOs9jZTLELbHjZ3rxy7I6zG2845GsX0fi9eT6MKe7I4lXbHgkPwNdFOK9acrNvlbp3cXa9sWkUAbdm5Ol5vpdm5Y9bjeVGIzoG5kQmyr37NT54Tj0G3uVI7oRWyS9d4xwMnxJ4w1XF1v+u24ABycOPu5sNsV+247xjzE+267lCWFem973dF6m58HPdwEe1dzRNxYnxfD46a7TjlwumyLHTmiJce703YP0c+nI77LQWgP60+0vb+7vobZozuVoQ/qUZXPwDDaPyNPIxFcVLvjf7dGfh60j3x5r3QY82u3YPh9jB4XZPS4jRzO9qnngmEXa/6yiM/rx/I6c3mr7kD+Wvt1NgRH4f+5xfih1Uwor2bi0GomDqti4tBqRhluXIbT5eRBom2T3BycQDBWFgD8vvjxfVA/bfKJUNbxJPrTwYr+3PXJes6fNgrTaMNlNOMON+Mym3EbLbg8zbh8zfiMmmgnntGEx9VIxM4jGBlG0BpOMDKMgDWciF2C0+320p3+aUc4toXd4o5uv6ZrQLQj4saqHdFvsbnkcQRlHMF0HMdhlVXFa+EVPB/6nOvCr1FuFnKoZy8O8Vawn2ccOUbvcmVPOSLsccdyfrjTvUN73CdmWDsi1laOu8+NxjoOfLBmJA+8Pp/nl0zmS7M/4+EfPczEYdEr6x3a93O7eKwR8nq6by/uUO+72+c6TjSu9znCptj3NmW5L9Ecmsa61tOxnVzwdhfbw3qzPEfYjk2TE6TeaaXObqXOaaXeaaXebqPebKW+Y1n7/3V2K/VOGyEiEIICw0+JkUuxmRv938ihxMxjmlnOEWYhQ81ChppFDDEL8Bg9tPVgp207E/JUf9Zlx7awPW6cXD92D23lXpVB5yM6xQ6MdkR3xx2OacRvJ3eOM3o+1jMeeTh2XDCjdBjOktej7fB4nX5LP8ZY+gkOUDR0PM4zi3CmT4PpM7qPN00cc8d2cPzjgo7P4d31NcweE6eDcIfYZOwYO7ogyN2XPM7f35rD9x87kwOWruEnpzzPkKLmneqcbVsEPd7u97d9lCOi79ebVCzA4m0NzBtSlHoZUqj3FiXUcTh1gQXkeZZTXPQ2JWVv0RyaRn1gP4JW9DZRjtsV7fTLzYW8nrdLkd1FnXIiIiKSknmDuxnVLcnz+3bqdIot70auy0OrFb2S1Q4WY/rqY8v7QueD3XmlwzAWvZz4YDfNOv/dxZ+sZ94JX4gb6/NYTP7fuUwGtn7yOudPGw28TSDkZs22UlZVDmLV1sEs3TCMfy6awbptpZjOeYz3r2aCfxUjvJsY7t3McN8mhm0ezIiSBvJzul4J3FGensrSPwxsJxfbySVsD+khMojPvRWfazN+9xbycpbjdVVhO16C1rD2zrphBCPDCdmDADPh+kQGMsMwmOgewkT3EP4350CanSBvh1fzemgFP295imq7hX08YznQM4EKVzkTXYMZZhbpCuEUNAe8PLloOg//dx4ba4v58vyPeeaKOxk7JPH0WdnG69pKed6/cBktbG46k7bIhP4u0i5xHIdmJ0iD00aTE6DZCdLkBNp/gjTZbdH/Oy1rdgLRTjenlQanDRsHE4MiI4diI5eSjg42M9rJNtxV3N7h1vW1IiOnx442ERlgAkE6Ov3m126NPk4wbTXTZ+C0d8BVfbIeZ8E+6S9jmpgmfPXADzhs+gqufexovnTtBVz25Zc4bf8PMHexmd6l0ywNFleld/1dmbSEp9ASnoLXVUmR7x1GFt5LyBpCfWA/GogzOk6kn6lTTkRERFKy+xrYA1MqnU4A3x23fbqyuz5Zz/kTD+jbAqV6sJuhOncW+70RpozcxpSR27rEhCIm6+9+nVWBiawOjGdzaDifNkxlc3A4m28cTSDsoTCnjWEljYwobWBYSQMjShsYXtrA5noXW0fkMriwGZeZyrXbyUn3wbGDj0BkDIHIGBrav16DMF5XJT73FvyuzRT738brqgQMApFRtIYn0BqeSNAaijrpZE+Wb/g40juFI71TOo2i+5x3w2t5KPAuG+16cvEw3jWYie4hTHANYqJrCBNdQxhhFuMyVH86fLZxCA//dx5PvTed0YPrOOuQ9zhu3ifk+xPf32hX7e4LigzClOS8Ron/TRoC+1LTdjgOyY9K2Z2CTpgau4Uap4Uau4Vau5kap4XaLstaqHGaqbFbCBOdWizP8FFg+Cgw/BQYfvI7PS40/Aw3iykw/RQYPoqMXEqMnPaOt1wKDB+m6oWISI+GFDVzyzce5+WPK7j60S/x5KIZ/OL0Z5gwtKbX60xHp1kmXOgZssqpaj2BmrajKPR+QGnOywwaFWRNU6ZdWCmiTjkRERHJAN2NBuurkWCZLNWThBqlGF8yB5Zet01FyQYqAit3GqVof/UM6ppz2VRXxObaQjbXFrG5roj314zkmfensbrqCzz0RD4u02ZIURPDihsZWtLIsJJGhhZHf4a1Py/Lb0n5Ctbde0VplIOHoDWSoDWSxthSC69rG7nuteR6VlKa8xq246YtPCHaSReZSMTWdih7rq6j6A4CIOCEWW1Vs8raxkqriiWRjTwW+ID1di1uTMa5BjHRNZhxrkGMMIsZ5ipmhFnMULMQrzHwD8kDITfPfTCFR96cyycbhnHM3E+59zsPMWvspm6nZ06H3Zlf/e51lOf9E8dxs7HxPILWiN32tztrcYJU2c1U2U1sa//peFzlRB9X2c00OG0A0akgjTzKzPYfI5+RZgmz3CMpM/IoM/MpNfMoNfIoNPzqbBaR9OtuhpEkpwlN6ripff3JzF4C2zueYp1O7fG7o+Pp8Bkr2GfiOm56+jBO/PV5fOuohZx/1Ju4zQT3ed8Fv1/z4vbjc4r51cqlQPS4vfNFozEZdKGn7eRQHzyA+uB++EIfEQ5p2krJPAP/CEBEREQyXueGfbpHDGWSVN/nnvK5dEhHJ2S86SgNoLSgldKCVmaM3rLT7931yXrOqRjP1voCttQVsbW+gK31hWypK+S/n41na30hW+sLaWjNweOyGFbSwPjyGiYMrY7+X17N+PJqivMCff6e+paLkDWMkDWM+uD+QIQc9wZyPaso8r/HENe/CNtltIYnto+kG5fSvVlEBiK/4WGqexhT3cO6LA85EdZZNay0qlhpbWOtVcPC8Go22/VU2o04wGAjn2GuIoabxQw3i/jUt4V820e+48NnRw/XHcAxHNZbte3PHWyc9n/RKQUdHFyGSS5ecgwvOYan3zv8NtQM5k9vHMU/351FcV4bpx/0Pnd+629ZkAd7xzQClOW8SKHvA2rbFlAXOBDou+kWHceh0QlQ7TRHR67ZzVQ70f9rOo1kq7GbqbabaSGEC5NBZj6DjQKGmPkMNgsY7SplvjmGwWY+Q8xCBhsFlJl5mhpSRNKuu46euJ08pD7DSGfJHDelPE19e8dTrNMptiyxvjq+zc8J8dNTn+eE+Uu56uFjefb9qVxz+pPA+l1e945arXDswhmXv77L8uxh0hoYC1T3d0FEdqJOOREREckoe1rHU59L8Z51mSyTtoV5g4vweyOMHVKX8J5HLUEPW+sK2VhTzOrKMlZvG8QT78xkdWUZtc15lOa37NRRN2FoDY7T83CRbqeFgTRfoeumLTKOtsg4atqOxDRayXWvJtezisG5z+A2GwlERtEWGUXQGk4wMoywXYqmuxQBr+Gmwl1Ohbt8p9cijkWl3cRmuz76YzWw2a5ng6eeZjNIsxkkYthdfufR+g8AMDHa/xF7ZAARbCy2/44bM9pBh4ccw0OO4SW3vcMuBy9FZg6DzHwGGfmUmXkMNgsoM/IYZOZTZOT0+h55768eyR+eO4i3Px/L4TM+53ffeJz9Ktbu8j1wdoeOkfup3sM1z/MZg/OeJmyVsr7hO4Ttsl6XwXZs1to1fBrZwtLIZj6NbGaNXUNt+9SRHlyUmnmx0WtlZh6DjHzGuEqjz9uXl5sFlBi5miZSRDJGdx092dXJ0zt9PSPG7HGbeOKH9/Cnl/bnG7edw+hRMxgTWcchU9dSkNN9J2HKI99EJK3UKSciIiIygOzKFaUSX7IH0nm+MBOG1jBhaA2HTlvV5bW6lhxWV5axausgVleW8eaycfz19b3ZWFMMONyb10Zx+09JXisleW0U57VGn+e3UbJ1I8WuBkrcdQzZEmKFXUHI8RJq9hL4fAyhiItg2E0w4iYUcRMKuwlGXIQibsaXV3PwlFV43Xa35U6W7eTSHJ5Oc3g64OAxa8n1rMLn3kSJ53V8riocXAQjwwhYwwhGhhO0hhGyBtOXI0ZEsp3bcDHCVcwIV3GX5b/a+iyGQadxcO1nLx340cRje1xvyInQ5oRpc0K0EiLghGnteO6EaKPjcZgGp5Vqu4Xl9laq20daVdvNsY6fjs6eQWb0Z3uHT17s8SAzn2IjF5dh8uGaEdz67CEsXj2Ksw5exKVfvJcp47yYZvbU/Y4Tk8new9VjbmNw7vP43eupbvsCjcG5pHJRguXYrLaq+MTawqeRzSyNbOazyBZCWOzlKmeqexhf8k1ngmswZe0dqIWGv9cdpiIiMjB43Tbf/sKbHD1rKT9+soLfP7eAy/5SyvwJG1gwfQWHTV/BuCG1sfiBMfJNZOBQp5yIiIiIyG5QktfGvPEbmTd+IxC9YnWiFSYS8dJUM5GwbRAIFOGESpmfszf1LTnUt+SwsaaYupZc6jdPpD5STG2klIjjxmuE8JnB6P8PevC6LbzuCF53BJ/HwueJPva4LP7y2t4Ew26OmfspX977Y2b3yb2cDMJ2GQ3BMgh2LIngdW3D596Mz7WFIv8ifK6tgEPIKicYGd7eWTeCoFWOOupEurd9/FuUk+TveQ03XsNNETm9+rudp0istjv9tE+N+LldSY3TQq3dTLXdQoAwhmPgDpYQCQxj6Bdv46BSi5DHx7NtBh8FB1FmRqdH7Hw/skzvVOpp+mTTaKEs5xUKfYtpDM6hsuFiLCc/4e/U2i2ssqpYZVXxuVXJJ5HNLItsxcJhsnso01zDONE3m6vyjqHCNaTfpx8VEZH+kcp0l+OG1HLwvn/nghnvsKFmEK9+MpFXllbw2ycPZ3hpA4dNW8GC6SuwcON2R5IuQyTiJdBaSltrKV5fC4XFGzDNXbu4T0S2UytPRESyRm+nFBKR9NiT7v+XDh1XrHo8IUqHfhpb7jjwjYk7H/Qa990HGDjtZ+e3n9N2cM49N+HfsmyDd1eM4cn3pvON28+kLL+FE/ZeygnzP044HWeqHNzRaSyt4Z3/Ol5XNT7XFnzuLRR4P2Jw7r8Bu72TbgSByEgCkZFE7BIgs0/WiwxkhmFQZORQRA4TXIMTxi5ZN5RbXpjPu1tyOOqA1zl4/tuE/TXU2M1U2U2sopaPQ5XUOa3U2i3UOq1Y2LgxKTXyKDFzYx11ZWYeJUYuxWYuJUYuJWYexUYOJUYeJWYOPmP3tvfi7dsMIhT536bU/xqByCg2NF5AyNo+Pant2Gy2G2Kdb6usKlZb1ayyqqh3Whls5DPBNZiJ7iGc5pvPtLzhTHAN1v3cREQkprfTXY4ZXMfXFyzi6wsW0dzm5c3l43llaQXfv+8rNIW+wsgx7zBq3JsUFm2irb3Dra2lhJ8tnk11Yx41TXlUN0X/bwn+GLDx+RsJh/IwzQilg1ZROvhzHtnqZ8rIrew1fBs53uQ7+kRkO3XKiYhI1uiYUkgdASKZoa/vjzCQpDNP9WaAict02H/SWvaftJafnvpvXv54L/61aAZ/fP5Apo/ewgl7f8wxcz+lNL+t7wuMi5BVTsgqpyk0u32ZjddVhd+1Eb97EyX+N/C5tmE7fgKREQSske0ddSOw8aehTCLSW0vXD+XWZw/l7c/HcvpBi/nVV19hcGELMK79B2zboqq1msEFg2LTV9qOTaMToNZpodZupcZu7tRh18Jqq5q6SCv1dit1TvT/FkIA5OKlpL3DrqPjrszMZ1D7FJtlZj6D26fYLDXy0tDJ5ZDv+YRBuS/QZLl5o+FoVgeL2WxvYLP9MRutOlZZVayxqgkSYaRZwgTXYCa4BnOKby4TXIMZ7xpEodm7EYwiIiKpyM8J8YXZy/jC7GXYNvzk7Y2sWLUvSz/4Km0tg8jJrSYnt478vHpyh4eYO76OsoKW2M+Tdc/i+KoxTYtw6yCaWoqoqa6gsXoyz74/lRufPIzmgI+xQ2qZMqKSKZVepuZ8xpTczxjkqenvty+S8dQpJyIiWUedACKS6TK5wzLHG+HYeZ9y7LxPqWnK5Zn3p/LPd2dy/eNHc/CUVZyw98ccPn0F/rRe+WrGOuoaQ/MAMAjhc2/B79qE372BwtwP8bjqCFkllHgG47gmELRGE7SGosMYkd3vkw1D+f2zh/Dm8nGcfuD7/PKMZxhS1Jz075uGSbGRSzG5jE+yzyzkRKhzWqnr1FEXfd5Ctd3C0shmqu3m6Og8p5lmJzqXbomRG70PnhHtuCsz8/EbHny48RoufHjwGW68uPAa7vbH0f997fllq93IZruBbc5GqljFRivI+m1uau0QHp5huFnEMDN6X8CxrjKO8E5mgmswY11lu31kn4jIQNfTtMKZuO7fr3kxOtMPxfxq5VIgOtNPx8XGu4tpwrUHjIQDNgGPRu+bOm10wt+ZOnJe7PFdn6znx/t3xH8OfI7jwOa6Ij7bWM5nG8tZsno2j1SdwcbQKMb7VnFY8SscVvQKcywTj0vTXorsSEezIiIiIiJ7qLKCVs459D3OOfQ9VleW8tR7M7jxycO54sHjOXTqSo6evYwFU1eSnxNKe1kcvAQiYwhExsTuUecyWvCa67HDKyjLWc4g98sYhhWd9jIykkBkFIHIKCJOZnaAigwEH64ZwZ0vHsB/l43ntAM+4D8/u43yFDrjdoXXcFNuFFJuFiYVH3DC1NgtVNtN7ffFiz6ubR+RF3IihIgQdCKEsNr/jz4POhHC7Y9tHIa68hjrCTDe28Q4xnK0NYdh/sEMdxVRZuRhGmaa372IiHRI58VumXohXSIdHX4AlquQ36z+DNh9nX6GASNKGxhR2sCRMz/H2HYfYFAfKeKtpv15pf4wvrv690SuyOXgKas4fPoKDp66ipK8dMzKIZJ91CknIiIiIjLAJTOd5vjyWi4+9jW+d8xrfLJhKM9/OIXfP3solz9wAgdNXs0XZi3j8BmfU5wX2E2lBsvJoyW8F1XVpbQxCNM0Ok17uYHSnFfwuqqIOAVdOumCkeE4aKSKSG85Drzx2XjuevFAlq4fxmkHvs+LP72docVN/V20hPyGhxGu6Oi13nHwmNUU+j6k2P8WLaHJVLcdFb3fpc6eiIhICjo6x+76ZD3nTzygT9fdcW9qAMNbj9F+oUhHR11/KXY38KWSf/Olkn9jOQYfHnolryyt4O7/7M8P/3oCc8Zt5LDpKzhs+gomDq3u1bT8IgOBmpUiIiIiItnA74NAdAjZe6XDmF+7ZfvyHqQynaZhwPTRW5k+eivfP/4VVm4dxPMfTuHeV/blxw8fy757rePoWcs4cuby9vtI7U47T3tpEsDnjk55meNeS6n/DUwjSMAaTiA8mrbIKAKRMVhO/m4uq0hX2XBP3Ihl8O8PpnLXf/Zna30h5xy6iN+f948BfWW7abSQ61lNrnsVuZ6VuM1mWiNj2dR0LoFI4um9REREepLs9JjGIw9DIMi80mEYi16OLvT7cE4/I42l61lvp/d0GTZzx29k7viNXHrCK2yqLeLVpRN55ZMKbn32UIYUNXHY9BV8ZZ+PmD56ax+XWiSzqVNORERERNIm1+WJXbFpB4sxffXkuvp/BFPa7kux9GOMpZ8weOh4jEcWAuBMnwbTZ+zyqjsfkC/+ZD3zTvjCLq+zJ4YBFcOqqRj2Bhd96Q3WVZXwwpLJPPb2LH7+6BeZO34jX5j9GQumrWTM4Lq0l6c7Nn7aIhNoi0xoXxId6ZLj3oDfvZ6y3JfwuaoIWSUEIqMJREbTFhlNyBoCaPo52X2S6RzvLmd2LE+nQMjN4+/M5J6X9seyTf738Lc5Zf8PyfX17xX36WAQwe9eT65nJbmeVfhcWwhZg2mNTGBb6wm0hcfi4O3vYoqIZL7uLhhLcLFYph4XJK39/aZ6cVzSF+QEgoDB/NqtgNFpWf/qqwuKRpQ2cNYhiznrkMW0Bj289flY/vPRJM783deZOnIr5yx4l6NmLdc96GSPoE45ERER6XspHqBJeqSj46njCk5g+1WcCa7g7HxPg3RM3dJbaRutMn0GzvQZVH2yHmfBPun5G/1ozOA6vnnkW3zzyLfYUlfIi0sm8cKSyfzqiSMZVtrIQZNXc9DkVey31zoKcvrrJIJB2B5MODSYxtBcAEyjNdZJl+/9mEG5z+E4ruh0l9ZIwtYgwnYJYasUy8kjdiJEMk42jDbbUcd9X2yK+dXKpUD8e77s7pzZ2Orjof/O4/5X96Ekr43vful1jpv/yQA7IRbB66om172aXM9KcjxrsR0vreEJ1Af2ozU8ActJ7p51IiKyXaoXjHXex2Xj/rzj/e6ui+MGslxfmCNmrOCIGSu4/MT/8Pe35vDrfx7JDU8cxZkHv8dpB3xAaf7AHaUvok45ERER6XP9MaJHdpaWA932KziB7VdxZsAVnNloV0bEJNPh2vkG8Ml0BqRqWEkj5yxYxDkLFtHc5uXtFWP577Lx/PpfR7KxpphZYzdx8JRVHDR5NdNHb8FlOrv8N3vLdnJpCU+iJTypfUkEn2srOe71+N0byfWsxGPW4TZbsB0PYauEsF0a/el4bJUQsYt1r7p+lspUrJmi474vLn99l2X9qaoxj/te2YeH/zuPiUOr+eUZz3DYtBWYWTt41MJj1uNx1eA1a/C4amKP3WY9Di4CkTG0hCdS3XYUIascjZQVEek/2bYv7yxtM27soYrzAnzzyLf4n8Pe5qWP9+Ivr+3Dbf8+mOPnfcLXDn2XKSO39XcRRfqcOuUyhBmOYITCGMFQNy8aOJ7tB//dxsReNHC8vYwNhSDeuRIDHK+3l7Hh6J3C43B8vYwNh8Huo1ivh467ixrhCNjxrwxNKdbjJnZkG4lgWP0ca1kYESt+rNsFLlfmxNp29DOOF+sywe3ul1jDtjBDYYxIBLzt5XWc6DYcj2lGv4+kYlOo98oR3ccqR6Qem6a6bNp2wm1tt+WIYChab4MhDNOVOLaP8klq9b5/ckR0++i4Szg4nc7IdrfeWPyOscoR7bHReu8Jd9+u6xz7vZGHxXLEnz/bwDcmzt8eGAwlrMvzi3Kg0/q7i40EAvg6Bny5aqB9U23r/F76KEcUmCGOnPYZR878HIANlQW889ko3lo+lof/82VcpsO+FWvZf9Ja9t9rDUMHtyZd77ucN+/DHBF0DSVojYTg9liDIB5XfbSDzlWHx6wjz1yGx1uHx9sA2EQihQTaRhCIjCQQGUnQKqfzYdVAyxFdZEA7wrPD55kNOQLHidV7d8TGdJzooh5yhMuyEu8/e7G/b2rz8ecX5vPIa7OZO34D93zjr8wdtyH6J8O9Xy/QpX7G2sqd9rl9c/zg4DWr8XvWtXe61eLx1uLx1gMQDhcRDpYSipTSYk2gwd6bkFVGxC4EXFlzrBGjHNH+4p7XjuiT2FTrcodIBMNJUD8z7FhjTzwfEZNBOaKjo2pPyBE7tsO7je1FjuhyXLY9EqdTO6Kj3nvDVsciLMvG1f63gq5Ox2dxckTHcUpfnmPoXHbHNGLlTWW9biJ8ccrHfHHKxyzbNISH/zuPr9/4VWaO2cyZB7/HobPW4PL0Ip/YNrS2Qkuce2F7veDRRXeyexmOkyDztHMch8bGRnJycjCMHZOD7KqmTWspHbdX3Ndbpkxky3lnxp6Pv+J6zDg7z7YJY9h04ddjz8f99EZcLa3dxgZGDWfj/50Xez7ml7fgqWvoNjZYPpgNP/x27PmoX9+Br7Kq29hwSRHrfnxx7PnI392Df8PmbmOtvFzWXPOD2PMRt99Pzqp13cbaXg+rr78i9nzYPQ+R99nKbmMBVv72p7HHQ+//O/kffRY3dtV1P4rtEIc8/C8K31sSN3b1zy/Fzs8DYNBjz1K88L24sWuv+h6R0mIAyp56kZJX34obu/6yCwgNHQJA6fOvUvrC63FjN1z8vwRHjwCg+JWFDHr6P3FjN337HNomjgWg6L+LGPzEc3FjN//v6bROjW6LBe9+SPnfnowbu+WcU2iZNRWAvCWfMuwv/4gbW/nVE2jaZzYAuZ9+zvA/PRI3tuorX6LhoL0ByFm5lhF3/CVubPVxR1J/WHRKH9/6TYy65U9xY2uPPoTaLywAwLt1G6N/88e4sXUL9qfm+OgIAndtPWOvvTVubP3+86g+5VgAzOYWxv/st3FjG+fPYtsZXwaijc8JV94QN7Z55hS2fv3U2POJl14TN1Y5Iko5YrtMyxFvPfcmX/vPS3FjB3SOOGA+1ScfA2RJjsj3s7liOODgnP21xDki18u/Dtib+TWbwedj9PItPeaI92qamF9WoBzRzznihlOmcsr+pwD9lyO+mXcPjdNns8+ENRwT+hdT/vFA3Nitpx3H6vEjGVRWRv6yVf2YIw7BbTaRW7WCIdc9Gze2/rB5VB8XbRsMuByRAe2I2vx8an/+/djzbMgRF58/j3D7RVxf+89q9l9WHTe2c47Y9qd/cMCnn8aNTSVHrLjkIv604jjufPlgfuW9kvPrb4kbm1ntCIeijxcx+L5/x42tO2tfGveeT9gqJvfT/swRC4A9vB2RATlC7YjtUm1HBIaUUV1Tw6TFn1D24htxYzMrR+zh5yOUIwDliM4u+8YcvjXteKD/jjU27jWcYJ4fcCgaMaHPcsQ5+Y8wbEEJp+77PqOWvpVUjrCaG8ld9AGjnn4tbmzknntwzjkn7usSn+M4tLW1UVhYqD6jFGmkXCboYY4Qw7IxA4HtCxJ1o9o7xiYITiHWcLrGGk6Ceww4Ttf1JrhyK7VYupYhwZUWQPLrBcxgAKf9PRlWgiu1ATMYBLcr6diOchiRBFc3EW0UJRtrhjrHJp76xkgpNpx0bOcymKEEVze1ryu23kRXY+0Um/x6ey5DZPt6E12NtUOsGexhSjbLSjrW6BTb03vbqX4mXK9yRDRWOSK23gzLEYk3yoGdI4wsyxFNbi+mZYHPhxMIJM4RJaUsHj+ZvQ87MPp8WfyTCx05Yp88DwQCyhH9nCN8Ybvfc8ReE97kM9de/PmV/Xlni8WjxO+UM8IRXMEQZiDYzzkihI2PYPPQhLHFuYvJK1tJIDiccGNp4vVmWY7IiHYEydfP8I5l6KcckRO0cLe/fbeVeJ/YOUf0tP9MJUecd/eZVOaN5caT/8ZXNi6CVxKsNwPaEbnmKvLzPyPHvx5XQXPC2HCgFKslD5Ow2hHKEWpH7BCbWjsiiCsYyrpjjT35fIRyRHsZlCNi/MFO33M/HWsYtoNp2YDTpznilDmLuPqj73Lr8wv47YhfciHxO+U6coQdsbBdrrhxIv1FI+UyQFNtJe/c+lOGjZuIJ7ebG0ybZtch24nu22IYXYdApxIbDCYe3u3z9TI2lHgouL+XsaFw4qkaUon1edk+FDwMiYZWpxLr9cQ6XY1wBBLsEFOK9XjAlXoskUji4d0e9/bh3anEWlbi6Rfcru3TL6QUa0c/43hcru3TL6QSa9uJG+NJxNq2xbbKSoYMH4bh87cX3kncwHaZ26eA6Ck2lXqvHNF9rHJEyrHpyhFLVm1k9ojB8WN3U45wgoFovS0vx9xh+sq+zhHbY1Oo9xmQI/763484+8i9k1uvYXDvW59w7oI50afKEdHY9nr/4BtLOOvgWUnFAt3G72qOuHLZY3TXdA+5TH49/fTk1pumHHH/wqWcc/g8ABrq3SxZWsb7n5az+LNhrFhfyuihDcydupV5U7Yya1olEWs9Q4cOxXTI+HaEabaR49pArr2KXGsVOYE1GNgEjJG0mmMJmGNoM8YQMgaB25VVOSIT2hEPvLGEs47ap1PszvXe/NM90BZgScFgZrbWRBfm5OD8zzf6JUdcuuoJDDNaGT0RG9OOTl953eSTd15vpxzx15fe45wDZ8QvQ4Ic4Tjw6qLR3PHoXEIRN984/ROOOXgNLpezW9oRsbZyp31uvBzhdhrJsz8n115Bnv05XqeaNu9oWjxTaDEn0eqMw4nEv554IB5rbI/NrnZEJuSIgdKO6JPYFNsRNg5bt25lWNkgEt0GNtOONfbE8xHbY5Ujoi8OjBxh/uEP0QJ2jcS69Ps71fvO7XzbsjHb61nAbXLjtNO7xO6o47ijL89HdC779ukrHZyLvtvnOeKTVYN49JkKXn5zFFMnVHPa0Z+xYP463G5np9hwaxOhuhomn/ANcovKul+xpq/sNY2U6z2NlMsQ4Vw/VkE+rvyCHmM775QUq9hUYvF5e7jetpexxG/v7HqsPz2xObsWa9sW4dZm7Py8Lif3OzeselxvKrEZsP0oduDHpitHzJw6nsTX/nWVrhxh+z3ReltUADt2yu243l3MEXFjMzxHRDyeLq/3uN5OB8uZsA1nUmzI641ua0mut6f43pTBKcqnKRI94ZJfl0tzSXR6oHy3t1ffW1/mCNvliv3twnI4uLyOg4+oA5ZR3+jj/U+G8O5HQ/njM/uz4vYSRg+r4pC9t3HA3C3Mm16J35f4yt8O/dGOsCmgiSE0Ee10pNDGZ28h11pNjrWassir+O0NWEYObcZ4Wp3xtLnG0+oah+Xv5gK9eGXYQ9sRYa+35zxlRcDrYUawHqfjpG0oiF2Yv9vLCxDyumMnzkKe9g4qhx5zhOV29xjTXRne/Wgov7tvLpsq8/nW6R9xyhc/x+uxAQ9OEuWNt94edar3sbZyN/tcl91EnrmMfPMz8iKf4bO3EvCMoMU9hS3us2hx74Vt5CX/d3csc0qxmXmsETc2w9sRis3uWMe2sL0e7PzcHtvKvSmDzkd0ilWOUGx3sV433XXKdf6uOmKb8rxd7ynX3rHlOJ2OBeKUobvjjl1+b3HKbufn9ri+D1dtYvaEEUnX+6lTG7l66mK+d/5SnnihghseWcB1D5qc+qXlnPLFzykr2T4K0Yl4cfxeyMuFvN63LUT6mjrlRERERKRXZk0Y0d9FkASunXxK7PH9L7zL1w/eJ0F05iguDHL4/hs4fP8NANTUu/n3q7ksWzONn91yIPVNPuZNr2T/OZs5YM5mKsbWdTsiMGMYJkHXCIKuEdRxcHSREyLHWkeOtZpcazXF4YX47CqC5mAC5mhC5hBC5hCCruj/YaMUjIE59U7sRIzssk9XlnLr/XP5cNkQzj1pKV/78qfk5SaeYmp3MJ0W8iLLyY98Rl5kGX57I0FzKC3uKVT6T6LFNQnLTL5DWkRERAaOJb1sC5YWBfnfU5fy9ZM+4bV3RvHQ05O5628zOfqgtZxx/DJmTop/D1+R/qZOuQxihMKJh26LSMYwHAszFMIIBjEG6EkykYFG9TYJjpNSW2TOiEGgtkv3UvwsU45Pd3nSLYXylPpaOXzW55z5ha0YuFi1sYSFH45k4fsjuP2B2eTnhjhg1kb2b//ZULeW2WMT3/ctE7QxmjZGU2suABNcTjM59lr8zka8kSqKnNV4nWo81AIGIWMQIQYRMgZ3+hlCyBiMY2TvlDtLVm6M5pJkJbHtRO/jsvPV2v1VB3wha6eOY8fpYdqu9qBkytwacPPr+/bnqdcqOO3oz7j+opcoLWq/Sjy5WwL1KZfTiN9eTZHrQ4Y0byLH2UCIQbSYk6g2j6bFPYmIURQNtqI/BhmUn0T2UGori/SvVNovndsW0ZFy0TFmfdm+SMUutb12sTwe4Mi5Kzhy7gpWbijh4eem8c0rj2bCqDpOO+J9DplZ3+t1i6SLOuUygctFxOfDCIVxOa39XRoRSYLhWHhag7haWjF1wCKSFVRvezZ3WCmuFrVF+oJhOyl9lqnGp7s86ZZKeQzHYtXGOkYUFGIaLiaVtjLp8E38z+EQDLlYvGI4C5eO4b4nZnDl7w9jyKANnH7oBr64z+eMKW/o87J/sKk6tU6kpJm0MZ42xu+wPIKXWjxGDV6q8RjV5PMZXuMNPNRiECFMGUFnCCHKCTpDCTrlhCjHTmEqrf6SzLZww6pnaI1E76njNgv4+fufkuv28KMJx3Ybb0YswNxhqY3RT3UgPxDptlOup/edzGfz+YYyvn/7MRTkhHjqur8wakhj9IWWXSlx8kwC+NmI31hPjrEev7Eer1FHyCmjxh5GbfgA2tiLCCVdfs9F5uQjEYlSW1mkf6XSfunctrAsC5dr+/TYfdG+SNWutL36sjyTSlu5+qxNfP/E1/jnf6dy75N7M23Kqu33oBTJEOqUywQ+H5WTxlA6di8iXs1vK5INLNuiav16ckaPxpXkfPsi0r9Ub3tWATT3dyEGiKmeHJrnTk463v54Hc37zsmY8qRbKu/Xsi0+/WA1c/aZ023dnXkwzKSFC/iU6m1efnftWt6t/AJ/uHJ/KvZq4chjqjjii1WMGNk3Q4YW3/NPKk46qk/WtcscG29oG/7AOnLafwraPmZI4GncVhMhzyDa/GMI+MfQlhP9vzVnPJa7f6cKNH/2M2iOZptp/lJaH10E+fnYP/95t/Evud7E7NKp5cd24KL53W9D5qMFdHdiyE5jHUvkrZ3KD7YDzXHK3yFRvXUceOyRYdzyqwmccc4mzv/uWtyeCWnN4YYdJqdtFXmty8lr+Yy8lmXkBNYRcRfTnDeFxrx5bMk9i5a8SYTMfNavX89o7XNFsobayiL9K5X2S0fbwgGsiIXL7cJg19sXvbUrba90HAeZwEmHw5eueI9mezj4kr+HosjuoE65DGF7Pdg5fmxv5l/NKiLRm9dbfh92jh9DBywiWUH1VnanqQfOxk4h3jEN7Jz0tQNTLU+6pfJ+bdvCMYyk6m7pGJg2axFf/c54GurcvPrvEv7zdBl33DyOSTNaOOLYGo48rpby4aG0l9288spYx1NMfj72ddf1+m93J5A7lgBjqe+80HFwh2vJaV1LTtsaclrXUtLwBjlb/4o3VE3QN5SWvEm05E+iNX8SLXl7EfYOoi9uzrf03aVM32d6D4VuA3d0ys1pkSZstwcCbXE/1zafu9tOrbjfg9vFzieG0lvHEkm5/O3i1dvGBhfX/XA8Hy/O5zd/+px9DmoEfH1ex00rQH7TRxTWL6aw4X3ympfhmB6a86fQUjCVjYMPoaVgGiHvkJ22He1zRbKP6q1IP0uh/eLNz6chHL3gbPQmN+vHRZcXefy9bl/skl1oe6XzOMjxgB0Kp2XdIrtCnXIiIiIiIpJxOjq1TAfmeIrwXHwJFCTfqVVUEuHLZ1Tx5TOqqK128+q/S/nPU2XcfsNops5q5sjjazj82FoGl6fpQL25mZ1OTuzYSZcuhkHEW0aTt4ym4nldXnKH68hr/pzc5uXktSxn8LZn8Qc2EvKUxjroOjrrgr7hSXXUnfHBH2MnhsaudbGW/1Dk8fPwnAvS8vb2ZEsW5fOziycydmIbf/33x5QOivTZug07RH7TJxTWv0dhw/vkNy0l4i6ksXgeVeXHsbriSgI5Y8DY8aSbiIiI7E4dbSzLtnjozYe47dQz+3eEa35+rJ271FfC9GBddFkcnS9em+Erwfze99Jy8ZpIplKnnIiIiIiIZJ6OTi3DYVqwLnoviASdWh0H97EDe4gd3JcOinDS2ds46ext1Gzz8PKzpfzn6VJu/eUYpsxsZuKUVkaPDzB2QhujJwQYNjI4YG89EfGU0FCyLw0l+8aWuSLN5LasIK95Obktn1Oy/r/ktK7FcuUSyBlFyFdO0FdOyDe0/f/o84inFAyDhnAgNhJs/TgLE2KddH2hyOPv2uk31qLIkz0zjHSUv6PsHctSYVnw1zuGc++tIzj/0g2c8c2tmLvYN2bYEfKaP6OwYTGFDYvJb/wI28yhsWguNYOPZM3Ey9s74XZ9BKWIiIikx6jJo/q7CF060z6+7W9M/c5XE/9Cp4vXpgcboo9318VrIhlAnXIiIiIiItJFUlMQZpr2g/vYgX1sWVdlQ8Kcem4lp55bybatHt5+tZi1K3NY/FYhjz9Qzub1Plxuh1FjA4weH2DMhDbGTGj/f3zfdTRlEsudT1PRHJqKtt/Pw7AC5Lauwh/YhDe4FW9wG4UN7+ENVuILVuKONGIbXkK+ITwRDrHJyGOjkcsqo4DlRhHL6bv71nUecfe3RX/j9tN6ONGTYTrK39uyV1V6+Pn/TWDLRh+3P/op02a39KocphUgr/lTChqXtP98hINJY9Fc6koOYt2479GWO0Ej4URERPpD+2iz2EizjmU9GD15dJoLlpppe0/r7yKIZDx1yomIiIiISBefLPqk/zvlOqbBceATXwkzww1Q0POJiVQMGRrmhNOruiwLBQ02rfOzbrWf9av9rF2Vw+KFhaxblUNTo5uCggms3hDmgMPqmX9gA3n5mXS3vr7juPy0FEyjpaD7EytmpAVfaBve4FYeX/YQo2hhtNPCEfYWJjmN+LEIvfc2bbnjacsbR1vueFpzx0VHXu2CPe1Ez8JXirjm+xOYf2AjN9y5gvxCK+nfdYfrKGj8mPz2Tri85mVY7gKaCmfRULwvG8ZcQGteBRgDdFioiIhIFukYbZbUSLMM1u/HECJZQJ1yIiIiIiKScTpOTFi2xQe3PMSUi9Nzr4wdRwV6fQ7j9mpj3F5tXeIcB+pq3Nx1/WLc3hO45Rej2bbVy+x9mjjw8HoOOKye0eMDe8xMf7Y7jzb3ONpyx/FX1zux6SsBDMdhuNPC38YfRk7rKnJa1lBc+xb+trWYdoTAFz20NeYSaMwh1OolHPAQCboItm0g4inFcuXGnTIxm0/0pNKhGA4Z3PHrUTzx4BAu+dk6jv9qVeJty3HwBTZ1GgW3hJy2dbTljKapcBbbhp5IU+FMgv5Rmo5SREQkg+1pFyDJnunmm2/mmmuu4YILLuD666+PLX/33Xf55S9/yeLFi3G5XEyfPp3HHnuMnJwcAOrq6vjhD3/I888/j2EYnHDCCVx//fXkJzGqNJOoU05ERERERHZJMtNdnvHBH7ffF2ywi/vf/R1FHn+XqQl3p4570Jm+EswH7oouTHCDeddVVzKouZkTfCVMr/8TzhxY70zmv7OvYeErxdx2wyjKh4XY/7BoB918y4ffFd6N7yhzOIbBBvKpLz2Q+tIDO71g4QtsIe+WK8gpDOAvbCOvrAmPL4LHF8a9+KsY2Nimj7CnpNNPKRFv9P9AzijacsYQ9A8Do38PZ1Od5jWZ2EjY4NnHBnHv74eTm2/z5yeXMq4i/rSpnlA1g7Y9y+DKp/EFNtGaN4mmwllsGPNtmgpnEvGWJl0+ERER6X/ZfAGSSDLef/997rvvPqZN69oB/e6773LKKadwySWX8Ktf/Qq3283SpUsxO91I+Zvf/CaVlZU8/vjjhMNhLrroIv7v//6Pe+65Z3e/jV2iTjkREREREdklyUx32RAOxEZTrR9nYbYv6zdJ3oMuHsOAMQUbGXXeVs44bystzSbvvVnEwleKuf5H42mseoH5gxZz8ND/cviwVyj2NaTlbWQVw0UwZyThzSXUb97xvmU29i2/wx1pxBOuwxOqxR2ujT4O1+EO15HTuoYhW/+JL7ARMAnkjCKQM4a23DG05YwhkDOWtpze31cl1U62vpzmNRI2eO7xaGecYcD//t8mvviVatzdHLEbdoTiuoUMrnySorq3aC6cxaZR/0Nd2aHYrtw+KY+IiIhIJsrKe19LTHNzM+effz633HILN954Y5fXrrrqKr71rW9xySWXxJZVVFTEHi9fvpyXXnqJl19+mTlzovfC/tWvfsVpp53GL37xC4YNG7Z73kQfSKlTzrIsDE110ecsK3pfgEBoYN44XmQgsi2boBWkNdiK6drxpJKIZCLVW8lktmPTEmrp72LEpFqeZOIdO4K9w6GE49Dj79mWjeM4PdZdDxYYO9zfzXEIx1l/qvFcfRUAS+56kjHnn7B9eUe8F+Yf1sT8wzbyXQc2nH8Xb207mH+uO47ffHQp84e8w5Ejnme/2gC5+cnfFywbpPrdxv3sw22AB9xDoj9xGHaEnOBmcgPryWvbQG7begbXvkNeYD1uq4XgcR5am/y0NebQ2uSntdFPa4Of1mBzwqkbP373Y8bNHtfj+/2fj+6lKRJg7CA3970dPZlQ4PZz78z/6fF3d2RFDF7851AeuH0sOHD2d9Zw5Je34vY4BG0IhrbH5ratZ1jVcwyteREHF1sHf4FlM86nzT+ifWUOWJmRR7TPFck+qrci2Sdb623K7fBOkm2vAYSsEJZlRX/MgdX+zgSO4wDQ2NjYpc/I5/Ph8/m6/Z3LLruMo48+mgULFnTplKuqquK9997j1FNP5eijj2bt2rVUVFTw4x//mP333x+ARYsWUVRUFOuQA1iwYAGmabJ48WKOO+64dLzNtEipU27FihWxD1v6TsgKYRomy9Yu6/Z10zDxmJ7Y86AVjLsuwzDwmt5exYasEA7df78GBl5XL2PtUMLtxufy9So2bIexHbtPYr2mN5Y8+jLWY3owjehOMWJHsJz4O4DdEWvZFhEnEjfWbbpxtd/oPaVYxyJiJ4g13LF7wKQSazs2YTv+tE8uw4XbdPdrbP3q+lj9dByHkB2KG9u5LqcSC4nrsnJE97HKEcoR8epy7arapGNTWW93elvvlSP2vBzRHGrmw88/7BLbnzmiozzJ5ojmUDNLVy5NmCPCgebt/SGGiWGYOA4sXbm0x3pvY7N87fKEOWKUGcCNiZvoH7FwCBs2G3b4XDuMNQJ4OsqLQ9h0wHa6je9c7wOhwE7fVXexo4s+5ZiSTzlyyh/Z0jyCNzcdzX1rTuVXB41m6rx1zD10JdPmbSLHH/18szlHdPlu2zmOwWerPos971zvR5kBOt+EznDAZxmsb49PPkeUEbILcJwp4AHcDrlOMxWv3kteYYj8giDlI2oZMSVATk6E2ndPoNZVTq2rnHpzKHWucurc5bQahWAYBEPBWJkT1eXa5mpMl5tVw4EwOLZFbWDnOtyhu3pvWQbvvzaRFx+dh2MbHHnqy8w/bAU5Xjcr1m+PddltjA8uYVLoHYZE1rPOO5VF3pPZ4JmEO+DD3NQINGZsO6LzPnegtCN2Z6zaEe2xakf0Kra3dfmT1Z/oWAPlCOWIqGzJER3722w5H9HRFvTYBq72tnvEsVmToI3dUe+DoSBLVyxNOkd4XV6Wtizt8r3vGNt5G5bkGYbBmDFjmD59Os2dZhy5/PLL+dGPfrRT/GOPPcaSJUt4+eWXd3pt7dq1ANxwww384he/YMaMGTzyyCOceOKJLFy4kAkTJlBZWcngwYO7/J7b7aakpITKysq+fXNpllKnXEVFhUbKpYFlWezz1D5xXz98zOH85YS/xJ5X3FFBW6St29j9RuzHP076R+z5zLtnUhvY+eQjwKwhs3jmq89s/9379mNj08ZuY/cq3YuXz9peYQ5/8HA+r/2829iRBSN5+9y3Y8+P/duxLNm2pNvYUn8pH33zo9jzUx4/hbc3vd1tbI47hxXfXhF7fs6T5/Dyup0rcYeN393+Xr713Ld4ZuUzcWM/v+Bzcj3RqV4uefES/r7s73Fjl5y3hLKcMgCuevUq7v/4/rixb339LUYVjgLgF//9BXd+cGfc2JfOfIlJZZMA+O07v+XmRTfHjX36tKeZXT4bgDvev4Nr37w2buyjX3mUA0YeAMB9H93Hj1/7cdzY+4+7nyPGHRH9vc8e5dL/XBo39o9f/CPHVUSvQHh6xdNc/O+L48bedORNnDzlZABeWvMSX3/663Fjf3noLzl35rkALNy4kNOeOC1u7FUHXsW3534bgA8rP+S4R+NfEXHJPpdw6d7R97O8ZjlHPHRE3NhvzfkWPznoJwBsaNzA/vfvHzf2a9O/xvWHRW9IWtNWw6x7ZsWNPXXyqdx8VPR7bQ23stcf94obe+zEY7nzS9u3l5G/Hxk3VjkiSjliO+WIqEzIEV+f8XWuXRD9/JUjlCMgQY4oARZ1je3XHNFensdX78c+N0e3iYQ5ogTuH5x8jigcdyT+kvE4joOvxJcwR9x4+I34TT/HzzueV9e9Gj9HzILrV09kSuNkDmht5M3Cek6b/gks6r4cPy0ex0Vbo1MdfpDXyBdmfBB9oZv4zjni/dfe59I464TtOcJ706Oszwkyf9Y7wFLg+VjMR+0/nvu+zVdyfsOXT25j8vzNzLtv4OQId+4gTjzu7u2/2zlH7PA2J7Xm8saH85m794nRMu1qjmgfOFYW9vDZCwfQDLS4wnz52EYWblsKrNlpvbmmyWsTp7JXsR/LP5zT3nmQ/2zpPvcADJl7fuxxw+oXCdav4dI1/+42tnOOuPiFS3hseXuOKAD+N/rwUeDRD2DpGY9TThAzWMmP3r6Nuzev3GFtS9t/1I7ooHZEVLblCLUjtsuUY42JJRNZvXo1/6r+F79b9Lu4scoRUcoRUcoRUXtCjujTdkT7pvrEp7PYr7EYgD8N2cQVCdrYHTli/avrsQqtpHPEc6ue49BnD40be9cxd/G1GV+L+7rE5zgOoVCIpUuX7jRSbkcbN27kiiuu4PHHH8fv9+/0um1HO5DPPfdczjrrLABmzpzJa6+9xgMPPMDPfvazNL2L/pFSp5zL5VKnXBoEI/GvDAFoDjfzac2nseeJrnJoDbd2iU105UJbpK1LbKKrb4JWsEtsoqtZwna4S2y8nXFH+TrHtoZb48bajt0ltjmc+J4fnWMbg40JYz+r/Ywcdw4A9cH6hLHLa5dT7C8GiNt46LCibgVN4SYAagI1CWNX1a/CIvp9VbVWJYxd07AGrzt6hUdlS+IrAdY1rqO4JlrerS1bE8aub1of+9w2N29OGLuxeWMsdmNz9w2jDpubN8di1zetTxi7tWVrLHZd47qEsZUtlbHYNQ07n1zprKq1Kha7tn5twtiaQE0sdmtz4s+sLlAXi60P1CeMrQ/Wx2IT1QuIbrOdt+FElCOilCO2U46IyoQcURuoVY5AOaKzbMsRq50a8ju29x5yxIUf/pFBa5/n7pnn9pgj7GAjkdYqbJLLESUTS/i05tMec8Sm077I1ldd5J5/LCsrl8BLl8WN3eIL8VFudDtY4U9c5zrniGGThsHa+LEdOcLMb2arJ/5V6AD7LNhGYFENF54/FCcnAN+MH5ttOcKxI0nniIBp81F+M3Z7fF/liKABH+VG6xB5eTR33Duwu/JaDkZ1My0v/wV/TghXIH4+ATi9eRHVhg8LgzcjDSTaireu/Tsew8/St/P5dNVGKI0fO+id08jLKSPoKSOY4DODzMgRakdEqR0RpXbEdtnYjgjZITY0blCOUI5QjuhUPuWIqHS1I1b52ijIjXZPbPYlPj/ekSOCkWBKOWJLy5aEsaZp4nK5EsZI9zpGjhYWFvbYZ7RkyRKqqqpYsGBBbJllWSxcuJC7776bRYuiV6hOmjSpy+9NmjSJjRujeb68vJyqqq7bXyQSoa6ujvLy8l19O7uV4SQxH6XjODQ2NpKTk6NOuTRoDjTz4MIHGTd6HD7Pzj3JpmHic29f3haOv8PYldhAJBB3GLZhGPjd/l7FBiPBhDvlHE9Ov8f63f7Yth2yQlh2/IZBKrE+ty82ZDtshRNOk5BKrNfljU2pkEpsxI4QtuI3ZDwuT2yahEyItWyLkBX/ZJbbdONxeVKOtR07YWd4MrG2ZbNhwwbGjhmL3xvd3h3HIRCJf29Il+mKDZfvKXZ31XvliORilSOisj1HBEIBNmzYwKhRo3aab7+vc0SHVOq9ckT3sXtKjvjXXf/iy+d/uUvs7s4Rrssu3+l+W17LgFt/B+xcP09dfEfnGQjBMHEweWqf73Vbl7vEt09faTvwxPwLE9Z7Fy42b9jM6DGjsQ27xxzxrzv+xcnfObnHHOH7wY/wsH36ypBpg+Ng/eZXO8X2Jke4vncJtgFBs9O2s8P6O+p9JAKL3yzi+adzefW5Avw5HvY5pI79D69j/oEN5OZZcXNEd9vO7s4RO20LgO3A0/t9P/a8c73fcVszHPDbJtatN+8Uu6NUcsS/7voXp3/n9B5jO8qTY28/IRPEIvyb63FbjfiCVXhCVfiC1XjD23hr85tMNAOUEcR0IGzbWMAIf2HHu8dwohNnhQMGrqBBKOgiYnsI5BbjKy/A8pcS8pYS8pQR8pYRaf/f7RuEYUbrcja3Izrayp33udnejtidxxod1I6IUjuid7Gp5ghsWL9uPcNGDsPe8V5PnehYI0o5YvfGKkd0X+933N9my/mIjraX1zY7TV9pEfjtDd2u0/XzX+BpbMWNwSe+EiYFawgX5mH97CfdxnfU5bAVJhAOMKt8VpfPfMfydtQ5SY3jOLS1tSXVKdfU1MSGDRu6LLvooouoqKjg4osvZsqUKUybNo2zzjqLq666KhZzyCGHcOSRR/LTn/6U5cuXs99++/HKK68we/ZsAF5++WVOOeUUPvnkE4YNG9bn7zFdUhopJ+njc/ko9BWS68vtMbbzzkOxik0lNhvlkZeW2I6h/72NtS2bBm8Dhb7CLif34+3ku5NKbCZsP4od+LHZKJV6n+PKocHbQElOSY83wd7VHBG3DMoRio0T6zW8lOSU9GsZXJYHjB3qhmNjxVmf6fZ32xET7+93F284kO/NT1hG27Lxurz43f6kbmA/c7+ZsTIkyhEu293l/eZZRN9vgu+hQzL13uWYgElu53MhcdbvuvJHHN7UxOHA4qMH4WwZzWsfHMR9zx/KDaHZzN+/iUOObuDgo+oZOjx6MrEjR/S07UD6t5/uvlt22BZS2db6qrzz9psXtwyddVcev2Ng5ZYCpVAwFoBQ+8+ltWa32/4L+30fy4IP3snnxadKefnZYgAOP6aeo46vZc6+zbhc0LLj32//2fHyzEzLU6noaCsns8/tT5l6rBGP2hGKTWdsx/62wFeQdL3VsUbvYpUjFNtXsYn2t5lY3g6u3FJoio7SW+IrYVawDgpKyInTpnU1BMGIdpzNCzYBXmgIJtVuD1th8rx5KW3z0vcKCgqYOnVql2W5ubmUlpbGln/3u9/l+uuvZ/r06cyYMYOHH36YFStWcP/90WlYJ02axBFHHMHFF1/MTTfdRDgc5oc//CEnnXRSVnXIgTrlRERERET63Yx9Z/R3EQaMpD/LggJoatp+IqBjWX9oaop1Cs2L1MLgWuYP/pDv27ey6tI/8fqLRfz7n6X85iejmDiljUOPqueQoxuYPCPxFIuOA6GgQaDNjP4ETNxuh4JCi/xCC7O/+kraP3vofCIm8Wdv29DY4CLYZhIOG4RD0f9DQYNI2CAUMgmHjOhPOPrYcQ4Fd5Dxk9rIy49/BfqucmyD8LIKfv30KF56toRIyODwY+r45R/WMG//Jtw66hYRERGJsX69fUSc887HWDoWEuDb3/42gUCAK6+8kvr6eqZNm8bjjz/OuHHjYjF33303l112GSeeeCKGYXDCCSdwww3dj7DMZDo8EBERERHpZ+qU2/06TgZ8dOtDTP/emf1cmu4ZBoyrCDCuIsDXL6ykrsbNmy8X8toLxTxwVzn5BRY5/m/x0ivDYx1vwYDR6bGJ42wf0mWaDrZttK/bIa/AorAo2kFXUGhRWBQhvyi6rKAwQn6hBQ4E2kza2ly0tZq0tbZ38LWatLX/nYaqX0LQhxP0YeQEMIoaMAsb+dVeoygpi1A6KNz+f4SSQWFKr/wNBUUWhgFLbnmI0V//GlWVHqpe91Bd6aGq0kvVVg9VlR3PPVRv8xAJb+9F9PpsPB4Hjzf6v9fn4PY4eDx27LFjw7pVfhob3AwfFWTC5DYmTmqL/T9mQhCPt8e7OezEsQzstlysTcMJvrUvoYX74gR9tB3XxtU3rWXvAxtxaxYkERERkR7pOGjP9fTTT++07JJLLuGSSy6J+zslJSXcc8896SzWbqFOORERERERSbtiTw717fcOGbvWZO1Ym+KBPI1MGkbilZRFOO7UWo47tZZgwGDxWwX86y8fccixHnx+G39Op58dnvv80Y6qj95ayrips2hscNHc6KKxwU1Tgyv60+imqTH6eO3KaGeWaTrk5G5fT0GhxeDyMDm5Njm5Fv4cm5Ubn8T0B8EbgoAfu6EQq6EQj3ccG9b6+GhxHrXVHuqq3dTWeLAiBm6PTVGxRX3dTG7+jQefz2bQ0DCDy0MMLg8zqDzMjLktDC6PLhs0NEzZoAg5uRYu9063P4zLcaC60sPKZTmsWu5n5bIc3n69kNXLc4hYBmMmBKhouoaJhWsYmbeJ1kgOjaFCGsP5NPxoNI310c+osd5FU4ObxgYXTY1/AcfEyG3Fu/di8i/4E64ZH/Ozgy/epe9XREREREQGPnXKiYiIiIhI2j0679uxxw+9+xBnnp6Zo9P6SrpH4vn8Dgcc1sjaj9/i2FPG9fwL7T557yNmHTCdwmKr5+Ak3fr2u93eY+37+1XsFOs40NzoorbGTX2tmy1rP+PAo8aRX2gl3dGWCsOAwUPDDB4aZv8FjbHllgWb1vlYtTyHVTeu5fPGibyy9RDy3S0UeJoo8jSQX2AxfGSQwmKLwuIIBUUWRcURvrP6LlwFzdFRgaYTe78iIiIiklk+X/w5+47Yt7+LIdKFOuVERERERESkWx+/83GP0wqlMgrSMKCgyKKgyGLM+CCz5o8G+q6DMFkuF4weH2T0+CBHPvnn2D39Yhwb66rbuv/dlqqdOiFFREREJPOsWLwCTujvUoh0pU45ERERERERiTlt8R1dO9mcFyn25HQZ7djZnjYKUkREREREpLfUKSciIiIiIiIx9eG22Eiw9eNszPZlIiIiIiIismvMnkNEREREREREREREREREZFdopJyIiIiIiOxWPd2jbCDJhPfq+uGPoKkJgJm+Elzf/k70hYICrF/f0I8lExERERER2bOoU05ERERERHarTOio6pDusmTEe21qAiM6ScqsUEPscUdHnYiIiIiIiOwemr5SRERERET2WBnRaSYiIiIiIiJ7BHXKiYiIiIiIiIiIiIiIiKSZpq8UERERERHJIn/f/B5/3/IeAJM9Fqct/iMApw6bz6nD5/dn0fYIxZ4c6sNtjF1rsnasHVsmIiIiImlQUBCbdn2Jr4RZwbrosjg67qfsMmz2yinGdeKJuApKsR55eHeVWCQhdcqJiIiIiIhkkVOHb+98e+jNh7hm3pn9XKI9y6Pzvg3AQ+8+xJmn67MXERERSSfr1zfEHn9060NM/57aX5Ld1CknIiIiIiIiMR0jwYDYaLBkR4Jl5T362q++jl153bFMRERERDJKMm3Njk48KxLg8z/8HevP12BpVgPJIOqUyxBBK0hbuA3DNHZ6zTRMfG5f7Hlb+wFydwzDwO/29yo2EAngOM5ujQXI6ZQUU4kNRoLYjt0nsX63H8OIfvYhK4RlW30S63P7MI3orRvDVpiIHemTWK/Li8t0pRwbsSOErXDcWI/Lg9t0Z0ysZVuErFDcWLfpxuPypBxrOzbBSHCXYm3LJmAFCFkh/K7o9u44DoFIIO56XaYLr8ubVGwq9V45ovtY5QjliB1zRCAcIGAFaAu3Ydpm3Ni+yBEdUqn3yhGpx4JyRG9i4+UIl2mB0fXz83Yq3o7107EjOJ2broZJxy2r+7Leu3DFLUOi9WZyO6JDrN4XFOA0NRIwbT72FjMjVB8NKCjAaq+H8XJEmPBOdXWnet/NdxtdkY0TCe6UI+6feW7s+aPvPsotJ58GROtYTzli4tyJ0eOabMoR1/4MgI/ueCJ25XUwEsROkAP3xBzRU2zn+tnRVu68z832dkS/5gjUjlA7IvXYVHNEh7AVxrbjl1fHGlHKEanHKkf0LjZRvd9xfztQ2hHd6aifM/adkVJdtrFpCbXE/Yy9Lm+szonsLuqUyxDfffu78Hb3r+0/cn9+c+RvYs+PevCouDvP2eWz+cOX/hB7fvwjx1MfrO82dnLZZO45/p7Y81P+fgpbW7Z2Gzu2eCwPnPhA7PnZ/zybtfVru40dmjeUf5z6j9jz8546j2U1y7qNLfYV8/QZT8eeX/TcRXxY+WG3sX63n/+c/Z/Y88v+cxlvbXyr21iA/57739jjH7/yY15d92rc2BfPejG2Q7z2jWt5btVzcWOfOv0pSvwlAPz27d/yxLIn4sb+/eS/M6xgGAC3LbqNhz+JP3fxX778F8aXjAfgTx/8iXuX3Bs39u7j7mbKoCkAPLT0IW5/7/a4sbd+4VbmDpsLwGOfPcbN79wcN/bXR/yaA0YdAMCzK57lujevixt7zYJrOHzs4QC8vPZlfvrqT+PGXnnglRxTcQwACzcs5Icv/TBu7CX7XsLJU04G4P0t7/O9578XN/bC+Rdy5vToiZPPqj/jm09/M27s/8z6H/53zv8CsLpuNef865y4sWdMO4Pv7P0dALY0beHUx06NG3vi1hP5wQE/AKAuUMfxjxwfN/ZLE77EVQdfBUQbn0c9eFTc2AVjFvDLw34Ze37w/QfHjVWOiFKO2E45IioTcsRXJn+FS/e7FFCOUI6IyugcMWfn2Ns+n8Ss9u2lpxxRMPog3PnDCUQCfZojrjjgCqa5pxGIBHh789sDM0dcd3X8HNFev+PmiFz4/f2/7/IrO+aIg+a8F7cM+//nB4lzRKf1D/Qccev8W2PvPZkc0XFSc4/JEd1QOyJK7YiogZ4jBno7YmzhWEJWiLs/vJv7ProvbqxyRJRyRJRyRNSekCOysR0RtsKscq1i+C3D48bec9w9nDMzfp0USQd1ymWAjisN4rFsi9ZQa+x5oqsybMfuGkvfxDqOk3QZHLrGJrraI6XYHcqQ6GoPILXYcGvsPSW6ggOgLdSGz4xeBRSxeogNt8XKEbbjX8EBEAgHtscmuNpjx9hQJP7VWBC94ibZ9XaOTXSVV8ffTbYMIWt7bKKrvDrKmGxs5zIEwvGv8tpxvT3G2ttjE125BdHtJRYbSiE2kjh2x3qfSqxyRJRyhHJERuQISzmi428qR0RlW45oc9lJr9exLZz2+tGXOSIYCdJqtNISblGOUI5Ia44YO3tsLD6ZHNHxHvfkHKF2xM7rVY4YuDlioLcjWsIttFqtyhHKEcoRvYndA3JEtrYjRlaMhI0Jw0V2O8NJlKnaOY5DY2MjOTk5sSGw0ncsy+Ldj95l/MTxsSG7nblMV5eh1S2hlrjrMg2zyxDoVGI7J/kdGYZBrie3V7Ft4baEO648b16vYgORQMIdVyqxuZ7c2LYdjAQT7uRSic3x5MQ6XUNWKOEOJpVYv9sf21ZSiQ1b4YQ7Lp/bFxvenUpsxI4kbLB2HgqeSqxlWwmnVPC4PLHpF1KJtR07YeM2mVjLtli5ciWTKyaT64tu747j0BqO33B1m+7YtA49xaZS75Ujuo9VjlCO2DFHtIRaWLlyJRMnTtxpf9vXOaJDKvVeOaL7WOWI3ZcjXKef3j4FZadYC/jnv4Cd6/2s13/W5djAMF04GKw47Po+zREuXKxZvYa9KvbCMZwB0Y7o0Bc5YuGbCzngwAO6xCaq9zvG95Qjbvz1jfzgh9FZAZQjusZe/8vrueLHV+wxOaKn2M71vqOt3Hmfm+3tiGzNEd1RO2I7tSO2xzq2w+crPmfs+LHYJJ5KT8cayhG9iVWO6F1sonq/4/52oLQjutPbHJHoOwNNX7krHMehra2NwsJC9RmlSJ1yGcCyLJYvX86kSZNwuXbulBORzKN6K5J9VG9FEnN96ZidOuVwbKznnu02ftR/foC5w7GB7ThsOPLGPi2X6m7/uvrqq7n66qv7uxgZ6dVXX2XBggX9XYyMpHorkn1Ub0Wyj+qt9Cd1yvVe4nkTRUREREREZI+lTqf49NmIiIiIiEiq1CknIiIiIiIi3VLHk4iIiIiISN9Rp5yIiIiIiEBRETg2ODYv5+VEHxcV9XepRERERERERAYMd38XQERERERE+p/1yMOxx69cfTWH9nAfsTJvHjWhFgBGrwyxfqKXsk43rRcRERERERGRrtQpJyIiIiIiKfvwkJ/HHr/qflXTHIqIiIiIiIj0QNNXioiIiIjILlGHnIiIiIiIiEjP1CknIiIiIiIiIiIiIiIikmbqlBMRERERkS408k1ERERERESk76lTTkREREREulCnnIiIiIiIiEjfU6eciIiIiIiIiIiIiIiISJqpU05EREREREREREREREQkzdQpJyIiIiIiIiIiIiIiIpJm6pQTERERERERERERERERSTN1yomIiIiIiIiIiIiIiIikmTrlRERERERERERERERERNJMnXIiIiIiIiIiIiIiIiIiaaZOOREREREREREREREREUm7m2++mZKSEq644oqdXnMch1NOOYWSkhKeeeaZLq9t2LCB0047jeHDh1NRUcFPfvITIpHI7ip2n3H3dwFERERERERERERERERkYHv//fe57777mDZtWrev33HHHRiGsdNyy7L46le/Snl5Oc8//zxbt27l29/+Nh6Ph5/+9KfpLnaf0kg5ERERERERERERERERSZvm5mbOP/98brnlFoqLi3d6/eOPP+a2227jD3/4w06vvfzyyyxfvpw777yTGTNmcNRRR3HllVdyzz33EAqFdkPp+05KI+Usy+q2l1J2jWVZXf4XkcyneiuSfVRvRbKT6q5I9lG9Fck+qrci2Uf1VvqT4zgANDY2dukz8vl8+Hy+bn/nsssu4+ijj2bBggXceOONXV5rbW3lm9/8Jr/5zW8oLy/f6XcXLVrE1KlTGTJkSGzZEUccwaWXXsqyZcuYOXNmX7yt3SKpTrmOir1q1arYhy19yzRNVq9e3d/FEJEUqN6KZB/VW5HspLorkn1Ub0Wyj+qtSPZRvZX+YhgGo0aNYvr06TQ3N8eWX3755fzoRz/aKf6xxx5jyZIlvPzyy92u78orr2SfffbhmGOO6fb1bdu2demQAxg8eDAAlZWVvX0b/SKlkXKjRo1KVzlEREREREREREREREQkSyxdunSnkXI72rhxI1dccQWPP/44fr9/p9efffZZ3njjDV577bW0ljVTpNQp5/f7NX1lGliWxYoVK6ioqMDlcvV3cUQkCaq3ItlH9VYkO6nuimQf1VuR7KN6K5J9VG+lPzmOQyAQIC8vD7c7cTfTkiVLqKqqYsGCBbFllmWxcOFC7r77br7xjW+wZs0axo4d2+X3zjnnHPbff3+efvpphgwZwuLFi7u8XlVVBdDtdJeZLKlOuY5KbRiGOuXSwDAMHMfR5yuSRVRvRbKP6q1IdlLdFck+qrci2Uf1ViT7qN5KJkimQ/iQQw7hzTff7LLsoosuoqKigosvvpiysjLOPffcLq8feOCBXHfddXzxi18EYO+99+a3v/0tVVVVsWkrX3nlFQoKCpg0aVLfvJndJKWRciIiIiIiIiIiIiIiIiLJKCgoYOrUqV2W5ebmUlpaGlve3Wi3kSNHMmbMGAAOP/xwJk2axAUXXMDVV1/Ntm3buPbaaznvvPO6nTIzk5n9XQARERERERERERERERGR7rhcLh555BFM0+QLX/gC3/rWtzj99NO58sor+7toKdNIOREREREREREREREREdktnn766YSv19XV7bRs9OjR/P3vf09XkXYbjZQTERERERERERERERERSTN1yomIiIiIiIiIiIiIiIikmaavFBERERERERFJg6+9dxc1oZakYsu8efx1/vlpLpGIiIiI9Cd1yomIiIiIiIiIpEFNqIUcny+52GBynXciIiIikr00faWIiIiIiIiIiIiIiIhImqlTTkRERERERERERERERCTN1CknIiIiIiIiIiIiIiIikma6p5yIiIiIiIiISBK+9t5d1ISSu/dbmTcvzaURERERkWyjTjkRERERERERkSTUhFrI8fmSiw0m13knIiIiInsOTV8pIiIiIiIiIiIiIiIikmbqlBMRERERERERERERERFJM3XKiYiIiIiIiIiIiIiIiKSZOuVERERERERERERERERE0szd3wUQEREwL7gQamuTCy4txf7j7ektkIiISDe+9t5d1IRakoot8+bx1/nnp7lEIiIiIiIiItlDnXIiIpmgthZjxPCkQp1Nm9NcGBERke7VhFrI8fmSiw0m13knIiIiIiIisqfQ9JUiIiIiIiIiIiIiIiIiaaZOOREREREREREREREREZE0U6eciIiIiIiIiIiIiIiISJqpU05ERERERERERERERET63E033cThhx/OqFGjqKio4KyzzmLFihVdYgKBAD/4wQ8YP348I0eO5JxzzmHbtm39VOL0UqeciIiIiIiIiIiIiIiI9LmFCxdy3nnn8cILL/D4448TDoc56aSTaGlpicVceeWV/Pvf/+a+++7j6aefZuvWrXzta1/rx1Knj7u/CyAiIiIiIiIiIiIiIiIDzz/+8Y8uz2+//XYqKir48MMPOfDAA2loaOCBBx7g7rvv5pBDDgHgD3/4A/vuuy+LFi1i7733TurvLFy4kPvuu4+1a9dy3333MXz4cB555BHGjBnD/vvv3+fvq7dS6pSzLAvDMNJVlj2WZVld/heRzNfX9TbVYcvKFyKp0/5WpC84KcX2RX1T3RXJPgO73qaWB1Nd98D8zCQbDOx6KzIwqd5Kf3KcaDunsbGxS5+Rz+fD5/Ml/N3GxkYASkpKAFiyZAnhcJgFCxbEYvbaay9GjhyZdKfck08+yQUXXMCpp57KRx99RCgUiv2tm266ib///e8pvb90SqlTbsWKFbEPW/reypUr+7sIIpKivqq3Ux0bV5KxtmOzfPnyPvm7Insi7W9Fes+2kz8WsG2nT/dXqrsi2Wcg1ttU82Cq61Y7X/rbQKy3IgOd6q30B8MwGDNmDNOnT6e5uTm2/PLLL+dHP/pR3N+zbZsrrriCfffdl6lTpwJQWVmJ1+ulqKioS+yQIUOorKxMqjw33ngjN910E6effjqPP/54bPl+++3Hb3/721TeWtql1ClXUVGhkXJpYFkWK1euZOLEibhcyZ6WF5H+1Nf11jSSHytnGiaTJk3a5b8psqfR/lZk15nv/Dv5WNPok/2V6q5I9hnI9TbVPJjSuvsob4r0xkCutyIDleqt9CfHcQiFQixdunSnkXKJ/OAHP+Czzz7jueee69PyrFy5kgMOOGCn5YWFhTQ0NPTp39pVKXXKuVwudcqlkcvlUgIVyTL9VW+VK0R6T/tbkV2RyrGA0ad1TXVXJPsMzHqbWh5Mdd0D7/OSbDMw663IwKZ6K/2hY0bFwsLCpPuMLrvsMp5//nmeffZZRowYEVteXl5OKBSioaGhy2i5bdu2UV5entS6hwwZwurVqxk9enSX5W+//TZjx45Nah27S6q3MRIRERERERERERERERHpkeM4XHbZZTzzzDM8+eSTjBkzpsvrs2bNwuPx8Nprr8WWrVixgo0bNyZ1PzmAc845hyuuuIL33nsPwzDYsmULjz76KD/5yU/4xje+0afvZ1elNFJOREREREREREREREREJBk/+MEP+Mc//sFDDz1Efn5+7D5xhYWF5OTkUFRUxNlnn81VV11FSUkJBQUF/PCHP2TvvfdOulPukksuwbZtTjzxRFpbWzn22GPx+XxcdNFFnH/++el8eylTp5yIiIiIiIiIiIiIiIj0uT//+c8AHHfccV2W33bbbZx55pkAXHfddZimyTnnnEMoFOLwww/nxhtvTPpvGIbBD37wA773ve+xevVqWlpamDRpEvn5+X33RvqIOuVERERERERERERERESkz9XV1fUY4/f7ufHGG1PqiOuO1+tl8uTJKf1OW1sbPp8P04ze7e21117j448/Zq+99uLoo4/epfJ0R51yIiIiIiIiIiIiIiIikpUCgQB33XUXb7zxBtXV1di23eX1zver29FRRx3FM888Q1FRETfddBOvvvoqRx11FPfeey9vvPEGv/jFL/q0rOqUExERERERERERERERkaz03e9+l1deeYUTTjiBefPmYRhG0r9rWRZFRUUAPPXUUzz//PN4vV6+853vcPDBB6tTTkRERERERERERERERATg+eef59FHH2W//fZL+XcHDx7MO++8w7777svQoUOpqalh2LBhNDU1paGk6pQTERERERERERERERGRLDV8+HDy8/N79bt/+MMfuPDCC/F6veTm5nLwwQcze/Zsqqurueaaa/q4pOqUExERERERERERERERkSz1i1/8gquvvpqbbrqJ0aNHp/S7o0eP5umnn2bZsmWsXr2a0047jWHDhjF37lxcLlefl1WdciIiIiIiIiJZ5Gvv3UVNqCWp2DJvHn+df36aSyQiIiIi0n/mzJlDMBhkzpw55Obm4nZ37fpas2ZNj+uYPHkykydPTlcRY9QpJyIiIiIiIpJFakIt5Ph8ycUGk+u8ExERERHJVueddx5btmzhJz/5CUOGDMEwjF6vq6amhgceeIBFixaxbds2AIYMGcI+++zDmWeeyaBBg3aprOqUExERERERERERERERkaz07rvv8vzzzzNjxoxdWs/777/PySefTG5uLoceeigTJkwAoKqqijvvvJPf/e53PPbYY8yZM6fXf0OdciIiIiIiIiIiIiJ7GPOCC6G2Nrng0lLsP96e3gKJiPRSRUUFgUBgl9dz+eWX8+Uvf5mbb755p9F2juNwySWXcPnll/PCCy/0+m+oU05ERERERERERERkT1NbizFieFKhzqbNaS6MiEjv/exnP+PHP/4xP/nJT5g6depO95QrLCxMaj1Lly7ltttu63b6S8MwuPDCCzn00EN3qazqlBMRERERERHpR1977y5qQsnd+63Mm5fm0oiIiIiIZJdTTjkFgC9/+ctdljuOg2EY1NTUJLWeIUOG8P7777PXXnt1+/r777/P4MGDd6ms6pQTEREREdlDpTplEedUpLdAInuomlALOT5fcrHB5DrvRERERET2FE899VSfrOeiiy7i//7v//jwww855JBDGDJkCADbtm3j9ddf5y9/+QvXXHPNLv0NdcqJiIiISEKpjuD46/zz01wi6TOaskhERERERESy3IEHHtgn6/nmN79JWVkZd9xxB3/605+wLAsAl8vF7Nmzue222/jKV76yS39DnXIiIiIikpBGcIiIiIiIiIhIpnrzzTcTvp5Kp91JJ53ESSedRDgcjk17WVZWhsfj2aUydlCnnIiIiIiIiIiIiIiIiGSl448/fqdlhmHEHid7T7nOPB4PQ4cO3aVydUedciIiIiIiIiIiIiKSUKr3I7b/eHt6CyQi0m7NmjVdnkciET766COuu+46fvzjH/fZ39m4cSM33HADf/jDH3q9DnXKiYiIiIiIiIiIiEhiuh+xiGSooqKinZYddthheL1errrqKl599dU++Tt1dXU8/PDD6pQTEZHsoSvrREREREREREREJN0GDx7MypUrk45/9tlnE76+bt26XS2SOuVERGQ305V10u5r791FTaglqdgybx5/nX/+Lq7fwbYdzHf+DRhdYnuzfhERERERERER6X9Lly7t8txxHCorK/nd737H9OnTk17P2WefjWEYOI4TN6bzvep6Q51yIiIi0i9qQi3k+HzJxQaT67zbnesXEREREREREZH+d8ghh3TbmTZ//vyUppocOnQoN954I8ccc0y3r3/88ccsWLBgV4qqTjkREcls6R5NJSIiIplH+38REREREUnWhx9+2OW5aZoMGjQIv9+f0npmzZrFhx9+GLdTDkg4ii4Z6pQTEZGMptFOIiIiex7t/0VEREREJFmjR4/uk/V897vfpbW1Ne7r48eP56mnntqlv6FOOREREekT5gUXQm1tcsGlpXBORXoLJCIiIiIiIiIiA9Kdd96ZdOy3vvWtpOIOOOCAhK/n5eVx4IEHJv13u6NOOREREekbtbUYI4YnFeps2pzmwoiIiIiIiIiIyEB1++23JxVnGEbSnXK7gzrlREREREREREREREREJC3efPNNfv/737NkyRK2bt3KAw88wLHHHht73XEcrr/+ev7yl7/Q0NDAvvvuy29/+1smTJgQd51LlizZHUXvc2Z/F0BEREREREREREREREQGptbWVqZPn85vfvObbl+/5ZZbuPPOO7npppt48cUXyc3N5eSTTyYQCKT8txzHwXGcXS1y2miknIiIyB4i1Xu+2X9MbhoAERERERERERGReI466iiOOuqobl9zHIc//vGP/OAHP+CYY44B4I477mDSpEk888wznHzyyUn9jUceeYRbb72V1atXAzBhwgS++93vcvrpp/fNm+gjKXXKWZaFYRjpKssey7KsLv+LSObr63qb6rDlbM4XqQ/RTuXKFierP5t0M1O851uqn2XmfbfadvpOdn+Wnu98N6UO6fBtv09vgTJI5tXbnamtvKfK7ryTutTeb6rr3t2fz8CutwPruxLpMLDrrcST7inUtD2ll+qt9KeOkWiNjY1d+ox8Ph8+ny+lda1bt47KykoWLFgQW1ZUVMS8efNYtGhRUp1yt912G9dddx3nnXce++67LwBvv/02l156KbW1tVx44YUplSmdUuqUW7FiRUYP+8t2K1eu7O8iiEiK+qreTnVsXEnG2o7N8uXL++Tv9odU36ttJ7/fsW0nqz+bdEv3dpZp3622nb6T7Z/l1JpqXCNHJhVrbdzIme/cQYMdTCq+yPTxs+LDd6V4/SrT6m0iaivvWbI976Qq1feb6rr76/MZiPV2oH5XIh0GYr2V+FJtCwJ7zLmLbKJ6K/3BMAzGjBnD9OnTaW5uji2//PLL+dGPfpTSuiorKwEYPHhwl+VDhgxh27ZtSa3jrrvu4re//W2XUXHHHHMMU6ZM4YYbbsjeTrmKigqNlEsDy7JYuXIlEydOxOVKdtcmIv2pr+utaSR/fZppmEyaNGmX/2Z/SfW9mmby+x3TNLL6s0m3dG9nmfbdmu/8O63r35Nk2meZ6sg3Utw2mwiRl5OTVHxTMJDV206m1dvuqK28Z8q0vJNuqb7flNbdD5/PQK63A+27EukwkOutxJdqWzDVdSun9a1z3/8TNeHtnR84YDsOpmHADrucMk8+9839391bQNmjOI5DKBRi6dKlO42U6w+VlZXss88+Oy3fZ599Yp1+mSKlTjmXy6VOuTRyuVxq+Ihkmf6qt3tWrkhlv2Nk3GeT6n3cgIy571v6P8t0f7fZve1klgz7LFOcijV1GfZ+M0r/fTZqK+9p9rR6mNr7TXXd/fX5DMx6OzC/K5EOA7PeSn/RttS3asIt5Pj8ycUGW/T5S1p1zKhYWFi4y31G5eXlAFRVVTF06NDY8m3btjFjxoyk1jFu3DieeOIJLr300i7Ln3jiCcaPH79L5etrKXXKiYiISIp60XmQ3s4GERERSdXX3ruLmlBLUrFl3jz+Ov/8NJcoeX+6613M3yV5c/s0X/AjIiIiIrKjMWPGUF5ezmuvvRbrhGtsbGTx4sV84xvfSPi7n376KVOnTuXKK6/kf/7nf3jrrbdi95R75513eO2117j33nvT/h5SoU45ERERERERkQRqQi3kJDkVT00wuc673aWsOYQxakxSsbrgR0RERETSobm5mTVr1sSer1u3jo8//pji4mJGjRrFBRdcwI033sj48eMZM2YM1113HUOHDuXYY49NuN6DDjqIuXPncvbZZ/Ovf/2L+++/n2eeeQaAvfbai5deeomZM2em9b2lSp1yIgJk99W/e5xgEPM0Xe0skm1SncpUdVcGArUvREREekdtRxERGUg+/PBDjj/++Njzq666CoAzzjiD22+/nYsvvpjW1lYuueQSGhoa2G+//fjHP/6B3594ytann36ahx56iJ/+9KfYts3xxx/Ptddey4EHHpjW97Mr1CknIkB2X/0L2X3frt5IZXpDnRDtW6l+ng+muTySRdJ+HzSRzJNp7Qud4BQRkayhtqOISNLUzs98Bx10EHV1dXFfNwyDK6+8kiuvvDKl9R5wwAEccMAB/OpXv+Kf//wnDz30ECeccALjxo3j7LPP5owzzojdsy5TqFNORAYG3bcrrkw7IZrt9HmKiGQxneCUdilf0HVORXoLJP0m1QuuREREJAOpnb/Hy8vL46yzzuKss85i9erVPPjgg9xzzz1cd911HHHEETz88MP9XcQYdcoNMBoRIyIiIpLZ1F4TyQA6cSPtdMGViIgMVDrukD3V+PHj+f73v8+oUaO45ppreOGFF/q7SF2oU26A0QGFiOyqdE8FKiKyp0u1vaapWPqPTmSIiIiISLbSeWLZE7355ps8+OCDPPXUUxiGwVe+8hXOPvvs/i5WF+qUExGRrjQVqIhIZtGInn6jDlQREREREZHMtmXLFh566CEefvhhVq9ezT777MMNN9zAiSeeSF5e5k0/rk452aPoRImIDCjBIOZppycXq1GKIjIA9Wp0dzqpA1Wkz+kYTjKVtk0REZH+d8opp/Daa69RVlbGV7/6Vc4++2wqKjL7ftDqlOsHOzbcTGCqY2Ma5k6xZ587g+ri3KTWq5tOJ0EnSkRkgElnTsu4k90Sl04KyR4ry9t2qrsiScjyep4qTZvbd9L+WWbYtqltRzKRtksRSTePx8P999/PF77wBVwuV38XJynqlOsP3TTc4m0u1X5Tc/+KiEj/yLATDZJAit9Vyh2u52T2VWYycHR/4sbBth3Md/4NGLGlZd48HtytpUuDFOuuTmyJ9Czb93G6/0/f2dM+y1Te7+bWeo5ZePMOS+Pvb7U/kd7a0+qhiOx+Dz/8cH8XIWXqlBMRERHZ06jDVTKUTtwklkmfjzoIJWNpHyfSIwcnY/YnIiIiexp1yolIr2i6JREREZE9VyZ1EIqIiGQTXdjSd/RZikg2UqeciPSOrkCVASLbpzgSGQh0/0IR2VXKIyIimWNPu4g31fdbc06FLmzpI7pIaOBS204GMnXK7eFSvaLkwXs+3KMaVumWyucftiN4zOSq7EC4+ifTdr47f1fdz7cPvasr0o/UwZw11IE6gGV5PdS2KdKztNeTDMsjqR5n7UlSPgZNc3lEJA0yLCenKuV9Vpa/X5GMpHolA5g65fZwKV9RkuaEuKddTZXK5x9oDVG4J139k2E730yrKxKfTvQMYHtYvUplW/6XHcGf5vJIAnvYtinSK3tYPcnmK/fTPRVYNn82Irsi0y48lQT2sH2WxJfu85S6uE9kz6ROOcksWd7w0c5UpP/pRI8MFKlsyw5OmksjWSMYxDzt9ORidcJPRLqhtpRImmT5+Y5Msqdd0C39KN31VnlBZI+kTjmRvqSdaVwavSQimU4H931HOb9/qS0iIrtTd/tPE5jq2JiG2TVYFyb2uWxuv6R7VKYMYDr3ItLnglaYYxbenFSscrLIrlGnnIjsFrriVkQyng7u+4xyvkj20T3QpNfi7D9d3YRq/5kGWdx+UXtBJD00Db70hoOjnCyym6hTTiSBbL7SX1Npioikl+4LIiKZ7E93vYv5u+SnMq05p0InYkQGuhSnOM6kUXUie7JUz01l8zT4ukhIRPYE6pSTtMrmTi3I8iv3sviKSRGRrKA8KyIZrKw5hDFqTFKxylEiew61XeLL9vMXMnBl9bmpFGX7e92T8kg2T58s0t/UKSdple6dqUYpiIiIiIiIiPS/bJ+tJds7A9JJ515EkrNH5RFdpCrSa+qUk+ymHYCIiIiIiIhI/9Px+cCV5u9WnX6yu2hbE5FMoE45ERERERERERHJaNk+Ek8SUIeu7C7a1vqNOkRFtlOnnIiIiIiIiIiIdJFxJ1B1Ml1EJHsph4vEqFNORERERERERES60glUERERkT5n9ncBRERERERERERERERERAY6dcqJiIiIiIiIiIiIiIiIpJk65URERERERERERERERCRt7r77bmbOnMnQoUM58sgjWbx4cX8XqV+oU05ERERERERERERERETS4vHHH+fHP/4xl19+Oa+++irTp0/n5JNPpqqqqr+LttupU05ERERERERERERERETS4vbbb+ecc87hrLPOYvLkydx0003k5ubywAMP9HfRdjt3MkGWZQEQCoUwTfXj7SpPcTFGQUFSsSWePPzunKRi/Vb0u/G7fWmLt1Mou1NcTIk7J63rB9Ian+7yp7J+w21RlMK2kGnflbaFPixPSUn2ln03fPawB+W1FLeFlNadgd9tVn9Xaf587OJi7Awpy+6oh5A5n33GbZtpzgvp3hZSjU/3tpNpeSSdeSHT6nk2f/a7Y9tPJT7d24K+2/6Nz6R9RKrxmbatQWbtg1KNz6TzC5BZxx3hcDip2A6pnLfL9ryT7ccRqcZn2j4lk/Ka8oKkyrZtABobGzEMI7bc5/Ph83Xd7kKhEB9++CGXXHJJbJlpmhx66KEsWrRo9xQ4gxiO4zg9BUUiEVpaWnZHeURERERERERERERERCTDHXfccSxdujT2/PLLL+dHP/pRl5gtW7YwdepUnn/+efbZZ5/Y8p/+9KcsXLiQ//znP7utvJkgqZFyHfx+f5deT+kblmWxYsUKKioqcLlc/V0cEUmC6q1I9lG9FclOqrsi2Uf1ViT7qN6KZB/VW+lPjuMQCAR4+umndxopJ4kl1SnXUakNw1CnXBoYhoHjOPp8RbKI6q1I9lG9FclOqrsi2Uf1ViT7qN6KZB/VW8kEhYWFPW5/ZWVluFwuqqqquiyvqqpiyJAh6SxeRtIN4kRERERERERERERERKTPeb1eZs+ezWuvvRZbZts2r7/+OnvvvXc/lqx/pDR9pYiIiIiIiIiIiIiIiEiyLrzwQi688ELmzJnD3LlzueOOO2hpaeGss87q76LtduqUExERERERERERERERkbQ46aSTqK6u5rrrrmPbtm3MmDGDf/zjH3vk9JXqlBMRERERERERyTCO7fDqj1+lYX0Dx997PC6Pq7+LJCIiItJr559/Pueff35/F6Pf6Z5yIiIiIiIiIiIZxLEdnvvOc7x141t8+uinLL5jcX8XSURERKRXLMvi2muvZdasWQwbNow5c+bwm9/8BsdxYjGO43DdddcxefJkhg0bxoknnsiqVav6sdTpo045EREREREREZEM4TgOz1/8PB/+6UNKJpbgyfXwxi/eoGVbS38XTURERCRlv/vd7/jzn//Mr3/9a9555x2uvvpqbr31Vu66665YzC233MKdd97JTTfdxIsvvkhubi4nn3wygUCgH0ueHuqUExERERERERHJAI7j8OKl/8/efYdFdXwNHP/uLr03BbsoAoIF7GIDK/beaywxmp5feu+9mUSj0dh774pdREUFFBGpoqIioqBSpO7u+wfRxFdUQGAp5/M8PuDeuXPPAjN77z13ZvYSMi8E64bWjNs7jvZvtyf7bjaHPz6s6/CEEEIIIYrs5MmT9OnTh169elG3bl0GDhyIj48PwcH5MwFotVrmzp3Lm2++SZ8+fWjSpAl//vkniYmJ7NixQ8fRl7wirSmnVqtRKBSlFUuVpVarH/oqhCj/pN0KUfFIuxWiYpK2K0TFI+22eLRaLQfeOUDQH0FY1rdk1K5RmDiY0OqVVoQuCuXMojM0n9IchxYOug5VVELSboWoeKTdCl26P/VkamrqQzkjQ0NDDA0NHyrbpk0blixZQmxsLE5OToSFhREYGMiXX34JwOXLl7lx4wbe3t4P9rG0tKRly5acOnWKoUOHlv4bKkNFSsrFxMQ8NM+nKFmxsbG6DkEIUUTSboWoeKTdClExSdsVouKRdlt4Wq2W8F/DiV0Si3ENY9rOacv1e9e5HnUdAJdXXTj5xkm2zdxGp8Wd5IFpUWqk3QpR8Ui7FbqgUCioV68eTZo0IT09/cHr77zzDu++++5DZV9//XXS0tJo06YNKpUKtVrNhx9+yIgRIwC4ceMGANWqVXtov+rVq5OUlFTK76TsFSkp16hRIznxKwVqtfpBllilUuk6HCFEIUi7FaLikXYrRMUkbVeIikfabdFotVqOfHqE2CWxmNc2Z8yeMVg5Wj1UxtnZmRvbbnD54GXUp9W4j3bXTbCi0pJ2K0TFI+1W6JJWqyUnJ4dz5849MlLu/9u0aRPr1q1j/vz5uLq6EhYWxvvvv0+NGjUYPXp0WYZdLhQpKadSqSQpV4pUKpV0oEJUMNJuhah4pN0KUTFJ2xWi4pF2Wzj+n/tz/PvjmNcyZ+yesdg42RRYrufPPVnQagGHPjyE6yBXDMwMyjhSURVIuxWi4pF2K3Th/oyKFhYWT80Zffzxx7z22msPpqF0d3fn6tWr/PLLL4wePRp7e3sAbt68iYPDv9N0JyUl0bRp01J6B7qj1HUAQgghhBBCCCGEEFVRwFcBBHwZgFkNM8b4jXlsQg6gmns1Ws5oSXpCOse+PVaGUQohhBBCFF9mZiZK5cOpKKVSiUajAaBevXrY29tz+PDhB9tTU1MJDg6mdevWZRprWZCknBBCCCGEEEIIIUQZO/b9Mfw/88fU3pQxfmOwdbZ96j6dPuqEsZ0xJ349QUpsShlEKYQQQgjxbHx9ffn555/x8/MjPj6e7du3M2fOHPr27Qvkr0/3wgsv8OOPP7Jz507Cw8OZMWMGDg4OD8pUJkWavlIIIYQQQgghhBBCPJvAnwM59OEhTKqZMGb3GOxc7Qq1n7G1Md6fe7Nr5i72v72f4RuHl3KkQgghhBDP5rvvvuPrr7/mzTff5NatWzg4ODBp0iTefvvtB2VeffVV7t27x+uvv87du3dp164d69evx8jISIeRlw5JygkhhBBCCCGEEEKUkZO/neTAuwcwtjVmzO4xVHOvVqT9mz/XnJC/QojZHkPcnjga9GxQSpEKIYQQQjw7c3NzvvnmG7755pvHllEoFLz//vu8//77ZRiZbsj0lUIIIYQQQgghhBBlIOSvEPa9uQ8jayPG7BpD9abVi1yHUqWk5y89Adjzxh7UOeqSDlMIIYQQQpQSScoJIYQQQgghhBBClLLYnbH4veKHoYUho3eNxt7Dvth11elQB/dR7qREpxA0J6gEoxRCCCGEEKVJknJCCCGEEEIIIYQQpehG6A02j9uMQqlgyNoh1GhR45nr9PnaB30TfQK+DCD9RnoJRCmEEEIIIUqbJOWEEEIIIYQQQgghSklaQhprB68lJz0H39m+OHZ1LJF6LWpb4PWuF9mp2Rz+6HCJ1CmEEEIIIUqXJOWEEEIIIYQQQgghSkFORg7rBq8j7Woa7d9sj8dzHiVaf9vX2mLVwIrQJaEkBCWUaN1CCCGEEKLkSVJOCCGEEEIIIYQQooRp1Bq2jN9C4ulEXIe44v2ld4kfQ89Ij+7fdwct7H19L1qNtsSPIYQQQgghSo4k5YQQQgghhBBCCCFK2IF3DxCzPYaarWvSf1F/FEpFqRynUf9GOHZ35NqJa5xbea5UjiGEEEIIIUqGJOWEEEIIIYQQQgghSlDwvGBOzjqJZT1Lhm0chr6xfqkdS6FQ0OOnHij1lBx4/wDZadmldiwhhBBCCPFsJCknhBBCCCGEEEIIUUIu+F1gz2t7MLQwZMTmEZjZm5X6Me0a29FyZksyEjMI+Cqg1I8nhBBCCCGKR5JyQgghhBBCCCGEECUgKSyJTWM2ATBk9RCquVcrs2N3+rATJtVNOPHzCfw/80erlfXlhBBCCCHKG0nKCSGEEEIIIYQQQjyj9OvprB20lpy0HHx/98Wxu2OZHt/IyoiRW0Zi6mBKwFcBbJmwhbysvDKNQQghhBBCPJkk5YQQQgghhBBCCCGeQU5GDuuGrCP1Sipt32iL51RPncRRo2UNJgVMolqTapxfc56VvVaScTNDJ7EIIYQQQohHSVJOCCGEEEIIIYQQopi0Gi1bJ23levB1nAc60/XrrjqNx7KuJRMOTaChb0OuHr/Kko5LuBVxS6cxCSGEEEKIfJKUE0IIIYQQQgghhCimA+8fIHpLNDVa1mDgkoEolApdh4ShhSHDNw6n5YyW3Ll4hyWdl3DxwEVdhyWEEEIIUeVJUk4IUaC8rDxOzT7FpUOXdB2KEEIIIYQQQkfSr6ezsN1C1g9bT9q1NF2HU+4EzwvmxM8nsKhjwfCNw9E30dd1SA8o9ZT0mtWLHj/3ICcthzX91nBm0RldhyWEEEIIUaUptFqt9mmFtFotqampGBsbo1Do/omvykatVqOqUwc9Pb1Html790Y9bx4AigULUH3+ecF1bNiAtnVrAFTt2qFISHi0rubNUW/bll/Xzp2oXnih4LpmzUI7eHB+XUOGoAgKerSQrS15p0/nf3/mDHoDBhRYl+add9C8+CIAypdfRrllS4Hl8mJiwNAQbt5Er2XLgusaNw7N11/n1/XttyjnzCm4rkOHoEEDAPQaNYLs7EfKaLt2Rb14MQCKpUtRffhhgXWpV65E27EjAKouXVBcfPTJQq2rK+o9e/Lr2r8f1XPPFVzXDz+gHTkyv67Ro1EcPfpoIXNz8sLD87+PiECvV68C69K8/jqa118HQPnmmyjXri2wXF54OJibQ2oqek2aFFzXyJFofvghv66ff0b566/58eaoyUzJRKWvxNjWhLw9e8DVFQA9NzdIT3+kLm3HjqhXrgRAsXo1qrffLvCY6kWL0HbrBoCqRw8UUVGP1uXoiPrw4fy6jhxBNXZswXV9+SXaCRPy65o4EcXBg48WMjTM/xsDuHABPR+fAuvSzJyJ5t13AVC+/z7K5csLLJcXEoLa2prosDCaPu5vf9AgNL/9ll/X7Nkov/uu4Lq2bYPmzQHQ8/SE5ORHymhbt0a9YQMAik2bUL36aoF1qefNQ9u7NwCqfv1QnD37aF01a6IODMyv6+RJVMOGFVzXxx+jnTo1v67nn0exe3fB8cfH539z9Sp6Xl4FltFMmYLmk08AUH76KcqFCwuu6/hxqFULAL26dQsso/X1Rf3XX/nxP6lPXL8ebZs2+fE/rk9s1gz19u35dZVknxgail7//gXW9VCf+MorKDdvLrDcgz7x1i30WrQouC7pEx8obJ+YffYsUQkJuNSogeE/7e6RukaMQPPjj/l1/adP/P/y/PygcWPgCX1ihw6oV60CSrhPDAhANWZMwXX9t0+cNAnFgQOPFvpvnxgXh563d4F1FaVPxM4OsrPz/8YKqkv6xAc0kyej+fRT4Cl94rFjULs2oIM+cdcuVNOnF1zXf/vEoUNRnDr1aKES7hOzIyOJunQJF1tbDP85332krqrQJ5qZkXf+fP73T+oTX3sNzRtvAE85Tzx3DiwsnnyeWJw+0d0d0h5N3DzUJ65Zg+qttwqs66E+sWdPFJGRj9YlfeIDpd0narVaMpMz0eRp8l9XKLg17iVqLvgUhULxxD7x7O7duLi4oLp+vdL2iReH/o9lczIwNDfkVc9DGEWFPlqonJwn5mXnkX0nC60WDEz1MTA3LNk+ccUKtJ06AU/oE11cUO/dm1/Xk/rE779HO2pUfl0l2Se+9RbKNWsKLPegT0xLy+/HCqrrv33iL7+g/OWXguuqwH1irkKBJi4OlUpV/vrErVvBwwN4Qp/YqhXqjRuBp/SJc+ei7dMHKOHzxOnTUezaVXD8988Tr11Dr337Ass81Cd+9hnKv/8uuK5y2ifq4jyxUH3i2LFovvkmv64nnScePAgNGwJP6BN9fFAvWQLoqE8cMwZFQMDDceflobKyQn2/T4yMRK9nzwLrqop94v3zdVHytFotmZmZWFhYSM6oiGSknBCiQCoDFSoDFepcDersPF2HI4QQQgghhChLWsi6nYUmT4OeoR4G5gZotVrCloWxduBaUq+mPvshNFrOrTzH2kFruXr8Kjz1keHyIy8rj6A/g9Az0mPElhEYWhjoOqQn0jPUw9jGBIVSQU5GLlm3s8jLkus8IYQQQoiyJiPlygG1Wk1UVFT+U4Qqla7DEeKBK8eusMx7GTVa1WDS0UnS/v9D2q0QFY+0WyEqJmm7QpQ9rVbL9qnbCVsWRp2OdRi9czR6RnrcirjF9mnbSTiZgKGlId1/7E6zCc0euU54WrtV56g5t/Icx74/xu3Y2w9et3WxpddvvajvU7+03+IzidsTx9rBa1EoFIzYPALH7o66DqnQ0hLSWDd4HYmnE6nRsgbDNw7HrIaZrsMS5YB83gpR8Ui7FbokI+WKT0bKCSEeq45XHRy7O3I96DoXdl3QdThCCCGEEEKIMuD/qT9hy8KwdbVl2Pph6BnlL7Vg19iOCYcn0PWbruRl5bFj2g7WDFhT6FFzeVl5BM8N5k+3P9nx/A5uX7iN2wg3xu4bi/tod5KjklnZayWbx20mLaF8rl8XfySe9cPXo9VoGbxycIVKyAGY1zRn3IFxOPd35nrwdRZ3XEzS2SRdhyWEEEIIUWVIUk4I8USdPsqfA/vIF0coxMBaIYQQQgghRAV2esFpjn5zFLMaZozaNgpjG+OHtitVStr9rx1TTk2hVttaxPnFMd9jPqGLQx97vZCTkcPJWSeZ4zIHv1f8SLuWRrMJzZh+djqDlg+iXud6DFwykDF7xmDrasv5teeZ13QeJ2edfLCeXXmQEJTA2kFrycvKY8CiATgPcNZ1SMViYGrAkLVDaPt6W1KvpLK442KC5wXL9Z4QQgghRBmQpJwQ4olqt6+NYw9HrgdfJ3ZnrK7DEUIIIYQQQpSSmB0x7H5pNwbmBozcMhLLepaPLWvnasf4Q+Pp9l031Dlqdjz/z6i5K/+OmstOzebY98eY4zyHfW/t496te3hO82TG+Rn0W9APWxfbh+qs712fqUFT8fnaB61ay7639vF3m7+5cvRKqb3nwkoKS2JNvzXkpOXQe05v3Ee56zqkZ6JUKen2XTf6LeiHQqXA72U/1g9ZT8bNDF2HJoQQQghRqUlSTgjxVJ0/7gzIaDkhhBBCCCEqq4RTCWweuxmFUsHQNUOx97B/6j5KlZK2r7fNHzXX7p9Rc57zOT3/NJFzI5nrOpdDHx4iJy2HVi+1YmbUTHrP7o2Vo9Vj61QZqGj/Znumh03HZbALN8/dZJnPMrZN2UZGkm4SRsnRyazqs4rMlEy6/9AdzymeOomjNDSb0IwpJ6dQo1UNYnbEsKDFAi74ydIFQgghhBClRZJyQoinqtW2Fg16NSAxJJHYHTJaTgghhBBCiMokJTaFtYPWknsvl75/9S3yOmm2LraMP/jvqLk9r+whcm4k6hw17d5ox8yYmfT8uScWtS0KXadFHQuGrhnKqO2jsHayJmxZGPOazCN4bjAaddlNaXn38l1W9V5Fxo0MOn3ciTavtimzY5cVm0Y2TDg8Aa93vMhIymBN/zXs/d9e8rLydB2aEEIIIUSlI0k5IUShyNpyQgghhBBCVD4ZNzNYM2AN927ew/sLb5qOa1qsev47as5liAsuz7swI2oGXb/tipm9WbHja9CzAdNCptH5k87kZeXh94ofizss5s7FO8Wus7DSr6ezsvdKUq+k0vaNtnT8oGOpH1NXVPoqvL/wZty+cVjUseDU76dY5LWIpHNJug5NCCGEEKJSkaScEKJQarWpRUPfhiSeTiRme4yuwxFCCCGEEEI8o5yMHNYNWsft2Nt4Pu9J+7fbP3Odti62DFoxiMYzG2Nsa1wCUYKekR4dP+jItDPTcOrjRGJIIrte3FWqDwveS77Hyt4rH/xsun7TFYVCUWrHKy/qdqrLlKApNB7emJvnbrKo/SJOzT4lD2YKIYQQQpQQScoJIQpNRssJIYQQQghRvmg1WiI3RXJy1kni9sSRejW1UOfqmjwNm8duJuFUAo36NaLXrF7lPulk3cCa4ZuGU7NNTS7uu0icX1ypHCc7NZs1/dZw6/wtmoxtgu9vvuX+Z1OSjK2NGbR8EP3/7o9KX8Xe1/eyduBa0m+k6zo0IYQQQogKT0/XAQghKo6arWvSsHdDLuy6QPTWaFwGuug6JCGEEEIIIaokrVZLnF8cBz88SNLZh6cYNLQwxM7NDrvGdlRzq4adW/5Xs5pmKBQKtFotfq/6EbszllptazFo+SCUqorxzK5CoaD7D91Z2mUp+97eh2N3R5R6JRd77r1c1g5ay/Xg67gMcqHf/H4olFUnIXefQqGg6fim1PaqzdZJW7mw+wILWiyg3/x+OPVx0nV4QgghhBAVliTlhBBF0umjTlzYdYGALwNwHuBcpZ4YFUIIIYQQojy4cuwKhz48xJWAKwA06tcIpz5OJEclc/P8TW6dv8W1wGtcC7z20H5GVkbYNbbD0MqQC7suYONkw/BNw9E30dfF2yi22u1r03hYYyLWR3D679O0nN6yxOr2e9WPKwFXaNCrAQOXDSzRhF9FZN3QmvEHxxPwVQBHvznK2kFr8f7CG693vHQdmhBCCCFEhSRJOSFEkdRsVROnPk7E7owleks0LoNktJwQQgghhBBlISksicMfHyZmR/4az3U61sHnKx9qt6/9SNmsO1ncirj1IEl3/+vV41cBMKlmwshtIzGxMynT91BSfL7yIXprNP6f+eM+yh0jS6NnrjN2Vyxnl5zFxsmGIauHoGcot0wAlHpKOn/SGccejqwfth7/z/1pPLwx1g2sdR2aEEIIIUSFI2eYQogi6/RRJ2J3xnLkyyP5o+Wq4HQuQgghhBCi7GjUGiLWR9CoXyMMTA10HU6Zux13myOfH+HcqnOgBfvm9nh/4U2DXg0eO3OFkZURtdvXfiRhl3k7k1sRt7CqZ4V5LfOyCL9UWDla0frl1gT+FMixb4/R9Zuuz1Rf1p0sds7YCQrou6Bvlfw7e5o6XnXo/HFn/F7xw/8zfwYuGajrkIQQQgghKpyqPQ+DEKJYarSsgVMfJ5LOJhG1JUrX4QghhBBCiEouYm0EW8Zvwf9Tf12HUqbSb6Tj95of85rO49zKc1g3sGbgsoFMPjGZhr4NizWVvLG1MXW86lTohNx9Xu96YWxnzKnfT3Hn4p1nqmvfm/tIT0inzattqONVp2QCrIQ8pnhg3dCa8NXh3Ai9oetwhBBCCCEqHEnKCSGKpdPHnQA48sURtBqtjqMRQgghhBCV2aWDlwAIWx6GOket22DKQHZqNoc/Ocyfrn8SPCcYY1tjfP/w5fmzz+M+0l1mqviHkaURnT/pjDpHzcEPDha7nthdsZxdehabRjZ0+axLCUZY+aj0VXT+tDNo4dDHh3QdjhBCCCFEhSPTVwohiqVGixo06teImO0xRG2OwnWIq65DEkIIIYQQldRl/8sAZCZnEr0tmsZDG+s4otKTk57DMp9lJIUlYWRlRMevOtLqxVbom+jrOrRyyXOKJ0Gzg4hYH0Hrl1sXuL7ekzw0beX8vugby8/5adyGuxH4UyAXdl0g/kg8dTvV1XVIRZKbmUtWShaZtzPJupNFVkpW/tfbWWSmZD74PutOFnlZeVjVt8LWxRYbZxtsXWyxcrRCpa/S9dsQQgghRAUlSTkhRLF1+qgTMdtjOPLFEVwGucgTu0IIIYQQosSlXk3lTtwdTKqbcC/pHmeXnK20STmtVsv2adtJCkvCZZALfeb1wdjaWNdhlWtKPSXdv+/OmgFr2PfmPiYemVik65IH01a+JtNWFpZCqcDnKx9W913NwfcPMsF/QrGmUi1rF/dfZPO4zWQmZxZpv8tcfuj/Sj0l1g2tsXW2zU/WueQn62ydbTG2kfYqhBBCiCeTpJwQotgcPB1w7u9M9LZoIjdFVtqbI0IIIYQQQnfi/eMB8JzqSeTGSOL2xJF6NRWL2hY6jqzkBf4USOSGSOyb2zNg8QAZHVdIDXo1wLGHIxf3XuT82vO4j3Iv1H4ybWXxOXZ3pJ5PPS4fvEz01mhcBrroOqQnyknPYcfzO8hMyaRWu1oY2xhjZGWEkfW//4ytjDGy+ef/VkYYWxuj1FdyO+42KVEpJEclkxydTHJUMrcv3CY5Khm2PXwcQ0tDDC0M0TfRR99UHwMzA/RN9dE30cfA1AB9M30MTAwebLN1saVBrwYVIqkphBBCiJIhSTkhxDPp+GFHordFE/BlAK6DXWW0nBBCCCGEKFHxR/KTcnU718XQwpAD7x4gbFkYHd7roOPISlbc3jgOfXgIYxtjhq4bKgm5IlAoFHT7tht/7/+bgx8exHmg81OnofzvtJX9FvSTaSuLSKHIHy232Gsxhz46RKO+jVDqKXUd1mMFfBlA6pVUWs5oSa9ZvYq0r4mdCbXa1HroNU2ehjuX7pAS/Z9kXXQydy/fJTc9l4ykDNTZhVv/st0b7fD5xkcSc0IIISq1hIQEPv30U/bt20dmZiaOjo7Mnj0bT09PIH/GiG+++YalS5dy9+5d2rZty08//UTDhg11HHnJk6ScEOKZOHg64DzAmeit0URsiMBtuJuuQxJCCCGEEJVIvH88Sn0ltdvVppp7NQ59eIjQJaF4veNVaR4Iux13m83jNgMwaMUgrOpb6TSeiqh60+o0n9ycMwvOcOq3U3i94/XE8v+dtrKo69CJfDVb1cR1iCuRGyMJWx5G80nNdR1SgZLCkjgx6wSmDqZ0+bxkRkQq9ZTYONlg42SDUx+nAsto8jTkZOSQm5FLbkYuOek55N779/vstGyOfH6EwJ8DybqThe9sX5Sq8pvYFEIIIYrrzp07+Pr60qlTJ9atW4ednR0XLlzAysrqQZlZs2Yxb948/vzzT+rWrcvXX3/N0KFDCQwMxMjISHfBlwL5tBdCPLNOH3YC8p8+1Gq0Oo5GCCGEEEJUFunX00mJSaFm65rom+hjZm+GUx8n7sTdeTCCrqLLychhw/ANZN3OwudrHxy7Oeo6pAqr8yedMTAz4Nh3x0i/kf7YcrE7ZdrKktLl8y4oVAr8P/cnNzNX1+E8QqvRsvul3WjVWrr/0B0jy7K7qafUU2JkaYR5TXNsGtng4OlAnQ51aNCzAa5DXGk+sTnjD47HppENZxaeYfO4zeRl55VZfEIIIURZ+fXXX6lVqxazZ8+mZcuW1KtXj65du+LomH/eq9VqmTt3Lm+++SZ9+vShSZMm/PnnnyQmJrJjxw4dR1/yijRSTq1Wy3D6UqBWqx/6KkRFY9fU7sFouUOfHqLdm+0wMDXQdVilStqtEBWPtFshKiZpu1XbxUMXAajTsc6Dv4GmE5sSvTWaM4vOULtjxR7hpNVq2fH8DpLCkmg8vDGtXmlVKf7WddVuje2Mafd2O/w/9ufwp4fx/cP3kTL/nbay97zeKA2UleJnritWDa1oNqkZoX+Hcmr2Kdq+3rbYdeVl5RG2LIwGPRtgWc+yROILXRzK1eNXqd+tPi5DXcrd79qslhlj9o1h3cB1RG6IJOtuFoNXD9bJ9bR83gpR8Ui7Fbqk1eYPzEhNTX0oZ2RoaIihoeFDZXfv3k3Xrl2ZNGkSR48epUaNGkyZMoWJEycCcPnyZW7cuIG3t/eDfSwtLWnZsiWnTp1i6NChpf+GypBCe/+n9wRarZbU1FQuX75MIYoLIaqg1NhUDo87jDpLjYG1AQ3HNMRxpCMGFpU7OSeEEEIIIUrPma/OcGndJbzmeFHdqzqQPyXcnt57yE3LxXevL/rmFXctsJglMYT/Eo6FswWdl3RGz1hWmHhW6iw1+wbvI/NGJj5rfLBs9HByJ+TjEOK3xuM0wYkmbzTRUZSVS2ZSJvsG7ENpoKTH9h7FugbMTc/lxOsnuHXqFiY1Tei8rDNGts82qi07JZt9g/ehzlTTdV1XzOqZPVN9pSk3LZfAVwNJDknGppkN7f5oJ9fSQgghyjWFQkG9evVo0qQJ6en/zlDwzjvv8O677z5U1sHBAYCZM2cyaNAgQkJCeO+99/j5558ZPXo0J06cwNfXl4iIiAdlAZ577jkUCgULFy4smzdVRop0xt+oUSMZKVcK1Go1sbGxODk5oVKpdB2OEMXjAi5hLpz89SShC0OJmB3BhaUXaDG9Ba1eboVpdVNdR1iipN0KUfFIuxWiYpK2W7UdCTuCQqWg7fC2GJj9e4M6aWISgT8GkncmjyZTK2Zi5dKBS5yfdR4jayNGbx6NlaOVrkMqMTpvt9/AtknbuDj3IiO2jXhwH+PCrgvEb43HppENA34dgL5xxU3olisucPeluwT+GEjKtpQir9uWkZTBuufWcev0LUwdTMlIyCD03VBG+41+pt/Rjud3kHs3lw4fdqBlz5bFrqesuOx1YfPYzcTtjuPUzFOM2DYCM4eySyTqvN0KIYpM2q3QJa1WS05ODufOnXtkpNz/p9Fo8PDw4OOPPwagWbNmREREsGjRIkaPHl1mMZcXRUrKqVQqScqVIpVKJR2oqNCs61nT65dedHy/I6d+P0XwnGACfwwk6I8gPKZ40Pb1tljWLZlpSMoLabdCVDzSboWomKTtVj0ZSRkkRyZTs01NjC2NH9rWfFJzAn8M5OySs7ScXv5vtv9/dy7eYev4rQAMWj4IWydbHUdUOnTVbpuMbkLwnGAu7b/E5X2XaejbkKw7Wex+aTcooN+CfhiZld3aYlWB19tenPn7DEF/BNH6xdaY1zQv1H53L99lVe9VpMSm4DLYhQGLBrB57GZidsSwc+pOBq8cjEJZ9PtQl/0vc27ZOWycbOjwdocK8fmhMlcxfMNwtk3exvk151nZfSWjd5Z9wl4+b4WoeKTdCl24P6OihYXFU3NG9vb2uLq6PvSas7Mz27Zte7Ad4ObNmw+NlEtKSqJp06YlGXa5oNR1AEKIyse0minen3vz4oUX8f7CGwNzA4JmB/Gn65/seH4HydHJug5RCCGEEEKUc/FH4gGo26nuI9tsnW2p3aE214OukxSWVNahPZPce7lsGLGBzJRMvL/0pkGPBroOqdJRKBR0/6E7APve3ocmT8O+N/eRnpBO29faUrt9xV6LsDwysjLC620v8jLzCPgqoFD73Ay/yZIuS0iJTcFjqgeDVw5G30SfgcsGYu9hT+TGSA59eKjIsahz1PkJWKDX773QM6o408Kq9FUMXDKQFtNbcPvCbZb6LOVm+E1dhyWEEEI8k7Zt2xITE/PQaxcuXKB27fxzsnr16mFvb8/hw4cfbE9NTSU4OJjWrVuXaaxlQZJyQohSY2RphNc7XrwY8yI9fu6BqYMpoYtDmdd0HpvGbOJG6A1dhyiEEEIIIcqpeP/8pFy9LvUK3O7xnAcAZ5eeLauQnplWq2XnCzu5EXoD16GutPtfO12HVGnVbl+bxsMakxyZzJYJWzi79Cw2jWzo/GlnXYdWabWc2RLz2uacWXiGlJiUJ5a9GniVZV2XkZ6Qjte7XvSe3RulKv8WlYGZASM2j8C8tjnHfzzO6b9PFymOE7+cIDkyGfdR7jh2cyz2+9EVhVJBr9964fWOF+kJ6SzvtpyEUwm6DksIIYQotpkzZxIUFMRPP/1EXFwc69atY8mSJUydOhXIf6DqhRde4Mcff2Tnzp2Eh4czY8YMHBwc6Nu3r46jL3mSlBNClDp9E31av9SamZEz6TOvD9YNrYlYH8Hfrf9mccfFnPztJGnX0nQdphBCCCGEKEfi/eNRKBXU9ip4VJPrEFcMzAwIWxGGOkddxtEVz6nfThG+OpxqTarRb34/WR6ilPl85YPKQEXE+ogH01bKOnKlR99Yn04fdUKr1nL4k8OPLXfB7wKrfFeRdTuL7j92x/tz70fagnlNc0ZsGoGBmQG7X9rNxX0XCxXD7bjbBHwVgKGlId2+7/ZM70eXFAoF3l940/XbrmSmZLKy10ouHbyk67CEEEKIYmnRogXLli1jw4YNeHl58eOPP/L1118zYsSIB2VeffVVnn/+eV5//XW6detGRkYG69evx8io8k05Lkk5IUSZURmo8HjOg+lh0xm4bCA1W9ck4WQC+97cx+8NfmdZt2UEzwsm42aGrkMVQgghhBA6dO/WPW6G38TB0wFDi0cXi4f80TRuI9zIvJVJzPaYAsuUJ5cOXmL/u/sxsjJi2LphGJgZ6DqkSs/K0Yo2r7QBkGkry0iz8c2wdbElYn0E10OuP7I9fHU46wavIy87j/4L+z/4/RTEvrk9g1YMAi1sHLXxqdM4arVa9ry+h7ysPLy/9MbMwexZ347OtXujHX3m9SH3Xi5r+q8hakuUrkOqFPKy8ojbG4dGrdF1KEIIUWX4+vpy7NgxEhMTOXHiBBMnTnxou0Kh4P333ycqKorExEQ2b96Mk5OTjqItXZKUE0KUOaVKiftIdyYdncSMyBl4f+FN9abVuXLkCn4v+/Fb3d9Y1XcVoUtCybqTpetwhRBCCCFEGbsScAWAup0fXU/uv5pNagZA6OLQUo/pWdy9fJdNYzah1WgZuGwg1g2tdR1SldH5s86M3DoSn698dB1KlaDUU+L9hTcABz84+NC2oDlBbJm4BaWekmHrh9F0XNOn1ufU24mev/YkOzWbtYPWkp6Y/tiyUZujuLDrAjVa1cBzquczvY/yxOM5DwatGIRWq2Xz2M3cjb+r65AqNK1Gy+bxm1nddzUBXxZu/UMhhBCiJElSTgihU9YNrPF6x4upQVN5PvR5On7YEeuG1lzce5Ed03bwa61fWTdkHeGrwslJz9F1uEIIIYQQogzEH8lfT65upycn5Wq1rYWtqy1xe+JIvZpaFqEVmTpXzcbRG8lMzsT7c28a9mqo65CqFJW+ioa+DVHqye2PsuI80JlabWtxaf8lLu6/iFarxf9zf/a8tgdDC0NG7xpNo76NCl1fyxda0ubVNty9fJd1Q9aRey/3kTLZadnsfWMvCqXiofXpKovGQxvT9euuqHPUHP/huK7DqdCOfHmE6C3RAJz49QQZSTJTjxBCiLJVuc5ShBAVml1jOzp/3JnpYdOZcnIK7d9qj3ktc2K2x7Bl4hZ+q/sbl/0v6zpMIYQQQghRyuL940EBdTrWeWI5hUJB80nN0Wq0hC0LK6PoiubIZ0e4HnQdpz5OtH+7va7DEaLUKRQKvL/yBvJHy+15bQ8BXwZg6mDK+P3jqdPhye26IF2/7Ypzf2euB11ny8QtaDXah7Yf+fwIadfSaPViKxw8HUribZQ7ns97YupgypmFZ0i9Uj4fQijvIjdG5v8t2pvSckZLcjNyOfbdMV2HJYQQooqRpJwQotxRKBTYe9jj85UPM6NmMjFgIq1ebEVOeg47p+8kN/PRJyOFEEIIIUTlkHk7kxtnb2Df3B4jq6cv7N5kbBOUekpCl4Q+cqNe1y4fvsyxH45h6mBK3/l9USgUug5JiDJRr3M9Gvo2JDEkkeA/g7FqYMWEQxOo3qx6sepTqpQMWDoAhxYORG+J5sD7Bx5sSzydyKnfT2FW04zOn3QuqbdQ7ugb69P+rfZocjUc+77yJpJSYlI49OEh5jWbx8lZJ0us3huhN9g2eRsqAxVD1w3F5ysfTKqbEDIvhLuXZUpQIYSoyFJTUwv1r7yQpJwQolxTKBTUalOLnr/0pPmk5ty+cJtj31beCxAhhBBCiKruSsAV0D59Pbn7zOzNcOrjxJ24O8QHxJdydIWXmZLJ1klbQQsDFg7AtJqprkMSokx5f+GNylBF9WbVmXBoAtYNnm0tRQNTA0ZsGoFFHQtO/HyCkL9C0Kg17H5pN1qNlh4/9cDQwrCEoi+fPKdWztFyOek5hC4JZVnXZcx1n8ux74+RHJnMvrf2cfCDg2i1z/bARcbNDNYPW0/uvVx8Z/tSu11tDMwM6PBeB9Q5ao58eaSE3okQQghdqF+/Po6Ojo/9d397eaGn6wCEEKKwfL72IXpbNMd/PI77KHfsGtvpOiQhhBAVUObtTC7uu0jjoY1RKGXUihDlTWHXk/uv5pOaE701mtBFodTrXK+0Qis0rVbLzhd2knYtjbavt8Wxe/m5CSBEWbFvbs+L0S9ibGeMSl9VInWa1TBjxOYRLPVeit+rflwLvEbCqQQa+jbEdYhriRyjPNM31qf9m+3Z9+Y+jv1wDN/ffHUdUrFptVquHr/K2cVnOb/uPLkZ+TPi1GhZg2aTmuHg4cDG0Rs5/sNxMm9n4vu7b7HWClTnqtk0ehN3L9+l9cutaT6x+YNtnlM9OfnrScKWhdHujXZyj0EIISqobdu26TqEIpGknBCiwjCxM6Hbd93YPnU7u1/ezdi9Y2UKICGEEEWSk5HD6j6ruR58Ha1Gi/tId12HJIT4f+L985NyT1tP7r8a+jbE1MGUyI2R9Py1J0aWT5/2sjSdWXiGqM1R2HvY0+XzLjqNRQhdMqthVuJ1Vm9anSGrhrBm4BrCloehZ6RHz197VplrQ89pnhz/8TihC0PxessLizoWug6pSNIS0ghbHsbZJWdJiUkBwNjOGM+pnjSb0IzqTf+d4nTCwQms6r2KMwvOkH0nmwGLB6AyKFqCd+8be4n3j6d+t/p0+67bQ9v0DPXo9FEntk/djv9n/gxZPeTZ36AQQogy16FDB12HUCQyfaUQokJpOr4pdTvXJd4/nrBlYboORwghRAWiydOweexmrgdfByByQ6SOIxJC/H9Zd7O4ceYG1ZtWx8TWpND7KfWUNBvXjLzMPM6vPV+KET7drchb7PvfPvRN9Bm0bBB6hvIsrBAlrUHPBvj+4YtST0mXz7s889SYFcn90XLqHDXHfqg4SzvE7oxlzcA1/NHgDw59eIjbF27j1MeJoWuH8sqlV+j+Q/eHEnIAlvUsGXdwHPbN7YlYH8G6oevIycgp9DFD5ocQMi8E64bWDF4xGKXeo7dBm4xtgl1jOyI3RnI95Pozv08hhBBlLy8vj+zs7IdeS0pK4rvvvuPjjz/m+PHjOoqsYJKUE0JUKAqFIv/iS1/J/nf3cy/5nq5DEkIIUQFotVr8XvUjdmcstdrWwqymGRf8LhTpxo4QovRdPXYVrUZb6PXk/qvZpGYAnF18tqTDKrS87Dy2TNhC7r1cuv/UHVsXW53FIkRl5znFkzeS3qDta211HUqZ85yWv7Zc6MLQCrG23OkFp1k7aC0Xdl3A2skan698eCnuJUZsHoHLIJcnjn4zszdj7N6x1O5Qmzi/OFb3WU3m7cynHjP+SDx7Xt2DgbkBw9YPw9jGuMBySpWSLp/lj2g+9NGhYr0/IYQQuvXqq6/yzjvvPPh/WloaXbt2ZcGCBRw4cIABAwawZ88eHUb4MEnKCSEqHDtXO9q/2Z7MW5kcfO+grsMRQghRARz//jin55/G2smaYRuH4TrYlbzMPOL84nQdmhDiP+IPF309uftsnW2p3aE2CacSSDqXVNKhFcrhjw9z48wNXAa54DHZQycxCFGVGJgZ6DoEnahIo+Uu+F1g98u7MTA3YPTu0UwPm077t9pjXtO80HUYWRkxesdoGvo25Orxq6zovoL0xPTHlr97+S4bRm5Ao9YwcMlAqrlXe2L9zgOdqdm6Jhf3XuTy4cuFjksIIUT5cOLECQYMGPDg/6tXr0aj0RAUFERAQAAzZ87k999/12GED5OknBCiQvJ61wvrhtaELg4lPiBe1+EIIYQox86tPMehjw5hbGfMyK0jMa1mistgFwAiN8oUlkKUJ/FH/llPrlPh15P7L4/nPAA4u6TsR8vF7Y3jxC8nMK9lTp+5farM+lZCCN2oCKPlboTeYNPoTQAMWTUEx66Oxe4b9U30GbZ+GG4j3EgKS2KZzzLuXLzzSLmcjBzWDVlH5q1MunzWhUb9Gj21boVCQZcv/hkt9+EhtFptsWIUQgihG9evX6dhw4YP/u/v70///v2xtLQEYPTo0URGlp9rf0nKCSEqJH1jfXx/9wVg18xdqHPUOo6oZGWnZZOZ8vQpOYQQQjzZpYOX2D5tO3rGeozYPAIbJxsA6nSog0l1E2J3xpKXlafjKIUQkH/+cz3kOnaN7TCtZlqsOlyHuGJgZkDYirAyPT/MuJnBtinbQAEDFg947DRpQghRUsr7aLnUq6msHbSWnPQcfP/wpUHPBs9cp8pAxYAlA2gxvQW3L9xmqc9SbobffLBdq9Wyfcp2ksKSaDy8MV7veBW6bseujtTzqce1E9eI2R7zzLEKIYQoO4aGhmRm/nsfNSgoiJYtWz74v5GRERkZGboIrUCSlBNCVFiO3R1xG+lGcmQygT8H6jqcEhO3J47ZTrNZ2HYhedlyo1gIIYor6VwSG4ZvQKvWMmjZIGq1qfVgm1KlxGWgCznpOVzcd1GHUQoh7rt2/BpadfHWk7vPwMyAxsMbk3krs8xuqmq1WnZM20FGYgZeb3lRr0u9MjmuEEI8NFruavkZLZedls3aQWtJu5aG19teeE7xLLG6lSolvX7rhde7XqQnpLO823ISTiUAcPTro0RujMTew55+8/sVeVSe9xfeQP5UxBq1psRiFkIIUbqaNm3KmjVrADh27BhJSUl07tz5wfaLFy/i4OCgq/AeIUk5IUSF1v2H7hhaGnL066PcvnBb1+E8E61Wy7HvjrG6/2qybmdx9/JdojZF6TosIYSokNKupbFmwBqyU7Pp8UsPnAc4P1LGdbArIFNYClFexPv/s57cMyTlAJo/1xyA0CWhzxxTYQTPDSZ2Zyw1WtWg0yedyuSYQggBD4+WO/7DcV2HA4AmT8OmMZtIOps/Wq3L511K/BgKhQLvz73p9l03MlMyWdFzBYc+PoT/Z/6YVDdh2Pph6JvoF7neWm1q4TzAmZvhNzm/+nyJxy2EEKJ0vP3228ybNw9PT0+GDRvGmDFjHkrCbd++nTZt2ugwwodJUk4IUaGZOZjh85UPeVl5+L3mV2Hnfs9Oy2bjqI35ax7ZGNP9x+4ABM8L1nFkQghR8WSnZrNmwBrSrqbR7o12tJrRqsBydbvUxcjaiJjtMZVuGmQhKqLL/pcBqNvp2ZJytdrWwtbFlji/ONKupZVEaI+VdC6JA+8cwMDMgIFLB6LSV5Xq8YQQ4v+7P1ruzN9ndD5aTqvVsvuV3cT5xVHbqzb9/+6PQll662u2fb0tff/qS15mHse+PYZSX8nQNUOxrGtZ7Dq7fNYFFOD/ub+cHwohRAXRoUMHDhw4wPTp0/njjz+YNWvWQ9ubNm3K5MmTdRTdoyQpJ4So8DynelKrbS3i/OKIWB+h63CKLCUmhSUdlxC1KQp7D3smB06mzSttqNWuFlePXiXpbJKuQxRCiApDnatm46iNJIUl4TbCDZ+vfR5bVqWvwnmAM1l3srh86HIZRimE+P9yMnK4HnQdG2cbzBzMnqkuhUKBx2QPtBothz85XEIRPio3M5ct47eQl5VHr1m9HqxZKYQQZUnfWJ/2/ysfo+UCfwrkzIIz2DjZMGz9MPSM9Er9mM0nNWfwqsFYOVrRd25f6nSo80z1VXOvRtOxTblz8Q5nFp4pmSCFEEKUOldXV1544QWGDBmCUvlv2is7O5v09HTGjx+vw+geJkk5IUSFp1Aq8P3DF4VKwd7/7SXrbpauQyq02J2xLPJaxK2IWzQZ24QJhydgWS//qb6W0/MXJA3+q+RHy0VujOTGmRslXq8QQuiSVqtl5ws7ubjvInU61aHf3/2e+nS2TGEpRPlwLfAamjzNM09deV+LF1pg08iGs0vPErOjdNaWO/j+QW6G38RthBtNxjUplWMIIURheE7zxNRet6Plzq87z8H3D2Jsa8yIrSMwsTMps2O7DnZlZtRMmo5vWiL1dfq4E0p9JQFfB5CTkVMidQohhCg92dnZfPbZZ/j4+NCzZ0927NgBwIoVK/Dw8ODPP/9kxowZOo7yX5KUE0JUCvbN7WnzShsyEjM4/HHpPRFdUrQaLQFfBbB28Fpy0nPo8XMP+i/sj77xv/Peuw51xdjOmHMrzpGdml1ix7528hobR21kw6gNaDUVc7pPIYQoyJEvjhC2LAxbV9v8p7MNn/50dv1u9TG0MCRqaxSaPE0ZRCmEKMj99eTqdapXIvXpG+vTf2H+tGk7Z+wkMyWzROq9L2ZHDEGzg7CsZ5n/cJii9KZnE0KIp9E30e3acleOXWHb5G2oDFUM3zi8wo8ctqpvhec0TzISMwiaHaTrcIQQQjzF119/zcKFC6lbty5Xrlxh0qRJvPbaa8yZM4cvv/ySs2fP8tprr+k6zAckKSeEqDQ6fdQJizoWBM8NJuFUgq7Deazs1Gw2DN+Qvwi1nQlj/MbQ+qXWj9zM0TPSw2OSB7kZuYStCCux4wd8GQDAnbg7xO2NK7F6hRBCl0IXhxLwZQCmDqaM2jYKY2vjQu2nZ6iHU18nMm9lEn8kvpSjFEI8zv32V1Ij5SB/bbl2b7QjIzGDPa/tKbF6U2JT2PbcNhQqBQOWDMDIyqjE6hZCiOLS1Wi5lJgU1g9djzpbzYBFA6jdvnaZHbs0dXivA/om+gT+GEjm7ZJ9sEMIIUTJ2rJlC3/++SdLlixhw4YNqNVq8vLyCAgIYOjQoahU5WvdZ0nKCSEqDQMzA3r+2hO0sGvmrnI54uFW5C0Wd1hM9LZoarSqweTAydTr/Pgnwj2neYICQuaGoNU++6i2hFMJXNh9AWO7/JvVIXNDnrlOIYQobXlZedy5dIergVeJ2hxF8Lxg/D/zZ+eMnawbvI5FXovYOWMn+qb6jNwy8sE0wIX1YArLTTKFpRC6kJuZS8LJBKydrDGvZV6idXf6uBN2je0IXx1eIm08Oy2b9cPWk3Uni27fdaOO17OtXSSEECVFF6Pl7t26x5qBa8hMzqTrN11pPKxxmRy3LJjZm9H65dZk3cnixM8ndB2OEEKIJ0hISMDDwwMANzc3DA0NmTFjRrmdzaL0V1wVQogy5NzfGecBzkRvjSZodhBtXm2j65AeiN4azdbntpKTlkOzic3w/d33qQtfWzla4dTbididscQfiX9iAq8wAr7KHyXXZ04fDn54kJidMdy5dAer+lbPVK8QldGlg5c4u/Qs3p97Y1HHQtfhVCl34++y9/W9JEcnk56YTvbdp0/ha17LnL7z+uLg6VDk4zXo1QB9U32iNkfR69deT12HTghRsq6duIY6R03dTiU3Su4+PSM9+i/qz+IOi9n90m7qdKyDaTXTYtWl1WrZPmU7t87fosmYJrR+uXUJRyuEEM/Gc5onx388zpm/z+D1ttdTH3TQarUknU0ibk8ccXvjSL2VSrhjOOa1zDGvmf/PrIZZ/teaZhhZGT24wZmXlcf6Yeu5HXsbz+c9aftG27J4i2Wq3f/aEfJXCKd+P0WrF1th5mCm65CEEEIUQK1WY2Bg8OD/enp6mJmV3z5bknJCiEqn5y89uXTgEoc/PYzrEFed3kzXarRcPX6Vs0vPErooFKWekl6/96LF8y0K/bRGi+ktiN0ZS/Cfwc+UlLsefJ3YnbFUb1Yd54HOpF5NZe8bezmz4AzeX3oXu14hKqPMlEw2j9vMvZv3uHTwEiM3j8Tew17XYVUJmjwNW8Zv4erxq6gMVJg6mGLrbIuZgxmmDqb/frU3w6yGGab2ppjamxZq/bjH0TfWp6FvQyI3RHL1+FXqdJCRL0KUpfvryZVGUg6gRosaeL3jxdGvj+L3sh+DVw0u1lOzx749RtTmKBw8Hej9Z+9y++StEKLquj9abt9b+zj2wzF6/drrkTKZKZlc3HfxQSIu/Xr6Q9tvn7v92Pr1jPQwq5mfpMvNyCXxdCINfRvmP9RUCftEIysj2r/ZnoMfHOTot0cL/HkKIYTQPa1Wy8yZMzE0NAQgKyuLN954AxMTk4fKLVu2TBfhPUKSckKISseijgWdP+nMvrf2se+tfQxZPaRMj6/VakkKTSJ8TTjn154n9Ur+fP5mNcwYvHJwkW/2NujZACtHK6K3RJOWkIZ5zeJN63R/LbmOH3REoVDQdFxTDn14iDOLztDxo47PdENbiMrm4PsHuXfzHg6eDiSeTmRZ12UMXjWYhr0a6jq0Su/oN0e5evwqjj0cGbVtVJmNWnMd7ErkhkgiN0VKUk6IMlYa68n9fx3f70jM9hgiN0YSsS4CtxFuRdo/dmcshz89jLGdMUPXDUXfWL+UIhVCiGfzYLTcgjN4veWFqYMpiSGJXPC7QNyeOBJOJqDV5C+NYGBmgHN/Zxr0akC9bvVISE2gpnlN7t24R1pCGukJ6aRd/+drwr9f78TdAcDB04FBKwah1Ku8q+O0erEVJ38/yen5p7FpZEOz8c0wtDDUdVhCCCH+Y/To0Q/9f8SIETqKpHDkDqwQolJq9WIrzi49S+TGSC74XSiTG+kpsSmcX3Oe8DXhJEcmA6AyVOEy2AX3ke407N2wWDdwlColntM8Ofj+Qc4sPEOnDzsVuY7E04nE7IihWpNquAx0AfKf+nMf7c6Zv88QtTEK99HuRa5XiMooPiCeMwvPYNXAivGHxhO+KpxdL+5i7aC1+P7hi+cUT12HWGldPX6VgK8CMLYzpv+C/mU6jWTD3g3RM9IjalMU3X/oXimf9haiPMrLziPhRAJWjlZY1i3aepBFoTJQ0f/v/izyWoTfK37U7Vy30NOQpcSksGXiFhRKBUNWDSnVOIUQ4ln9d7Tcqr6ryLiRQWZy5oPt1ZtWp0HPBjTo1YA6XnVQGaiA/Km/bkTdwMrRClsn28fWr9VqyU7NJuNGBtYNrVGqKm9CDvJ/nt2/686WSVvY+/peDn90mCZjm9DyhZZUc6+m6/AK5fza82SmZOI51bNSJ1CFEFXX7NmzdR1CkUhPLISolO5PEwmw57U95GXllcpx0q+nc/K3kyzyWsRct7n4f+ZPSnQKjj0c6begH69efZWha4biOsT1mZ6obj6pOSpDFacXnEadqy7y/g+NkvvPTe6W01sCEDwvuNixCVGZqHPU7Jq5CwDf333RN9bHY7IHI7eMRN9Yn10zdnHow0MPni4WJSfrbhZbJm5Bq9HSb34/zGqU7fzvhuaGNOjRgNQrqVwPul6mxxaPdyviFhuGbSBqfhRp19J0HY4oBQmnEsjLyiu1qSv/y765PR0/6EhmSia7Zu5Cq316X56dls36YevJvptN9x+6U6/Ls63vK4QQZcFzmidmNcy4df4WWrUW16Gu9P2rLy9ffJmpwVPp+k1X6nvXf5CQKwqFQoGRpRG2zraVPiF3n/tod2ZGzqTd/9qhMlQRMi+E+Z7zWd5jOREbIop1jV5WIjdGsnncZvxe8WOp91KSo5J1HZIQQlR5MlJOCFFp1fGqQ/NJzQldHMrxH47T6aOijzB7nKvHrxLwbgC3Tt2Cf+7n1GpXC/dR7rgOdcXMvmRvJpvYmdB4WGPOrThHzPYYXAe7FnrfG2duEL0tGjs3u0f2s/ewp3b72lw9dpUboTewby5rZomqLfCnQJIjk3Ef5U6DHg0evN6gZwPGHxzP2kFrOfb9Me5cvkO/Bf1k2tcStOfVPdy9dJcWL7SgUd9GOonBZbAL0duiidwYSc3WNXUSg/jXrchbrOi5gowbGQBE/hlJQ9+GNH+uOU59nFDpF/1Goig9adfSWNFjBTbONnT9pit2je0Ktd+D9eRKcerK/2r/Vnuit0YTsz2GcyvO0XRc08eW1Wq0bJu8jVsRt2g6rimtXmxVJjEKIcSz0jfRZ6L/RNIT06nRsoaMjioBVo5WdP2mK50+7kTEugiC/wwm/nA88YfjMatpRotpLfCY4lHoUdhlIfF0Itsmb0NloKJW+1rEH47n7zZ/4/OVD61mtirTWSmEEEL8Sz6VhRCVms/XPhjbGHPs+2OkxKaUSJ23L9xm/eD13Dp5i2ru1fD+wpuZUTOZ6D+RVjNblXhC7r6WL+SPaguZF1Kk/QK+/meU3PsdCzzpbjG9BSCj5YRIiU0h4OsAjKyM6PZDt0e22ze3Z+KRiVRvWp3za86zqs8qMlMyC6hJFFX4qnDOrTyHXWM7un336M++rDTq1wilvpKozVGFGkEjSk9ydDIre60k40YG7d9uj/tr7lg3tCZ2Zywbhm/gjwZ/cOC9AyRHy9Pe5cXe/+0lJTaF2J2xzG8xnz2v7ylUH/kgKVcGI+UAVPr501iqDFTseX3PE0dgHv32KNFbonFo4YDvbF+Z1lYIUaFY1rOkVttakpArYfrG+jSb0Iznjj/HpKOTaDquKZnJmfh/5s8fDf9g87jNXDl2RefnkumJ6awbuo7ce7n0ntObsXvG0mduH5QqJXvf2MtK35XcvXxXpzEKIURVJZ/MQohKzcTOBO+vvFFnq9nz2p5nPjHOzcxlw8gNZN/Npsn/mjD51GS83vHCytGqZAJ+gpptamLvYc+lA5e4FXmrUPsknU0ianMUtq62uA4teHSd61BXjO2MCV8ZTtbdrJIMWYgKQ6vVsvvl3aiz1fh84/PY5LpFbQvGHxyPY3dHrhy5wpLOS7gdd7uMo61c7ly8w+6Xd6MyUDFw6cBnmur3WRlZGeHYzZHbF26TFJqksziqupTYFFb0XEH69XQ6ftCRzp91ptGkRkwNncr4g+NpOr4p2anZBP4UyLwm81jWdRlhy8LIvZer69CrrAt+F4jcGEk192r0W9AP0+qmBM0O4s/Gf3Jq9qnHTuulzlFz9fhVLOpYYFm/7NZpq+Zejc6fdCb7bjY7XthR4PlhzI4Y/D/zx6SaCcPWDdNp3ySEEKJ8qtm6Jv0X9ueluJfw/tIbsxpmnF97nmXey1jUfhG3L+jmOiEvK4/1w9aTdjWNdm+0o9mEZigUCjwmezA1eCp1O9fl8qHLzG8xnzOLzug8gSiEEFWNJOWEEJWex3Me1GxTk7g9cURtiip2PVqtFr+X/Ug6m4TrUFcajmtYglE+nUKheDBa7vT804Xa57+j5B4337+eoR4ez3mQey+XsOVhJROsEBVM+KpwLu2/RG2v2ng85/HEsoYWhozYMoLmk5qTEp3Cks5LSDiVUDaBVjKaPA1bn9tKdmo2Pl/5lIspdF0GuwAQuSlSx5FUTbfjbucn5BLS8XrHi04f/zv1tEKhoE6HOvT/uz+vxL+C72xfarSswZWAK2ybso3f6v7Grpd2kXg6UYfvoOrJzczF71U/AHxn+9JsQjNeCH+BDu91IC8zj72v72VBiwVc2H3hkX2vB18nLzN/PbmyHoXW9o221Gpbizi/OEIXhz60LTkqma0Tt6JUKRm8ajAWdSzKNDYhhBAVi2k1U7ze9mJm1EyGbRhG/a71SQxJZFnXZdwMv1mmsWi1WnZM30HCyQSc+jjh/ZX3Q9utHK0Yu2cs3X/sjiZXw87pO1k3eB3p19PLNE4hhKjKJCknhKj0FEoFvr/7olAq2Pu/veSk5xSrnjMLz3B26VlsXWzx/VM3Uxi5jXTD0NKQs0vPkpPx5PeRdC6JyI2R2LrY0nh44yeW9ZzmCQoImRsiT8mJKiczJZN9b+1Dqaek9+zehVpbQaWvos+8PnT+tDP3ku6xvPtyordGl0G0lcvRb49y9dhVHHs40vrl1roOBwDn/s4oVAoiN0pSrqzduXSHFT1X5D/V/b92dPm8y2M/a40sjWgxrQXPHX+OqUFTafVSKxQqBaf/Os3CtguJWB9RxtFXXce+O8aduDs0n9ScOl51ADAwM6DLZ12YHjYdtxFuJEcls2bAGlb3X83N8//enHwwdWWXspm68r+UKmX+2qBGeux7c9+DKbyyU7NZP2w92anZdPuhG/U61yvz2IQQQlRMSpUS5/7OjN41mg7vdyD9ejrLuy0nIajsHuA7/sNxwleFY+dmx8ClAwt8OFehVNDmlTZMPjmZGq1q5E897Tmf8+vOl1mcQghRlUlSTghRJTh4OtByRkvSrqUR8GVAkfe/HnydPa/uQd9Un6Frh2JoblgKUT6dgakBzSY0I/tuNufXPPmE+ejXRwHo8F6Hx46Su8+qvhVOvZ1Ijkrm8uHLJRavEBXBgfcOcO/mPdr9rx3V3KsVej+FQkHH9zsyYNEANHka1g9fT9CcoFKMtHK5GniVgK8CMLYzpv+C/uVmoXkTOxPqdalHclTyQ8kDUbruxt9lRc8VpMan0vb1tvh87VPoh1+qN6tOz5978srlV+j/d39QwKGPD6HJ05Ry1CI5OpnAHwMxtjHG52ufR7Zb1rNk0PJBjD80nhotaxDnF8eClgvY8/oe7iXfI/5I2a4n9//Zutji/YU3OWk57Ji+A41aw7bntpEclUzT8U1pNbOVTuISQghRsSkUCrp82oVu33UjMyWTlT1Xlsl1dvTWaA59dAhjO2NGbBqBocWT71vYudox0X8inT/tTHZqNpvHbmbT2E3cS75X6rEKIURVJkk5IUSV0fnTzpjam3Lyt5MknSv8WkH3ku+xcdRG1Dlq+s7ri11ju1KM8ulaPN8CgOA/gx87qu3m+ZtEbIjAppENbiPdClXv/akxQ+aGlEygQlQA8UfiCV0UilUDKzq836FYdTQZ24TRO0djZGnEntf2FHrNx6osOzWbrRO3olVr6Te/H2Y1Cl7DT1fuT2H5LFMei8JLvZLKip4ruHvpLq1fbk3Xb7sWazS6npEeTcc3xW24G7djb3Nu5blSiFbcp9Vq8XvFD3VO/lqcJnYmjy1bx6sOk45Oov/f/R+sNzfXbS7x/vGY1TTDuqF1GUb+sNYvt6ZOxzpcOnCJ5d2WE70tmhqtauSPnNbBrAhCCCEqj7avt6XP3D7kZOSwpv8aYnfGltqxboTeYMvELSj1lAxdM7TQ694r9ZR0fL8jk45Oopp7NSLWRTDfcz4X910stViFEKKqk6ScEKLKMLI0ovv33dHkafB7xa9Q0zRqNVq2TtrK3cv5NwrdRhQuwVWabF1sqd+1PjdCb5BwsuBpMI5+fRS0hRsld1+Dng2wcrQiaksUaQlpJRmyKAaNWkP8kXj2vrmXwJ8DdR1OpZSXnceumbsA8P3dF31j/WLXVa9LPbp80QWAiHUybd7T+L3qx52Ld2jxQgsa9W2k63Ae4TLQBRTIFJZlIO1aGit6reBO3B1azmxJ9x+7P3MipOOHHVEoFRz95qiMlitF59ec59KBS9RuX5vmE5s/tbxCqaDp+KYPrTeXl6Wb9eT+f1z95vdD30Sfq8euYlLdhKFrh6JnpKezmIQQQlQeHpM9GLR8UP7MGsPWE74mvMSPkZGUwbqh68jNyMX3D99ijUB38HTgucDnaP9me+4l3WP9sPWkxKSUeKxCt25F3uJG6A1dhyFElSdJOSFEleI2yo163vW4EnCFc8uf/gR9wNcBxPnFUbt9bbp+07UMIiycFtP/GS03N/iRbbcibnF+3XmsnaxxH+Ve6DoVSgUtnm+BVq3lzN9nSipUUQSaPA2XDl5i98u7+b3+7yzvtpxTv53iwLsHiNggiZ6SFvhTIMlRybiPcqdBjwbPXJ/rYFcUSgXn152XtRmfIHx1OOdWnMPW1ZZu33bTdTgFMnMwo06HOiSFJZESKzcjSkv69XRW9FzB7djbtJjegp6/9CyR5Iydqx1uI924feE2YSvCSiBS8f9l3c1i39v7UKj+Xbe3sP673lynjzrR5dMupRhp4Vg3tMb3D1+sG1ozZPUQLGpb6DokIYQQlYjbcDeGbRiGUk/JlglbOL3gdInVnZedx4YRG0iNT6XNq23weM6j2HXpGerh87UPPWf1JPdeLlsnbUWdqy6xWIVuJZ5OZFG7RSxqv4ioLTIjiBC6JEk5IUSVolAo6DWrF0p9Jfvf3U/m7czHlr3gd4EjXxzBpLoJg1cORmWgKsNIn8y5vzNmNc2IWBfBvVsPz/d+9Jt/Rsm92wGlXtG6+WaTmqEyVHF6wWk5+S4j6lw1cXvj2DljJ7PqzmJlr5WEzAshJz2HxsMa0+PnHij1lOx+cTfp19N1HW6lkRKTwtFvjmJkZUS3H0omMWRa3ZR63vVIjkzmZrisRVaQO5fusPul3agMVAxaNgh9k+KPTixtMoVl6UpPzE/IpcSk4DHFg16zepXoaKmOH/wzWu7ro/J5VgoOf3KYjMQM2rzShurNqherDst6lnT6qJNOp678r6bjmjIjYgZ1O+pmfTshhBCVm1NvJ0btGIWBmQG7Zu4i8Kdnnw1Fq9Wya+Yurh67SoNeDej6bck8SNzi+RY49XEi4VTCg7XqRcWWlpDGuiHryL2XC8CmMZuI2R6j46iEqLokKSeEqHLsGtvR7vV23Lt5j8MfHy6wzN3Ld9k6cSsKhYJBywdhXsu8jKN8MqWeEs+pnqhz1IQuDn3wenJUMufXnseqgRVNxjQpcr0mtia4jXAj/Xo60VujSzJk8R/qHDWxu2LZPm07s2rPYnXf1Zz5+wzqbDXuo90ZunYor117jcErB9P6pdZ0+qgTmSmZbH9+u4zAKgFarZbdL+9GnZ2/DpKZfcmtZ9Z4eGNAprAsiCZPw9ZJW8lOzcbnKx/sm9vrOqQnch3kCsgUlqUhIymDlb1WkhyVTPNJzfPX7irCSKvCsHW2xX20O3cu3iFsmYyWK0nXQ64TMjcE89rmdPqok67DEUIIISqMup3qMnbvWIxtjTnw3gEOfXzoma7vTvxygrBlYdi62jJo+aBCL13xNAqFgj7z+mBSzYSj3x7lauDVEqlX6EbuvVzWD11P2rU02v2vHUPXDQVgw8gNpbrOoRBP8ssvv2Btbc1777334LWsrCzefPNNGjRoQO3atZkwYQJJSUk6jLL0SFJOCFEleb3nhUVdC0L+CiEh6OF12fKy89g4aiOZKZl4f+FNfe/6ugnyKTyneKLUU3J6/mk06vw1c45+exStRlusUXL3tXyhJQAh80JKLFaRLy8rjwPvHeDXWr+yduBazi45C1poOr4pwzcN57VrrzFwyUBcBrk8NIKo/VvtqdW2FnF+cYT8Jb+XZ3V+9T/rIHnVfqbpXQriMsgFhUpBxLoISaD+P8e+O8bVY1dx7OFI65db6zqcp7KoY0HNNjW5Hnydu5fv6jqcSiMzJZOVvVZyK+IWTcc3pc/cPiWekLuv4/sdUajy15ZT58houZKgUWvY/dJutBotPX7qgYGZga5DEkIIISqUGi1qMG7/OMxqmnHs22PseX0PWk3RrxtidsRw4L0DGNsYM2LTCIwsjUo0TjN7M/rO64tWrWXbc9vITssu0fpF2dBqtGybvI3rwddxHuCMz1c+NOrbiCGrhoAWNozYwIXdF3QdpqhiQkJCWLx4Me7uDy+58/7777N7924WL17M9u3bSUxMZPz48TqKsnRJUk4IUSUZmBrQ8+eeoAW/l/0eJLUA9r6x98EJS7s32+kwyiczq2GGyyAX7ly8Q9yeOFJiUghfFY6VoxVNxhZ9lNx9NVrVwKGFA5cPXeZWxK0SjLhquxF6g4XtFhL4UyAKpYLmzzVn5LaRvHr1Vfr/3Z9GfRuhZ6RX4L5KPSX9F/VH30SfA+8cIDk6uYyjrzxy7uSw/+39KPWUpTI6x8TWBMdujqTEppAUWjmf6CqOxNOJHPnyCMZ2xvRf0L/UkjAlzXVw/mi5qM0yhWVJyM3MZd2QddwMv4n7aHf6/tW3VP8WbBrZ0HRsU+5evsvZpWdL7ThVyekFp7kedJ2GvRviMshF1+EIIYQQFVI1t2pMODgBqwZWBM8JZtuUbWjyNI8tn5edR8bNDG7H3ebGmRvEbI9hy/gtKFVKhqwZUmpTQTfq1wiPqR7cvnCbfW/uK5VjiNJ1+NPDRG6MxN7DngFLBjw493Ye4MzglYPRarSsH76euD1xOo5UVBXp6ek8//zzzJo1Cysrqwev3717l+XLl/PVV1/RuXNnPDw8+OOPPzh58iSnTp3SXcClpOC7f4+hVqtLdK0HkU+tVj/0VQhRNhr0aUDDPg25sPMCIX+F4Pm8J2HLwzg9/zTWDa3p81cfNJqCT4zLS7v1eN6DiPURBM8NxtjWGK1GS7u32oHy2WLzfN6TXS/sInhuMN1/7l6CEVc9GrWGU7+ewv8zfzS5GtxGutHjlx4YWf/7JGNhfleWjpZ0/b4rfi/5sXXSVsYdHFfs0ZBVlVqtJnxWOJm3Mmn/dntsXG1KpQ27DHUhbk8c4WvDsWtqV+L1VzRarRa/1/zQqrX0/LUnxtWNdd53FlajgY048N4BIjZE0PKllroOp0LTqDVsmbAlf7RkT0d6z+uNFm2h/hae5TO33TvtCFsRxtFvjuI2xg09wyJd/oj/yLiRwaEPD6FnpEf3n7o/9hxJCCg/58pCiMKTdlu2zOuaM2bvGNb2X8u5FedIjkrGpJoJ2anZ5KTnkJOaQ3ZaNjmpOY8d8d/rj17U7li7VH9nPt/6cPnQZUIXhdLAtwHOA5xL7Vii6J7Ubs+tPMexb49h5mDGkHVDUBmpHirn1N+JAUsHsGX8FtYPW8/QDUOp37V+WYUuKoH7swOlpqY+lDMyNDTE0NCwwH3eeustevbsibe3Nz/++OOD10NDQ8nNzcXb2/vBa87OztSuXZtTp07RunX5n22nKIp0VRoTEyNTMZWi2FiZx1eIstbgxQZc3H+RAx8cIN0gncDXAlEZqfD4xoNLiZcg8cn767rdaqtpMW9gzoXdF1AoFRjXMMagtQFRUc82qkPVXIW+uT6hy0KpMb4GeiZyE7M47iXcI/ijYJKDk9E316fFFy2o7Vuby0mXoRiDqIw6GGHfyZ7rR66z7e1tuE53LfmgK6ns29nEb4nn8qbLmNQ2wW6I3TO3k8dRNFag0FNwdtVZ7MfaV/kHmq7uvsq149ewa20H7pTaz720WLpaci3wGmf8z2Bsb6zrcCokrVZL2PdhxG2Jw7KxJe6fuhMbV/TPz+J+5tbpX4f4zfHs+34fjiMci1WHgKAPgsi+m03jFxtzI+cGN6Ju6DokUQHo+lxZCFF00m7LVps5bTj+0nGuB13/90UF6JnqoW+qj0ltE/TM8r/XM9V78M+mqQ3GHY3L5Ny62SfN8J/kz47pO8i0ycSoWslOlSme3f9vt8mnkzn6wlFURipa/tSS6xnXuR51/dEd3aDV160Iej+IdUPW0f739lRrU62MohYVnUKhoF69ejRp0oT09PQHr7/zzju8++67j5TfsGEDoaGhHDhw4JFtN27cwMDAAEtLy4der169OjduVL7rjiLdZW3UqFGVv7FUGtRqNbGxsTg5OaFSqXQdjhBViwtkvZfFkU+PcGzGMQD6/t2XJv2fPP1jeWq3916+x97X96JVa+n8QWcaN2lcIvUmTkok6PcgckNycZ/i/vQdyqm0hDTOLT+Hy2AXbBrZlMkxtVot4avCOfT6IXJSc6jnXY8+f/XBoo7FM9dde2ltFrZaSNRfUbQZ04YarWqUQMSVkzpXTZxfHOeWnSN2VyyaXA0KPQV9/+xLg+YNSvXYUT2iuLDrApYZltRoWXV/RzkZOez/fT8KpYL+s/tT3bW6rkMqsuRRyRz59AjqcDUunWW6vuI4+etJ4lbFYVnPknE7x2HmYFak/Z/1M9f+G3vmb59P3JI4ur/dXUbLFcPlw5e5uuMqNs429Pmqj/wMxVOVp3NlIUThSLvVHfdAd+5cvIO+iT4G5gYYmBqUr+neXUAdoybg8wCifohi+Obhcn+4nCio3d65eAe/t/zQ5GoYtGQQLoOffA3j4uKCg4MD25/bzolXTzB883Dqdq5bFuGLCk6r1ZKTk8O5c+ceGSn3/129epX33nuPjRs3YmQkif0iXU2pVCrpdEuRSqWSEx8hdKD9/9oTviKclJgUPJ/3pPn45oXetzy022bjm+H/qT9G1kZ4TPIosXhaTm9J0O9BnJ53mhbTWlTY/n/vq3uJ2R6D/6f+uA52pf1b7Us1SZKZksmuF3cRuSESlaGK7j90p/XLrUvsosqyliW95/Rm48iNbJ+ynSknp6Bvol8idVcWSWeTOLvsLOdWnuPezXsAWNa3pMnYJpi0N6FBtwal3m7dhrtxYdcFojZGUbtN7VI9Vnl26pdTpF1Lo8ULLajhUTGTk25D3Tjy6RGit0TT5qU2ug6nwglfE87B9w5ibGPMqO2jsKxl+fSdHqO4n7m2DW1pNqEZZxaeIWxJGK1mtCp2DFWROkfN3lf3AuD7uy+GJgVPRSNEQcrDubIQomik3ZY9lUpFNZfyPTqp47sdueh3kYt7LnJm/hk5nypn7rfbrLtZrB+ynsxbmXh/4Y3bMLdC7d90dFOUKNn63FbWD17PyG0jqdtJEnPiye7PqGhhYfHUe4ahoaHcvHnzoekp1Wo1x44dY/78+WzYsIGcnBzu3r370Gi5pKQk7O3tSyV+XZJHHIUQVZ6eoR7DNw4ndlcsLWdUvDWDDC0MmRw4GT0jPVQGJXfxZOtsi2N3Ry7uu8i1wGvUbl/xEgs3QvMXwbasb4lKT0XkxkgiN0ZSv1t92r/Vnvo+9Us02Xhx30W2Td1GekI61ZtWZ8CSAVRvUvIjg1wHu9J0fFPCloVx4P0D9Pq1V4kfo6K5d+se4avDObv0LDfO5E9toG+qT9PxTWk2oRl1O9VFo9WU2dSJzgOcURmqiFgfQddvulbYpPazuHv5LoE/BWJkbUTnTzrrOpxis3Wxxc7NjitHrrC8x3JMq5ti5mCGaXVTTB1MMbM3w9TeFFN7U0yqmaDSf7gf1mq1ZN3JIuNGBhk3MkhPTCcjKYOMxPz/ZyTlvwb5/a6tq23+MV3tsGlkg55RxT1dv+x/me1TtqNnpMewjcOwdbHVWSxe73pxdtlZjn13DI/nPCr0z7WsBf4cSHJUMu6j3KnvU1/X4QghhBBCB5R6SgYsHsCCVgs48M4B6nvXx66xrJ9dnmjyNGweu5nkyGSajmtK+7fbF2l/99HuaDVatk7eypoBaxi1fRR1OtQppWhFVdO5c2eOHj360GsvvfQSjRo14tVXX6VWrVro6+tz+PBhBgwYAOQvpXb16tVKt54cSFJOCCGA/JuuurxZ+KysG1qXSr0tprfg4r6LBP8ZXCGTcke/yf/A9/nSB9ehrkRtjuL4D8e5tP8Sl/ZfokarGrR/qz0uA12eaSRbbmYuBz84SNAfQaCAdm+0o/NnnUt1eq8eP/cg3j+e4DnBNOrbiAY9Snc6xvJIq9ESuzOW0CWhxO7Mn54SoG6XujQb3wzXIa4YmBn8u0MZrllvaGFIw54Nid4WTcLJBGq1rVV2By8n9r+zn7ysPLp+2xUTWxNdh/NM2rzSBr9X/Yg/HP/UssZ2xpjZm6FnpEfGzfzkmzrnKX98/3Q/9xPKD15WKrBytMr/jPonWXc/YWdsU77Xt7sZfpMNwzagzlUzZPUQ6njp9oLeqr4VzSc15/T805xecJrWLxXvwi73Xi7JUcnYe1SN9SLvXLzD0a+PYmhpSLfvu+k6HCGEEELokHVDa3r+0pMdz+9g66StTDwysUQfDBbPZu+be4nbE0ftDrXp/WfvYp2rNhnbBI1aw/Zp21nTfw2jdoyqkPeCRPljbm6Om9vDIzdNTEywsbF58Pq4ceP44IMPsLa2xtzcnLfffpvWrVtLUk4IIUTV0qhvIyzqWBCxIYLuP3bHtLqprkMqtJvnbxK5KRIbZxtch7qiVClpPLQxrkNcuXTgUn5y7sAlNo7ciI2zDe3fbE+TMU0KdVGhzlWTeiWVu5fvcufiHU78eoLkyGQs6lrQf2F/6nWuV+rvz8jSiH5/92NFjxVsn7adaSHTyv1N+pKkzlWzfcp2wleHA/nTUzYb34ym45pi5Wil2+D+0Xh4Y6K3RXN+3fkql5S7fPgykRsjsXOzo8XzLXQdzjPzmOxB8+ea5494S/x3dFtBI94ykjK4FXkLrVqLkZURVo5WD0bSmTn8O6ru/gg7MwczTKqZoMnTkBKTwq3IWyRHJZMcmZz/NTqZ2xduE7vz4cXbVYYqlColSj0lCpUChUqBUk/50GtKlfLB624j3Ojwbocy+XmlXUtjzYA1ZN3JoscvPXAd7Fomx30ar3e8CF0cyrHvj+ExxQN946JN/Zt4OpHNYzeTEpuCrastLWe0pOnYphhaVM7pHNMS0tg5Y2d+cv27rkVeC1AIIYQQlU+zic2I2RFD9JZojnx+BO8vvXUdkgCC/wwmeE4wVg2sGLZu2DM9INxsQjO0Gi07nt/B6n6rGb1zdJW7nhW68fXXX6NUKpkwYQI5OTl07dqVH3/8UddhlQqF9v7kn0+g1WpJTU3F2Ni4SjwRWtbUajVRUVG4uLjIvN1CVBBVqd0e/eYohz85jMdUD3r+0rNUR3+VpC0TtxC+Kpz+f/en6fimBZZJOJXA8R+OE7UlCrRgXsuctq+1pemEpmTfyebOpTv5ibd/vt7/l3YtDa3m4Y/PJmOb0PPXnhhZlu2Ctfvf3c+Jn0/QeHhjBq8YXKbH1pXczFw2jd5E7M5YqjWpRs9fe1K3Y92njnYs63abk57DrzV/xdjWmJcuvFS+FmsvRZo8DQvbLiQpLInRu0fj2NVR1yGVOa1GizpXXSL9pVaj5W783QeJultRt0iOTObezXto1Vo0Gg2aPE3+9+r/fP+fr+pcNWhhyJohpZ4gy07NZpnPMpLCkmj7Rlu6ffvso6tKsu3ufnk3IfNC6P5jd9q8Urg1ArVaLaf+OMXB9w6izlHj4OlA4plE0IKBmQFNxzel5QstK8UUTlqtlisBVwj+M5iozVFo8jTUbF2TCf4TUKqUug5PVCBV6VxZiMpC2q0orHu37jG/xXwybmQwbv846naUtcd0Ra1W47/Qn8CXAzEwN2Ci/8QSOyc9s/AMO1/YiUk1E6YGT5UHtMQjtFotmZmZhVpTTjxMknLlgJz4CFHxVKV2m5GUwXzP+dy7eQ9bF1t8//ClXpfSHwn2LFJiUpjXdB6W9S154dwLKPWefCPxVuQtTvx8grAVYQ+mQHwcQ0tDrOpbYVnPEsv6lljWs8TB00FnFyJ52Xksar+Im+duMnDpQNxHueskjrKSdTeLdUPWceXIFWq1q8WILSMwti7cCEFdtNsNIzcQtSmK8QfHV5n5+EP+CmH3S7txHujMsHXDdB2OABKCEljSaQlG1kZMOz0NM/vSuaBW56hZM3ANl/Zfwm2EGwOXDiyRZHRJtt3Uq6n86fonRtZGzIyaib7Jk0fL3bt1jx3TdhCzIwYDcwN6z+mN+0h37ly8Q8hfIYQuCiUzJROAej71aDWjFY36NXrq5055k5Oew7lV5wj+M5ib524C+SOQWzzfAs9pnmX+wImo+KrSubIQlYW0W1EUF/wusKb/GizrWTIlaIqcK+hIYlgiS7ssRZ2pZuTWkSW+rIX/5/4EfBlAg54NGLl1ZJV50FQUjiTliq9iDHcQQgihM6bVTZkaMpX9b+8nfFU4K3qsoOm4pnT9tmu5nc7y2PfH0Gq0eL3tVagbo3audvT9qy+dPu7EyVknuRJwBbMaZlg5/pN8q2eJVT0rLOtbYmRVvi429Az1GLh4IIu8FuH3ih91OtbBoraFrsMqFRk3M1jTbw2JpxNx7OHI0LVDMTA1ePqOOuQ23I2oTVGcX3e+SiTlMm9ncviTw6gMVXT7TtafKi9qtqpJh/c6EPBlALtm7GLYhmElftGk1WrZMX0Hl/Zfom7nuvT7u1+5vGi3qG2Bx1QPgucEE/JXCG1fa/vYspcPX2bLxC2kJ6RTs3VNBi4biHWD/DVcrRyt6PpNVzp93Inza88TPCeYywcvc/ngZSzqWOA5zROPyR7l9nPyvuSoZILnBRO2NIzs1GwAGvRsQMsXWtKwd0MZHSeEEEKIAjXs1ZCWM1sSPCeYva/vpf/C/roOqcrR5GnYOn4reel59JzVs1TWme/4fkcuHbhE3J44Tv1xqtAzTQghnkxGypUD8jSSEBVPVW23Fw9cxO9lP1JiUjCyNsLnKx88JnuUqxuvdy7dYa7bXMxqmjHj/Iwqs/D08R+Pc/D9g9TvWp/RO0eXq99JSbgbf5dVfVaREp2C61BXBiweUOSpAXXRbnPv5fJrzV8xsDDg5YsvV/ob3Hve2EPQH0F4veOF9xfeug5H/Ic6V82STktIDEmk34J+NJvQrETrP/TRIY59dww7NzsmHJpQog8wlHTbTUtIY47LHAwtDJkZPfOR5L4mT0PAVwEEfB0AWmj3v3Z0+azLEz9PtFotCScTCJoTRMT6CDS5GlQGKhoPa0yrF1tRs3XNZ467pGjUGmJ3xhL8ZzAX910E8keBN5/UnBbPt8CmkY2OIxSVQVU9VxaiIpN2K4oq914uC9stJDkyGa+3vajtVRubRjZY1rdEpS9/Q6UtZH4Iu1/cTc3uNRm/bXyptds7l+7wd6u/ycvKY1LAJOw97EvlOKLikZFyxScj5YQQQhSaY1dHpoZMJfDHQI5+e5RdM3dxdulZfH/3xb55+TgxO/7DcTR5Gtq/2b7KJOQA2r7eltidsVw6cImArwPo8F6HSpMASo5KZlWfVaReSaX5c83pPad3hXlv+ib6OPV1ImJdBFcCrpT7qV+fxc3wmwT/GYxZTTO83vHSdTji/1HpqxiwaAB/t/mbPa/voV6XeljWsyyRukP+CuHYd8cwq2nGyK0jy92I4v/PvKY5ntM8CfojiJC5IbT7X7sH21KvpLJl4hauBFzBpLoJAxYOoEHPpz91rFAoqNW2FrXa1qLb990IXRhKyF8hnFt5jnMrz1HPux5e73hRv2t9nV2w3ku+9yCuu5fvAlC9WXVazmiJ+yj3cj/yWAghhBDli76JPgOXDGRJpyUc+/7Yg9eVekqsHK2waWTz4J+1kzW2jWwxr2Ve6R4g1YXs1Gz8P/VHZaDC/dXSXcLCqr4VvrN92TJ+C5snbGZy4OSnTgEvhHgyScoJIYQoEj1DPTp+0BG3kW74verHxb0XWdhuIa1fbk3njztjYKa7m3qpV1M5u+QsZjXMaD6puc7i0AWlSkn/hf35u9XfHPn8CBHrIuj8SWdcBrlU6IuexNOJrO63mns379H2jbZ0/aZrhXsCy224GxHrIji/7nylTcpptVr2vbUPrVpL16+66rQfEI9n19gOn6982PfmPrZN3cZYv7HP3D+cW3EOv1f8MDA3YOSWkVjWLZlEX2nzesuLMwvOcPyn47SY3gIDMwOit0azfdp2sm5nUb9bfQYsGlCsBe3N7M3o8F4H2r/VnqgtUZz4+QSXD13m8qHL1GhVA693vHDu71xmffON0BsEzQkifFU4eVl5KPWUuI1wo+WMltT2ql3h+lQhhBBClB8Ong5MOz2NK0evkBKdQnJMMrdjb5MSm0JKTMoj5fWM9bBxsqHzp51x7u+sg4grh+PfH+fezXu0frU1pnVKf7p095HuxPnFEbY8jH1v76P3H71L/ZjPKutuFrtm7KLTR52wa2yn63CEeIgk5YQQQhSLjZMNo7aPImJdBHvf3MvJX08SsT6Cnj/3xHmgs05u8gX+HIg6R027N9qhZ1T1PuKs6lsxMWAihz85TNSmKDaO2oi9hz1dPu1Cw94NK9yN1/gj8awbvI7s1Gy8v/Cm/dvtK9x7AGjQqwEGZgZEbYqi16+9CrXO4f+Xl53HhuEbuHfrHn3n9qV6s+qlEGnxxWyL4eK+i9RqVwv3MaX7pKZ4Nq1fak30tmjiD8c/87oQZ5eeZfu07egZ6TFsw7ByM2K6MMxqmOH5vCenfjvFiV9OcC/5HsFzglGoFPh85UO7/7V75qSZUk9J46GNcR3iyuVDlzn23TEuHbjEhuEbsHOzw+ttL9xGuBWrT3gaTZ6G6K3RBM0JIt4/HgBTe1PavdmOFtNaYFaj6MlGIYQQQoiC3B8N919ajZbUK6mkxPwnUReTn6hLOpfEtue2MT18Omb2ck5SVHcv3+XErBMY2xrj9a4Xl29cLpPj9pzVkyvHrnD6r9M07NkQ5wHlO6nq/5k/EesjsKhrQbdvZb1zUb7ImnLlgMzbLUTFI+32YVl3s/D/1J/gP4PRarQ49XGi9+zemNcyL7MY0hPTmeM8BwNzA16MebHKT6eQeDoR/8/8id0ZC0CttrXo/GnnYk+dlnsvl/gj8Vw9fhU7Vztch7iW6vSgsTtj2ThqI3nZefj+7kuL51s8c526bLdbJm4hfFU4o3eNxrGbY5H21Wq17JqxizMLzwCgMlDh/aU3bV5pUy5GQeZl5fGXx1/cibvDpGOTqNmq/KydJQp29/Jd5reYjzpHzeQTk6nmVq3IdZxZdIadL+xE30SfEVtGUK9z6Y0CLa22m56YzhyXOeRl5gFgWd+SQcsGUattrRI7xv937eQ1jn93nOht0QBYOVrR7s12NBvfrEQeJrk/RWXw3GBSr6QCULN1TVq92IrGwxpXqWmdhW7JubIQFY+0W1FWjn13jEMfHaLpuKb0X9hf1+FUOFsmbCF8dTg9fulBixdalGm7vXbyGku7LMXIyoipwVMxr1l293yK4saZGyxstxBTB1Omh03H0NxQ1yFVSrKmXPFVjAVZhBBClGtGlkb0/KUnk45OwqGFA7E7Y1nefTlpCWllFsOJX0+Ql5VH29faVvmEHORPIzJi8wgm+E+gftf6XDtxjVW9V7GixwquHL3y1P01ag0JpxI4+u1RlvdYzs/Vf2ZN/zUc/fooWyZs4Y+Gf+D/mX+p/I7DV4ezfth6NHkaBi4dWCIJOV1zG+4GQMS6iCLvG/JXCGcWnsHGyYY+c/ugZ6TH/rf356+zdzW1pEMtspO/neRO3B2aTWwmCbkKwrKeJT1/6Yk6W822ydtQ56qLtP/pBafZOX0nBqYGjNw2slQTcqXJzMGMNi/njxR0HerKlJNTSjUhB1CrTS2GbRjG1JCpuI925+7lu+x+cTdzXOZw4pcT5KTnFKvepLNJ7HxhJ384/sHBDw6SnpiO+2h3JgZMZNLRSTQZ00QSckIIIYQoF9q81gabRjaELQ8jPiBe1+FUKAmnEghfHY5NIxudXCfXalOLzh93JjM5k22Tt6HVPHWsT5nTarTsfmU3Wo2W7j90l4ScKJdkpFw5IE8jCVHxSLt9PI1aw57X9hAyLwRbF1vG7htb6lNS3Lt1j9mNZqNnqMfMmJly0lWAS4cu4f+JP1ePXwWgQc8GdP6084Mkilar5faF21w6cImL+y9y+dBlsm5nPdjf2skax26O1G5fm8uHLz+0NpHLIBdazmhJnY51nuk8QavREjwvmD2v7UHPUI8ha4bg1Nvp2d74f+iy3eZl5zGr9iyUKiWvXHkFlX7hjh8fEM/KnivRM9ZjUsAk7BrbcffyXbZO3sqVI1cwsjai9+zeNB7WuJTfQcHSEtKY6z4XhVLBC+EvFGv9LaEbWq2WDcM2EL0tmo4fdqTzx50LtV/w3OAHa8iN2j6K2u1rl3Kkpdt2tRotydHJ2LrY6uQ65/aF2wT+HMjZJWdR56gxtjHGZbALesZ6KFVKFEoFCoUChUqR//0/X+9vQwEX918k/vC/U1R6TvOUKSqFzsm5shAVj7RbUZbi9saxuu9qqjWpxpSTU0plOu/KRqvVssxnGVePXWX4xuE06tdIJ+1Wo9awoucKrhy5QtdvutLuf+3K5LiFFbo4lB3P76B+t/qM3jlachmlSEbKFV/VW3BHCCFEqVKqlPSa1QtNroYzC8+wyncVY/eOxcTOpNSOeXLWSXIzcmn/ZntJyD1Gfe/61DtUj7g9cRz+5DBxe+KI2xNHo36NMLU35eL+i9y9dPdBeWNbYxoPb4xjN0fqd62PVX2rB9uajGlC12+6Ero4lJB5IUSsjyBifQTVmlSj1cxWuI92x8DU4Kkx3Uu+x/VT17l24hoJpxJIOJVA1u0sDC0MGb55OHU71i2NH4VO6Bnq4TzAmbBlYVw6cImGvRo+dZ/UK6lsHLURTZ6GAYsGPFic2rKeJWP3jCXwp0D8P/Vn05hNxO6KpecvPTG0KNu//0MfHiI3I5eu33SVhFwFo1Ao6P1nb64cv8LRb47i1MfpqSMdT80+xd7X92JoYcioHaNKfVRZWVAoFdi56m7hd+uG1vSe3ZuOH3Tk5KyT+SNj/z5T5HpqtKpB65da4zrUFT1DucQTQgghRPnWoEcDXIe4ErkxkqA5Qc+0znFVEbkxkqvHrlLPux5OfUvu4dWiUqqUDFw8kAUtF3Do40PU86lHjRY1dBbPf2WmZHLg/QMo9ZX0+rWXJIpEuSUj5coBeRpJiIpH2u3TaTVatk3ZxrkV57Bvbs8YvzEY2xiX+HEyb2cy22k2CoWCF2NfxMjKqMSPUdlotVqit0Rz+NPD3Dp/CwCVoYo6Hevg2M0Rx26O2De3L9R6ZRq1hji/OIL+DCLOLw4AQ0tDmk9qTovpLbBxyl/wW52jJiksiWsnr5FwIoGEkwmkxKY8VJdJNZP8te8+6Yx9c/sSfte6b7cXdl9gzYA1NJvQjH4L+j2xbG5mLst8lpEYkkinjzrR6aNOBZZLPJ3I5vGbSYlOwbK+JQMWD6COV53SCP8R105eY0nHJVg7WTPt9DRJBFRQUZuj2DBiA7Yutkw+ORl944Kn/z056yT73tqHkZURo3aOKtOpSnXddstS5u1MbkXcQqvRolVr87/+53uNWvPINitHK2q0LB83QoS4ryq1WyEqC2m3oqylXkllXtN5KFQKXjj3gozyf4K87Dz+av4Xdy7eYXLgZBw8HQDdttuIDRFsGr0Jm0Y2TD45uVAP5pa2XS/u4vT803i944X3F966DqfSk5FyxSd3T4QQQpQKhVJBv/n9UOeoiVgXweq+qxm9ezRGliWbNAuaHUROWg5e73pJQq6QFAoFLoNcaNS/ERf3XUSpp6S2V+3H3ox/EqVKiVMfJ5z6OJEcnUzIXyGcXXKWk7NOcnLWSep3rU9eZh7XQ66jzv533SqVgYpabWtRs01NarapSa02tbCsb1mpT+Tqd62PkbURUVui8J3t+9gkllarZfeLu0kMScR5gDMdP+j42DodPB2YcnIK+9/dT8jcEJZ3XY7XO150/LBjoafILI5bkbfwe9kPgO4/dJeEXAXmMsiFpuOaErY8jEMfHaLHjz0eKRP4cyAH3j2AkbURo3eNLjdPwlZGxtbGZZZYF0IIIYTQJYs6FnT8oCMHPzjI/nf3M3DJQF2HVG4FzwnOX8d7QrMHCTldazy0MXGT4ghdHMq+/+2jz9w+Oo0nISiB0wtOY1nPkg7vddBpLEI8jdxBEUIIUWqUekoGLB6AOkdN9JZo1vRfw6gdo0psisns1GxO/X4KfVN9me6iGJQqZaGmUSwsW2dbevzYgy6fduHcqnMEzwnm0oFLQP4Ubf9NwFVvVr3KJXJUBipcBrkQuiiUi/su0qhvowLLnfr9FGHLw7BrbEf/Rf2fOmJR30Qf3998cfJ1Yvvz2zn6zVHi9sYxYPEAbJ1tSyz+tIQ0zq89T/iqcBJPJwLQsHdDnProbuoUUTJ6/NyDy4cvc+q3UzTq14j63vUfbDv2/TEOfXgIY1tjxuwag71HyY9iFUIIIYQQVVObV9sQuiSU8FXheEzxoF7neroOqdy5d+seAV8HoG+iT5fPuug6nIf0+LkHVwKucGbhGRx7ONJ4qG7WOteoNfkPjWqhx0890Dcp+gPHQpQlWUVTCCFEqVLpqxi8YjBOfZy4FniNtYPWkpORUyJ1B88NJut2Fi2ntyzVNetE0RiYGdBiWgumhkxl2plpvJbwGjMiZjBwyUBav9iamq0HBw0uAAA/UklEQVRrVrmE3H1uw90AiFgXUeD2iwcusv+d/RhZGTFs/bAiJbCd+jgxLWQaTn2cuB50nYVtFnLow0NEb43mbvxdCjFj+SOy7mYRuiSUlb4r+d3xd/a/vZ/E04nU6VgH39m+DFk1pFKPbqwqjKyM6Du/LwDbp24n624WAAFfB+Qn5OyMGes3VhJyQgghhBCiRKkMVPSa1QsAv1f8UOeqn7JH1RPwVQDZd7Np+0ZbzGuZ6zqchxiYGTBw2UCUekp2zdhF6pVUncRx5u8zXA++jlMfJxr1L/jhVyHKE1lTrhxQq9XU+bUOenqP3qDs7dSbeX3nAbDg9AI+9/+8wDo2DN9A65qtAWi3sB0JaQmPlGlu35xto7YBsDN2Jy/seKHAumb1msVg18EADFk3hKCEoEfK2JrYcnraaQDO3DjDgNUDCqzrHa93eLH1iwC8vPtltkRtKbBczIsxGOoZcjPjJi0XtCywzLhm4/ja52sAvj36LXOC5hRY7tCEQzSwbgBAo9mNyM7LfqRMV8euLB6wGIClZ5fy4cEPC6xr5eCVdKybP21Yl6VduHj74iNlXO1c2TN2DwD7L+7nua3PFVjXD91/YKT7SABGbxzN0StHHyljbmhO+AvhAETciqDXil4F1vV6u9d5ve3rALy5903Wnl9bYLnwF8IxNzQnNTuVJnObFFhmpPtIfuj+AwA/B/7Mryd+LbDcnrF7cLVzBcBtrhvp2emPlOlYtyMrB68EYHX4at7e93aBdS0asIhujt0A6LG8B1HJUY+UcbR25PCEwwAciT/C2E1jC6zrS58vmdBsAgATt0zk4KWDj5Qx1DMk5sUYAC7cvoDPUp8C65rZaibvdngXgPcPvs/ys8sLLBcyLQRrQ2vCzocx4EDBf/uDXAbxm+9vAMw+NZvvjn1XYLlto7bR3L45AJ7zPUm+l/xImda1WrNh2AYANkVu4lW/Vwusa17fefR26g1Av9X9OHvj7CNlaprXJHByIAAnr51k2PphBdb1ceePmeo5FYDndzzP7tjdBZaLfzUegKupV/Fa5FVgmSmeU/ik8yfkZeUx+vXR7Lfaj8pAhZG10UOfKccnH6eWeS0A6s6qW2Bdvk6+/NX3LwDmBs7lg20foNVqMa1m+tBoovXD1tOmVv7Iucf1ic3sm7F91HagZPvE0Buh9F/dv8C6/tsnvrL7FTZHbS6w3P0+8da9W7SY36LAMtIn/quwfeLZaWdJuJRAjfo1aD6/eYFlRriN4McePwJP7hP9xvrR2C7/KcDH9Ykd6nRg1ZBVwMN9YkZSBmjBxN4EBYoHfeKdi3do90M7kiyTMLI2eihx+d8+MSA+gDGbxhQY15c+XzK+6XhOLzjN9IPTuVDvwoNtCqUCpZ4SQ31D/Br6Ye9hz53qd+i6vOsj9eRl59HtajeaLGqCOlvN3u57CWsZhp6xHnpGeihV/z7XFTItBDsTO7Lzsmk0u+ALIOkT/zXZYzKfdvkUgE8Pf8rCMwsLLHfsuWPUtqgNFK5PfNJ5YmH7xFdOvkLQH0HkTs/lT4c/yUnPQaFUYGxjjFIv/3f+3z5x6PqhnLp26pG6SrpPjHwhkksXLmFbx5bWC1sXWKYq9Ilmhmacf+E88OQ+8bW2r/FGuzeAJ/eJ5144h4WhxRPPE4vTJ7rPdSctO+2RMv/tE9eEr+GtfW8VWNd/zxN7ruhJ5K3IR8oUpU+8f544aeskDlw88EiZ/54nxt2Ow3upd4F1FeU8UfrEfLt77MbFxYXrGdcrZJ94/zxxV+wupu+YXmBduugTy+t54orBK+hUN38N3Mf1iS62Luwdtxd4cp/4fffvGeU+CijZPvGtfW+xJnxNgeXu94lp2Wm4z3UvsMx/+8RfTvzCL4G/FFiuIveJCo2CuFfiUKlU5a5P3DpqKx72HsDj+8RWNVuxcfhG4Ml94ty+c+njlD/VXkn2idN3TGdX7K4Cy90/T7yWdo32C9sXWOa/feJn/p/x9+m/CyxXGfvErDtZ5GXlYWBugIGpQYn2iWObjuWbrt8AT+4TD044SEPr/JlkHtcn+tT3YcnAJUDZ9IkatYbOqzrTLqkdL5x/gUl7JhEQH/BQmby8PKxMrDg/I79PjLwVSc8VPQuMq7T6xNe+e42ld5aiMlBhbGP8ULnS7hO1Gi33bt1Dq9ViYmdCQ7uGD/WJ98/XRcmTNeWKr2o+pi6EEKLM6Rnp0XhYYw75H0KdoybrTlZ+Yo7ifXBfCbiCVqNF31T/qdP7CVGe6BnpkXsvF3W2+kHiLScjh/XD16Px1GBgbvBMIwkVCgUtprXA2dyZa5evoc5Vo8nToMnVoM5Rk52ZzZaJ+Q/JpNVII3NiJkp9JUo9JZo8DXlZeWg1Wm6G38TEzgT3ke4keSZxIfHCU44sKjqfL32I2xNH4IFAcgY8mpATQgghhBCiNBhYGJCXnUduem6x1jqvrHJSc9CqtXT5vAsGpga6Duex6naui2q3CnWOmpyMnDKNNTstG61Gi4GZwUMPjwpRnslIuXJArVYTFRWFi4sLKpVK1+EIIQpB2m3x5aTnsLrfaq4eu4pzf2cGrx6MSr9oP8O8rDxmO88mKyWLmVEzy90UDqJ8Ki/t9tKhS6zsuRK3EW4MWj4IrVbL5nGbiVgXQeNhjRm0YlCpnG9ptVrSrqVx48wNEs8kcuPMDW6cvcHdS3cfKmdoaYjrEFeajGlC3U51JeldxSQEJbC081JMqpkwxm8Mdq52ug6p3LRdIUThSbsVouKRdit0LfCnQA68dwC3kW4MWjZI1+E8s6y7Wex9fS+xu2Jp8XwL2rza5pFRZE9y/7rRvrk9zwU+V2DCqTy127RraSxotYCs21mM8RtDvS6lvz7glWNXWOa9DOuG1kw7PQ09Ixl/VJZkpFzxyV+qEEKIMmVgZsDIrSNZ1WcV0dui2TJ+C4OWDyrSSIwzi86QkZiB5/OekpATFU7dTnUxtTclZkcMufdyCZodRMS6CKo3q07f+X1L7WRWoVBgUdsCi9oWNOr37/RBmbczuRF6g6SwJCxqW+DU20kuZqqwmq1qMu30NIztjDGxlbU6hRBCCCFE2Wj9SmvOLj3L+TXn8ZjiQX3v+roOqdjij8Sz9bmtpMbnr7F29JujBM0OotVLrfKTc9ZPTs5p1Br2v7UfgG7fd6sQI8DMa5kzYPEA1gxYw+Zxm5lycgpmNcxK7XiaPA1+L/sB0POXnnINKyqU8t+ihRBCVDqGFoaM2j4KB08HIjdGsm3ytvxRO6E3SDqbRFJYEknnkrgZfpOb529yK+IWtyJvkRyVTHJUMoE/BqLUU+L1VsHrkwhRnilVSlyHuJKbkcveN/dy8MODGNsaM2z9MJ1MSWJsbUx97/q0ebkNroNd5WJGYOtiKwk5IYQQQghRplT6KnrOyl8Lze8VP9Q5ah1HVHTqHDWHPjzE8u7LSY1PpdWLrXj50st0eL8DWq2Wo18fZU6jOfh/5k/m7czH1nNuxTluhN6gUd9G1PepX3Zv4Bk17NWQDu92IONGBpvHb0aTpym1YwX9GURSWBLOA51p6Nuw1I4jRGmQuy5CCCF0wsjKiFE7R7Gy50rCV4cTvjq8SPs3n9Qcy3qWpRSdEKWr8fDGBP8ZzJkFZ1CoFAxaMQir+la6DksIIYQQQgghdKa+d33cRrpxfs15Tv1+inb/a6frkArtVuQttk7aSmJIIqYOpvSb34+GvfKTRV0+7UKbV9pwctZJTv1xioCvAjj1+ylav9ya1q+0fmjkXE5GDoc+PoRST0nXb7vq6u0UW6ePO3E18CqXD17m8CeH8fnKp8SPkX49Hf9P/dE30afHTz1KvH4hSpsk5YQQQuiMia0Jo3ePJvDHQDJTMkGbPyf1Q1812kde0zPWo/OnnXUdvhDFVserDmY1zUhPSKfbd91w7Oqo65CEEEIIIYQQQue6fdeN2B2xHPnyCG4j3bCobaHrkJ5Iq9US8lcI+9/eT15mHs79nek9tzem1UwfKmdsY0yXz7rQ5tX/l5z7Iz851+aVNhhZGXHi5xOkJ6TTcmZLbF1sdfSuik+pUjJo2SD+bvM3x384Tm2v2jTq2+jpOxbB/nf2k5OWg/eX3ljWlYe1RcUjSTkhhBA6ZVrNlG7fddN1GEKUKYVSQf+F/UmJTqHF9Ba6DkcIIYQQQgghygXzmuZ0+rgT+9/ez/639zN45eCn7pObmcv14OtcO36NxDOJoAWVoQo9Qz1URv98NVChZ6SHylD1YJuekR76pvo4eDhg1cCqyOt7p99IZ+f0ncTujEXfRJ8+c/vQ/LnmT6znfnKu9SutOTnrJEF/BBHwZf7IuRbPtyBodhCGloZ0+rBTkWIpT0yrmzJ4xWCWd1/Otue2MfnEZKwcrUqk7kuHLhG+OhxbF1vavta2ROoUoqxJUk4IIYQQQgccuzrKCDkhhBBCCCGE+H9avdiK0MWhRKyP4P/au/Owqsq1j+PfzSSIgiDOs4VTmlrmkOaEOQumqaA44pA5m5amZplK+ioOOWSZM3icMikNnIfMqUJzSNNS0RQMVBxQpr3fPzh7Bw3mOSdYEL/PdXV5WHstvOl0s9Z67ue5n1pBtajgk/m96e61u1z96ipXD19NL8RFxfzP+5e5FnOldIPSlH4+/Z/itYpj72T/p+ef33qerQO3kvhLIiWfK4nvCl88vT0f++/LXzg/Tac0TV85N/coXy/8mkP/dwiA5u81J79X7t7juUzDMjSb1ozd43azuftmeu7tiUO+/60UkZacRuTwSABazW/1yP9/RHIyFeVEREREREREREREJEewd7Sn1fxWhLYIJXJEJL4rfLl29BpXD13l58M/k3A5IdP5hasUTi+oNShNiTolcMjnQGpSKmlJab/++fA3X//7zwfxD7j29TV+Pvwz5z49x7lPzwHg4OxAiTolfi3UNSiNi6cLKYkp7Hx9J1EfRmGyM9FoQiMavtkQe8f/rkCUv3B+mr7blLoj09ta3o+5T50hdf7nf4c5Qb1R9bj61VV+CP+BnWN30np+6//p+x2df5T4s/FU61qN8s3K/z1BihhARTkRERERERERERERyTHKNS7HUwFPcXrtaVY8v8J23MHFgbJNylK6fnqhrGS9kuQv/L+vKjOnmYk7E8fVQ1fTV+EdusqVL69w5csrtnMKVylMWnIat3+6TaGKhfBd4Uvp+qX/578bfl05909iMplov7Q9y+ov49sPvqVMgzI8FfDUf/x9LBYLZ9ad4ctpX+JU0AmfmdoCRXI3FeVEREREREREREREJEfxmeFD4i+JOHs421asFa1R9L9elfYodvZ2FK1RlKI1ivLMwPR9v+9dv8eVr66kr9DL0Cbz6d5P82LIi+QrmO9vj+OfxrmQM53WdmJl45Vse3UbxWoVw6uq12Nff/XwVXaN3cXPR37GZGeizaI2FCxZMAsjFsl6KsqJiIiIiIiIiIiISI5SoHgBArYFGPf3lyhA1c5Vqdq5KgApiSk8uPkAt9JuhsWUGxWvXZyWc1vyxeAv2NRtE32/6otTAadHXpNwOYE9E/ZwZv0ZACq0qIDPDB+K1iiaHSGLZCkV5UREREREREREREREHsExvyOO+R2NDiNXqtWvFle+vMKp0FN8MeQLfFf4YjKZfnde0p0kDs08xJF5R0hLSqNw5cL4zPThidZP/OH5IrmRinIiIiIiIiIiIiIiIpIlTCYTrRe0JiYqhtNrT1OmYRlbm1BI39PvxIoT7Ju8j8QbibgUduGFmS9Qu3/tLGlXKmIkFeVERERERERERERERCTLOLk60XldZ5Y3WM6O0TsoUacEJZ4pwcVdF9k5die/nPoFO0c76o6sS8PxDXHxcDE6ZJEsoaKciIiIiIiIiIiIiIhkqcKVC9P2g7Z8Gvgpn/h/QpFqRbiw7QIAlfwq0Ty4OZ5PehocpUjWUlFORERERERERERERESyXLWu1bjy1RW+WfQNCZcSKFarGC3+rwXlmpQzOjSRbKGinIiIiIiIiIiIiIiIZAufGT7kK5CPwpULU71HdUx2JqNDEsk2KsqJiIiIiIiIiIiIiEi2cMjnQNOpTY0OQ8QQdkYHICIiIiIiIiIiIiIiIv88ISEhNG/enDJlyuDt7U2PHj04f/58pnMePnzImDFjqFixIqVLl6ZXr17cuHHDoIizlopyIiIiIiIiIiIiIiIi8rf76quv6N+/P9u3b+eTTz4hJSWFTp06cf/+fds5b775JhEREaxYsYLPP/+cmJgYevbsaWDUWUftK0VERERERERERERERORvt3HjxkxfL1q0CG9vb44fP07Dhg1JSEhgzZo1fPTRRzRu3BiABQsWUK9ePY4dO8Zzzz1nRNhZ5rGKchaLBYDU1FRMJm26+HdLS0vDZDKRmppq+3ctIjmb8lYk91HeiuROyl2R3Ed5K5L7KG9Fch/lrRjJ+t/cnTt3MtWM8uXLR758+R557Z07dwDw8PAA4MSJE6SkpNC0aVPbOZUqVaJ06dJ5tyhnlZKSklVx5HnlypUjLS2NtLQ0o0MRkcekvBXJfZS3IrmTclck91HeiuQ+yluR3Ed5K0arV68esbGxtq/feOMNxo0b96fnm81mxo8fT7169ahWrRoAsbGxODk54e7ununcokWLZvre/xSPXZQrWLAggFbKZYE7d+5QvXp1Tp06hZubm9HhiMhjUN6K5D7KW5HcSbkrkvsob0VyH+WtSO6jvBUjWSwWkpKSOHLkyO9Wyj3KmDFj+P777/niiy+yOsQc67GKcnZ2dlkdR55mMpm4d+8eJpNJRU+RXEJ5K5L7KG9Fciflrkjuo7wVyX2UtyK5j/JWjGQymXBxccHFxeWxrxk7diyRkZFs27aNUqVK2Y4XK1aM5ORkEhISMq2Wu3HjBsWKFftb484JVG0TERERERERERERERGRv53FYmHs2LFs3bqV8PBwypUrl+nzmjVr4ujoyL59+2zHzp8/z9WrV/9x+8nBf7innIiIiIiIiIiIiIiIiMjjGDNmDBs3biQsLIwCBQrY9olzc3PDxcUFd3d3AgMDmTBhAh4eHhQsWJDXX3+d5557TkU5yRr58uXjjTfe+Mt+qyKScyhvRXIf5a1I7qTcFcl9lLciuY/yViT3Ud5KbrFs2TIA2rdvn+n4woUL6d69OwDTp0/Hzs6OXr16kZycTPPmzZk1a1a2x5odTBaLxWJ0ECIiIiIiIiIiIiIiIiL/ZNpTTkRERERERERERERERCSLqSgnIiIiIiIiIiIiIiIiksVUlBMRERERERERERERERHJYirKiYiIiIiIiIiIiIiIiGQxFeVERERERERERERERP7BLBaL0SGICCrKiYhkK7PZbHQIIvIfuHfvntEhiMhjSElJMToEEXkMGQcDNTAoIiKSvZKTkwGNTYkYTUW5XObSpUscOnRILzAiucT+/fuZP38+06dP59SpU9jZ2Sl/RXKJbdu2MXnyZBITE5W3IjnY+vXrGTVqFDdv3jQ6FBH5C0lJSaSmpgJgMpk0KCiSS0VFRbFlyxb27NnDjz/+aHQ4IvIY1q5dS5MmTUhISMDOTiUBESMpA3ORkydP8swzz/Djjz9iMpmMDkdE/sLq1avp378/u3btIjIykt69exMdHa38FckFVqxYQWBgIBs2bCAxMRGTyaTCnEgOY7FYuH37NhMnTiQsLIzx48eTkJCQ6XMRyTk+++wzXnnlFTp06ECvXr1ITk7WhDWRXGj16tV07tyZmTNnMnDgQHr16sXy5cuNDktEHmH58uUMGTKEK1eucOjQIUCr5USMpKJcLnHq1CnatGnD0KFDCQwM/N3n+kUqkrMcOHCAyZMnM2fOHDZt2kRISAjOzs5q2SOSC6xYsYKxY8eyaNEivL29CQ4OBlBBXSSHMZlMFCpUiA4dOvDuu+/y5ZdfMmzYMOLj422fi0jOEBYWxpAhQ6hSpQr169fn0qVL+Pn5AcpVkdzk5MmTvPPOO0yfPp1du3axbt06WrZsyeuvv87s2bONDk9E/sCKFSt4/fXXWbFiBXXr1rUV0bVaTsQ4DkYHIH/t+++/p1WrVvTt25cpU6ZgNpv5/PPPiY6Oxt3dnfbt2+Ph4YHZbNYvVJEc4sSJEzRq1Ih27doB8Oyzz+Li4sKyZcu4e/cu7dq1w8fHx+AoReS3rAW5FStW0K5dO44fP86RI0e4ffs2hQoVwmKxaPBQJIdJSEjAbDazdu1a/Pz8GDduHDNnzmTWrFn079+fChUqGB2iSJ525MgRZs+eTUhICC+//DIAPj4+jBo1ilOnTlG9enWDIxSRx3Xr1i2KFClCmzZtcHZ25plnnuGJJ56gePHivPnmm7i6uvLKK68YHaaI/NvSpUt54403WL58Ob6+vjg7OzN06FAiIyNp1aqV0eGJ5Fmq4OQCERERPHjwgKZNm3Lv3j38/PxYsGABH3zwAQsXLqRRo0ZER0djZ2enFXMiOURycjJffvklFy9eBCAwMJBr165x/fp1bt26RZcuXdi6davBUYpIRkeOHGH06NG2ghzAoEGDOH36NOvXrwc0m18kJ7E+9zZq1IiEhASefvpptm/fzu7du6lRowanTp2iSJEiBkcpImfPnqV8+fL4+PjYOkXUrFmT+/fvExsba3B0IvKfcHZ25scff+Ts2bO2Y+7u7gQGBvLmm28yb948Dh48aGCEImJ14cIFQkNDbQU5gMqVK1O4cGG1sBQxmIpyucCoUaMYNGgQgYGB+Pj44O7uzgcffMChQ4dYsWIF3t7edOvWjXv37mmlnIjBrAMNPj4+1KpVi7p169KuXTuOHTvGtm3b+PDDD1m+fDm9evVi+vTp3L9/X20sRXKIevXqceDAAdq1a4fFYiEtLY0KFSrQq1cvwsPDiYmJMTpEEfk3i8Vie+4tU6aMbWDB29sbDw8PUlNTyZ8/v5Ehisi/NWvWjEGDBuHh4YHJZCI5OZl8+fKRP39+vb+K5DLly5encePGrF69msuXL9uOu7q68vLLL1O6dGlOnjxpYIQiYlW2bFlWrVqFr6+vbdypXLly9OnTh48++oizZ8/qPixiEGVeLhEcHEz//v1JSkpiwoQJVKxYkYIFC1KlShUGDRrEzZs3+emnn4wOUyTPun37Nnfu3CEhIQFIn/27cOFCIiIiaNKkCZ06daJ8+fKkpaUBUKxYMYoXL46rq6tW3ojkIE899RRmsxmTyYS9vT0ATZo04bvvvuPChQuAZhOKGOXnn38mOjqaK1eu2O6dZrMZd3d38ufPT1JSEs2aNaNkyZKsXbuWb775hu7du3Pv3j2DIxfJm6z3y7Jly9KyZUsgvaDu5ORk++fu3bu24+PHj+fq1auGxSsivxcTE2O79wIULVqU9u3bc/jwYUJDQzPlbLly5ShUqBBnzpwxKlyRPM9afEtNTcXJyYkyZcoA6R1frJ+1aNECb29vtm3bBuj9VsQIKsrlQFevXmX9+vV89NFHHDlyxHZ86tSpLFmyhPLlywO//tIsUKAAbm5uuLm5GRGuSJ63ceNG+vfvT6NGjRg8eDCbN28GoESJEjz77LMA/PDDD6SmpmJvb09KSgpRUVG2hyMRMc6ZM2fYvXs3Bw4c4MaNG8DvN7zu0KEDDRs2JDg4mAcPHmg2oYgB1q9fT2BgIL6+vjRq1IiwsDAgPV+feuopkpKSKFeuHM7OzixbtoxmzZqxevVq22ocEck+O3fu5J133qFXr15s2bKFhw8f2j7LOBnNbDbj4JC+zX23bt1Yt24dxYsXz/Z4ReSP/etf/6JXr174+PgQFBTEzJkzAejTpw/du3dn3bp1LF682FaEu3PnDnfv3qVs2bJGhi2Sp1m7uzg4OPyuK5P1HvzEE09Qo0YNQkNDgd+//4pI1lPW5TCnT5+mffv2LF26lA8//BBfX99M+07Vq1cPFxcX4Ndfmtu3b6do0aJ4eHgYErNIXvavf/2LESNG0LJlSwYOHIinpyfLli0jOjradk6lSpW4efMmgwYNYt68eXTr1o1r164xa9YsALWvFDFIWFgY3bp1Y+LEifj7+/PWW29x/vz5TOdY87Nt27bExMTw448/GhGqSJ62fv16Ro8ezYABAwgJCWHkyJEMHTqU48ePA+kDDBUrVqRz586sXLkSLy8vIP25ecOGDdp3WSQbrVmzhsGDBxMdHc3Dhw/p27cvGzduBH69p6akpJCUlGRblR4UFMSlS5c4d+4cDg4Ots4SImKc9evXM2bMGHr16sW8efNo3LgxO3bs4OuvvwZg9OjRDBkyhGPHjtGlSxdeeukl/Pz8uHPnDiNHjjQ2eJE8asOGDTRu3Jh169YBmVfHWVmfid944w2SkpJYsGBBtscpIuBgdADyq8uXL+Pv70/nzp0ZO3Ys9+7dY9GiRcyZM4f69evj6emZaWbhmTNnCAsLIzQ0lM8++wx3d3cDoxfJe44fP87cuXOZPXs2/v7+ABw+fJjAwEAuX75smyHYsWNHrl+/zvbt29m2bRtVqlRh/fr1tkEHa4s8Eck+4eHhvPnmm8yePZvmzZvz7bffMmLECJo0aYK3t7ftPOt9t0ePHrzxxhuEh4dTvXp1o8IWyXPOnj3L4sWLee+99+jevTsADRo0YOvWrRw7doxatWrh7OzM1KlTgfQOEn9EM4BFst7evXuZNm0aM2fO5KWXXgJg1qxZzJw5kw4dOtjeVx0dHYH0WfwBAQFUqlSJgwcP4ujoSGpqqm31nIgY4+zZsyxcuJDp06cTGBgIQI0aNQgLC+PkyZPUqVMHgIEDB9KgQQNOnz7N6dOnKV68OIMGDcLBwUG5LJLN9u7dy1tvvUWpUqWYN28eJpOJrl272gpz1vda6zOxh4cHXl5etta0IpK9dIfMIVJSUlixYgW1a9dm3LhxODs74+rqSv369dm4cSMmkylTQe7s2bOsXbuWnTt3aoBQxCA3btygWrVq1K9f3/aQU79+fZ588kl+/vlnAJKTk3FycmLw4MH07t0bi8WCq6srgF5URAxy/fp1wsLCGDZsGJ07dwbAx8eHFi1asGXLFgICAjKdby2er127loYNGxoRskielZSUBECtWrVsx1xcXChcuLBt5WpqauqfFuNEJHs8ePCAiIgI2rVrR7t27WzPxs8//zyhoaF/uIeyq6srVatWZd++fRrEF8lB7t+/T5UqVXjmmWeA9FWuZcqUoUGDBsTHxwO/vufWqFGDGjVqZLo+LS1NuSySje7fv88nn3xCq1atePnll/nkk0+YPXs2gK0wZzabM01Sc3V1ZenSpbYtkkQke+kumUM4OjpStWpVChQogLOzs+14vXr1AIiLi8PDw8P2MvPkk0/i7+/P0KFDKVasmCExi+R15cuXJygoKNM+j3Z2diQnJ9s2rXdycrINSmTc08ZisehFRcQgaWlpeHp68sILLwC/5m7p0qU5d+7c7863rmZt0qQJoIK6SHaqWbMmCxYs4KmnngJ+HQR0c3MjX758ALZ8TExM1P5xIgZxcXHh+eefJyEhAScnJ9vxMmXK8PDhQ27dukWBAgWws7OzPRvPmzePJ598Ent7e91bRXKQsmXLMmDAgN9N/rZYLJnec/+MOsGIZC9XV1eCgoL45ZdfaNSoEV5eXlgslkyFuYz3X0h/B37yyScB1MFJxAB66s1BOnToYNsvzvqL0jqLIWNf/ePHj1OrVi3b4ISIGKNSpUpUqlQJINPDjb29vS1nLRYLffr0wd/fnzZt2tiu/aPZwiKSPUqXLs3YsWOpUKEC8OseN+XLl8fNzS3TuSdPnvzd7F8NGopkL+szr9lstuWfvb09Dx48ANJzOCAgAF9fX1uLSxHJfr6+vr87ZmdnZ9tDzvpuu27dOpo1a0blypUBraoRyWmKFClCkSJFgMz7nycnJ9tWsAN06dKFxo0bM2zYsGyPUUQyq1mzpu1/V6lShYEDBwLpbaQhvTAXFxfHt99+S6tWrTKtmlNBTiT76ck3B7EW5CB9wD41NZX79+9jNptxdXXFZDLxzjvvsHDhQs6ePYunp6eB0YpIRhmLbO7u7rYVry+//DIXL15k6dKlRoUmIhlYC+gZC3LWl5DExERu3rxpOx4QEICnpyeLFi0yLF4R+VXGwQOLxUJqaiqQPshw5swZVq9ebVRoIvInzGYz+fPnx8vLC0gv3MXFxdG1a1fbORoMFMm5Mr7nFipUyLYivXPnzkRHRxMWFmZUaCLyB6zvu1WrVmXAgAGYTCZCQkK4e/cuGzZsID4+npYtW2qiuIjBtON5Dubg4GBrCWBvb8+MGTNYunQpERERKsiJZDOz2fzY56alpZGYmEjfvn25fPkyR44csW1cLyLG+u3LR8avHz58SGpqKqmpqfj7+3Pu3DnmzZuX3SGKyCNYV6Lny5cPZ2dngoKCuHjxIsePH9e9ViSbnDp16rFzzTr55e7du3Tt2pUbN26wb98+WxstEck9HB0dSUpKomfPnly6dImvvvpK916RHCbj+221atUYNGgQzz77LGPHjiUpKYmvvvoKk8mke7CIwVSUM4j1l19CQsIjz3N2dqZQoUKMHj2akJAQPvvsM9tmuyKSfayz8yMjIx9ZoEtLS+Phw4dMnDiR8+fPc+jQIduLitryiGS/xymoW+/JXl5eeHp6EhAQwIULFzh69KgGGkSyyW8HBv5soMA60JCWlsYHH3zATz/9pHutSDaaOXMmjRs35uDBg5m2WPgzTk5OJCcn4+fnx4ULFzhw4IAtXzVLX8RY/+mgfEJCAosXL+by5cscPnxY916RXKBUqVJERUVRu3ZtduzYoXuwSA6hopxBTCYT4eHhTJ48mevXr//hORaLhfj4eM6dO8f+/fvZuXMntWrVyt5ARfK4jAP6wcHBBAQEcPny5T99gbG3t+epp57ihRdeYO/evXpRETGYtaB+6NAhUlJS/rBIZ30hSUpKYs+ePcTFxWmgQSQbmc1mWx4mJycDf773qjWna9euTY0aNTINLihXRbLe66+/TvPmzXn11Vc5cODAXxbmEhMTuX79Ol5eXpkmuyhfRYyVcU/0VatWsWvXrr+8pk6dOrRq1Yrdu3crl0UMYB2Hyjge9ahJqCkpKbz99ttYLBYiIiJwcHBQ3orkECaL1qtmK+uDz9WrV2nTpg2vvfYaffr0eeQ1c+bMoXXr1lStWjV7ghSR3zl//jxbtmyhTp06NG3a9JHnfv/991SuXBk7Ozs98IgYzGKx8N1339GsWTN27979yMktBw8eZOnSpXz00Ud6YRHJJhkHBd9//31OnDhBYmIi48ePp3LlyrZW7o+6Vrkqkj1SUlJwdHQE4KWXXuLcuXMsWrSIF1544ZH7woWHh9OmTRsN4ovkEGaz2TbJ5cSJE0yaNInr16+zcOFC6tat+6fXxcbGUqRIEb3nihggY97+8ssvuLi44Orq+pcr3r7//nsqVaqEvb298lYkB1FRzgB79+7l3LlznD17lhkzZjxysAHS2/No82sR40RGRhIQEECxYsVYs2YNzz777GNdl/GhSUSM1aNHD4oUKcJ7772Hs7PzX56vFxaRrJfxPjlnzhzmzp1LQEAABw8eJCYmhmnTptGuXTtcXV3/9HtkLOqJSNb5o+fajh078sMPP/xpYe631+jeKpKzBAcHc+rUKX755RdOnjxJ+fLlmTlzJi+88MIjr9O9V8Q4wcHBhIeHY2dnh5eXF8HBwVStWvUvc1JjyyI5i0aLDRAZGcn48eM5ePAgd+/e/cvz9UtTxFhlypShT58+3Lx5kytXrgCPt0+VCnIi2e+3uWltq1W/fn2OHDlCUlLSH5732zlKGjQUyXrW+2R0dDSXL19m7dq1vPfeexw4cICWLVsyefJkPvvsM+7fv/+n30ODgiLZI+P+ykePHgXg008/pVKlSn/ayvK3z8K6t4rkHMuWLWPhwoW8+uqrhIWF8dFHH1GuXDnGjRvHwYMHH3mt7r0i2Sfje2tYWBhLlizhlVdeoU+fPtjZ2dG+fXu2b98OPHqfSI0ti+QsGjE2wPTp0xk3bhwXLlwgIiLC6HBEJIM/KrZVq1aNoUOH4ufnx+DBg9m3bx92dnaPVZgTkexlHQA8fvw4t2/ftr18DB06lOTkZIKDgzOdZ6XBBRFjrFu3jlq1anHo0CFcXFxsxxcuXIiPjw9Tpkzh888/f6yJbCKStc6fP8/w4cNZsWIFUVFRQObC3JdffvmXe8yJSM4QFRVF27ZtadiwIV5eXrRv355hw4ZRsGBBxowZw5EjR4wOUUT49b01IiKCS5cuERwcTO/evRkwYACbN2+mVatWvPrqq8TExOidViQXUVEui2XchNM6gG8ymXj99dcZPHgwr732Glu2bDEyRBH5t4wtdjZt2sSHH37IBx98QFxcHBUrVuSdd97Bz8+Pvn37qjAnkoNFREQQFBREq1atCA8P54cffsBkMjFo0CDOnz/PtWvXjA5RJM/67X2zW7dutGnThvPnz3Pu3DlSUlJsny1YsIAWLVowePBgDQ6KGOC3M+69vb2ZMWMGx48fZ9myZZkKc5UrV2bIkCHs3LlTz8ciOcwf5aSHhweXL1/mzp07tmMNGzakffv2nDt3jrFjx/7lijkRyR5RUVFMmjSJBQsW2ApvycnJACxevJhSpUrx/vvvGxmiiPyHVJTLQtY+23v37mX48OF0796dOXPmkJiYCMC0adPo27cvgwYNIjw83OBoRfI2i8ViK8hNmjSJUaNGsXHjRoKDg3nppZdYu3YtRYsWZeLEibRp04agoCC2b9+uFpUiOcBvBw1bt27N/PnzadWqFZMnT2bo0KHMnj0bb29vjh49amu7JSLZ749a4IWGhtK8eXPefvttDh48mGmlzfz585kwYQLNmjUzJF6RvMw68Jdx0L5jx46MGzeOY8eOsWzZMk6cOAHA5s2b8fT0ZOXKlXo+FslhrDm5c+dO27Fq1aoRGxtLREREpjbRFSpUoH379lStWpWlS5eSkJCQ7fGK5HW/fb+tWLEiQUFBeHh4sH79egCcnJxITU0lLS2NkiVL8vDhQyNCFZH/kp6Ws5DJZGLr1q307t2b1NRU6tSpw8yZM5kwYQI//vgjkL5BZ//+/enTpw/btm0zOGKRvMs66BAbG8uRI0cIDw9n69atnD9/Hm9vbz7++GO2bt1K6dKlGTlyJPXr1+fDDz80OGoRMZvNtvxNSUmxDRw0bNiQKVOmsHz5cvr27cvHH3/M6tWruX//Pu+//z6xsbFGhi2Sp/1RC7yNGzdSpUqVP2yB99prr2Fvb6+2eCLZ5OjRo1y4cAFIn4E/depUoqOjbZ/7+voybtw4IiIiWLx4sa0wt3//ftasWWNIzCLyaN9//z1du3ZlxIgRAPj7+1O/fn3efvtt1q1bx7lz54iPj2fNmjXUqFGDF154gV27dvHLL78YHLlI3pLx/Rbg/v37uLu706dPH1577TUuXbrEwIEDgfS9Wu3t7fnll1/Ily+fUSGLyH/BZHnULpDyX7GukDt9+jSBgYEMGzaMfv368eDBA6pXr87t27dp3bo17777LhUrVgRgypQp+Pv7U6lSJYOjF8m75s6dS2RkJO7u7ixZsgQ3NzdMJhMPHjygZ8+e3L17l8jISAB+/vlnSpQooZnAIgbK2HJ2wYIF7N+/n5iYGFtffQ8PD9u5t2/fJjIykl27dvH555+zadMmGjRokOl7iEjWsD4bZ/Tpp58yc+ZMnn32Wfr160ft2rUBeOmllzh//jyzZ8/mxRdfVH6KZLPo6GiCgoLw8vJi7ty57Ny5k7feeovevXvTp08fypYtazt3xowZLF68mGbNmvHGG29QpUoVANLS0mx7uopIzvDgwQO2bNnC66+/TqdOnZg7dy4AI0eO5OuvvyY6OppixYphMpk4evQo58+fJyAggLCwMI1TiWST377fHj9+nO+++46ePXvy4osv4u3tzbJly5g7dy6FChWiUqVK2NnZcfz4cY4cOYKDg4PBP4GIPC5l698oPj4eBwcH3N3dSUtL4+bNm3Tr1o1+/frx888/07ZtW/z9/enUqRPt27encOHCDBkyhMqVK/PWW28ZHb5InmaxWChevDgXLlywtQEwmUwkJyfj4uLClClTaNasGV9//TV16tShVKlSABrQFzGQNfemTJnC2rVr6devH+XKlWPo0KHExcUxdOhQnnjiCQAKFSpEt27d6NatG7169eK9995jy5Ytyl+RbJCxBZ6bmxuQ3gLPzs6O6dOnA9C/f39q1qzJ5s2bady4MStXrqRVq1aGxSySV5UtW5bAwEA2bdrE+PHjmT9/Pvnz52f8+PGYzWb69etnK8y5ublRvXp1XFxcMg3aqyAnkvO4uLjY7r0jR47EYrEwb9485s6dS1RUFNevX8dkMtGyZUsAli5diouLC0WKFDE4cpG8w/pu+s477xAWFsaIESNo1KgRb7/9NseOHWPRokUEBARgMplYsmQJZ8+eJTg4mI8//hiA1NRUFeZEcgll6t/kp59+olOnTjRr1owJEybg5eVF9erV8fT0JC0tjfHjx9OwYUMmTZqEk5MTVatWZc2aNTx8+JCFCxfi6Oho9I8gkqdYi2nWP00mE506dcLV1ZVXX32VKVOmMG/ePJycnID0mYXFixfH1dU10/fRgL6IMawrb7Zt20Z4eDgrV66kbt26HD58GEjfo+rGjRtMnTqVChUqAOntLR0dHenYsSPLli3j/v37v8tpEfn7HD16FE9PT5588kkWL17MxYsXGTp0qG1A39fXF7PZzNixY0lJSWHw4MHUrFmT/fv3YzabDY5eJO+x3lt79+6No6Mjq1atYvjw4cybNw+z2czEiROxWCz4+vry9NNPc+jQIQYMGICvry8mk0mT1URymAULFnDz5k3bJHBnZ2d8fX2xWCwMGzYMFxcX3nvvPWrXrm1bsX7o0CFCQ0P54osv+PTTTzN1nhCRrBcVFcXnn3/OmjVreO6554iKiuLevXu0bduWAgUKANCjRw/MZjPr16/nk08+oWnTpgC/60whIjmXnpj/BmazmXXr1hEdHc3FixeZNWsWN27cwMPDg6eeeooHDx4QExPD888/j7OzMwD169dnw4YNjB07VgU5kWy2adMmhg8fzoULF3jw4IHtuJOTE61atWL+/Pls2LCBV155hb179xIVFcWMGTPw8vKicuXKBkYuIqdOneLmzZuYTCZSU1Oxt7fnlVdeoW7duuzYsQN/f38WLlzI9u3b2bVrF3PnzuWHH34AsN1vjx49yqVLl7Q/lUgWio6OZsKECUyaNInY2Fjc3NzYtGkTK1asyLQ3VceOHenfvz8RERHMnTuXs2fPAumTXpSjItnLZDJh3d2ie/fu9OrVi2vXrjFixAhatmzJe++9x86dO+nRowfPP/8858+fp127drbrVJATyTkePHhAYmIiS5YsYfbs2bbj1sLcyy+/zIcffsiQIUMyXefg4EB8fDyfffYZNWrUyO6wRfKcpKSkTF9bLBbc3Nx47rnn2Lx5M76+vsyYMQN/f3/u3bvHnj17cHFxISAggK5du3Ly5En69esHaKW6SG6ip+a/gZ2dHe3bt7ftP3XhwgXmzp1LfHw8AImJiVy+fJkTJ07w7bffMnXqVMLDw6lTpw7e3t4GRy+St9y5c4dp06YRGRlJ7969GT9+PGvXrrV97uTkRNu2bVm4cCERERF06tSJjRs34u7uzrZt2zRIKGKgrVu30rJlS4KDg4mLi8PBwYG6devSunVrbt++zaxZsxgxYgRdunShdOnSlCxZktWrVxMWFmb7Hnfu3AFg1apVtjZ6IvL3s7bAu3//PuPHj8fPz49Zs2YRFhbGsmXLMhXm1AJPJOd4VGGuSZMmrFq1iqlTp/Lqq69y4MABHBwcSEtL0+x8EYNZV5hb/3RxcSEoKMjWhnbWrFm2c11cXKhYsSItWrQgNjY20+r05557juXLl1OtWrXs/QFE8qDdu3ezZMkSvvnmG9ux5ORkYmJiWLVqFSNHjmTy5MkEBQUB8M0337Bs2TJ++OEHChYsSPfu3enYsSMxMTHExMQY9WOIyH9B7Sv/RxaLBbPZTI0aNRg4cCAPHjzAxcWFHTt2MHv2bEaOHEnRokWZO3cuvXv3ZufOnSQnJ7N27Vrc3d2NDl8kz3F1daVjx46UKVOGZ555hv379zN+/Hh2795NlSpVGD58OPny5eOll17Czs6OUaNGkZSUxEcffQSkPyBZW1qKSPZJSkoiMjKShw8fcunSJWbNmsXo0aMpWrQoHh4eXL58mYSEBJ5++mkgfcJM27Zt6dq1a6ZBBTc3N6ZOnape+yJZSC3wRHI3a2HOZDLRvXt3LBYLa9asYfTo0UyePJmXX37Z9nlaWpoK6CIG27RpE3v27GHkyJGUKFHC1p69cOHC+Pv7YzabCQkJAWDMmDHcu3ePM2fO4OfnR48ePYDMe6VbOzyJSNYJDQ1l+vTptG7dmkaNGtmO169fnwYNGjBy5EjGjRtH//79gfT34cWLF5MvXz6efPJJAAoUKEBQUBC9e/emUKFCRvwYIvJfMlms0+DkP3Lr1i1SU1MpUqSI7YVk9erVrFq1is2bN7NmzRrWr19P/fr1bYW5y5cvc+fOHYoWLUqxYsWM/hFE8qwdO3YQFBTEtm3bqF69Og8fPiQkJIRZs2ZRo0YNOnXqxIsvvki1atXYvHkzQ4YMoU+fPkyfPt3o0EXytK+//hp/f3/q1KnDw4cPqVatGq+99hqFCxcmOjqaRo0a0bVrV5o1a8by5cu5e/cuERERtlaXKsSJZB/r8zFAWFgYq1atomTJksybN4/du3czc+ZM4uPjKViwIA4ODrYVNxmvExFjZczH0NBQwsLCKF26NG+99RalSpUyODoRgfQuEE2bNuXu3bsULVqUZ599lgYNGhAQEGA758aNG3zyySe89dZblCtXDpPJhKOjI/v27dO9V8QA1i1VFixYgI+Pz+86uBw9epSpU6cSHR3NuHHjuH37Njt27ODatWvs378fR0dHzGYzJpNJuSuSS6ko91/48ccf6dKlC/ny5WPSpEl4e3vb2lD6+vpSu3Zt3nnnHWbNmkVERAQNGjRgyJAhFC9e3ODIRcRqzJgxALY2Hg0aNOCJJ56gQoUKnD59mr1797Jo0SK6dOnCZ599Rr9+/Rg+fDhvv/22gVGL5E1ms9m2V82kSZPw8PDAYrHw+eef8/zzz9smv3zxxRe88sorlCxZkkKFChEeHo6jo6MGGkQM8meFuZCQEOLj44mKiuLu3bv07NnT1gJPK25EcpaMebxmzRpWrlxJ7969CQwM1P1VJAdIS0tj2rRpmTrBzJ49mxdffNHWCca6r/J3333H1q1bKVSoEAMGDNC9V8QAcXFx9O3bF19fXwYMGGA7fu/ePc6ePYuDgwO1atWybY20d+9eKlasSPny5QkJCcHBwUETTkX+AVSU+w+ZzWamTZvGkiVLKFCgAMWKFaNixYp4enry9ttvs2XLFg4fPkxISAhOTk7MmjWLdevW4evry4QJE9SKRySHWL16NaGhofzrX//Cz88PFxcX1q9fj5ubG9euXePQoUP4+fnZXlS++OILKlWqlGmvGxHJWufOnaNgwYKULFnSdmzRokVs2LCByMhIli5dyqZNm6hXr56tMBcTE0NqaiolS5bEzs5OLywiBvvtSps1a9ZQokQJJk+eTLly5dQCTyQXyJjH3bp1w8HBgdDQUIOjEhGrR3WCqV69Op07d6ZZs2a2Nu9Wek4WyX5xcXF06NCBiRMn0q5dOwA+/vhjDhw4QHh4OEWLFqVy5cps2bIFgPj4eAoXLmy7Xnkr8s+gotx/ISYmhnnz5nHlyhU8PDzo3LkzU6ZMoXjx4iQmJrJ//37ef/99W2/u999/Hz8/P8qWLWtw5CKSkY+PD1FRUTz//POsXr0aDw+P352jBx4RY4SHh9O/f39KlCjBpEmTeOKJJ6hduzaQviq9efPmjBw5kv/7v/9j+/bt1KtXj6FDh2Zala59qURyBrXAE8n9rHk8ZswYbt26xeLFi7XPskgO8qhOMGfOnGHPnj3Mnz+fwMBAI8MUyfPi4uJo0qQJLVq0oHPnznz88cdcuHCB+vXr0759e+7cucPkyZPp0aMHY8eOzTQmpRXqIv8cGmn+LxQvXpzhw4cTEhLCd999x08//cTu3bvZvn07Bw4cYP/+/RQoUMB2/rBhwwyMVkR+y/ogM3DgQObNm8fUqVNt7fB++4CjgpxI9ktOTmbfvn0UKVIEe3t7li9fTsGCBSlUqBATJkygSZMmXL58GYCxY8diMpkIDQ2lTJkyDBo0yPZ9VJATyRlMJpPtHtujRw8sFgsrV65kz549aoEnkkuYTCbi4+M5deqUrSuMiOQcNWvWJDQ0lNu3b+Pn54e7uzuLFi2ydYI5fPgwvr6+Rocpkud5eXmxaNEievXqZRs/Dg4Opnr16nh6enL79m3c3NxIS0sDMo9J6XlZ5J9DK+X+BzExMYSEhHDs2DG6du3K4MGDAbh06RLly5c3NjgR+UvXrl3Dx8eHgQMHMmrUKKPDEZEMYmNjmTNnDlevXqVYsWIEBgYyceJEChcuzKVLlzh16hQrV66kQ4cOQPp+Vd26dVP7O5EcTC3wRHK/hw8f4uzsbHQYIvIH1AlGJPeIi4vj/v37lCtXLtPx27dv0717d7p27UqfPn2MCU5EspymkP8PihcvzmuvvcZzzz3Hpk2bmD17NgDly5e3zWgQkZyrZMmSjBo1igULFnD27FmjwxGRDIoVK8aIESMoUaIEJ0+e5Pjx42zdupUhQ4bQokULSpUqhbe3t+387t27Y29vr/uvSA5mXTEHUKZMGZydnUlOTjY4KhH5T6ggJ5LzWO+tAwcOpEqVKpk6wfyWCnIiOYOXl9fvCnJxcXEMGjSIlJQUevbsaVBkIpIdtFLubxAbG8vs2bP57rvvaNKkCePHjzc6JBF5TBcvXmTmzJksXLhQre5EcqCMq9K7dOnCq6++CsCtW7fw8PDQvnEiuVB8fDw9evQgJCSEatWqGR2OiIjIP4I6wYjkTvHx8axatYrDhw8TFxdHREQEjo6OpKWlqROMyD+UinJ/k9jYWKZMmcK1a9f4+OOP8fT0NDokEXlM1nZaeuARyZmsk1++/fZb2rZty+jRowGUsyK5mFrgiYiI/P0+/PBDZsyYwdatW6lSpYrR4YjIYzh58iTTpk2jQoUKvPvuuzg4OKjVrMg/nIpyf6MbN24AULRoUYMjERER+WeJjY0lJCSE48eP07hxYyZMmGB0SCIiIiIiOYo6wYjkTgkJCbi5uWnCuEgeoaKciIiI5AqxsbFMnjwZZ2dn5syZg8lkMjokEREREZEcRZ1gRHIva/6KyD+binIiIiKSa9y6dQt3d3fs7Oz0wiIiIiIiIiIiIrmKinIiIiKS65jNZrXkERERERERERGRXEVFOREREREREREREREREZEspinmIiIiIiIiIiIiIiIiIllMRTkRERERERERERERERGRLKainIiIiIiIiIiIiIiIiEgWU1FOREREREREREREREREJIupKCciIiIiIiIiIiIiIiKSxVSUExEREREREREREREREcliKsqJiIiIiIiIiIiIiIiIZDEV5URERERERERERERERESymIpyIiIiIiIiIiIiIiIiIlns/wHEQCIjuq55MwAAAABJRU5ErkJggg==\n"
                },
                "metadata": {}
              }
            ]
          }
        },
        "537ed478c6d34150a43cddcd82d9b569": {
          "model_module": "@jupyter-widgets/base",
          "model_name": "LayoutModel",
          "model_module_version": "1.2.0",
          "state": {
            "_model_module": "@jupyter-widgets/base",
            "_model_module_version": "1.2.0",
            "_model_name": "LayoutModel",
            "_view_count": null,
            "_view_module": "@jupyter-widgets/base",
            "_view_module_version": "1.2.0",
            "_view_name": "LayoutView",
            "align_content": null,
            "align_items": null,
            "align_self": null,
            "border": null,
            "bottom": null,
            "display": null,
            "flex": null,
            "flex_flow": null,
            "grid_area": null,
            "grid_auto_columns": null,
            "grid_auto_flow": null,
            "grid_auto_rows": null,
            "grid_column": null,
            "grid_gap": null,
            "grid_row": null,
            "grid_template_areas": null,
            "grid_template_columns": null,
            "grid_template_rows": null,
            "height": null,
            "justify_content": null,
            "justify_items": null,
            "left": null,
            "margin": null,
            "max_height": null,
            "max_width": null,
            "min_height": null,
            "min_width": null,
            "object_fit": null,
            "object_position": null,
            "order": null,
            "overflow": null,
            "overflow_x": null,
            "overflow_y": null,
            "padding": null,
            "right": null,
            "top": null,
            "visibility": null,
            "width": null
          }
        }
      }
    }
  },
  "cells": [
    {
      "cell_type": "code",
      "source": [
        "import yfinance as yf\n",
        "import pandas as pd\n",
        "import numpy as np\n",
        "from scipy.signal import argrelextrema\n",
        "import time\n",
        "import logging\n",
        "\n",
        "logging.basicConfig(level=logging.INFO)\n",
        "\n",
        "nse_tickers = [\n",
        "    \"DMART.NS\",\"TCS.NS\", \"BEL.NS\", \"DLF.NS\", \"GODREJCP.NS\", \"HDFCLIFE.NS\",\n",
        "    \"MAXHEALTH.NS\", \"SBILIFE.NS\", \"TRENT.NS\", \"VBL.NS\", \"KPIL.NS\", \"GMRPUI.NS\",\"SWIGGY.NS\",\"ETERNAL.NS\",\"PAYTM.NS\",\"ADANIPOWER.NS\",\"HEG.NS\",\"PAYTM.NS\"\n",
        "]\n",
        "\n",
        "def safe_scalar(val):\n",
        "    try:\n",
        "        if isinstance(val, pd.Series):\n",
        "            if not val.empty:\n",
        "                return float(val.iloc[0])\n",
        "            else:\n",
        "                return np.nan\n",
        "        else:\n",
        "            return float(val)\n",
        "    except:\n",
        "        return np.nan\n",
        "\n",
        "def fetch_yfinance_data(ticker):\n",
        "    return yf.download(ticker, period=\"90d\", interval=\"1d\", auto_adjust=True)\n",
        "\n",
        "def calculate_rsi(df, window=14):\n",
        "    delta = df['Close'].diff()\n",
        "    gain = delta.clip(lower=0)\n",
        "    loss = -1 * delta.clip(upper=0)\n",
        "    avg_gain = gain.rolling(window=window, min_periods=window).mean()\n",
        "    avg_loss = loss.rolling(window=window, min_periods=window).mean()\n",
        "    rs = avg_gain / avg_loss\n",
        "    rsi = 100 - (100 / (1 + rs))\n",
        "    return rsi\n",
        "\n",
        "def calculate_ma(df, windows=[10, 20, 50]):\n",
        "    for w in windows:\n",
        "        df[f'MA_{w}'] = df['Close'].rolling(window=w).mean()\n",
        "    return df\n",
        "\n",
        "def find_swing_zones(df, order=5):\n",
        "    local_min_idx = argrelextrema(df['Close'].values, np.less_equal, order=order)[0]\n",
        "    demand_zones = df.iloc[local_min_idx]\n",
        "\n",
        "    local_max_idx = argrelextrema(df['Close'].values, np.greater_equal, order=order)[0]\n",
        "    supply_zones = df.iloc[local_max_idx]\n",
        "\n",
        "    return demand_zones, supply_zones\n",
        "\n",
        "def calc_support_resistance_zone(df, window=10, pct_range=0.02):\n",
        "    recent_data = df.tail(window)\n",
        "    low = safe_scalar(recent_data['Low'].min())\n",
        "    high = safe_scalar(recent_data['High'].max())\n",
        "    support_zone_low = low\n",
        "    support_zone_high = low * (1 + pct_range) if pd.notna(low) else np.nan\n",
        "    resistance_zone_low = high * (1 - pct_range) if pd.notna(high) else np.nan\n",
        "    resistance_zone_high = high\n",
        "    return support_zone_low, support_zone_high, resistance_zone_low, resistance_zone_high\n",
        "\n",
        "def generate_score(rsi, ma_10, ma_20, ma_50, volume, volavg20):\n",
        "    score = 0\n",
        "    reasons = []\n",
        "    if float(rsi) < 30:\n",
        "        score += 2\n",
        "        reasons.append('RSI oversold')\n",
        "    elif float(rsi) > 70:\n",
        "        score -= 2\n",
        "        reasons.append('RSI overbought')\n",
        "    elif 45 <= float(rsi) <= 55:\n",
        "        score += 1\n",
        "        reasons.append('RSI neutral strong')\n",
        "\n",
        "    if float(ma_10) > float(ma_20) and float(ma_20) > float(ma_50):\n",
        "        score += 2\n",
        "        reasons.append('MA 10 > MA 20 > MA 50 strong uptrend')\n",
        "    elif float(ma_10) < float(ma_20) and float(ma_20) < float(ma_50):\n",
        "        score -= 2\n",
        "        reasons.append('MA 10 < MA 20 < MA 50 strong downtrend')\n",
        "\n",
        "    if float(volume) > 1.5 * float(volavg20):\n",
        "        score += 1\n",
        "        reasons.append('High volume')\n",
        "\n",
        "    if score >= 3:\n",
        "        signal = 'BUY'\n",
        "    elif score <= -2:\n",
        "        signal = 'SELL'\n",
        "    else:\n",
        "        signal = 'HOLD'\n",
        "\n",
        "    if not reasons:\n",
        "        reasons.append('No strong signals')\n",
        "\n",
        "    return score, signal, '; '.join(reasons)\n",
        "\n",
        "def calc_trade_levels(price, demand_zone, supply_zone, support_low, support_high, resistance_low, resistance_high, signal):\n",
        "    if signal != 'BUY':\n",
        "        # No trade recommended for SELL or HOLD signals\n",
        "        return None, None, None, None, None\n",
        "\n",
        "    # For BUY signals:\n",
        "    entry = price if price > demand_zone else demand_zone if demand_zone else price\n",
        "    stop_loss = demand_zone * 0.98 if demand_zone else price * 0.98\n",
        "\n",
        "    # Targets above entry price\n",
        "    targets = []\n",
        "    if resistance_low and resistance_low > entry:\n",
        "        targets.append(resistance_low)\n",
        "    if resistance_high and resistance_high > entry:\n",
        "        targets.append(resistance_high)\n",
        "    if supply_zone and supply_zone > entry:\n",
        "        targets.append(supply_zone)\n",
        "\n",
        "    while len(targets) < 3:\n",
        "        targets.append(None)\n",
        "\n",
        "    return round(entry, 2), round(stop_loss, 2), round(targets[0], 2) if targets[0] else None, round(targets[1], 2) if targets[1] else None, round(targets[2], 2) if targets[2] else None\n",
        "\n",
        "\n",
        "results = []\n",
        "\n",
        "for ticker in nse_tickers:\n",
        "    logging.info(f'Processing {ticker}...')\n",
        "    df = fetch_yfinance_data(ticker)\n",
        "    if df.empty:\n",
        "        logging.warning(f'No data for {ticker}, skipping.')\n",
        "        continue\n",
        "\n",
        "    df = calculate_ma(df)\n",
        "    df['RSI'] = calculate_rsi(df)\n",
        "    df['VolAvg20'] = df['Volume'].rolling(20).mean()\n",
        "\n",
        "    demand_zones, supply_zones = find_swing_zones(df, order=5)\n",
        "\n",
        "    latest = df.iloc[-1]\n",
        "    last_date = latest.name\n",
        "\n",
        "    demand_recent = demand_zones[demand_zones.index < last_date]\n",
        "    demand_zone_price = safe_scalar(demand_recent['Close'].iloc[-1]) if not demand_recent.empty else np.nan\n",
        "    demand_zone_val = round(float(demand_zone_price), 2) if pd.notna(demand_zone_price) else None\n",
        "\n",
        "    supply_recent = supply_zones[supply_zones.index < last_date]\n",
        "    supply_zone_price = safe_scalar(supply_recent['Close'].iloc[-1]) if not supply_recent.empty else np.nan\n",
        "    supply_zone_val = round(float(supply_zone_price), 2) if pd.notna(supply_zone_price) else None\n",
        "\n",
        "    support_zone_low, support_zone_high, resistance_zone_low, resistance_zone_high = calc_support_resistance_zone(df)\n",
        "\n",
        "    price_val = safe_scalar(latest['Close'])\n",
        "    rsi_val = safe_scalar(latest['RSI'])\n",
        "    ma_10_val = safe_scalar(latest['MA_10'])\n",
        "    ma_20_val = safe_scalar(latest['MA_20'])\n",
        "    ma_50_val = safe_scalar(latest['MA_50'])\n",
        "    volume_val = safe_scalar(latest['Volume'])\n",
        "    volavg20_val = safe_scalar(latest['VolAvg20'])\n",
        "\n",
        "    score, signal, reasons = generate_score(rsi_val, ma_10_val, ma_20_val, ma_50_val, volume_val, volavg20_val)\n",
        "\n",
        "    entry, stop_loss, target1, target2, target3 = calc_trade_levels(\n",
        "        price_val, demand_zone_val, supply_zone_val,\n",
        "        support_zone_low, support_zone_high,\n",
        "        resistance_zone_low, resistance_zone_high,\n",
        "        signal\n",
        "    )\n",
        "\n",
        "    result = {\n",
        "        'Ticker': ticker.replace('.NS',''),\n",
        "        'Price': round(price_val, 2) if pd.notna(price_val) else None,\n",
        "        'RSI': round(rsi_val, 2) if pd.notna(rsi_val) else None,\n",
        "        'MA_10': round(ma_10_val, 2) if pd.notna(ma_10_val) else None,\n",
        "        'MA_20': round(ma_20_val, 2) if pd.notna(ma_20_val) else None,\n",
        "        'MA_50': round(ma_50_val, 2) if pd.notna(ma_50_val) else None,\n",
        "        'Volume': int(volume_val) if pd.notna(volume_val) else None,\n",
        "        'VolAvg20': int(volavg20_val) if pd.notna(volavg20_val) else None,\n",
        "        'SupportZoneLow': round(support_zone_low, 2) if pd.notna(support_zone_low) else None,\n",
        "        'SupportZoneHigh': round(support_zone_high, 2) if pd.notna(support_zone_high) else None,\n",
        "        'ResistanceZoneLow': round(resistance_zone_low, 2) if pd.notna(resistance_zone_low) else None,\n",
        "        'ResistanceZoneHigh': round(resistance_zone_high, 2) if pd.notna(resistance_zone_high) else None,\n",
        "        'DemandZone': demand_zone_val,\n",
        "        'SupplyZone': supply_zone_val,\n",
        "        'Entry': entry,\n",
        "        'StopLoss': stop_loss,\n",
        "        'Target1': target1,\n",
        "        'Target2': target2,\n",
        "        'Target3': target3,\n",
        "        'Score': score,\n",
        "        'Signal': signal,\n",
        "        'Reasons': reasons\n",
        "    }\n",
        "\n",
        "    results.append(result)\n",
        "    time.sleep(1)  # Respect API limits\n",
        "\n",
        "df_out = pd.DataFrame(results)\n",
        "print(df_out)\n"
      ],
      "metadata": {
        "colab": {
          "base_uri": "https://localhost:8080/"
        },
        "id": "4SFwwzNdp0VP",
        "outputId": "e9f0e65c-b285-4657-e73e-706323e19d3c"
      },
      "execution_count": 1,
      "outputs": [
        {
          "output_type": "stream",
          "name": "stderr",
          "text": [
            "[*********************100%***********************]  1 of 1 completed\n",
            "[*********************100%***********************]  1 of 1 completed\n",
            "[*********************100%***********************]  1 of 1 completed\n",
            "[*********************100%***********************]  1 of 1 completed\n",
            "[*********************100%***********************]  1 of 1 completed\n",
            "[*********************100%***********************]  1 of 1 completed\n",
            "[*********************100%***********************]  1 of 1 completed\n",
            "[*********************100%***********************]  1 of 1 completed\n",
            "[*********************100%***********************]  1 of 1 completed\n",
            "[*********************100%***********************]  1 of 1 completed\n",
            "[*********************100%***********************]  1 of 1 completed\n",
            "ERROR:yfinance:HTTP Error 404: {\"quoteSummary\":{\"result\":null,\"error\":{\"code\":\"Not Found\",\"description\":\"Quote not found for symbol: GMRPUI.NS\"}}}\n",
            "[*********************100%***********************]  1 of 1 completed\n",
            "ERROR:yfinance:\n",
            "1 Failed download:\n",
            "ERROR:yfinance:['GMRPUI.NS']: YFPricesMissingError('possibly delisted; no price data found  (period=90d) (Yahoo error = \"No data found, symbol may be delisted\")')\n",
            "WARNING:root:No data for GMRPUI.NS, skipping.\n",
            "[*********************100%***********************]  1 of 1 completed\n",
            "[*********************100%***********************]  1 of 1 completed\n",
            "[*********************100%***********************]  1 of 1 completed\n",
            "[*********************100%***********************]  1 of 1 completed\n",
            "[*********************100%***********************]  1 of 1 completed\n",
            "[*********************100%***********************]  1 of 1 completed\n"
          ]
        },
        {
          "output_type": "stream",
          "name": "stdout",
          "text": [
            "        Ticker    Price    RSI    MA_10    MA_20    MA_50     Volume  \\\n",
            "0        DMART  4576.20  34.57  4674.38  4699.52  4467.31     454331   \n",
            "1          TCS  2957.40  39.88  3103.87  3094.58  3090.40    4971744   \n",
            "2          BEL   403.15  72.05   404.11   390.00   386.58   23800929   \n",
            "3          DLF   721.05  34.28   765.60   759.77   774.74    4484651   \n",
            "4     GODREJCP  1189.20  37.31  1225.70  1239.50  1232.31    1908827   \n",
            "5     HDFCLIFE   765.05  52.83   776.42   772.89   768.89    2080889   \n",
            "6    MAXHEALTH  1137.70  40.84  1160.47  1162.83  1209.25    5021970   \n",
            "7      SBILIFE  1809.80  50.94  1824.27  1815.70  1826.60    1003675   \n",
            "8        TRENT  4742.50   7.88  5037.30  5198.38  5259.96    1517967   \n",
            "9          VBL   451.85  34.36   465.03   474.77   491.72    8205942   \n",
            "10        KPIL  1255.10  46.90  1269.56  1264.65  1225.97     110720   \n",
            "11      SWIGGY   426.10  43.32   438.98   433.71   417.62    8852879   \n",
            "12     ETERNAL   332.25  53.18   332.29   328.48   313.75   16651883   \n",
            "13       PAYTM  1141.40  25.08  1198.61  1220.23  1163.09    4228401   \n",
            "14  ADANIPOWER   149.00  64.49   140.64   132.12   123.47  157772265   \n",
            "15         HEG   521.80  75.90   518.25   504.50   510.84    1015518   \n",
            "16       PAYTM  1141.40  25.08  1198.61  1220.23  1163.09    4228401   \n",
            "\n",
            "    VolAvg20  SupportZoneLow  SupportZoneHigh  ...  DemandZone  SupplyZone  \\\n",
            "0     405121         4565.10          4656.40  ...     4589.70     4775.30   \n",
            "1    2518090         2951.00          3010.02  ...     3019.00     3176.70   \n",
            "2   14711701          385.30           393.01  ...      395.45      412.20   \n",
            "3    2398084          718.80           733.18  ...      751.10      786.75   \n",
            "4    1455039         1174.10          1197.58  ...     1186.00     1266.50   \n",
            "5    2756716          758.75           773.93  ...      768.05      787.80   \n",
            "6    2927658         1125.30          1147.81  ...     1133.20     1184.20   \n",
            "7     888638         1795.30          1831.21  ...     1804.00     1857.70   \n",
            "8     991370         4710.00          4804.20  ...     5235.50     5197.50   \n",
            "9    6116301          450.10           459.10  ...      469.65      474.45   \n",
            "10    183221         1235.00          1259.70  ...     1242.70     1301.20   \n",
            "11  13653297          415.55           423.86  ...      420.55      458.45   \n",
            "12  28375372          320.70           327.11  ...      321.40      341.85   \n",
            "13   3008160         1132.10          1154.74  ...     1207.00     1288.30   \n",
            "14  86184188          125.20           127.70  ...      118.42      170.25   \n",
            "15    757648          507.00           517.14  ...      462.00      521.90   \n",
            "16   3008160         1132.10          1154.74  ...     1207.00     1288.30   \n",
            "\n",
            "      Entry  StopLoss  Target1  Target2  Target3  Score  Signal  \\\n",
            "0       NaN       NaN      NaN      NaN      NaN      0    HOLD   \n",
            "1   3019.00   2958.62  3138.94   3203.0  3176.70      3     BUY   \n",
            "2       NaN       NaN      NaN      NaN      NaN      1    HOLD   \n",
            "3       NaN       NaN      NaN      NaN      NaN      1    HOLD   \n",
            "4       NaN       NaN      NaN      NaN      NaN      0    HOLD   \n",
            "5    768.05    752.69   780.96    796.9   787.80      3     BUY   \n",
            "6       NaN       NaN      NaN      NaN      NaN     -1    HOLD   \n",
            "7       NaN       NaN      NaN      NaN      NaN      1    HOLD   \n",
            "8       NaN       NaN      NaN      NaN      NaN      1    HOLD   \n",
            "9       NaN       NaN      NaN      NaN      NaN     -2    SELL   \n",
            "10  1255.10   1217.85  1290.07   1316.4  1301.20      3     BUY   \n",
            "11      NaN       NaN      NaN      NaN      NaN      2    HOLD   \n",
            "12   332.25    314.97   337.02    343.9   341.85      3     BUY   \n",
            "13      NaN       NaN      NaN      NaN      NaN      2    HOLD   \n",
            "14   149.00    116.05   179.05    182.7   170.25      3     BUY   \n",
            "15      NaN       NaN      NaN      NaN      NaN     -2    SELL   \n",
            "16      NaN       NaN      NaN      NaN      NaN      2    HOLD   \n",
            "\n",
            "                                              Reasons  \n",
            "0                                   No strong signals  \n",
            "1   MA 10 > MA 20 > MA 50 strong uptrend; High volume  \n",
            "2   RSI overbought; MA 10 > MA 20 > MA 50 strong u...  \n",
            "3                                         High volume  \n",
            "4                                   No strong signals  \n",
            "5   RSI neutral strong; MA 10 > MA 20 > MA 50 stro...  \n",
            "6   MA 10 < MA 20 < MA 50 strong downtrend; High v...  \n",
            "7                                  RSI neutral strong  \n",
            "8   RSI oversold; MA 10 < MA 20 < MA 50 strong dow...  \n",
            "9              MA 10 < MA 20 < MA 50 strong downtrend  \n",
            "10  RSI neutral strong; MA 10 > MA 20 > MA 50 stro...  \n",
            "11               MA 10 > MA 20 > MA 50 strong uptrend  \n",
            "12  RSI neutral strong; MA 10 > MA 20 > MA 50 stro...  \n",
            "13                                       RSI oversold  \n",
            "14  MA 10 > MA 20 > MA 50 strong uptrend; High volume  \n",
            "15                                     RSI overbought  \n",
            "16                                       RSI oversold  \n",
            "\n",
            "[17 rows x 22 columns]\n"
          ]
        }
      ]
    },
    {
      "cell_type": "code",
      "source": [
        "import yfinance as yf\n",
        "import pandas as pd\n",
        "import numpy as np\n",
        "from scipy.signal import argrelextrema\n",
        "import mplfinance as mpf\n",
        "import matplotlib.patches as mpatches\n",
        "import ipywidgets as widgets\n",
        "from IPython.display import display, clear_output\n",
        "\n",
        "def safe_scalar(val):\n",
        "    try:\n",
        "        if isinstance(val, pd.Series):\n",
        "            if not val.empty:\n",
        "                return float(val.iloc[0])\n",
        "            else:\n",
        "                return np.nan\n",
        "        else:\n",
        "            return float(val)\n",
        "    except:\n",
        "        return np.nan\n",
        "\n",
        "def calculate_rsi(df, window=14):\n",
        "    delta = df['Close'].diff()\n",
        "    gain = delta.clip(lower=0)\n",
        "    loss = (-delta).clip(lower=0)\n",
        "    avg_gain = gain.rolling(window=window).mean()\n",
        "    avg_loss = loss.rolling(window=window).mean()\n",
        "    rs = avg_gain / avg_loss\n",
        "    rsi = 100 - (100 / (1 + rs))\n",
        "    return rsi\n",
        "\n",
        "def calculate_ma(df, windows=[10, 20, 50]):\n",
        "    for w in windows:\n",
        "        df[f'MA_{w}'] = df['Close'].rolling(window=w).mean()\n",
        "    return df\n",
        "\n",
        "def find_swing_zones(df, order=5):\n",
        "    local_min_idx = argrelextrema(df['Close'].values, np.less_equal, order=order)[0]\n",
        "    demand_zones = df.iloc[local_min_idx]\n",
        "    local_max_idx = argrelextrema(df['Close'].values, np.greater_equal, order=order)[0]\n",
        "    supply_zones = df.iloc[local_max_idx]\n",
        "    return demand_zones, supply_zones\n",
        "\n",
        "def calc_support_resistance_zone(df, window=10, pct_range=0.02):\n",
        "    recent_data = df.tail(window)\n",
        "    low = safe_scalar(recent_data['Low'].min())\n",
        "    high = safe_scalar(recent_data['High'].max())\n",
        "    support_zone_low = low\n",
        "    support_zone_high = low * (1 + pct_range) if pd.notna(low) else np.nan\n",
        "    resistance_zone_low = high * (1 - pct_range) if pd.notna(high) else np.nan\n",
        "    resistance_zone_high = high\n",
        "    return support_zone_low, support_zone_high, resistance_zone_low, resistance_zone_high\n",
        "\n",
        "def generate_score(rsi, ma_10, ma_20, ma_50, volume, volavg20):\n",
        "    score = 0\n",
        "    reasons = []\n",
        "    if float(rsi) < 30:\n",
        "        score += 2\n",
        "        reasons.append('RSI oversold')\n",
        "    elif float(rsi) > 70:\n",
        "        score -= 2\n",
        "        reasons.append('RSI overbought')\n",
        "    elif 45 <= float(rsi) <= 55:\n",
        "        score += 1\n",
        "        reasons.append('RSI neutral strong')\n",
        "\n",
        "    if float(ma_10) > float(ma_20) and float(ma_20) > float(ma_50):\n",
        "        score += 2\n",
        "        reasons.append('MA 10 > MA 20 > MA 50 strong uptrend')\n",
        "    elif float(ma_10) < float(ma_20) and float(ma_20) < float(ma_50):\n",
        "        score -= 2\n",
        "        reasons.append('MA 10 < MA 20 < MA 50 strong downtrend')\n",
        "\n",
        "    if float(volume) > 1.5 * float(volavg20):\n",
        "        score += 1\n",
        "        reasons.append('High volume')\n",
        "\n",
        "    if score >= 3:\n",
        "        signal = 'BUY'\n",
        "    elif score <= -2:\n",
        "        signal = 'SELL'\n",
        "    else:\n",
        "        signal = 'HOLD'\n",
        "\n",
        "    if not reasons:\n",
        "        reasons.append('No strong signals')\n",
        "\n",
        "    return score, signal, '; '.join(reasons)\n",
        "\n",
        "def plot_stock_analysis_with_rsi_colab(\n",
        "        ticker, period=\"6mo\", interval=\"1d\",\n",
        "        demand_zone_val=None, supply_zone_val=None,\n",
        "        support_zone_low=None, support_zone_high=None,\n",
        "        resistance_zone_low=None, resistance_zone_high=None,\n",
        "        signal=\"\"):\n",
        "\n",
        "    df = yf.download(ticker, period=period, interval=interval, group_by=\"column\", auto_adjust=True)\n",
        "    if isinstance(df.columns, pd.MultiIndex):\n",
        "        df.columns = [col[0] for col in df.columns]\n",
        "    df.dropna(subset=['Open', 'High', 'Low', 'Close', 'Volume'], inplace=True)\n",
        "\n",
        "    delta = df['Close'].diff()\n",
        "    gain = delta.clip(lower=0)\n",
        "    loss = -delta.clip(upper=0)\n",
        "    avg_gain = gain.rolling(14).mean()\n",
        "    avg_loss = loss.rolling(14).mean()\n",
        "    rs = avg_gain / avg_loss\n",
        "    df['RSI'] = 100 - (100 / (1 + rs))\n",
        "\n",
        "    addplots = [\n",
        "        mpf.make_addplot(df['RSI'], panel=2, color='purple', ylabel='RSI'),\n",
        "        mpf.make_addplot([70] * len(df), panel=2, color='red', linestyle='--'),\n",
        "        mpf.make_addplot([30] * len(df), panel=2, color='green', linestyle='--')\n",
        "    ]\n",
        "\n",
        "    mavcolors = ['blue', 'orange', 'green']\n",
        "    fig, axes = mpf.plot(\n",
        "        df, type='candle', mav=(10, 20, 50), volume=True,\n",
        "        addplot=addplots, panel_ratios=(6, 2, 3), style='yahoo',\n",
        "        title=f\"{ticker} | Signal: {signal}\",\n",
        "        ylabel='Price', ylabel_lower='Volume',\n",
        "        figratio=(30, 10),  # Wider figure width here\n",
        "        figscale=1.35,          # Larger scale for size\n",
        "        mavcolors=mavcolors,\n",
        "        returnfig=True\n",
        "    )\n",
        "\n",
        "    x = np.arange(len(df))\n",
        "\n",
        "    if demand_zone_val is not None and pd.notna(demand_zone_val):\n",
        "        axes[0].fill_between(x, demand_zone_val * 0.98, demand_zone_val * 1.02,\n",
        "                             color='green', alpha=0.2, label=\"Demand Zone\")\n",
        "    if supply_zone_val is not None and pd.notna(supply_zone_val):\n",
        "        axes[0].fill_between(x, supply_zone_val * 0.98, supply_zone_val * 1.02,\n",
        "                             color='red', alpha=0.2, label=\"Supply Zone\")\n",
        "\n",
        "    if support_zone_low is not None and support_zone_high is not None \\\n",
        "            and pd.notna(support_zone_low) and pd.notna(support_zone_high):\n",
        "        axes[0].fill_between(x, support_zone_low, support_zone_high,\n",
        "                             color='green', alpha=0.18, label=\"Support Zone Band\")\n",
        "        axes[0].hlines([support_zone_low, support_zone_high], xmin=0, xmax=len(df),\n",
        "                       colors='green', linestyles='--', linewidth=1.5, label=\"Support Zone\")\n",
        "\n",
        "    if resistance_zone_low is not None and resistance_zone_high is not None \\\n",
        "            and pd.notna(resistance_zone_low) and pd.notna(resistance_zone_high):\n",
        "        axes[0].fill_between(x, resistance_zone_low, resistance_zone_high,\n",
        "                             color='red', alpha=0.18, label=\"Resistance Zone Band\")\n",
        "        axes[0].hlines([resistance_zone_low, resistance_zone_high], xmin=0, xmax=len(df),\n",
        "                       colors='red', linestyles='--', linewidth=1.5, label=\"Resistance Zone\")\n",
        "\n",
        "    handles = [\n",
        "        mpatches.Patch(color='blue', label='MA 10'),\n",
        "        mpatches.Patch(color='orange', label='MA 20'),\n",
        "        mpatches.Patch(color='green', label='MA 50')\n",
        "    ]\n",
        "    axes[0].legend(handles=handles, loc='upper left')\n",
        "\n",
        "    last_close = round(df['Close'].iloc[-1], 2)\n",
        "    last_rsi = round(df['RSI'].iloc[-1], 1)\n",
        "    info_text = (f\"Price: {last_close}   |   RSI: {last_rsi}   |   \"\n",
        "                 f\"Support Zone: [{support_zone_low}, {support_zone_high}]   |   \"\n",
        "                 f\"Resistance Zone: [{resistance_zone_low}, {resistance_zone_high}]\"\n",
        "                 f\" Demand Zone: [{demand_zone_val}]   |   \"\n",
        "                 f\"Supply Zone: [{supply_zone_val}]\")\n",
        "    axes[0].text(0.01, 1.02, info_text, transform=axes[0].transAxes,\n",
        "                 fontsize=10, va='bottom', ha='left',\n",
        "                 bbox=dict(boxstyle='round,pad=0.4', facecolor='white', alpha=0.8))\n",
        "\n",
        "    import matplotlib.pyplot as plt\n",
        "    plt.show()\n",
        "\n",
        "def run_analysis(tickers):\n",
        "    ticker_data = {}\n",
        "    for ticker in tickers:\n",
        "        print(f\"Processing {ticker} ...\")\n",
        "        df = yf.download(ticker, period=\"90d\", interval=\"1d\", auto_adjust=True)\n",
        "        if df.empty:\n",
        "            print(f\"No data for {ticker}, skipping.\")\n",
        "            continue\n",
        "\n",
        "        df = calculate_ma(df)\n",
        "        df['RSI'] = calculate_rsi(df)\n",
        "        demand_zones, supply_zones = find_swing_zones(df)\n",
        "        last_date = df.index[-1]\n",
        "\n",
        "        demand_recent = demand_zones[demand_zones.index < last_date]\n",
        "        demand_zone_price = safe_scalar(demand_recent['Close'].iloc[-1]) if not demand_recent.empty else None\n",
        "        demand_zone_val = round(float(demand_zone_price), 2) if pd.notna(demand_zone_price) else None\n",
        "\n",
        "        supply_recent = supply_zones[supply_zones.index < last_date]\n",
        "        supply_zone_price = safe_scalar(supply_recent['Close'].iloc[-1]) if not supply_recent.empty else None\n",
        "        supply_zone_val = round(float(supply_zone_price), 2) if pd.notna(supply_zone_price) else None\n",
        "\n",
        "        support_zone_low, support_zone_high, resistance_zone_low, resistance_zone_high = calc_support_resistance_zone(df)\n",
        "\n",
        "        price_val = safe_scalar(df['Close'].iloc[-1])\n",
        "        rsi_val = safe_scalar(df['RSI'].iloc[-1])\n",
        "        ma_10_val = safe_scalar(df['MA_10'].iloc[-1])\n",
        "        ma_20_val = safe_scalar(df['MA_20'].iloc[-1])\n",
        "        ma_50_val = safe_scalar(df['MA_50'].iloc[-1])\n",
        "        volume_val = safe_scalar(df['Volume'].iloc[-1])\n",
        "        volavg20_val = safe_scalar(df['Volume'].rolling(20).mean().iloc[-1])\n",
        "        score, detected_signal, reasons = generate_score(\n",
        "            rsi_val, ma_10_val, ma_20_val, ma_50_val, volume_val, volavg20_val)\n",
        "\n",
        "        ticker_data[ticker] = {\n",
        "            'df': df,\n",
        "            'demand_zone_val': demand_zone_val,\n",
        "            'supply_zone_val': supply_zone_val,\n",
        "            'support_zone_low': support_zone_low,\n",
        "            'support_zone_high': support_zone_high,\n",
        "            'resistance_zone_low': resistance_zone_low,\n",
        "            'resistance_zone_high': resistance_zone_high,\n",
        "            'signal': detected_signal\n",
        "        }\n",
        "    print(\"Analysis complete.\")\n",
        "    return ticker_data\n",
        "\n",
        "def interactive_plot(ticker_data):\n",
        "    tickers_list = list(ticker_data.keys())\n",
        "    dropdown = widgets.Combobox(\n",
        "        placeholder='Type or select ticker',\n",
        "        options=tickers_list,\n",
        "        description='Ticker:',\n",
        "        ensure_option=True,\n",
        "        continuous_update=False,\n",
        "        layout=widgets.Layout(width='300px')\n",
        "    )\n",
        "    output = widgets.Output()\n",
        "\n",
        "    def on_ticker_change(change):\n",
        "        if change['type'] == 'change' and change['name'] == 'value':\n",
        "            selected_ticker = change['new']\n",
        "            if selected_ticker in ticker_data:\n",
        "                clear_output(wait=True)\n",
        "                with output:\n",
        "                    data = ticker_data[selected_ticker]\n",
        "                    plot_stock_analysis_with_rsi_colab(\n",
        "                        ticker=selected_ticker,\n",
        "                        demand_zone_val=data['demand_zone_val'],\n",
        "                        supply_zone_val=data['supply_zone_val'],\n",
        "                        support_zone_low=data['support_zone_low'],\n",
        "                        support_zone_high=data['support_zone_high'],\n",
        "                        resistance_zone_low=data['resistance_zone_low'],\n",
        "                        resistance_zone_high=data['resistance_zone_high'],\n",
        "                        signal=data['signal']\n",
        "                    )\n",
        "\n",
        "    dropdown.observe(on_ticker_change)\n",
        "    display(dropdown, output)\n",
        "\n",
        "# List your tickers below\n",
        "nse_tickers = [\n",
        "    \"DMART.NS\",\"TCS.NS\", \"BEL.NS\", \"DLF.NS\", \"GODREJCP.NS\", \"HDFCLIFE.NS\",\n",
        "    \"MAXHEALTH.NS\", \"SBILIFE.NS\", \"TRENT.NS\", \"VBL.NS\", \"KPIL.NS\",\n",
        "    \"GMRPUI.NS\", \"SWIGGY.NS\", \"ETERNAL.NS\", \"PAYTM.NS\",\n",
        "    \"ADANIPOWER.NS\", \"HEG.NS\"\n",
        "]\n",
        "\n",
        "# Run and cache results for all tickers\n",
        "ticker_results = run_analysis(nse_tickers)\n",
        "\n",
        "# Launch the interactive dropdown selector and plot viewer\n",
        "interactive_plot(ticker_results)\n"
      ],
      "metadata": {
        "colab": {
          "base_uri": "https://localhost:8080/",
          "height": 1000,
          "referenced_widgets": [
            "5e91c908771d472786840bd2e3a79c4b",
            "e76894e72d474826b25ec78a62532d3e",
            "770dae3700684ea2a0d9551b54636da2",
            "197e3564cb1b49ef91c9237df75084e7",
            "537ed478c6d34150a43cddcd82d9b569"
          ]
        },
        "id": "9ziF2ROCqIxp",
        "outputId": "2d0dc562-cf44-410d-8abe-893f3967d4a3"
      },
      "execution_count": 4,
      "outputs": [
        {
          "output_type": "stream",
          "name": "stderr",
          "text": [
            "\r[*********************100%***********************]  1 of 1 completed"
          ]
        },
        {
          "output_type": "stream",
          "name": "stdout",
          "text": [
            "Processing DMART.NS ...\n",
            "Processing TCS.NS ...\n"
          ]
        },
        {
          "output_type": "stream",
          "name": "stderr",
          "text": [
            "\n",
            "[*********************100%***********************]  1 of 1 completed\n",
            "[*********************100%***********************]  1 of 1 completed\n"
          ]
        },
        {
          "output_type": "stream",
          "name": "stdout",
          "text": [
            "Processing BEL.NS ...\n",
            "Processing DLF.NS ...\n"
          ]
        },
        {
          "output_type": "stream",
          "name": "stderr",
          "text": [
            "[*********************100%***********************]  1 of 1 completed\n",
            "[*********************100%***********************]  1 of 1 completed\n"
          ]
        },
        {
          "output_type": "stream",
          "name": "stdout",
          "text": [
            "Processing GODREJCP.NS ...\n",
            "Processing HDFCLIFE.NS ...\n"
          ]
        },
        {
          "output_type": "stream",
          "name": "stderr",
          "text": [
            "[*********************100%***********************]  1 of 1 completed\n",
            "[*********************100%***********************]  1 of 1 completed\n",
            "[*********************100%***********************]  1 of 1 completed\n"
          ]
        },
        {
          "output_type": "stream",
          "name": "stdout",
          "text": [
            "Processing MAXHEALTH.NS ...\n",
            "Processing SBILIFE.NS ...\n",
            "Processing TRENT.NS ...\n"
          ]
        },
        {
          "output_type": "stream",
          "name": "stderr",
          "text": [
            "[*********************100%***********************]  1 of 1 completed\n",
            "[*********************100%***********************]  1 of 1 completed\n",
            "[*********************100%***********************]  1 of 1 completed\n"
          ]
        },
        {
          "output_type": "stream",
          "name": "stdout",
          "text": [
            "Processing VBL.NS ...\n",
            "Processing KPIL.NS ...\n",
            "Processing GMRPUI.NS ...\n"
          ]
        },
        {
          "output_type": "stream",
          "name": "stderr",
          "text": [
            "ERROR:yfinance:HTTP Error 404: {\"quoteSummary\":{\"result\":null,\"error\":{\"code\":\"Not Found\",\"description\":\"Quote not found for symbol: GMRPUI.NS\"}}}\n",
            "[*********************100%***********************]  1 of 1 completed\n",
            "ERROR:yfinance:\n",
            "1 Failed download:\n",
            "ERROR:yfinance:['GMRPUI.NS']: YFPricesMissingError('possibly delisted; no price data found  (period=90d) (Yahoo error = \"No data found, symbol may be delisted\")')\n",
            "[*********************100%***********************]  1 of 1 completed\n"
          ]
        },
        {
          "output_type": "stream",
          "name": "stdout",
          "text": [
            "No data for GMRPUI.NS, skipping.\n",
            "Processing SWIGGY.NS ...\n",
            "Processing ETERNAL.NS ...\n"
          ]
        },
        {
          "output_type": "stream",
          "name": "stderr",
          "text": [
            "[*********************100%***********************]  1 of 1 completed\n",
            "[*********************100%***********************]  1 of 1 completed\n"
          ]
        },
        {
          "output_type": "stream",
          "name": "stdout",
          "text": [
            "Processing PAYTM.NS ...\n",
            "Processing ADANIPOWER.NS ...\n"
          ]
        },
        {
          "output_type": "stream",
          "name": "stderr",
          "text": [
            "[*********************100%***********************]  1 of 1 completed\n",
            "[*********************100%***********************]  1 of 1 completed"
          ]
        },
        {
          "output_type": "stream",
          "name": "stdout",
          "text": [
            "Processing HEG.NS ...\n",
            "Analysis complete.\n"
          ]
        },
        {
          "output_type": "stream",
          "name": "stderr",
          "text": [
            "\n"
          ]
        },
        {
          "output_type": "display_data",
          "data": {
            "text/plain": [
              "Combobox(value='', continuous_update=False, description='Ticker:', ensure_option=True, layout=Layout(width='30…"
            ],
            "application/vnd.jupyter.widget-view+json": {
              "version_major": 2,
              "version_minor": 0,
              "model_id": "5e91c908771d472786840bd2e3a79c4b"
            }
          },
          "metadata": {}
        },
        {
          "output_type": "display_data",
          "data": {
            "text/plain": [
              "Output()"
            ],
            "application/vnd.jupyter.widget-view+json": {
              "version_major": 2,
              "version_minor": 0,
              "model_id": "197e3564cb1b49ef91c9237df75084e7"
            }
          },
          "metadata": {}
        }
      ]
    },
    {
      "cell_type": "code",
      "source": [
        "pip install mplfinance"
      ],
      "metadata": {
        "colab": {
          "base_uri": "https://localhost:8080/"
        },
        "id": "3JYkP94zqXPB",
        "outputId": "0262839f-9f65-4fc7-f389-68fa8f6540a7"
      },
      "execution_count": 3,
      "outputs": [
        {
          "output_type": "stream",
          "name": "stdout",
          "text": [
            "Collecting mplfinance\n",
            "  Downloading mplfinance-0.12.10b0-py3-none-any.whl.metadata (19 kB)\n",
            "Requirement already satisfied: matplotlib in /usr/local/lib/python3.12/dist-packages (from mplfinance) (3.10.0)\n",
            "Requirement already satisfied: pandas in /usr/local/lib/python3.12/dist-packages (from mplfinance) (2.2.2)\n",
            "Requirement already satisfied: contourpy>=1.0.1 in /usr/local/lib/python3.12/dist-packages (from matplotlib->mplfinance) (1.3.3)\n",
            "Requirement already satisfied: cycler>=0.10 in /usr/local/lib/python3.12/dist-packages (from matplotlib->mplfinance) (0.12.1)\n",
            "Requirement already satisfied: fonttools>=4.22.0 in /usr/local/lib/python3.12/dist-packages (from matplotlib->mplfinance) (4.60.0)\n",
            "Requirement already satisfied: kiwisolver>=1.3.1 in /usr/local/lib/python3.12/dist-packages (from matplotlib->mplfinance) (1.4.9)\n",
            "Requirement already satisfied: numpy>=1.23 in /usr/local/lib/python3.12/dist-packages (from matplotlib->mplfinance) (2.0.2)\n",
            "Requirement already satisfied: packaging>=20.0 in /usr/local/lib/python3.12/dist-packages (from matplotlib->mplfinance) (25.0)\n",
            "Requirement already satisfied: pillow>=8 in /usr/local/lib/python3.12/dist-packages (from matplotlib->mplfinance) (11.3.0)\n",
            "Requirement already satisfied: pyparsing>=2.3.1 in /usr/local/lib/python3.12/dist-packages (from matplotlib->mplfinance) (3.2.4)\n",
            "Requirement already satisfied: python-dateutil>=2.7 in /usr/local/lib/python3.12/dist-packages (from matplotlib->mplfinance) (2.9.0.post0)\n",
            "Requirement already satisfied: pytz>=2020.1 in /usr/local/lib/python3.12/dist-packages (from pandas->mplfinance) (2025.2)\n",
            "Requirement already satisfied: tzdata>=2022.7 in /usr/local/lib/python3.12/dist-packages (from pandas->mplfinance) (2025.2)\n",
            "Requirement already satisfied: six>=1.5 in /usr/local/lib/python3.12/dist-packages (from python-dateutil>=2.7->matplotlib->mplfinance) (1.17.0)\n",
            "Downloading mplfinance-0.12.10b0-py3-none-any.whl (75 kB)\n",
            "\u001b[?25l   \u001b[90m━━━━━━━━━━━━━━━━━━━━━━━━━━━━━━━━━━━━━━━━\u001b[0m \u001b[32m0.0/75.0 kB\u001b[0m \u001b[31m?\u001b[0m eta \u001b[36m-:--:--\u001b[0m\r\u001b[2K   \u001b[90m━━━━━━━━━━━━━━━━━━━━━━━━━━━━━━━━━━━━━━━━\u001b[0m \u001b[32m75.0/75.0 kB\u001b[0m \u001b[31m5.8 MB/s\u001b[0m eta \u001b[36m0:00:00\u001b[0m\n",
            "\u001b[?25hInstalling collected packages: mplfinance\n",
            "Successfully installed mplfinance-0.12.10b0\n"
          ]
        }
      ]
    },
    {
      "cell_type": "markdown",
      "source": [
        "**Main Summary of Backtester 2**"
      ],
      "metadata": {
        "id": "EHo0dL1micBb"
      }
    },
    {
      "cell_type": "code",
      "execution_count": 5,
      "metadata": {
        "colab": {
          "base_uri": "https://localhost:8080/"
        },
        "id": "2LUSsNFRP6G0",
        "outputId": "2fb2b7cf-3055-4222-db49-4b2cd506c2c4"
      },
      "outputs": [
        {
          "output_type": "stream",
          "name": "stderr",
          "text": [
            "/tmp/ipython-input-4099634880.py:45: FutureWarning: YF.download() has changed argument auto_adjust default to True\n",
            "  data = yf.download(ticker, start=\"2022-01-01\", end=\"2022-12-31\")\n",
            "[*********************100%***********************]  1 of 1 completed\n",
            "/tmp/ipython-input-4099634880.py:45: FutureWarning: YF.download() has changed argument auto_adjust default to True\n",
            "  data = yf.download(ticker, start=\"2022-01-01\", end=\"2022-12-31\")\n",
            "[*********************100%***********************]  1 of 1 completed\n",
            "/tmp/ipython-input-4099634880.py:45: FutureWarning: YF.download() has changed argument auto_adjust default to True\n",
            "  data = yf.download(ticker, start=\"2022-01-01\", end=\"2022-12-31\")\n",
            "[*********************100%***********************]  1 of 1 completed"
          ]
        },
        {
          "output_type": "stream",
          "name": "stdout",
          "text": [
            "Running backtest on DMART.NS\n",
            "Running backtest on TCS.NS\n",
            "Running backtest on BEL.NS\n"
          ]
        },
        {
          "output_type": "stream",
          "name": "stderr",
          "text": [
            "\n",
            "/tmp/ipython-input-4099634880.py:45: FutureWarning: YF.download() has changed argument auto_adjust default to True\n",
            "  data = yf.download(ticker, start=\"2022-01-01\", end=\"2022-12-31\")\n",
            "[*********************100%***********************]  1 of 1 completed\n",
            "/tmp/ipython-input-4099634880.py:45: FutureWarning: YF.download() has changed argument auto_adjust default to True\n",
            "  data = yf.download(ticker, start=\"2022-01-01\", end=\"2022-12-31\")\n",
            "[*********************100%***********************]  1 of 1 completed\n",
            "/tmp/ipython-input-4099634880.py:45: FutureWarning: YF.download() has changed argument auto_adjust default to True\n",
            "  data = yf.download(ticker, start=\"2022-01-01\", end=\"2022-12-31\")\n",
            "[*********************100%***********************]  1 of 1 completed"
          ]
        },
        {
          "output_type": "stream",
          "name": "stdout",
          "text": [
            "Running backtest on DLF.NS\n",
            "Running backtest on GODREJCP.NS\n",
            "Running backtest on HDFCLIFE.NS\n"
          ]
        },
        {
          "output_type": "stream",
          "name": "stderr",
          "text": [
            "\n",
            "/tmp/ipython-input-4099634880.py:45: FutureWarning: YF.download() has changed argument auto_adjust default to True\n",
            "  data = yf.download(ticker, start=\"2022-01-01\", end=\"2022-12-31\")\n",
            "[*********************100%***********************]  1 of 1 completed\n",
            "/tmp/ipython-input-4099634880.py:45: FutureWarning: YF.download() has changed argument auto_adjust default to True\n",
            "  data = yf.download(ticker, start=\"2022-01-01\", end=\"2022-12-31\")\n",
            "[*********************100%***********************]  1 of 1 completed\n",
            "/tmp/ipython-input-4099634880.py:45: FutureWarning: YF.download() has changed argument auto_adjust default to True\n",
            "  data = yf.download(ticker, start=\"2022-01-01\", end=\"2022-12-31\")\n",
            "[*********************100%***********************]  1 of 1 completed"
          ]
        },
        {
          "output_type": "stream",
          "name": "stdout",
          "text": [
            "Running backtest on MAXHEALTH.NS\n",
            "Running backtest on SBILIFE.NS\n",
            "Running backtest on TRENT.NS\n"
          ]
        },
        {
          "output_type": "stream",
          "name": "stderr",
          "text": [
            "\n",
            "/tmp/ipython-input-4099634880.py:45: FutureWarning: YF.download() has changed argument auto_adjust default to True\n",
            "  data = yf.download(ticker, start=\"2022-01-01\", end=\"2022-12-31\")\n",
            "[*********************100%***********************]  1 of 1 completed\n",
            "/tmp/ipython-input-4099634880.py:45: FutureWarning: YF.download() has changed argument auto_adjust default to True\n",
            "  data = yf.download(ticker, start=\"2022-01-01\", end=\"2022-12-31\")\n"
          ]
        },
        {
          "output_type": "stream",
          "name": "stdout",
          "text": [
            "Running backtest on VBL.NS\n",
            "Running backtest on KPIL.NS\n"
          ]
        },
        {
          "output_type": "stream",
          "name": "stderr",
          "text": [
            "\r[*********************100%***********************]  1 of 1 completed\n",
            "ERROR:yfinance:\n",
            "1 Failed download:\n",
            "ERROR:yfinance:['KPIL.NS']: YFPricesMissingError('possibly delisted; no price data found  (1d 2022-01-01 -> 2022-12-31) (Yahoo error = \"Data doesn\\'t exist for startDate = 1640975400, endDate = 1672425000\")')\n",
            "/tmp/ipython-input-4099634880.py:45: FutureWarning: YF.download() has changed argument auto_adjust default to True\n",
            "  data = yf.download(ticker, start=\"2022-01-01\", end=\"2022-12-31\")\n"
          ]
        },
        {
          "output_type": "stream",
          "name": "stdout",
          "text": [
            "No data for KPIL.NS, skipping.\n",
            "Running backtest on GMRPUI.NS\n"
          ]
        },
        {
          "output_type": "stream",
          "name": "stderr",
          "text": [
            "ERROR:yfinance:HTTP Error 404: {\"quoteSummary\":{\"result\":null,\"error\":{\"code\":\"Not Found\",\"description\":\"Quote not found for symbol: GMRPUI.NS\"}}}\n",
            "[*********************100%***********************]  1 of 1 completed\n",
            "ERROR:yfinance:\n",
            "1 Failed download:\n",
            "ERROR:yfinance:['GMRPUI.NS']: YFTzMissingError('possibly delisted; no timezone found')\n",
            "/tmp/ipython-input-4099634880.py:45: FutureWarning: YF.download() has changed argument auto_adjust default to True\n",
            "  data = yf.download(ticker, start=\"2022-01-01\", end=\"2022-12-31\")\n"
          ]
        },
        {
          "output_type": "stream",
          "name": "stdout",
          "text": [
            "No data for GMRPUI.NS, skipping.\n",
            "Running backtest on SWIGGY.NS\n"
          ]
        },
        {
          "output_type": "stream",
          "name": "stderr",
          "text": [
            "\r[*********************100%***********************]  1 of 1 completed\n",
            "ERROR:yfinance:\n",
            "1 Failed download:\n",
            "ERROR:yfinance:['SWIGGY.NS']: YFPricesMissingError('possibly delisted; no price data found  (1d 2022-01-01 -> 2022-12-31) (Yahoo error = \"Data doesn\\'t exist for startDate = 1640975400, endDate = 1672425000\")')\n",
            "/tmp/ipython-input-4099634880.py:45: FutureWarning: YF.download() has changed argument auto_adjust default to True\n",
            "  data = yf.download(ticker, start=\"2022-01-01\", end=\"2022-12-31\")\n"
          ]
        },
        {
          "output_type": "stream",
          "name": "stdout",
          "text": [
            "No data for SWIGGY.NS, skipping.\n",
            "Running backtest on ETERNAL.NS\n"
          ]
        },
        {
          "output_type": "stream",
          "name": "stderr",
          "text": [
            "\r[*********************100%***********************]  1 of 1 completed\n",
            "/tmp/ipython-input-4099634880.py:45: FutureWarning: YF.download() has changed argument auto_adjust default to True\n",
            "  data = yf.download(ticker, start=\"2022-01-01\", end=\"2022-12-31\")\n"
          ]
        },
        {
          "output_type": "stream",
          "name": "stdout",
          "text": [
            "Running backtest on PAYTM.NS\n"
          ]
        },
        {
          "output_type": "stream",
          "name": "stderr",
          "text": [
            "\r[*********************100%***********************]  1 of 1 completed\n",
            "/tmp/ipython-input-4099634880.py:45: FutureWarning: YF.download() has changed argument auto_adjust default to True\n",
            "  data = yf.download(ticker, start=\"2022-01-01\", end=\"2022-12-31\")\n",
            "[*********************100%***********************]  1 of 1 completed"
          ]
        },
        {
          "output_type": "stream",
          "name": "stdout",
          "text": [
            "Running backtest on ADANIPOWER.NS\n"
          ]
        },
        {
          "output_type": "stream",
          "name": "stderr",
          "text": [
            "\n",
            "/tmp/ipython-input-4099634880.py:45: FutureWarning: YF.download() has changed argument auto_adjust default to True\n",
            "  data = yf.download(ticker, start=\"2022-01-01\", end=\"2022-12-31\")\n"
          ]
        },
        {
          "output_type": "stream",
          "name": "stdout",
          "text": [
            "Running backtest on HEG.NS\n"
          ]
        },
        {
          "output_type": "stream",
          "name": "stderr",
          "text": [
            "[*********************100%***********************]  1 of 1 completed\n",
            "/tmp/ipython-input-4099634880.py:45: FutureWarning: YF.download() has changed argument auto_adjust default to True\n",
            "  data = yf.download(ticker, start=\"2022-01-01\", end=\"2022-12-31\")\n",
            "[*********************100%***********************]  1 of 1 completed"
          ]
        },
        {
          "output_type": "stream",
          "name": "stdout",
          "text": [
            "Running backtest on PAYTM.NS\n",
            "           ticker   final_value sharpe        sqn  max_drawdown  total_trades\n",
            "0        DMART.NS   9728.000000   None   0.000000      3.832101             1\n",
            "1          TCS.NS   9568.533583   None -11.452395      4.895257             2\n",
            "2          BEL.NS  10032.333942   None   0.000000      0.138416             1\n",
            "3          DLF.NS   9925.619751   None  -1.449042      1.024440             2\n",
            "4     GODREJCP.NS   9917.645505   None -11.081001      1.444421             2\n",
            "5     HDFCLIFE.NS   9943.031877   None  -2.037617      1.140129             2\n",
            "6    MAXHEALTH.NS  10026.379822   None   0.000000      0.575381             1\n",
            "7      SBILIFE.NS   9908.007673   None  -0.216452      1.990935             2\n",
            "8        TRENT.NS   9890.018587   None  -0.651895      2.838231             2\n",
            "9          VBL.NS  10135.928045   None   0.000000      0.352969             0\n",
            "10     ETERNAL.NS  10002.200001   None   0.000000      0.110361             1\n",
            "11       PAYTM.NS  10098.299988   None   0.000000      1.254017             1\n",
            "12  ADANIPOWER.NS  10051.620003   None   2.247589      0.185007             2\n",
            "13         HEG.NS   9957.167285   None  -1.473724      0.654012             2\n",
            "14       PAYTM.NS  10098.299988   None   0.000000      1.254017             1\n"
          ]
        },
        {
          "output_type": "stream",
          "name": "stderr",
          "text": [
            "\n"
          ]
        }
      ],
      "source": [
        "import backtrader as bt\n",
        "import yfinance as yf\n",
        "import pandas as pd\n",
        "\n",
        "class CustomStrategy(bt.Strategy):\n",
        "    params = dict(rsi_period=14, ma_periods=(10, 20, 50), vol_period=20)\n",
        "\n",
        "    def __init__(self):\n",
        "        self.rsi = bt.indicators.RSI(self.data.close, period=self.p.rsi_period)\n",
        "        self.ma10 = bt.indicators.SMA(self.data.close, period=self.p.ma_periods[0])\n",
        "        self.ma20 = bt.indicators.SMA(self.data.close, period=self.p.ma_periods[1])\n",
        "        self.ma50 = bt.indicators.SMA(self.data.close, period=self.p.ma_periods[2])\n",
        "        self.volma = bt.indicators.SMA(self.data.volume, period=self.p.vol_period)\n",
        "\n",
        "    def next(self):\n",
        "        score = 0\n",
        "        if self.rsi[0] < 30:\n",
        "            score += 2\n",
        "        elif self.rsi[0] > 70:\n",
        "            score -= 2\n",
        "        elif 45 <= self.rsi[0] <= 55:\n",
        "            score += 1\n",
        "        if self.ma10[0] > self.ma20[0] > self.ma50[0]:\n",
        "            score += 2\n",
        "        elif self.ma10[0] < self.ma20[0] < self.ma50[0]:\n",
        "            score -= 2\n",
        "        if self.data.volume[0] > 1.5 * self.volma[0]:\n",
        "            score += 1\n",
        "        if not self.position:\n",
        "            if score >= 3:\n",
        "                self.buy()\n",
        "        elif score <= -2:\n",
        "            self.sell()\n",
        "\n",
        "tickers = [\n",
        "    \"DMART.NS\",\"TCS.NS\", \"BEL.NS\", \"DLF.NS\", \"GODREJCP.NS\", \"HDFCLIFE.NS\",\n",
        "    \"MAXHEALTH.NS\", \"SBILIFE.NS\", \"TRENT.NS\", \"VBL.NS\", \"KPIL.NS\",\n",
        "    \"GMRPUI.NS\",\"SWIGGY.NS\",\"ETERNAL.NS\",\"PAYTM.NS\",\"ADANIPOWER.NS\",\"HEG.NS\",\"PAYTM.NS\"\n",
        "]\n",
        "\n",
        "results = []\n",
        "\n",
        "for ticker in tickers:\n",
        "    print(f\"Running backtest on {ticker}\")\n",
        "    data = yf.download(ticker, start=\"2022-01-01\", end=\"2022-12-31\")\n",
        "    if data.empty:\n",
        "        print(f\"No data for {ticker}, skipping.\")\n",
        "        continue\n",
        "    if isinstance(data.columns, pd.MultiIndex):\n",
        "        data.columns = data.columns.droplevel(1)\n",
        "    cerebro = bt.Cerebro()\n",
        "    cerebro.addstrategy(CustomStrategy)\n",
        "    data_feed = bt.feeds.PandasData(dataname=data)\n",
        "    cerebro.adddata(data_feed)\n",
        "    cerebro.broker.setcash(10000)\n",
        "    cerebro.addanalyzer(bt.analyzers.SharpeRatio, _name='sharpe')\n",
        "    cerebro.addanalyzer(bt.analyzers.SQN, _name='sqn')\n",
        "    cerebro.addanalyzer(bt.analyzers.DrawDown, _name='drawdown')\n",
        "    cerebro.addanalyzer(bt.analyzers.TradeAnalyzer, _name='trade')\n",
        "    strat = cerebro.run()[0]\n",
        "\n",
        "    # Defensive access to trade count (no KeyError)\n",
        "    trade_analysis = strat.analyzers.trade.get_analysis()\n",
        "    total_trades = 0\n",
        "    if 'total' in trade_analysis and 'closed' in trade_analysis['total']:\n",
        "        total_trades = trade_analysis['total']['closed']\n",
        "\n",
        "    perf = dict(\n",
        "        ticker=ticker,\n",
        "        final_value=cerebro.broker.getvalue(),\n",
        "        sharpe=strat.analyzers.sharpe.get_analysis().get('sharperatio'),\n",
        "        sqn=strat.analyzers.sqn.get_analysis().get('sqn'),\n",
        "        max_drawdown=strat.analyzers.drawdown.get_analysis().max.drawdown,\n",
        "        total_trades=total_trades\n",
        "    )\n",
        "    results.append(perf)\n",
        "\n",
        "df = pd.DataFrame(results)\n",
        "print(df)\n"
      ]
    },
    {
      "cell_type": "markdown",
      "source": [
        "**Overall PnL of Backtester  2**"
      ],
      "metadata": {
        "id": "CO6QJMvEimFA"
      }
    },
    {
      "cell_type": "code",
      "source": [
        "import backtrader as bt\n",
        "import yfinance as yf\n",
        "import pandas as pd\n",
        "\n",
        "class CustomStrategy(bt.Strategy):\n",
        "    params = dict(rsi_period=14, ma_periods=(10, 20, 50), vol_period=20)\n",
        "\n",
        "    def __init__(self):\n",
        "        self.rsi = bt.indicators.RSI(self.data.close, period=self.p.rsi_period)\n",
        "        self.ma10 = bt.indicators.SMA(self.data.close, period=self.p.ma_periods[0])\n",
        "        self.ma20 = bt.indicators.SMA(self.data.close, period=self.p.ma_periods[1])\n",
        "        self.ma50 = bt.indicators.SMA(self.data.close, period=self.p.ma_periods[2])\n",
        "        self.volma = bt.indicators.SMA(self.data.volume, period=self.p.vol_period)\n",
        "\n",
        "    def next(self):\n",
        "        score = 0\n",
        "        if self.rsi[0] < 30:\n",
        "            score += 2\n",
        "        elif self.rsi[0] > 70:\n",
        "            score -= 2\n",
        "        elif 45 <= self.rsi[0] <= 55:\n",
        "            score += 1\n",
        "        if self.ma10[0] > self.ma20[0] > self.ma50[0]:\n",
        "            score += 2\n",
        "        elif self.ma10[0] < self.ma20[0] < self.ma50[0]:\n",
        "            score -= 2\n",
        "        if self.data.volume[0] > 1.5 * self.volma[0]:\n",
        "            score += 1\n",
        "        if not self.position:\n",
        "            if score >= 3:\n",
        "                self.buy()\n",
        "        elif score <= -2:\n",
        "            self.sell()\n",
        "\n",
        "tickers = [\n",
        "    \"DMART.NS\",\"TCS.NS\", \"BEL.NS\", \"DLF.NS\", \"GODREJCP.NS\",\n",
        "    \"HDFCLIFE.NS\",\"MAXHEALTH\",\"SBILIFE\",\"TRENT.NS\",\"VBL.NS\",\n",
        "    \"KPIL\",\"GMRTHU\",\"SWIGGY\",\"ETERNAL\",\"PAYTM\",\"ADANPOWER\",\"HEG\"\n",
        "]\n",
        "\n",
        "results = []\n",
        "\n",
        "for ticker in tickers:\n",
        "    print(f\"Running backtest on {ticker}\")\n",
        "    data = yf.download(ticker, start=\"2024-01-01\", end=\"2024-12-31\")\n",
        "    if data.empty:\n",
        "        print(f\"No data for {ticker}, skipping.\")\n",
        "        continue\n",
        "    if isinstance(data.columns, pd.MultiIndex):\n",
        "        data.columns = data.columns.droplevel(1)\n",
        "    cerebro = bt.Cerebro()\n",
        "    cerebro.addstrategy(CustomStrategy)\n",
        "    data_feed = bt.feeds.PandasData(dataname=data)\n",
        "    cerebro.adddata(data_feed)\n",
        "    cerebro.broker.setcash(10000)\n",
        "\n",
        "    cerebro.addanalyzer(bt.analyzers.SharpeRatio, _name='sharpe')\n",
        "    cerebro.addanalyzer(bt.analyzers.SQN, _name='sqn')\n",
        "    cerebro.addanalyzer(bt.analyzers.DrawDown, _name='drawdown')\n",
        "    cerebro.addanalyzer(bt.analyzers.TradeAnalyzer, _name='trade')\n",
        "\n",
        "    strat = cerebro.run()[0]\n",
        "\n",
        "    trade_analysis = strat.analyzers.trade.get_analysis()\n",
        "\n",
        "    total_trades = trade_analysis.get('long', {}).get('total', 0)  # only long trades\n",
        "    won_trades = trade_analysis.get('won', {}).get('total', 0)\n",
        "    lost_trades = trade_analysis.get('lost', {}).get('total', 0)\n",
        "    win_rate = won_trades / total_trades if total_trades else 0\n",
        "    gross_profit = trade_analysis.get('won', {}).get('pnl', {}).get('total', 0)\n",
        "    gross_loss = trade_analysis.get('lost', {}).get('pnl', {}).get('total', 0)\n",
        "    net_profit = trade_analysis.get('pnl', {}).get('net', {}).get('total', 0)\n",
        "    avg_win = trade_analysis.get('won', {}).get('pnl', {}).get('average', 0)\n",
        "    avg_loss = trade_analysis.get('lost', {}).get('pnl', {}).get('average', 0)\n",
        "    avg_trade = net_profit / total_trades if total_trades else 0\n",
        "    max_win = trade_analysis.get('won', {}).get('pnl', {}).get('max', 0)\n",
        "    max_loss = trade_analysis.get('lost', {}).get('pnl', {}).get('min', 0)\n",
        "    profit_factor = gross_profit / abs(gross_loss) if gross_loss != 0 else float('inf')\n",
        "\n",
        "    max_drawdown = strat.analyzers.drawdown.get_analysis().max.drawdown\n",
        "    sharpe_ratio = strat.analyzers.sharpe.get_analysis().get('sharperatio', None)\n",
        "    sqn = strat.analyzers.sqn.get_analysis().get('sqn', None)\n",
        "\n",
        "    results.append(dict(\n",
        "        ticker=ticker,\n",
        "        final_value=cerebro.broker.getvalue(),\n",
        "        sharpe=sharpe_ratio,\n",
        "        sqn=sqn,\n",
        "        max_drawdown=max_drawdown,\n",
        "        total_trades=total_trades,\n",
        "        winning_trades=won_trades,\n",
        "        losing_trades=lost_trades,\n",
        "        win_rate=win_rate,\n",
        "        gross_profit=gross_profit,\n",
        "        gross_loss=gross_loss,\n",
        "        net_profit=net_profit,\n",
        "        average_win=avg_win,\n",
        "        average_loss=avg_loss,\n",
        "        average_trade_pnl=avg_trade,\n",
        "        max_win=max_win,\n",
        "        max_loss=max_loss,\n",
        "        profit_factor=profit_factor,\n",
        "        # long_trades=total_trades,  # since only long\n",
        "    ))\n",
        "\n",
        "df = pd.DataFrame(results)\n",
        "print(df)\n"
      ],
      "metadata": {
        "colab": {
          "base_uri": "https://localhost:8080/"
        },
        "id": "7BSVUQV9QiWO",
        "outputId": "21f04d39-03af-4915-af66-c8d2c53cad63"
      },
      "execution_count": 12,
      "outputs": [
        {
          "output_type": "stream",
          "name": "stderr",
          "text": [
            "/tmp/ipython-input-2607559164.py:45: FutureWarning: YF.download() has changed argument auto_adjust default to True\n",
            "  data = yf.download(ticker, start=\"2024-01-01\", end=\"2024-12-31\")\n",
            "\r[*********************100%***********************]  1 of 1 completed"
          ]
        },
        {
          "output_type": "stream",
          "name": "stdout",
          "text": [
            "Running backtest on DMART.NS\n"
          ]
        },
        {
          "output_type": "stream",
          "name": "stderr",
          "text": [
            "\n",
            "/tmp/ipython-input-2607559164.py:45: FutureWarning: YF.download() has changed argument auto_adjust default to True\n",
            "  data = yf.download(ticker, start=\"2024-01-01\", end=\"2024-12-31\")\n",
            "[*********************100%***********************]  1 of 1 completed"
          ]
        },
        {
          "output_type": "stream",
          "name": "stdout",
          "text": [
            "Running backtest on TCS.NS\n"
          ]
        },
        {
          "output_type": "stream",
          "name": "stderr",
          "text": [
            "\n",
            "/tmp/ipython-input-2607559164.py:45: FutureWarning: YF.download() has changed argument auto_adjust default to True\n",
            "  data = yf.download(ticker, start=\"2024-01-01\", end=\"2024-12-31\")\n",
            "[*********************100%***********************]  1 of 1 completed\n"
          ]
        },
        {
          "output_type": "stream",
          "name": "stdout",
          "text": [
            "Running backtest on BEL.NS\n"
          ]
        },
        {
          "output_type": "stream",
          "name": "stderr",
          "text": [
            "/tmp/ipython-input-2607559164.py:45: FutureWarning: YF.download() has changed argument auto_adjust default to True\n",
            "  data = yf.download(ticker, start=\"2024-01-01\", end=\"2024-12-31\")\n",
            "[*********************100%***********************]  1 of 1 completed"
          ]
        },
        {
          "output_type": "stream",
          "name": "stdout",
          "text": [
            "Running backtest on DLF.NS\n"
          ]
        },
        {
          "output_type": "stream",
          "name": "stderr",
          "text": [
            "\n",
            "/tmp/ipython-input-2607559164.py:45: FutureWarning: YF.download() has changed argument auto_adjust default to True\n",
            "  data = yf.download(ticker, start=\"2024-01-01\", end=\"2024-12-31\")\n",
            "[*********************100%***********************]  1 of 1 completed"
          ]
        },
        {
          "output_type": "stream",
          "name": "stdout",
          "text": [
            "Running backtest on GODREJCP.NS\n"
          ]
        },
        {
          "output_type": "stream",
          "name": "stderr",
          "text": [
            "\n",
            "/tmp/ipython-input-2607559164.py:45: FutureWarning: YF.download() has changed argument auto_adjust default to True\n",
            "  data = yf.download(ticker, start=\"2024-01-01\", end=\"2024-12-31\")\n",
            "[*********************100%***********************]  1 of 1 completed"
          ]
        },
        {
          "output_type": "stream",
          "name": "stdout",
          "text": [
            "Running backtest on HDFCLIFE.NS\n"
          ]
        },
        {
          "output_type": "stream",
          "name": "stderr",
          "text": [
            "\n",
            "/tmp/ipython-input-2607559164.py:45: FutureWarning: YF.download() has changed argument auto_adjust default to True\n",
            "  data = yf.download(ticker, start=\"2024-01-01\", end=\"2024-12-31\")\n",
            "[*********************100%***********************]  1 of 1 completed\n",
            "ERROR:yfinance:\n",
            "1 Failed download:\n",
            "ERROR:yfinance:['MAXHEALTH']: possibly delisted; no timezone found\n",
            "/tmp/ipython-input-2607559164.py:45: FutureWarning: YF.download() has changed argument auto_adjust default to True\n",
            "  data = yf.download(ticker, start=\"2024-01-01\", end=\"2024-12-31\")\n",
            "[*********************100%***********************]  1 of 1 completed\n",
            "ERROR:yfinance:\n",
            "1 Failed download:\n",
            "ERROR:yfinance:['SBILIFE']: YFTzMissingError('possibly delisted; no timezone found')\n",
            "/tmp/ipython-input-2607559164.py:45: FutureWarning: YF.download() has changed argument auto_adjust default to True\n",
            "  data = yf.download(ticker, start=\"2024-01-01\", end=\"2024-12-31\")\n"
          ]
        },
        {
          "output_type": "stream",
          "name": "stdout",
          "text": [
            "Running backtest on MAXHEALTH\n",
            "No data for MAXHEALTH, skipping.\n",
            "Running backtest on SBILIFE\n",
            "No data for SBILIFE, skipping.\n",
            "Running backtest on TRENT.NS\n"
          ]
        },
        {
          "output_type": "stream",
          "name": "stderr",
          "text": [
            "\r[*********************100%***********************]  1 of 1 completed\n",
            "/tmp/ipython-input-2607559164.py:45: FutureWarning: YF.download() has changed argument auto_adjust default to True\n",
            "  data = yf.download(ticker, start=\"2024-01-01\", end=\"2024-12-31\")\n",
            "[*********************100%***********************]  1 of 1 completed"
          ]
        },
        {
          "output_type": "stream",
          "name": "stdout",
          "text": [
            "Running backtest on VBL.NS\n"
          ]
        },
        {
          "output_type": "stream",
          "name": "stderr",
          "text": [
            "\n",
            "/tmp/ipython-input-2607559164.py:45: FutureWarning: YF.download() has changed argument auto_adjust default to True\n",
            "  data = yf.download(ticker, start=\"2024-01-01\", end=\"2024-12-31\")\n",
            "[*********************100%***********************]  1 of 1 completed\n",
            "ERROR:yfinance:\n",
            "1 Failed download:\n",
            "ERROR:yfinance:['KPIL']: YFTzMissingError('possibly delisted; no timezone found')\n",
            "/tmp/ipython-input-2607559164.py:45: FutureWarning: YF.download() has changed argument auto_adjust default to True\n",
            "  data = yf.download(ticker, start=\"2024-01-01\", end=\"2024-12-31\")\n",
            "[*********************100%***********************]  1 of 1 completed\n",
            "ERROR:yfinance:\n",
            "1 Failed download:\n",
            "ERROR:yfinance:['GMRTHU']: YFTzMissingError('possibly delisted; no timezone found')\n",
            "/tmp/ipython-input-2607559164.py:45: FutureWarning: YF.download() has changed argument auto_adjust default to True\n",
            "  data = yf.download(ticker, start=\"2024-01-01\", end=\"2024-12-31\")\n",
            "[*********************100%***********************]  1 of 1 completed\n",
            "ERROR:yfinance:\n",
            "1 Failed download:\n",
            "ERROR:yfinance:['SWIGGY']: YFTzMissingError('possibly delisted; no timezone found')\n",
            "/tmp/ipython-input-2607559164.py:45: FutureWarning: YF.download() has changed argument auto_adjust default to True\n",
            "  data = yf.download(ticker, start=\"2024-01-01\", end=\"2024-12-31\")\n",
            "[*********************100%***********************]  1 of 1 completed\n",
            "ERROR:yfinance:\n",
            "1 Failed download:\n",
            "ERROR:yfinance:['ETERNAL']: YFTzMissingError('possibly delisted; no timezone found')\n",
            "/tmp/ipython-input-2607559164.py:45: FutureWarning: YF.download() has changed argument auto_adjust default to True\n",
            "  data = yf.download(ticker, start=\"2024-01-01\", end=\"2024-12-31\")\n",
            "[*********************100%***********************]  1 of 1 completed\n",
            "ERROR:yfinance:\n",
            "1 Failed download:\n",
            "ERROR:yfinance:['PAYTM']: YFTzMissingError('possibly delisted; no timezone found')\n",
            "/tmp/ipython-input-2607559164.py:45: FutureWarning: YF.download() has changed argument auto_adjust default to True\n",
            "  data = yf.download(ticker, start=\"2024-01-01\", end=\"2024-12-31\")\n",
            "[*********************100%***********************]  1 of 1 completed\n",
            "ERROR:yfinance:\n",
            "1 Failed download:\n",
            "ERROR:yfinance:['ADANPOWER']: YFTzMissingError('possibly delisted; no timezone found')\n",
            "/tmp/ipython-input-2607559164.py:45: FutureWarning: YF.download() has changed argument auto_adjust default to True\n",
            "  data = yf.download(ticker, start=\"2024-01-01\", end=\"2024-12-31\")\n",
            "[*********************100%***********************]  1 of 1 completed\n",
            "ERROR:yfinance:\n",
            "1 Failed download:\n",
            "ERROR:yfinance:['HEG']: YFTzMissingError('possibly delisted; no timezone found')\n"
          ]
        },
        {
          "output_type": "stream",
          "name": "stdout",
          "text": [
            "Running backtest on KPIL\n",
            "No data for KPIL, skipping.\n",
            "Running backtest on GMRTHU\n",
            "No data for GMRTHU, skipping.\n",
            "Running backtest on SWIGGY\n",
            "No data for SWIGGY, skipping.\n",
            "Running backtest on ETERNAL\n",
            "No data for ETERNAL, skipping.\n",
            "Running backtest on PAYTM\n",
            "No data for PAYTM, skipping.\n",
            "Running backtest on ADANPOWER\n",
            "No data for ADANPOWER, skipping.\n",
            "Running backtest on HEG\n",
            "No data for HEG, skipping.\n",
            "        ticker   final_value sharpe       sqn  max_drawdown  total_trades  \\\n",
            "0     DMART.NS  10296.899902   None  0.291806     10.339725             2   \n",
            "1       TCS.NS   9844.700983   None  0.196850      6.110683             3   \n",
            "2       BEL.NS  10091.121983   None  3.249551      0.617120             2   \n",
            "3       DLF.NS   9933.233826   None -0.056050      1.904867             2   \n",
            "4  GODREJCP.NS   9961.348373   None  0.000000      2.486841             1   \n",
            "5  HDFCLIFE.NS   9989.724568   None -0.138642      0.945139             2   \n",
            "6     TRENT.NS  12616.895192   None  0.000000     13.478350             1   \n",
            "7       VBL.NS   9963.960072   None -1.372803      1.735008             3   \n",
            "\n",
            "   winning_trades  losing_trades  win_rate  gross_profit  gross_loss  \\\n",
            "0               1              1  0.500000    867.899902 -571.000000   \n",
            "1               1              2  0.333333    586.028552 -451.396362   \n",
            "2               2              0  1.000000     96.182176    0.000000   \n",
            "3               1              1  0.500000     35.535527  -38.468574   \n",
            "4               1              0  1.000000     29.951694    0.000000   \n",
            "5               1              1  0.500000     47.269390  -57.544822   \n",
            "6               1              0  1.000000   2616.895192    0.000000   \n",
            "7               1              2  0.333333     13.246217  -66.686529   \n",
            "\n",
            "    net_profit  average_win  average_loss  average_trade_pnl      max_win  \\\n",
            "0   296.899902   867.899902   -571.000000         148.449951   867.899902   \n",
            "1   134.632190   586.028552   -225.698181          44.877397   586.028552   \n",
            "2    96.182176    48.091088      0.000000          48.091088    69.020464   \n",
            "3    -2.933047    35.535527    -38.468574          -1.466524    35.535527   \n",
            "4    29.951694    29.951694      0.000000          29.951694    29.951694   \n",
            "5   -10.275432    47.269390    -57.544822          -5.137716    47.269390   \n",
            "6  2616.895192  2616.895192      0.000000        2616.895192  2616.895192   \n",
            "7   -53.440312    13.246217    -33.343265         -17.813437    13.246217   \n",
            "\n",
            "   max_loss  profit_factor  \n",
            "0         0       1.519965  \n",
            "1         0       1.298257  \n",
            "2         0            inf  \n",
            "3         0       0.923755  \n",
            "4         0            inf  \n",
            "5         0       0.821436  \n",
            "6         0            inf  \n",
            "7         0       0.198634  \n"
          ]
        }
      ]
    },
    {
      "cell_type": "markdown",
      "source": [
        "**Overall Transaction of Backtester 2**"
      ],
      "metadata": {
        "id": "xl4_1X7Wi2xR"
      }
    },
    {
      "cell_type": "code",
      "source": [
        "import backtrader as bt\n",
        "import yfinance as yf\n",
        "import pandas as pd\n",
        "\n",
        "class CustomStrategy(bt.Strategy):\n",
        "    params = dict(rsi_period=14, ma_periods=(10,20,50), vol_period=20)\n",
        "\n",
        "    def __init__(self):\n",
        "        self.rsi = bt.indicators.RSI(self.data.close, period=self.p.rsi_period)\n",
        "        self.ma10 = bt.indicators.SMA(self.data.close, period=self.p.ma_periods[0])\n",
        "        self.ma20 = bt.indicators.SMA(self.data.close, period=self.p.ma_periods[1])\n",
        "        self.ma50 = bt.indicators.SMA(self.data.close, period=self.p.ma_periods[2])\n",
        "        self.volma = bt.indicators.SMA(self.data.volume, period=self.p.vol_period)\n",
        "        self.trades = []  # list to collect trades info\n",
        "\n",
        "    def log(self, txt):\n",
        "        dt = self.datas[0].datetime.date(0)\n",
        "        print(f'{dt.isoformat()}, {txt}')\n",
        "\n",
        "    def notify_order(self, order):\n",
        "        if order.status in [order.Completed]:\n",
        "            if order.isbuy():\n",
        "                self.log(f'BUY EXECUTED, Price: {order.executed.price:.2f}, Size: {order.executed.size}')\n",
        "                self.trade_entry_date = self.datas[0].datetime.date(0)\n",
        "                self.trade_entry_price = order.executed.price\n",
        "            elif order.issell():\n",
        "                self.log(f'SELL EXECUTED, Price: {order.executed.price:.2f}, Size: {order.executed.size}')\n",
        "                trade_exit_date = self.datas[0].datetime.date(0)\n",
        "                trade_exit_price = order.executed.price\n",
        "                profit = (trade_exit_price - self.trade_entry_price) * order.executed.size\n",
        "                self.trades.append({\n",
        "                    'entry_date': self.trade_entry_date,\n",
        "                    'entry_price': self.trade_entry_price,\n",
        "                    'exit_date': trade_exit_date,\n",
        "                    'exit_price': trade_exit_price,\n",
        "                    'profit': profit\n",
        "                })\n",
        "\n",
        "    def next(self):\n",
        "        score = 0\n",
        "        if self.rsi[0] < 30:\n",
        "            score += 2\n",
        "        elif self.rsi[0] > 70:\n",
        "            score -= 2\n",
        "        elif 45 <= self.rsi[0] <= 55:\n",
        "            score += 1\n",
        "\n",
        "        if self.ma10[0] > self.ma20[0] > self.ma50[0]:\n",
        "            score += 2\n",
        "        elif self.ma10[0] < self.ma20[0] < self.ma50[0]:\n",
        "            score -= 2\n",
        "\n",
        "        if self.data.volume[0] > 1.5 * self.volma[0]:\n",
        "            score += 1\n",
        "\n",
        "        if not self.position:\n",
        "            if score >=3:\n",
        "                self.buy()\n",
        "        else:\n",
        "            if score <= -2:\n",
        "                self.sell()\n",
        "\n",
        "# Run backtests for multiple tickers and collect trade details\n",
        "\n",
        "tickers = [\"DMART.NS\",\"TCS.NS\", \"BEL.NS\", \"DLF.NS\", \"GODREJCP.NS\", \"HDFCLIFE.NS\",\n",
        "    \"MAXHEALTH.NS\", \"SBILIFE.NS\", \"TRENT.NS\", \"VBL.NS\", \"KPIL.NS\", \"GMRPUI.NS\",\"SWIGGY.NS\",\"ETERNAL.NS\",\"PAYTM.NS\",\"ADANIPOWER.NS\",\"HEG.NS\",\"PAYTM.NS\"]\n",
        "trade_details = []\n",
        "\n",
        "for ticker in tickers:\n",
        "    print(f'Running backtest for {ticker}...')\n",
        "    data = yf.download(ticker, start='2022-01-01', end='2023-01-01')\n",
        "    if data.empty:\n",
        "        print(f'No data for {ticker}, skipping.')\n",
        "        continue\n",
        "\n",
        "    if isinstance(data.columns, pd.MultiIndex):\n",
        "        # flatten columns\n",
        "        data.columns = data.columns.get_level_values(0)\n",
        "\n",
        "    cerebro = bt.Cerebro()\n",
        "    cerebro.addstrategy(CustomStrategy)\n",
        "    data_feed = bt.feeds.PandasData(dataname=data)\n",
        "    cerebro.adddata(data_feed)\n",
        "    cerebro.broker.setcash(10000)\n",
        "\n",
        "    results = cerebro.run()\n",
        "    strat = results[0]\n",
        "\n",
        "    print(f'Final Portfolio Value for {ticker}: {cerebro.broker.getvalue():.2f}')\n",
        "    trade_details.extend([{'Ticker': ticker, **t} for t in strat.trades])\n",
        "\n",
        "# Convert trade details to DataFrame\n",
        "trade_df = pd.DataFrame(trade_details)\n",
        "print(trade_df)\n"
      ],
      "metadata": {
        "colab": {
          "base_uri": "https://localhost:8080/"
        },
        "id": "mq0WI8bZSa1Y",
        "outputId": "90d4fa01-d3b9-4667-cb62-b92cbca45dbe"
      },
      "execution_count": 14,
      "outputs": [
        {
          "output_type": "stream",
          "name": "stderr",
          "text": [
            "/tmp/ipython-input-2642917269.py:71: FutureWarning: YF.download() has changed argument auto_adjust default to True\n",
            "  data = yf.download(ticker, start='2022-01-01', end='2023-01-01')\n",
            "[*********************100%***********************]  1 of 1 completed\n",
            "/tmp/ipython-input-2642917269.py:71: FutureWarning: YF.download() has changed argument auto_adjust default to True\n",
            "  data = yf.download(ticker, start='2022-01-01', end='2023-01-01')\n",
            "[*********************100%***********************]  1 of 1 completed\n",
            "/tmp/ipython-input-2642917269.py:71: FutureWarning: YF.download() has changed argument auto_adjust default to True\n",
            "  data = yf.download(ticker, start='2022-01-01', end='2023-01-01')\n",
            "[*********************100%***********************]  1 of 1 completed"
          ]
        },
        {
          "output_type": "stream",
          "name": "stdout",
          "text": [
            "Running backtest for DMART.NS...\n",
            "2022-09-12, BUY EXECUTED, Price: 4440.00, Size: 1\n",
            "2022-10-19, SELL EXECUTED, Price: 4168.00, Size: -1\n",
            "Final Portfolio Value for DMART.NS: 9728.00\n",
            "Running backtest for TCS.NS...\n",
            "2022-04-08, BUY EXECUTED, Price: 3489.66, Size: 1\n",
            "2022-05-02, SELL EXECUTED, Price: 3328.79, Size: -1\n",
            "2022-08-24, BUY EXECUTED, Price: 3142.51, Size: 1\n",
            "2022-09-16, SELL EXECUTED, Price: 2936.32, Size: -1\n",
            "2022-11-14, BUY EXECUTED, Price: 3181.27, Size: 1\n",
            "Final Portfolio Value for TCS.NS: 9568.53\n",
            "Running backtest for BEL.NS...\n"
          ]
        },
        {
          "output_type": "stream",
          "name": "stderr",
          "text": [
            "\n",
            "/tmp/ipython-input-2642917269.py:71: FutureWarning: YF.download() has changed argument auto_adjust default to True\n",
            "  data = yf.download(ticker, start='2022-01-01', end='2023-01-01')\n",
            "[*********************100%***********************]  1 of 1 completed\n",
            "/tmp/ipython-input-2642917269.py:71: FutureWarning: YF.download() has changed argument auto_adjust default to True\n",
            "  data = yf.download(ticker, start='2022-01-01', end='2023-01-01')\n",
            "[*********************100%***********************]  1 of 1 completed\n"
          ]
        },
        {
          "output_type": "stream",
          "name": "stdout",
          "text": [
            "2022-03-16, BUY EXECUTED, Price: 66.37, Size: 1\n",
            "2022-12-16, SELL EXECUTED, Price: 98.70, Size: -1\n",
            "Final Portfolio Value for BEL.NS: 10032.33\n",
            "Running backtest for DLF.NS...\n",
            "2022-04-20, BUY EXECUTED, Price: 368.28, Size: 1\n",
            "2022-05-16, SELL EXECUTED, Price: 311.92, Size: -1\n",
            "2022-08-23, BUY EXECUTED, Price: 353.65, Size: 1\n",
            "2022-10-12, SELL EXECUTED, Price: 352.96, Size: -1\n",
            "2022-11-23, BUY EXECUTED, Price: 384.60, Size: 1\n",
            "Final Portfolio Value for DLF.NS: 9925.62\n",
            "Running backtest for GODREJCP.NS...\n",
            "2022-04-26, BUY EXECUTED, Price: 741.72, Size: 1\n",
            "2022-06-13, SELL EXECUTED, Price: 715.58, Size: -1\n",
            "2022-07-08, BUY EXECUTED, Price: 832.74, Size: 1\n",
            "2022-10-12, SELL EXECUTED, Price: 798.95, Size: -1\n",
            "2022-12-13, BUY EXECUTED, Price: 868.77, Size: 1\n",
            "Final Portfolio Value for GODREJCP.NS: 9917.65\n",
            "Running backtest for HDFCLIFE.NS...\n"
          ]
        },
        {
          "output_type": "stream",
          "name": "stderr",
          "text": [
            "/tmp/ipython-input-2642917269.py:71: FutureWarning: YF.download() has changed argument auto_adjust default to True\n",
            "  data = yf.download(ticker, start='2022-01-01', end='2023-01-01')\n",
            "[*********************100%***********************]  1 of 1 completed\n",
            "/tmp/ipython-input-2642917269.py:71: FutureWarning: YF.download() has changed argument auto_adjust default to True\n",
            "  data = yf.download(ticker, start='2022-01-01', end='2023-01-01')\n",
            "[*********************100%***********************]  1 of 1 completed\n",
            "/tmp/ipython-input-2642917269.py:71: FutureWarning: YF.download() has changed argument auto_adjust default to True\n",
            "  data = yf.download(ticker, start='2022-01-01', end='2023-01-01')\n",
            "[*********************100%***********************]  1 of 1 completed\n"
          ]
        },
        {
          "output_type": "stream",
          "name": "stdout",
          "text": [
            "2022-04-25, BUY EXECUTED, Price: 545.28, Size: 1\n",
            "2022-07-11, SELL EXECUTED, Price: 537.89, Size: -1\n",
            "2022-08-30, BUY EXECUTED, Price: 558.20, Size: 1\n",
            "2022-10-04, SELL EXECUTED, Price: 517.29, Size: -1\n",
            "2022-11-25, BUY EXECUTED, Price: 569.59, Size: 1\n",
            "Final Portfolio Value for HDFCLIFE.NS: 9943.03\n",
            "Running backtest for MAXHEALTH.NS...\n",
            "2022-05-04, BUY EXECUTED, Price: 389.83, Size: 1\n",
            "2022-06-14, SELL EXECUTED, Price: 343.49, Size: -1\n",
            "2022-07-14, BUY EXECUTED, Price: 364.84, Size: 1\n",
            "Final Portfolio Value for MAXHEALTH.NS: 10026.38\n",
            "Running backtest for SBILIFE.NS...\n",
            "2022-04-19, BUY EXECUTED, Price: 1177.81, Size: 1\n",
            "2022-05-17, SELL EXECUTED, Price: 1035.72, Size: -1\n",
            "2022-06-14, BUY EXECUTED, Price: 1118.22, Size: 1\n",
            "2022-10-10, SELL EXECUTED, Price: 1222.59, Size: -1\n",
            "2022-12-07, BUY EXECUTED, Price: 1278.15, Size: 1\n",
            "Final Portfolio Value for SBILIFE.NS: 9908.01\n",
            "Running backtest for TRENT.NS...\n"
          ]
        },
        {
          "output_type": "stream",
          "name": "stderr",
          "text": [
            "/tmp/ipython-input-2642917269.py:71: FutureWarning: YF.download() has changed argument auto_adjust default to True\n",
            "  data = yf.download(ticker, start='2022-01-01', end='2023-01-01')\n",
            "\r[*********************100%***********************]  1 of 1 completed\n",
            "/tmp/ipython-input-2642917269.py:71: FutureWarning: YF.download() has changed argument auto_adjust default to True\n",
            "  data = yf.download(ticker, start='2022-01-01', end='2023-01-01')\n",
            "[*********************100%***********************]  1 of 1 completed\n",
            "/tmp/ipython-input-2642917269.py:71: FutureWarning: YF.download() has changed argument auto_adjust default to True\n",
            "  data = yf.download(ticker, start='2022-01-01', end='2023-01-01')\n",
            "[*********************100%***********************]  1 of 1 completed\n",
            "ERROR:yfinance:\n",
            "1 Failed download:\n",
            "ERROR:yfinance:['KPIL.NS']: YFPricesMissingError('possibly delisted; no price data found  (1d 2022-01-01 -> 2023-01-01) (Yahoo error = \"Data doesn\\'t exist for startDate = 1640975400, endDate = 1672511400\")')\n",
            "/tmp/ipython-input-2642917269.py:71: FutureWarning: YF.download() has changed argument auto_adjust default to True\n",
            "  data = yf.download(ticker, start='2022-01-01', end='2023-01-01')\n",
            "[*********************100%***********************]  1 of 1 completed\n",
            "ERROR:yfinance:\n",
            "1 Failed download:\n",
            "ERROR:yfinance:['GMRPUI.NS']: YFTzMissingError('possibly delisted; no timezone found')\n",
            "/tmp/ipython-input-2642917269.py:71: FutureWarning: YF.download() has changed argument auto_adjust default to True\n",
            "  data = yf.download(ticker, start='2022-01-01', end='2023-01-01')\n",
            "[*********************100%***********************]  1 of 1 completed\n",
            "ERROR:yfinance:\n",
            "1 Failed download:\n",
            "ERROR:yfinance:['SWIGGY.NS']: YFPricesMissingError('possibly delisted; no price data found  (1d 2022-01-01 -> 2023-01-01) (Yahoo error = \"Data doesn\\'t exist for startDate = 1640975400, endDate = 1672511400\")')\n",
            "/tmp/ipython-input-2642917269.py:71: FutureWarning: YF.download() has changed argument auto_adjust default to True\n",
            "  data = yf.download(ticker, start='2022-01-01', end='2023-01-01')\n",
            "[*********************100%***********************]  1 of 1 completed"
          ]
        },
        {
          "output_type": "stream",
          "name": "stdout",
          "text": [
            "2022-04-13, BUY EXECUTED, Price: 1254.87, Size: 1\n",
            "2022-05-18, SELL EXECUTED, Price: 1080.58, Size: -1\n",
            "2022-08-22, BUY EXECUTED, Price: 1393.93, Size: 1\n",
            "2022-12-05, SELL EXECUTED, Price: 1458.24, Size: -1\n",
            "Final Portfolio Value for TRENT.NS: 9890.02\n",
            "Running backtest for VBL.NS...\n",
            "2022-03-28, BUY EXECUTED, Price: 126.81, Size: 1\n",
            "Final Portfolio Value for VBL.NS: 10135.93\n",
            "Running backtest for KPIL.NS...\n",
            "No data for KPIL.NS, skipping.\n",
            "Running backtest for GMRPUI.NS...\n",
            "No data for GMRPUI.NS, skipping.\n",
            "Running backtest for SWIGGY.NS...\n",
            "No data for SWIGGY.NS, skipping.\n",
            "Running backtest for ETERNAL.NS...\n"
          ]
        },
        {
          "output_type": "stream",
          "name": "stderr",
          "text": [
            "\n",
            "/tmp/ipython-input-2642917269.py:71: FutureWarning: YF.download() has changed argument auto_adjust default to True\n",
            "  data = yf.download(ticker, start='2022-01-01', end='2023-01-01')\n",
            "[*********************100%***********************]  1 of 1 completed\n",
            "/tmp/ipython-input-2642917269.py:71: FutureWarning: YF.download() has changed argument auto_adjust default to True\n",
            "  data = yf.download(ticker, start='2022-01-01', end='2023-01-01')\n",
            "[*********************100%***********************]  1 of 1 completed\n",
            "/tmp/ipython-input-2642917269.py:71: FutureWarning: YF.download() has changed argument auto_adjust default to True\n",
            "  data = yf.download(ticker, start='2022-01-01', end='2023-01-01')\n",
            "[*********************100%***********************]  1 of 1 completed"
          ]
        },
        {
          "output_type": "stream",
          "name": "stdout",
          "text": [
            "2022-08-30, BUY EXECUTED, Price: 60.20, Size: 1\n",
            "2022-12-19, SELL EXECUTED, Price: 62.40, Size: -1\n",
            "Final Portfolio Value for ETERNAL.NS: 10002.20\n",
            "Running backtest for PAYTM.NS...\n",
            "2022-06-09, BUY EXECUTED, Price: 611.80, Size: 1\n",
            "2022-09-20, SELL EXECUTED, Price: 710.10, Size: -1\n",
            "Final Portfolio Value for PAYTM.NS: 10098.30\n",
            "Running backtest for ADANIPOWER.NS...\n",
            "2022-03-24, BUY EXECUTED, Price: 26.14, Size: 1\n",
            "2022-05-24, SELL EXECUTED, Price: 68.19, Size: -1\n",
            "2022-05-25, BUY EXECUTED, Price: 61.82, Size: 1\n",
            "2022-10-13, SELL EXECUTED, Price: 71.39, Size: -1\n",
            "Final Portfolio Value for ADANIPOWER.NS: 10051.62\n",
            "Running backtest for HEG.NS...\n"
          ]
        },
        {
          "output_type": "stream",
          "name": "stderr",
          "text": [
            "\n",
            "/tmp/ipython-input-2642917269.py:71: FutureWarning: YF.download() has changed argument auto_adjust default to True\n",
            "  data = yf.download(ticker, start='2022-01-01', end='2023-01-01')\n",
            "[*********************100%***********************]  1 of 1 completed\n"
          ]
        },
        {
          "output_type": "stream",
          "name": "stdout",
          "text": [
            "2022-04-18, BUY EXECUTED, Price: 248.21, Size: 1\n",
            "2022-05-18, SELL EXECUTED, Price: 206.24, Size: -1\n",
            "2022-07-28, BUY EXECUTED, Price: 204.00, Size: 1\n",
            "2022-10-03, SELL EXECUTED, Price: 203.14, Size: -1\n",
            "Final Portfolio Value for HEG.NS: 9957.17\n",
            "Running backtest for PAYTM.NS...\n",
            "2022-06-09, BUY EXECUTED, Price: 611.80, Size: 1\n",
            "2022-09-20, SELL EXECUTED, Price: 710.10, Size: -1\n",
            "Final Portfolio Value for PAYTM.NS: 10098.30\n",
            "           Ticker  entry_date  entry_price   exit_date   exit_price  \\\n",
            "0        DMART.NS  2022-09-12  4440.000000  2022-10-19  4168.000000   \n",
            "1          TCS.NS  2022-04-08  3489.657129  2022-05-02  3328.791676   \n",
            "2          TCS.NS  2022-08-24  3142.510042  2022-09-16  2936.318407   \n",
            "3          BEL.NS  2022-03-16    66.369406  2022-12-16    98.703363   \n",
            "4          DLF.NS  2022-04-20   368.282422  2022-05-16   311.922551   \n",
            "5          DLF.NS  2022-08-23   353.649664  2022-10-12   352.964103   \n",
            "6     GODREJCP.NS  2022-04-26   741.723167  2022-06-13   715.578950   \n",
            "7     GODREJCP.NS  2022-07-08   832.744033  2022-10-12   798.950145   \n",
            "8     HDFCLIFE.NS  2022-04-25   545.283119  2022-07-11   537.894366   \n",
            "9     HDFCLIFE.NS  2022-08-30   558.201625  2022-10-04   517.289978   \n",
            "10   MAXHEALTH.NS  2022-05-04   389.825349  2022-06-14   343.486309   \n",
            "11     SBILIFE.NS  2022-04-19  1177.812376  2022-05-17  1035.723438   \n",
            "12     SBILIFE.NS  2022-06-14  1118.223674  2022-10-10  1222.591053   \n",
            "13       TRENT.NS  2022-04-13  1254.866227  2022-05-18  1080.579183   \n",
            "14       TRENT.NS  2022-08-22  1393.932628  2022-12-05  1458.238130   \n",
            "15     ETERNAL.NS  2022-08-30    60.200001  2022-12-19    62.400002   \n",
            "16       PAYTM.NS  2022-06-09   611.799988  2022-09-20   710.099976   \n",
            "17  ADANIPOWER.NS  2022-03-24    26.139999  2022-05-24    68.190002   \n",
            "18  ADANIPOWER.NS  2022-05-25    61.820000  2022-10-13    71.389999   \n",
            "19         HEG.NS  2022-04-18   248.211240  2022-05-18   206.243324   \n",
            "20         HEG.NS  2022-07-28   204.001541  2022-10-03   203.136711   \n",
            "21       PAYTM.NS  2022-06-09   611.799988  2022-09-20   710.099976   \n",
            "\n",
            "        profit  \n",
            "0   272.000000  \n",
            "1   160.865453  \n",
            "2   206.191635  \n",
            "3   -32.333957  \n",
            "4    56.359871  \n",
            "5     0.685561  \n",
            "6    26.144217  \n",
            "7    33.793888  \n",
            "8     7.388753  \n",
            "9    40.911646  \n",
            "10   46.339040  \n",
            "11  142.088938  \n",
            "12 -104.367379  \n",
            "13  174.287043  \n",
            "14  -64.305502  \n",
            "15   -2.200001  \n",
            "16  -98.299988  \n",
            "17  -42.050003  \n",
            "18   -9.570000  \n",
            "19   41.967916  \n",
            "20    0.864830  \n",
            "21  -98.299988  \n"
          ]
        }
      ]
    },
    {
      "cell_type": "code",
      "source": [],
      "metadata": {
        "id": "x4JmJS99TiXy"
      },
      "execution_count": null,
      "outputs": []
    },
    {
      "cell_type": "markdown",
      "source": [
        "**Here the problemwas the code was running good but the problem was . The Net Profit which i was getting is not good enough so i made some modification in bactester 3 . WHere i changed to Let the SELL signal be with the Signal Triggers : HOLD or SELL**"
      ],
      "metadata": {
        "id": "k65E74BvYZB5"
      }
    },
    {
      "cell_type": "code",
      "source": [],
      "metadata": {
        "id": "ALDTWPapYf07"
      },
      "execution_count": null,
      "outputs": []
    }
  ]
}